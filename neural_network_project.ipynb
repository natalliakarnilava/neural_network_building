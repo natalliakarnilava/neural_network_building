{
 "cells": [
  {
   "cell_type": "markdown",
   "id": "978ac3ff",
   "metadata": {},
   "source": [
    "## Project Description <font color='gray'>/ Описание проекта</font> "
   ]
  },
  {
   "cell_type": "markdown",
   "id": "58cc8505",
   "metadata": {},
   "source": [
    "We need to develop a neural network that will predict the absolute temperature on the surface of a star.\n",
    "***\n",
    "<font color='gray'>Нам необходимо разработать нейронную сеть, которая поможет предсказывать абсолютную температуру на поверхности звезды.</font> \n"
   ]
  },
  {
   "cell_type": "markdown",
   "id": "corresponding-armstrong",
   "metadata": {
    "ExecuteTime": {
     "end_time": "2022-05-05T04:58:05.692448Z",
     "start_time": "2022-05-05T04:58:05.688565Z"
    }
   },
   "source": [
    "## Data Import<font color='gray'> / Загрузка данных</font> "
   ]
  },
  {
   "cell_type": "markdown",
   "id": "4cba4d73",
   "metadata": {},
   "source": [
    "Let's import all necessary libraries:\n",
    "***\n",
    "<font color='gray'>Импортируем все необходимые для работы библиотеки:</font> \n"
   ]
  },
  {
   "cell_type": "code",
   "execution_count": 7,
   "id": "fba647b7",
   "metadata": {},
   "outputs": [],
   "source": [
    "import pandas as pd\n",
    "import matplotlib.pyplot as plt\n",
    "import seaborn as sns\n",
    "import numpy as np\n",
    "import torch\n",
    "import torch.nn as nn\n",
    "from math import ceil\n",
    "from math import sqrt\n",
    "from sklearn.preprocessing import  MinMaxScaler \n",
    "from sklearn.model_selection import train_test_split\n",
    "from sklearn.preprocessing import  StandardScaler \n",
    "from sklearn.metrics import mean_squared_error\n"
   ]
  },
  {
   "cell_type": "markdown",
   "id": "88b5ad19",
   "metadata": {},
   "source": [
    "Extracting the data from the csv-file into 'data' variable:\n",
    "***\n",
    "<font color='gray'>Сохраним в переменную data данные из csv-файла:</font> "
   ]
  },
  {
   "cell_type": "code",
   "execution_count": 8,
   "id": "spectacular-folder",
   "metadata": {},
   "outputs": [],
   "source": [
    "data = pd.read_csv('/datasets/6_class.csv',  index_col=0)"
   ]
  },
  {
   "cell_type": "code",
   "execution_count": 9,
   "id": "9fecc043",
   "metadata": {
    "scrolled": true
   },
   "outputs": [
    {
     "data": {
      "text/html": [
       "<div>\n",
       "<style scoped>\n",
       "    .dataframe tbody tr th:only-of-type {\n",
       "        vertical-align: middle;\n",
       "    }\n",
       "\n",
       "    .dataframe tbody tr th {\n",
       "        vertical-align: top;\n",
       "    }\n",
       "\n",
       "    .dataframe thead th {\n",
       "        text-align: right;\n",
       "    }\n",
       "</style>\n",
       "<table border=\"1\" class=\"dataframe\">\n",
       "  <thead>\n",
       "    <tr style=\"text-align: right;\">\n",
       "      <th></th>\n",
       "      <th>Temperature (K)</th>\n",
       "      <th>Luminosity(L/Lo)</th>\n",
       "      <th>Radius(R/Ro)</th>\n",
       "      <th>Absolute magnitude(Mv)</th>\n",
       "      <th>Star type</th>\n",
       "      <th>Star color</th>\n",
       "    </tr>\n",
       "  </thead>\n",
       "  <tbody>\n",
       "    <tr>\n",
       "      <th>0</th>\n",
       "      <td>3068</td>\n",
       "      <td>0.002400</td>\n",
       "      <td>0.1700</td>\n",
       "      <td>16.12</td>\n",
       "      <td>0</td>\n",
       "      <td>Red</td>\n",
       "    </tr>\n",
       "    <tr>\n",
       "      <th>1</th>\n",
       "      <td>3042</td>\n",
       "      <td>0.000500</td>\n",
       "      <td>0.1542</td>\n",
       "      <td>16.60</td>\n",
       "      <td>0</td>\n",
       "      <td>Red</td>\n",
       "    </tr>\n",
       "    <tr>\n",
       "      <th>2</th>\n",
       "      <td>2600</td>\n",
       "      <td>0.000300</td>\n",
       "      <td>0.1020</td>\n",
       "      <td>18.70</td>\n",
       "      <td>0</td>\n",
       "      <td>Red</td>\n",
       "    </tr>\n",
       "    <tr>\n",
       "      <th>3</th>\n",
       "      <td>2800</td>\n",
       "      <td>0.000200</td>\n",
       "      <td>0.1600</td>\n",
       "      <td>16.65</td>\n",
       "      <td>0</td>\n",
       "      <td>Red</td>\n",
       "    </tr>\n",
       "    <tr>\n",
       "      <th>4</th>\n",
       "      <td>1939</td>\n",
       "      <td>0.000138</td>\n",
       "      <td>0.1030</td>\n",
       "      <td>20.06</td>\n",
       "      <td>0</td>\n",
       "      <td>Red</td>\n",
       "    </tr>\n",
       "  </tbody>\n",
       "</table>\n",
       "</div>"
      ],
      "text/plain": [
       "   Temperature (K)  Luminosity(L/Lo)  Radius(R/Ro)  Absolute magnitude(Mv)  \\\n",
       "0             3068          0.002400        0.1700                   16.12   \n",
       "1             3042          0.000500        0.1542                   16.60   \n",
       "2             2600          0.000300        0.1020                   18.70   \n",
       "3             2800          0.000200        0.1600                   16.65   \n",
       "4             1939          0.000138        0.1030                   20.06   \n",
       "\n",
       "   Star type Star color  \n",
       "0          0        Red  \n",
       "1          0        Red  \n",
       "2          0        Red  \n",
       "3          0        Red  \n",
       "4          0        Red  "
      ]
     },
     "execution_count": 9,
     "metadata": {},
     "output_type": "execute_result"
    }
   ],
   "source": [
    "data.head()"
   ]
  },
  {
   "cell_type": "markdown",
   "id": "b18d762f",
   "metadata": {},
   "source": [
    "According to the documentation, the following columns should be present in the protocol:\n",
    "\n",
    "* 'Temperature (K)' - Absolute temperature T(K) - temperature on the surface of the star in Kelvin. quantitative variable.\n",
    "\n",
    "\n",
    "* 'Luminosity(L/Lo)' - Relative luminosity L/Lo is the luminosity of the Sun's star. quantitative variable.\n",
    "\n",
    "\n",
    "* 'Radius(R/Ro)' - Relative radius R/Ro is the star's radius relative to the Sun's radius. quantitative variable.\n",
    "\n",
    "\n",
    "* 'Absolute value(Mv)' - The absolute estimated value of Mv is a value that characterizes the brightness of a star. quantitative variable.\n",
    "\n",
    "\n",
    "* 'Star type' - Type of star: Brown dwarf - 0, Red dwarf - 1, White dwarf - 2, Lead star - 3, Supergiant - 4, Hypergiant - 5. Categorical variable.\n",
    "\n",
    "\n",
    "* 'Star color' - Star color (white, red, blue, yellow, yellow-orange, etc.) - the color of the star, which is determined on the basis of spectral analysis. categorical variable.\n",
    "\n",
    "\n",
    "\n",
    "***\n",
    "<font color='gray'>\n",
    "\n",
    "Согласно документации, в таблице должны содержаться следующие столбцы:\n",
    "\n",
    "* 'Temperature (K)' - Абсолютная температура T(K) — температура на поверхности звезды в Кельвинах. Количественная переменная.\n",
    "\n",
    "\n",
    "* 'Luminosity(L/Lo)' - Относительная светимость L/Lo — светимость звезды относительно Солнца. Количественная переменная.\n",
    "\n",
    "\n",
    "* 'Radius(R/Ro)' - Относительный радиус R/Ro — радиус звезды относительно радиуса Солнца. Количественная переменная.\n",
    "\n",
    "\n",
    "* '\tAbsolute magnitude(Mv)' - Абсолютная звёздная величина Mv — физическая величина, характеризующая блеск звезды. Количественная переменная.\n",
    "\n",
    "\n",
    "* 'Star type' - Тип звезды: Коричневый карлик - 0, Красный карлик - 1, Белый карлик - 2, Звёзды главной последовательности - 3, Сверхгигант - 4, Гипергигант - 5. Категориальная переменная. \n",
    "\n",
    "\n",
    "* 'Star color' - Звёздный цвет (white, red, blue, yellow, yellow-orange и др.) — цвет звезды, который определяют на основе спектрального анализа. Категориальная переменная. \n",
    "\n",
    "\n",
    "</font> \n"
   ]
  },
  {
   "cell_type": "markdown",
   "id": "simple-subdivision",
   "metadata": {},
   "source": [
    "## Data Preprocessing and Analysis<font color='gray'> / Предобработка и анализ данных</font> "
   ]
  },
  {
   "cell_type": "markdown",
   "id": "649586e3",
   "metadata": {},
   "source": [
    "### Data Preprocessing <font color='gray'>/ Предобработка</font> "
   ]
  },
  {
   "cell_type": "markdown",
   "id": "50a67ed2",
   "metadata": {},
   "source": [
    "Let's invoke `info()` method, which prints information about our dataset\n",
    "\n",
    "***\n",
    "<font color='gray'>\n",
    "Вызовем метод `info( )` с  информацией о таблице:\n",
    "</font> \n"
   ]
  },
  {
   "cell_type": "code",
   "execution_count": 177,
   "id": "ddf49278",
   "metadata": {
    "scrolled": true
   },
   "outputs": [
    {
     "name": "stdout",
     "output_type": "stream",
     "text": [
      "<class 'pandas.core.frame.DataFrame'>\n",
      "RangeIndex: 240 entries, 0 to 239\n",
      "Data columns (total 7 columns):\n",
      " #   Column                  Non-Null Count  Dtype  \n",
      "---  ------                  --------------  -----  \n",
      " 0   Unnamed: 0              240 non-null    int64  \n",
      " 1   Temperature (K)         240 non-null    int64  \n",
      " 2   Luminosity(L/Lo)        240 non-null    float64\n",
      " 3   Radius(R/Ro)            240 non-null    float64\n",
      " 4   Absolute magnitude(Mv)  240 non-null    float64\n",
      " 5   Star type               240 non-null    int64  \n",
      " 6   Star color              240 non-null    object \n",
      "dtypes: float64(3), int64(3), object(1)\n",
      "memory usage: 13.2+ KB\n"
     ]
    }
   ],
   "source": [
    "data.info()"
   ]
  },
  {
   "cell_type": "markdown",
   "id": "d6ab9d77",
   "metadata": {},
   "source": [
    "As we  can see, there are 240 records  and no missing values in the dataset.\n",
    "\n",
    "***\n",
    "<font color='gray'>\n",
    "Видим, что в  датасете 240 записей, нет пропусков. \n",
    "</font> \n"
   ]
  },
  {
   "cell_type": "markdown",
   "id": "63fd3629",
   "metadata": {},
   "source": [
    "Переименуем все столбцы: сейчас они содержат заглавные буквы, пробелы, скобки. Чтобы было удобнее работать с ними - приведем их к нижнему регистру и будем использовать нижнее подчёркивание для разделения слов:"
   ]
  },
  {
   "cell_type": "code",
   "execution_count": 179,
   "id": "6dc2c4ec",
   "metadata": {},
   "outputs": [],
   "source": [
    "data = data.rename(columns={'Temperature (K)':'temperature', \n",
    "                     'Luminosity(L/Lo)':'luminosity', 'Radius(R/Ro)':'radius', \n",
    "                     'Absolute magnitude(Mv)':'abs_magnitude', 'Star type':'star_type', 'Star color':'star_color'})"
   ]
  },
  {
   "cell_type": "markdown",
   "id": "e6f6e6b0",
   "metadata": {},
   "source": [
    "Изучим датасет на наличие неявных дубликатов в категориальном столбце 'star_color'. Для этого выведем уникальные значения и их количество:"
   ]
  },
  {
   "cell_type": "code",
   "execution_count": 180,
   "id": "048fd13a",
   "metadata": {
    "scrolled": true
   },
   "outputs": [
    {
     "name": "stdout",
     "output_type": "stream",
     "text": [
      "19\n",
      "['Blue', 'Blue ', 'Blue White', 'Blue white', 'Blue white ', 'Blue-White', 'Blue-white', 'Orange', 'Orange-Red', 'Pale yellow orange', 'Red', 'White', 'White-Yellow', 'Whitish', 'Yellowish', 'Yellowish White', 'white', 'yellow-white', 'yellowish']\n"
     ]
    }
   ],
   "source": [
    "print(len(data['star_color'].unique()))\n",
    "print(sorted(data['star_color'].unique()))\n"
   ]
  },
  {
   "cell_type": "markdown",
   "id": "d1e7e42d",
   "metadata": {},
   "source": [
    "От части невявных дубликатов можно избавиться просто приведя все значения в столбце к нижнему регистру и сократив лишние пробелы:"
   ]
  },
  {
   "cell_type": "code",
   "execution_count": 181,
   "id": "68503b82",
   "metadata": {},
   "outputs": [
    {
     "data": {
      "text/plain": [
       "13"
      ]
     },
     "execution_count": 181,
     "metadata": {},
     "output_type": "execute_result"
    }
   ],
   "source": [
    "data['star_color'] = data['star_color'].str.strip().str.lower()\n",
    "len(data['star_color'].unique())"
   ]
  },
  {
   "cell_type": "markdown",
   "id": "4237b77f",
   "metadata": {},
   "source": [
    "Как видим, количество уникальных значений столбца 'star_color' уже сократилось на 6. Выведем оставшиеся уникальные значения на экран, подсчитав их количество:"
   ]
  },
  {
   "cell_type": "code",
   "execution_count": 182,
   "id": "dde3c7d3",
   "metadata": {
    "scrolled": true
   },
   "outputs": [
    {
     "data": {
      "text/plain": [
       "red                   112\n",
       "blue                   56\n",
       "blue-white             27\n",
       "blue white             14\n",
       "white                  10\n",
       "yellow-white            8\n",
       "yellowish white         3\n",
       "yellowish               3\n",
       "whitish                 2\n",
       "orange                  2\n",
       "orange-red              1\n",
       "white-yellow            1\n",
       "pale yellow orange      1\n",
       "Name: star_color, dtype: int64"
      ]
     },
     "execution_count": 182,
     "metadata": {},
     "output_type": "execute_result"
    }
   ],
   "source": [
    "data['star_color'].value_counts()"
   ]
  },
  {
   "cell_type": "markdown",
   "id": "a4c977da",
   "metadata": {},
   "source": [
    "Как видим, в датасете совсем немного звезд с цветами `'yellowish', 'yellowish white', 'whitish', 'orange', 'white-yellow' , 'orange-red', 'pale yellow orange'`: каждого цвета не больше 3. Чтобы избежать искажения при обучении нейросети, удалим их (кроме 'white-yellow' т.к. это неявный дубликат цвета 'yellow-white'): "
   ]
  },
  {
   "cell_type": "code",
   "execution_count": 183,
   "id": "d774f01c",
   "metadata": {},
   "outputs": [],
   "source": [
    "color_list = ['yellowish', 'yellowish white', 'whitish', 'orange',  'orange-red', 'pale yellow orange'] \n",
    "data = data.query('star_color not in @color_list')"
   ]
  },
  {
   "cell_type": "markdown",
   "id": "5be60cdf",
   "metadata": {},
   "source": [
    "Избавимся от неявных дубликатов с помощью метода `replace()`:"
   ]
  },
  {
   "cell_type": "code",
   "execution_count": 184,
   "id": "f365f596",
   "metadata": {},
   "outputs": [],
   "source": [
    "data = data.replace({'star_color' : { 'blue white' : 'blue-white', 'yellow-white' : 'white-yellow'}})\n"
   ]
  },
  {
   "cell_type": "markdown",
   "id": "d3918b6a",
   "metadata": {},
   "source": [
    "Убедимся, что замена сработала корректно. Для этого выведем оставшиеся уникальные значения на экран:"
   ]
  },
  {
   "cell_type": "code",
   "execution_count": 185,
   "id": "fc60500c",
   "metadata": {},
   "outputs": [
    {
     "data": {
      "text/plain": [
       "['blue', 'blue-white', 'red', 'white', 'white-yellow']"
      ]
     },
     "execution_count": 185,
     "metadata": {},
     "output_type": "execute_result"
    }
   ],
   "source": [
    "sorted(data['star_color'].unique())"
   ]
  },
  {
   "cell_type": "markdown",
   "id": "445206ba",
   "metadata": {},
   "source": [
    "Проверим таблицу на наличие явных дубликатов:"
   ]
  },
  {
   "cell_type": "code",
   "execution_count": 186,
   "id": "flush-dream",
   "metadata": {},
   "outputs": [
    {
     "data": {
      "text/plain": [
       "0"
      ]
     },
     "execution_count": 186,
     "metadata": {},
     "output_type": "execute_result"
    }
   ],
   "source": [
    "data.duplicated().sum()"
   ]
  },
  {
   "cell_type": "markdown",
   "id": "95c2af9d",
   "metadata": {},
   "source": [
    "### Анализ данных"
   ]
  },
  {
   "cell_type": "markdown",
   "id": "8e526f06",
   "metadata": {},
   "source": [
    "Для начала с помощью метода `describe()` выведем подробную информацию по таблице:"
   ]
  },
  {
   "cell_type": "code",
   "execution_count": 187,
   "id": "e9340bf9",
   "metadata": {
    "scrolled": true
   },
   "outputs": [
    {
     "data": {
      "text/html": [
       "<div>\n",
       "<style scoped>\n",
       "    .dataframe tbody tr th:only-of-type {\n",
       "        vertical-align: middle;\n",
       "    }\n",
       "\n",
       "    .dataframe tbody tr th {\n",
       "        vertical-align: top;\n",
       "    }\n",
       "\n",
       "    .dataframe thead th {\n",
       "        text-align: right;\n",
       "    }\n",
       "</style>\n",
       "<table border=\"1\" class=\"dataframe\">\n",
       "  <thead>\n",
       "    <tr style=\"text-align: right;\">\n",
       "      <th></th>\n",
       "      <th>temperature</th>\n",
       "      <th>luminosity</th>\n",
       "      <th>radius</th>\n",
       "      <th>abs_magnitude</th>\n",
       "      <th>star_type</th>\n",
       "      <th>star_color</th>\n",
       "    </tr>\n",
       "  </thead>\n",
       "  <tbody>\n",
       "    <tr>\n",
       "      <th>count</th>\n",
       "      <td>228.000000</td>\n",
       "      <td>228.000000</td>\n",
       "      <td>228.000000</td>\n",
       "      <td>228.000000</td>\n",
       "      <td>228.000000</td>\n",
       "      <td>228</td>\n",
       "    </tr>\n",
       "    <tr>\n",
       "      <th>unique</th>\n",
       "      <td>NaN</td>\n",
       "      <td>NaN</td>\n",
       "      <td>NaN</td>\n",
       "      <td>NaN</td>\n",
       "      <td>NaN</td>\n",
       "      <td>5</td>\n",
       "    </tr>\n",
       "    <tr>\n",
       "      <th>top</th>\n",
       "      <td>NaN</td>\n",
       "      <td>NaN</td>\n",
       "      <td>NaN</td>\n",
       "      <td>NaN</td>\n",
       "      <td>NaN</td>\n",
       "      <td>red</td>\n",
       "    </tr>\n",
       "    <tr>\n",
       "      <th>freq</th>\n",
       "      <td>NaN</td>\n",
       "      <td>NaN</td>\n",
       "      <td>NaN</td>\n",
       "      <td>NaN</td>\n",
       "      <td>NaN</td>\n",
       "      <td>112</td>\n",
       "    </tr>\n",
       "    <tr>\n",
       "      <th>mean</th>\n",
       "      <td>10680.692982</td>\n",
       "      <td>107654.047662</td>\n",
       "      <td>236.607302</td>\n",
       "      <td>4.345969</td>\n",
       "      <td>2.473684</td>\n",
       "      <td>NaN</td>\n",
       "    </tr>\n",
       "    <tr>\n",
       "      <th>std</th>\n",
       "      <td>9742.810427</td>\n",
       "      <td>176985.132549</td>\n",
       "      <td>515.015990</td>\n",
       "      <td>10.664949</td>\n",
       "      <td>1.736930</td>\n",
       "      <td>NaN</td>\n",
       "    </tr>\n",
       "    <tr>\n",
       "      <th>min</th>\n",
       "      <td>1939.000000</td>\n",
       "      <td>0.000110</td>\n",
       "      <td>0.008400</td>\n",
       "      <td>-11.920000</td>\n",
       "      <td>0.000000</td>\n",
       "      <td>NaN</td>\n",
       "    </tr>\n",
       "    <tr>\n",
       "      <th>25%</th>\n",
       "      <td>3336.000000</td>\n",
       "      <td>0.000878</td>\n",
       "      <td>0.107500</td>\n",
       "      <td>-6.241250</td>\n",
       "      <td>1.000000</td>\n",
       "      <td>NaN</td>\n",
       "    </tr>\n",
       "    <tr>\n",
       "      <th>50%</th>\n",
       "      <td>5776.000000</td>\n",
       "      <td>0.030500</td>\n",
       "      <td>0.672500</td>\n",
       "      <td>10.260000</td>\n",
       "      <td>2.000000</td>\n",
       "      <td>NaN</td>\n",
       "    </tr>\n",
       "    <tr>\n",
       "      <th>75%</th>\n",
       "      <td>16417.500000</td>\n",
       "      <td>198650.000000</td>\n",
       "      <td>45.250000</td>\n",
       "      <td>13.830000</td>\n",
       "      <td>4.000000</td>\n",
       "      <td>NaN</td>\n",
       "    </tr>\n",
       "    <tr>\n",
       "      <th>max</th>\n",
       "      <td>40000.000000</td>\n",
       "      <td>849420.000000</td>\n",
       "      <td>1948.500000</td>\n",
       "      <td>20.060000</td>\n",
       "      <td>5.000000</td>\n",
       "      <td>NaN</td>\n",
       "    </tr>\n",
       "  </tbody>\n",
       "</table>\n",
       "</div>"
      ],
      "text/plain": [
       "         temperature     luminosity       radius  abs_magnitude   star_type  \\\n",
       "count     228.000000     228.000000   228.000000     228.000000  228.000000   \n",
       "unique           NaN            NaN          NaN            NaN         NaN   \n",
       "top              NaN            NaN          NaN            NaN         NaN   \n",
       "freq             NaN            NaN          NaN            NaN         NaN   \n",
       "mean    10680.692982  107654.047662   236.607302       4.345969    2.473684   \n",
       "std      9742.810427  176985.132549   515.015990      10.664949    1.736930   \n",
       "min      1939.000000       0.000110     0.008400     -11.920000    0.000000   \n",
       "25%      3336.000000       0.000878     0.107500      -6.241250    1.000000   \n",
       "50%      5776.000000       0.030500     0.672500      10.260000    2.000000   \n",
       "75%     16417.500000  198650.000000    45.250000      13.830000    4.000000   \n",
       "max     40000.000000  849420.000000  1948.500000      20.060000    5.000000   \n",
       "\n",
       "       star_color  \n",
       "count         228  \n",
       "unique          5  \n",
       "top           red  \n",
       "freq          112  \n",
       "mean          NaN  \n",
       "std           NaN  \n",
       "min           NaN  \n",
       "25%           NaN  \n",
       "50%           NaN  \n",
       "75%           NaN  \n",
       "max           NaN  "
      ]
     },
     "execution_count": 187,
     "metadata": {},
     "output_type": "execute_result"
    }
   ],
   "source": [
    "data.describe(include='all')"
   ]
  },
  {
   "cell_type": "markdown",
   "id": "faed1e51",
   "metadata": {},
   "source": [
    "Проанализируем столбец 'star_color'. Выведем гистограмму частот звездных цветов:"
   ]
  },
  {
   "cell_type": "code",
   "execution_count": 188,
   "id": "753ff071",
   "metadata": {},
   "outputs": [
    {
     "data": {
      "text/plain": [
       "<AxesSubplot:title={'center':'Гистограмма частот звездных цветов'}>"
      ]
     },
     "execution_count": 188,
     "metadata": {},
     "output_type": "execute_result"
    },
    {
     "data": {
      "image/png": "[encoded data removed]",
      "text/plain": [
       "<Figure size 432x288 with 1 Axes>"
      ]
     },
     "metadata": {
      "needs_background": "light"
     },
     "output_type": "display_data"
    }
   ],
   "source": [
    "data['star_color'].value_counts().plot(kind='bar', legend=True, title = 'Гистограмма частот звездных цветов')"
   ]
  },
  {
   "cell_type": "markdown",
   "id": "2742afea",
   "metadata": {},
   "source": [
    "Наиболее часто у звезд встречается цвет 'red' (112 записей )и 'blue' (56 записей). Самые редкие значения - 'white' и 'white-yellow' - каждый встречается в таблице 10 раз."
   ]
  },
  {
   "cell_type": "markdown",
   "id": "fe3b75f4",
   "metadata": {},
   "source": [
    "Далее проанализируем столбец 'star_type'. Выведем гистограмму частот типов звезд:"
   ]
  },
  {
   "cell_type": "code",
   "execution_count": 189,
   "id": "8cee05df",
   "metadata": {},
   "outputs": [
    {
     "data": {
      "text/plain": [
       "<AxesSubplot:title={'center':'Гистограмма частот типов звезд'}>"
      ]
     },
     "execution_count": 189,
     "metadata": {},
     "output_type": "execute_result"
    },
    {
     "data": {
      "image/png": "[encoded data removed]",
      "text/plain": [
       "<Figure size 432x288 with 1 Axes>"
      ]
     },
     "metadata": {
      "needs_background": "light"
     },
     "output_type": "display_data"
    }
   ],
   "source": [
    "data['star_type'].value_counts().plot(kind='bar', legend=True, ylim = (0, 50)\n",
    "                                     , title = 'Гистограмма частот типов звезд')"
   ]
  },
  {
   "cell_type": "markdown",
   "id": "6f911ec6",
   "metadata": {},
   "source": [
    "Как видим, каждый из 6 типов звезд встречается одинаковое количество раз. "
   ]
  },
  {
   "cell_type": "markdown",
   "id": "70c864b4",
   "metadata": {},
   "source": [
    "Теперь проанализируем столбцы с количественными данными. Для этого выведем гистограмму частот и график распределения значений для каждого из них, и для удобства дополнительно выведем минимум, максимум, медианное значение и стандартное отклонение:"
   ]
  },
  {
   "cell_type": "code",
   "execution_count": 190,
   "id": "9f9fa261",
   "metadata": {},
   "outputs": [
    {
     "data": {
      "image/png": "[encoded data removed]",
      "text/plain": [
       "<Figure size 360x360 with 1 Axes>"
      ]
     },
     "metadata": {
      "needs_background": "light"
     },
     "output_type": "display_data"
    },
    {
     "name": "stdout",
     "output_type": "stream",
     "text": [
      "Минимальное значение равно 1939.00000\n",
      "Медиана равна 5776.00000\n",
      "Максимальное значение равно 40000.00000\n",
      "Стандартное отклонение равно 9742.81043\n",
      "\n"
     ]
    },
    {
     "data": {
      "image/png": "[encoded data removed]",
      "text/plain": [
       "<Figure size 360x360 with 1 Axes>"
      ]
     },
     "metadata": {
      "needs_background": "light"
     },
     "output_type": "display_data"
    },
    {
     "name": "stdout",
     "output_type": "stream",
     "text": [
      "Минимальное значение равно 0.00011\n",
      "Медиана равна 0.03050\n",
      "Максимальное значение равно 849420.00000\n",
      "Стандартное отклонение равно 176985.13255\n",
      "\n"
     ]
    },
    {
     "data": {
      "image/png": "[encoded data removed]",
      "text/plain": [
       "<Figure size 360x360 with 1 Axes>"
      ]
     },
     "metadata": {
      "needs_background": "light"
     },
     "output_type": "display_data"
    },
    {
     "name": "stdout",
     "output_type": "stream",
     "text": [
      "Минимальное значение равно 0.00840\n",
      "Медиана равна 0.67250\n",
      "Максимальное значение равно 1948.50000\n",
      "Стандартное отклонение равно 515.01599\n",
      "\n"
     ]
    },
    {
     "data": {
      "image/png": "[encoded data removed]",
      "text/plain": [
       "<Figure size 360x360 with 1 Axes>"
      ]
     },
     "metadata": {
      "needs_background": "light"
     },
     "output_type": "display_data"
    },
    {
     "name": "stdout",
     "output_type": "stream",
     "text": [
      "Минимальное значение равно -11.92000\n",
      "Медиана равна 10.26000\n",
      "Максимальное значение равно 20.06000\n",
      "Стандартное отклонение равно 10.66495\n",
      "\n"
     ]
    }
   ],
   "source": [
    "cols = ['temperature', 'luminosity', 'radius', 'abs_magnitude']\n",
    "i=0\n",
    "colors = ['y', 'g', 'b', 'r']\n",
    "for col in cols:   \n",
    "    x = data[col]\n",
    "    sb_plot = sns.displot(x.dropna(), color=colors[i], kde=True)\n",
    "    sb_plot.set(title = f'Гистограмма частот и график распределения значений в столбце {col}')\n",
    "    plt.show()\n",
    "    mean = x.mean()\n",
    "    standard_deviation = np.std(x, ddof=1)   \n",
    "    print('Минимальное значение равно {:.5f}'.format(x.min()))\n",
    "    print('Медиана равна {:.5f}'.format(x.median()))\n",
    "    print('Максимальное значение равно {:.5f}'.format(x.max()))\n",
    "    print('Стандартное отклонение равно {:.5f}'.format(standard_deviation))\n",
    "    print()\n",
    "    i+=1"
   ]
  },
  {
   "cell_type": "markdown",
   "id": "67bd7441",
   "metadata": {},
   "source": [
    "У нас есть 2 категориальных столбца. Для дальнешейго обучени нейросети нам надо номализовать их при помощи One-Hot-Encoding. \n",
    "Для этого сначала категоризируем столбец star_type:"
   ]
  },
  {
   "cell_type": "code",
   "execution_count": 191,
   "id": "67160aa9",
   "metadata": {
    "scrolled": true
   },
   "outputs": [],
   "source": [
    "data['star_type'] = data['star_type'].astype('category')"
   ]
  },
  {
   "cell_type": "markdown",
   "id": "0bb5bced",
   "metadata": {},
   "source": [
    "Далее нам необходимо закодировать категориальные переменные. Сделаем это с помощью функции `get_dummies` из библиотеки pandas, в качестве параметра укажем drop_first=True:"
   ]
  },
  {
   "cell_type": "code",
   "execution_count": 192,
   "id": "13b6269c",
   "metadata": {},
   "outputs": [],
   "source": [
    "data_ohe = pd.get_dummies(data, drop_first=True)"
   ]
  },
  {
   "cell_type": "code",
   "execution_count": 193,
   "id": "f04fd9f8",
   "metadata": {},
   "outputs": [
    {
     "name": "stdout",
     "output_type": "stream",
     "text": [
      "<class 'pandas.core.frame.DataFrame'>\n",
      "Int64Index: 228 entries, 0 to 239\n",
      "Data columns (total 13 columns):\n",
      " #   Column                   Non-Null Count  Dtype  \n",
      "---  ------                   --------------  -----  \n",
      " 0   temperature              228 non-null    int64  \n",
      " 1   luminosity               228 non-null    float64\n",
      " 2   radius                   228 non-null    float64\n",
      " 3   abs_magnitude            228 non-null    float64\n",
      " 4   star_type_1              228 non-null    uint8  \n",
      " 5   star_type_2              228 non-null    uint8  \n",
      " 6   star_type_3              228 non-null    uint8  \n",
      " 7   star_type_4              228 non-null    uint8  \n",
      " 8   star_type_5              228 non-null    uint8  \n",
      " 9   star_color_blue-white    228 non-null    uint8  \n",
      " 10  star_color_red           228 non-null    uint8  \n",
      " 11  star_color_white         228 non-null    uint8  \n",
      " 12  star_color_white-yellow  228 non-null    uint8  \n",
      "dtypes: float64(3), int64(1), uint8(9)\n",
      "memory usage: 10.9 KB\n"
     ]
    }
   ],
   "source": [
    "data_ohe.info()"
   ]
  },
  {
   "cell_type": "markdown",
   "id": "f4168486",
   "metadata": {},
   "source": [
    "Для нормализации числовых данных нам надо применить StandardScaler. Но сначала создадим переменные `features` и `target` для признаков и целевого признака:"
   ]
  },
  {
   "cell_type": "code",
   "execution_count": 245,
   "id": "9159a599",
   "metadata": {},
   "outputs": [],
   "source": [
    "features = data_ohe.drop(['temperature'], axis=1)\n",
    "target = data_ohe['temperature']"
   ]
  },
  {
   "cell_type": "markdown",
   "id": "6cefe421",
   "metadata": {},
   "source": [
    "Затем разобьем данные на тренировочные и тестовые выборки:"
   ]
  },
  {
   "cell_type": "code",
   "execution_count": 246,
   "id": "11dcce6d",
   "metadata": {},
   "outputs": [],
   "source": [
    "features_train, features_test, target_train, target_test = train_test_split(\n",
    "    features, target, test_size=0.3, random_state=12345, shuffle=True)"
   ]
  },
  {
   "cell_type": "markdown",
   "id": "5a4acc8c",
   "metadata": {},
   "source": [
    "Теперь к нормализируем выборки, содержащие признаки, применим StandardScaler():"
   ]
  },
  {
   "cell_type": "code",
   "execution_count": 247,
   "id": "39698815",
   "metadata": {},
   "outputs": [],
   "source": [
    "scaler = StandardScaler()\n",
    "scaler.fit(features_train)\n",
    "features_train = scaler.transform(features_train)\n",
    "features_test = scaler.transform(features_test)"
   ]
  },
  {
   "cell_type": "markdown",
   "id": "83f68987",
   "metadata": {},
   "source": [
    "### Вывод"
   ]
  },
  {
   "cell_type": "markdown",
   "id": "fa4aae63",
   "metadata": {},
   "source": [
    "В этой части работы мы:\n",
    "\n",
    "* Изучили датасет. В нем 240 записей, нет пропусков и явных дубликатов\n",
    "\n",
    "* Удалили столбец 'Unnamed: 0'\n",
    "\n",
    "* Переименовали все столбцы, потому что они содержали заглавные буквы, пробелы, скобки. \n",
    "\n",
    "* Удалили цвета 'yellowish', 'yellowish white', 'whitish', 'orange', 'orange-red', 'pale yellow orange', которые встречались в датасете 1-3 раза, чтобы избежать искажений при обучении нейросети.\n",
    "\n",
    "* Избавились от неявных дубликатов в категориальном столбце 'star_color'. Сократили количество уникальных значений столбца с 19 до 5\n",
    "\n",
    "Также мы проанализировали каждый из столбцов:\n",
    "\n",
    "* 'star_color': цвет 'red'  встречается чаще всего - 112 раз, 'blue'- 56 записей. Реже всего: Самые редкие значения - 'white' и 'white-yellow' - 10 раз каждый.\n",
    "\n",
    "* 'star_type': каждый из 6 типов звезд встречается одинаковое количество раз.\n",
    "\n",
    "* 'temperature': принимает значения от 1939 до 40000. Медиана - 5776, стандартное отклонение - 9552.4250.\n",
    "\n",
    "* 'luminosity': принимает значения от 0.000080 до 849420. Медиана - 0.07050, стандартное отклонение - 179432.24494.\n",
    "\n",
    "* 'radius': принимает значения от 00840 до 1948.5. Медиана - 0.76250, стандартное отклонение - 517.15576.\n",
    "\n",
    "* 'abs_magnitude': принимает значения от -11.92 до 20.06. Медиана - 8.313, стандартное отклонение -10.53251.\n",
    "\n",
    "\n",
    "Для нормализации данных мы категоризировали столбец star_type. Закодировали категориальные переменные с помощью функции get_dummies и применили StandardScaler для нормализации числовых данных. \n",
    "\n",
    "Помимо этого разбили данные на тренировочные и тестовые выборки.\n",
    "\n",
    "\n"
   ]
  },
  {
   "cell_type": "markdown",
   "id": "funded-electric",
   "metadata": {},
   "source": [
    "## Построение базовой нейронной сети"
   ]
  },
  {
   "cell_type": "markdown",
   "id": "2ee2adc9",
   "metadata": {},
   "source": [
    "Преобразуем выборки с данными в тензоры. "
   ]
  },
  {
   "cell_type": "code",
   "execution_count": 248,
   "id": "8d3496c3",
   "metadata": {},
   "outputs": [],
   "source": [
    "X_train = torch.FloatTensor(features_train)\n",
    "X_test = torch.FloatTensor(features_test)\n",
    "y_train = torch.FloatTensor(target_train.values)\n",
    "y_test = torch.FloatTensor(target_test.values)"
   ]
  },
  {
   "cell_type": "markdown",
   "id": "1d00e8a6",
   "metadata": {},
   "source": [
    "Разработаем архитектуру нашей нейросети. На входном слое будет 15 нейронов. На выходном - 1.\n",
    "\n",
    "В нашей нейросети будет 2 скрытых слоя. Каждый из них будет содержать по 8 нейронов:"
   ]
  },
  {
   "cell_type": "code",
   "execution_count": 249,
   "id": "e836a667",
   "metadata": {},
   "outputs": [],
   "source": [
    "n_in_neurons = 12\n",
    "n_hidden_neurons_1 = 8\n",
    "n_hidden_neurons_2 = 8\n",
    "n_out_neurons = 1 "
   ]
  },
  {
   "cell_type": "markdown",
   "id": "b9b1e64b",
   "metadata": {},
   "source": [
    "В качестве функции активации будем использовать Hardswish(), для борьбы с переобучением и недообучением - BatchNorm: "
   ]
  },
  {
   "cell_type": "code",
   "execution_count": 250,
   "id": "e364a143",
   "metadata": {},
   "outputs": [],
   "source": [
    "net = nn.Sequential(\n",
    "    nn.Linear(n_in_neurons, n_hidden_neurons_1),\n",
    "    nn.Hardswish(),\n",
    "    #nn.ReLU(),\n",
    "    nn.BatchNorm1d(n_hidden_neurons_1),  \n",
    "    nn.Linear(n_hidden_neurons_1, n_hidden_neurons_2),\n",
    "    #nn.ReLU(),\n",
    "    nn.BatchNorm1d(n_hidden_neurons_2),\n",
    "    nn.Linear(n_hidden_neurons_2, n_out_neurons)\n",
    "    \n",
    ")"
   ]
  },
  {
   "cell_type": "markdown",
   "id": "67cbbd9e",
   "metadata": {},
   "source": [
    "В качестве оптимизатора - Adam(). Для того, чтобы выбрать оптимальный параметр - переберем значения learning rate:"
   ]
  },
  {
   "cell_type": "code",
   "execution_count": 251,
   "id": "628c3b47",
   "metadata": {},
   "outputs": [],
   "source": [
    "learning_rates = [0.001, 0.005,  0.009, 0.015]"
   ]
  },
  {
   "cell_type": "code",
   "execution_count": 252,
   "id": "af192ec8",
   "metadata": {},
   "outputs": [],
   "source": [
    "cols = ['learning_rate', 'last_rmse', 'rmse_mean']\n",
    "rate_rmse = []\n",
    "for rate in learning_rates:\n",
    "    optimizer = torch.optim.Adam(net.parameters(), lr=rate)\n",
    "\n",
    "    loss = nn.MSELoss()\n",
    "\n",
    "    batch_size = 50\n",
    "\n",
    "    num_epochs = 450\n",
    "\n",
    "    num_batches = ceil(len(X_train)/batch_size)\n",
    "\n",
    "    rmse_mean = []\n",
    "    for epoch in range(num_epochs):\n",
    "        order = np.random.permutation(len(X_train)) # создали случайную перестановку индексов объектов\n",
    "        for batch_idx in range(num_batches):\n",
    "            start_index = batch_idx * batch_size # посчитали номер стартового объекта батча\n",
    "            optimizer.zero_grad()\n",
    "\n",
    "            batch_indexes = order[start_index : start_index + batch_size] # извлекли индексы объектов текущего обатча\n",
    "            X_batch = X_train[batch_indexes]\n",
    "            y_batch = y_train[batch_indexes]\n",
    "\n",
    "            preds = net.forward(X_batch).flatten()\n",
    "\n",
    "            loss_value = loss(preds, y_batch)\n",
    "\n",
    "            loss_value.backward()\n",
    "\n",
    "            optimizer.step()\n",
    "\n",
    "        if epoch % 10 == 0 or epoch == num_epochs - 1:\n",
    "            net.eval()\n",
    "            test_preds = net.forward(X_test)\n",
    "            rmse = sqrt(mean_squared_error(y_test.detach().numpy(), test_preds.detach().numpy()))\n",
    "            rmse_mean.append(rmse)\n",
    "\n",
    "        if epoch == num_epochs - 1:\n",
    "            rate_rmse.append([rate, rmse, np.mean(rmse_mean)])\n",
    "            #print(rmse)\n",
    "rmse_compare_lr = pd.DataFrame(data = rate_rmse, columns=cols)"
   ]
  },
  {
   "cell_type": "code",
   "execution_count": 253,
   "id": "3fde4356",
   "metadata": {
    "scrolled": false
   },
   "outputs": [
    {
     "data": {
      "text/html": [
       "<div>\n",
       "<style scoped>\n",
       "    .dataframe tbody tr th:only-of-type {\n",
       "        vertical-align: middle;\n",
       "    }\n",
       "\n",
       "    .dataframe tbody tr th {\n",
       "        vertical-align: top;\n",
       "    }\n",
       "\n",
       "    .dataframe thead th {\n",
       "        text-align: right;\n",
       "    }\n",
       "</style>\n",
       "<table border=\"1\" class=\"dataframe\">\n",
       "  <thead>\n",
       "    <tr style=\"text-align: right;\">\n",
       "      <th></th>\n",
       "      <th>learning_rate</th>\n",
       "      <th>last_rmse</th>\n",
       "      <th>rmse_mean</th>\n",
       "    </tr>\n",
       "  </thead>\n",
       "  <tbody>\n",
       "    <tr>\n",
       "      <th>0</th>\n",
       "      <td>0.001</td>\n",
       "      <td>5722.203771</td>\n",
       "      <td>10135.590606</td>\n",
       "    </tr>\n",
       "    <tr>\n",
       "      <th>1</th>\n",
       "      <td>0.005</td>\n",
       "      <td>4365.404678</td>\n",
       "      <td>4756.608249</td>\n",
       "    </tr>\n",
       "    <tr>\n",
       "      <th>2</th>\n",
       "      <td>0.009</td>\n",
       "      <td>4175.533499</td>\n",
       "      <td>4304.984751</td>\n",
       "    </tr>\n",
       "    <tr>\n",
       "      <th>3</th>\n",
       "      <td>0.015</td>\n",
       "      <td>4364.975601</td>\n",
       "      <td>4306.797277</td>\n",
       "    </tr>\n",
       "  </tbody>\n",
       "</table>\n",
       "</div>"
      ],
      "text/plain": [
       "   learning_rate    last_rmse     rmse_mean\n",
       "0          0.001  5722.203771  10135.590606\n",
       "1          0.005  4365.404678   4756.608249\n",
       "2          0.009  4175.533499   4304.984751\n",
       "3          0.015  4364.975601   4306.797277"
      ]
     },
     "execution_count": 253,
     "metadata": {},
     "output_type": "execute_result"
    }
   ],
   "source": [
    "rmse_compare_lr"
   ]
  },
  {
   "cell_type": "code",
   "execution_count": 254,
   "id": "0544d397",
   "metadata": {
    "scrolled": false
   },
   "outputs": [
    {
     "data": {
      "text/html": [
       "<div>\n",
       "<style scoped>\n",
       "    .dataframe tbody tr th:only-of-type {\n",
       "        vertical-align: middle;\n",
       "    }\n",
       "\n",
       "    .dataframe tbody tr th {\n",
       "        vertical-align: top;\n",
       "    }\n",
       "\n",
       "    .dataframe thead th {\n",
       "        text-align: right;\n",
       "    }\n",
       "</style>\n",
       "<table border=\"1\" class=\"dataframe\">\n",
       "  <thead>\n",
       "    <tr style=\"text-align: right;\">\n",
       "      <th></th>\n",
       "      <th>learning_rate</th>\n",
       "      <th>last_rmse</th>\n",
       "      <th>rmse_mean</th>\n",
       "      <th>rmse_diff</th>\n",
       "    </tr>\n",
       "  </thead>\n",
       "  <tbody>\n",
       "    <tr>\n",
       "      <th>0</th>\n",
       "      <td>0.001</td>\n",
       "      <td>5722.203771</td>\n",
       "      <td>10135.590606</td>\n",
       "      <td>4413.386834</td>\n",
       "    </tr>\n",
       "    <tr>\n",
       "      <th>1</th>\n",
       "      <td>0.005</td>\n",
       "      <td>4365.404678</td>\n",
       "      <td>4756.608249</td>\n",
       "      <td>391.203571</td>\n",
       "    </tr>\n",
       "    <tr>\n",
       "      <th>2</th>\n",
       "      <td>0.009</td>\n",
       "      <td>4175.533499</td>\n",
       "      <td>4304.984751</td>\n",
       "      <td>129.451252</td>\n",
       "    </tr>\n",
       "    <tr>\n",
       "      <th>3</th>\n",
       "      <td>0.015</td>\n",
       "      <td>4364.975601</td>\n",
       "      <td>4306.797277</td>\n",
       "      <td>-58.178324</td>\n",
       "    </tr>\n",
       "  </tbody>\n",
       "</table>\n",
       "</div>"
      ],
      "text/plain": [
       "   learning_rate    last_rmse     rmse_mean    rmse_diff\n",
       "0          0.001  5722.203771  10135.590606  4413.386834\n",
       "1          0.005  4365.404678   4756.608249   391.203571\n",
       "2          0.009  4175.533499   4304.984751   129.451252\n",
       "3          0.015  4364.975601   4306.797277   -58.178324"
      ]
     },
     "execution_count": 254,
     "metadata": {},
     "output_type": "execute_result"
    }
   ],
   "source": [
    "rmse_compare_lr['rmse_diff'] = rmse_compare_lr['rmse_mean'] - rmse_compare_lr['last_rmse']\n",
    "rmse_compare_lr"
   ]
  },
  {
   "cell_type": "markdown",
   "id": "ebcbd481",
   "metadata": {},
   "source": [
    "Значит, будем использовать lr=0.009"
   ]
  },
  {
   "cell_type": "markdown",
   "id": "a795ac4c",
   "metadata": {},
   "source": [
    "Проведите обучение модели с выбранным уровнем learning rate: \n"
   ]
  },
  {
   "cell_type": "code",
   "execution_count": 255,
   "id": "47cd157c",
   "metadata": {},
   "outputs": [
    {
     "name": "stdout",
     "output_type": "stream",
     "text": [
      "15462.464486620494\n",
      "15430.156447683867\n",
      "14701.465505180087\n",
      "9904.10298815597\n",
      "6435.267515806938\n",
      "5694.209163703069\n",
      "5575.812048482266\n",
      "5386.204229325138\n",
      "5122.906596845193\n",
      "5116.0670441267675\n",
      "4947.553536850309\n",
      "4828.948746880629\n",
      "4864.018092071616\n",
      "4731.70096265603\n",
      "4761.132848388081\n",
      "4718.252218777627\n",
      "4606.859016727123\n",
      "4696.196546142421\n",
      "4769.959119321674\n",
      "4720.050635321617\n",
      "4662.116686656394\n",
      "4789.960542634981\n",
      "4488.126335120258\n",
      "4489.283907261825\n",
      "4685.656197375134\n",
      "4518.730352654383\n",
      "4474.800330741026\n",
      "4544.711211947355\n",
      "4592.7941386480625\n",
      "4382.275664537775\n",
      "4319.174226631752\n",
      "4261.123326072598\n",
      "4324.630851298178\n",
      "4629.964362713821\n",
      "4388.182995272645\n",
      "4618.122778792266\n",
      "4492.632413184947\n",
      "4416.926533235525\n",
      "4186.172476140944\n",
      "4233.177766170469\n",
      "4394.16749794543\n",
      "4296.60377507631\n",
      "4328.965927331838\n",
      "4228.31077381973\n",
      "4182.197747596352\n",
      "4240.866185108886\n"
     ]
    }
   ],
   "source": [
    "rmse_batch = []\n",
    "net = nn.Sequential(\n",
    "    nn.Linear(n_in_neurons, n_hidden_neurons_1),\n",
    "    nn.Hardswish(),\n",
    "    #nn.ReLU(),\n",
    "    nn.BatchNorm1d(n_hidden_neurons_1),  \n",
    "    nn.Linear(n_hidden_neurons_1, n_hidden_neurons_2),\n",
    "    #nn.ReLU(),\n",
    "    nn.BatchNorm1d(n_hidden_neurons_2),\n",
    "    nn.Linear(n_hidden_neurons_2, n_out_neurons)\n",
    "    \n",
    ")\n",
    "\n",
    "optimizer = torch.optim.Adam(net.parameters(), lr=0.009)\n",
    "\n",
    "loss = nn.MSELoss()\n",
    "\n",
    "batch_size = 50\n",
    "\n",
    "num_epochs = 450\n",
    "\n",
    "num_batches = ceil(len(X_train)/batch_size)\n",
    "\n",
    "for epoch in range(num_epochs):\n",
    "    order = np.random.permutation(len(X_train)) # создали случайную перестановку индексов объектов\n",
    "    for batch_idx in range(num_batches):\n",
    "        start_index = batch_idx * batch_size # посчитали номер стартового объекта батча\n",
    "        optimizer.zero_grad()\n",
    "  \n",
    "        batch_indexes = order[start_index : start_index + batch_size] # извлекли индексы объектов текущего обатча\n",
    "        X_batch = X_train[batch_indexes]\n",
    "        y_batch = y_train[batch_indexes]\n",
    "  \n",
    "        preds = net.forward(X_batch).flatten()\n",
    "     \n",
    "        loss_value = loss(preds, y_batch)\n",
    "\n",
    "        loss_value.backward()\n",
    "       \n",
    "        optimizer.step()\n",
    "\n",
    "    if epoch % 10 == 0 or epoch == num_epochs - 1:\n",
    "        net.eval()\n",
    "        test_preds = net.forward(X_test)\n",
    "        rmse = sqrt(mean_squared_error(y_test.detach().numpy(), test_preds.detach().numpy()))\n",
    "        rmse_batch.append(rmse)\n",
    "\n",
    "        print(rmse)"
   ]
  },
  {
   "cell_type": "markdown",
   "id": "0ade57ab",
   "metadata": {},
   "source": [
    "Постром график «Факт — Прогноз», где по горизонтальной оси будут отложены условные номера звёзд, а по вертикальной — температура в Кельвинах:"
   ]
  },
  {
   "cell_type": "code",
   "execution_count": 256,
   "id": "a0da0e22",
   "metadata": {},
   "outputs": [
    {
     "data": {
      "image/png": "[encoded data removed]",
      "text/plain": [
       "<Figure size 1440x720 with 1 Axes>"
      ]
     },
     "metadata": {
      "needs_background": "light"
     },
     "output_type": "display_data"
    }
   ],
   "source": [
    "comparison = pd.DataFrame()\n",
    "comparison['target'] = pd.DataFrame(y_test.reshape(-1,1).detach().numpy())[0]\n",
    "comparison['predictions_baseline'] = pd.DataFrame(test_preds.reshape(-1,1).detach().numpy())[0]\n",
    "\n",
    "plt.figure(figsize=(20,10))\n",
    "comparison['target'].plot(kind='bar', color='y' , legend=True, fontsize=12)\n",
    "comparison['predictions_baseline'].plot(kind='bar', alpha=0.7, legend=True, fontsize=12)\n",
    "plt.title('Сравнение фактической и предсказанной температуры звезды по номеру', fontsize=20)\n",
    "plt.ylabel('Температура звезды', fontsize=15)\n",
    "plt.xlabel('Номер звезды в таблице данных', fontsize=15)\n",
    "plt.show()"
   ]
  },
  {
   "cell_type": "markdown",
   "id": "487e90d3",
   "metadata": {},
   "source": [
    "### Вывод"
   ]
  },
  {
   "cell_type": "markdown",
   "id": "e906e656",
   "metadata": {},
   "source": [
    "Разработали архитектуру  нейросети:\n",
    "\n",
    "* На входном слое 12 нейронов,  на выходном - 1. 2 скрытых слоя, содержащих по 8 нейронов.\n",
    "\n",
    "* Функция активации - Hardswish()\n",
    "\n",
    "* Оптимизатор Adam() c параметром lr=0.009\n",
    "\n",
    "*  Техника регуляризации - BatchNorm \n",
    "\n",
    "* Размер батча batch_size = 50\n",
    "\n",
    "* Количество эпох - num_epochs = 450\n",
    "\n",
    "\n",
    "При такой архитектуре RMSE на тестовых данных ниже 4500.\n",
    "\n"
   ]
  },
  {
   "cell_type": "markdown",
   "id": "growing-supply",
   "metadata": {},
   "source": [
    "## Улучшение нейронной сети"
   ]
  },
  {
   "cell_type": "markdown",
   "id": "39580f84",
   "metadata": {},
   "source": [
    "Попробуем улучшить нейросеть при помощи техники  регуляризации Dropout: "
   ]
  },
  {
   "cell_type": "code",
   "execution_count": 257,
   "id": "forced-concentrate",
   "metadata": {
    "scrolled": true
   },
   "outputs": [
    {
     "name": "stdout",
     "output_type": "stream",
     "text": [
      "15462.776464787945\n",
      "15449.696954956755\n",
      "15327.121060394871\n",
      "14898.343532084364\n",
      "14001.94672179551\n",
      "12520.469000800249\n",
      "10640.459012655421\n",
      "8904.117249901868\n",
      "7764.827106896843\n",
      "7124.178268404013\n",
      "6773.412433921324\n",
      "6508.715387847283\n",
      "6246.042907313397\n",
      "5981.199210860645\n",
      "5759.389898244432\n",
      "5602.739865458685\n",
      "5461.783774555708\n",
      "5337.407235727849\n",
      "5203.0052854095775\n",
      "5113.040191510331\n",
      "5084.85693014071\n",
      "5004.514561873109\n",
      "4972.437229367506\n",
      "4919.213961599963\n",
      "4909.931364082394\n",
      "4914.5831969761175\n",
      "4837.061918148247\n",
      "4867.433615366521\n",
      "4799.886248652149\n",
      "4722.403413517316\n",
      "4743.829887337867\n",
      "4715.701856563877\n",
      "4758.684271939041\n",
      "4659.487954700602\n",
      "4667.574530738636\n",
      "4743.823984930301\n",
      "4674.448630587355\n",
      "4678.086147133248\n",
      "4577.1762037308545\n",
      "4613.985912418892\n",
      "4611.538571886827\n",
      "4712.3569474308715\n",
      "4595.464938393067\n",
      "4601.644271344755\n",
      "4549.147612465438\n",
      "4636.926352660779\n"
     ]
    }
   ],
   "source": [
    "rmse_dropout = []\n",
    "\n",
    "net = nn.Sequential(\n",
    "    nn.Linear(n_in_neurons, n_hidden_neurons_1),\n",
    "    nn.Hardswish(),\n",
    "    #nn.ReLU(),\n",
    "    nn.Dropout(),  \n",
    "    nn.Linear(n_hidden_neurons_1, n_hidden_neurons_2),\n",
    "    #nn.ReLU(),\n",
    "    nn.Dropout(), \n",
    "    nn.Linear(n_hidden_neurons_2, n_out_neurons)\n",
    "    \n",
    ")\n",
    "\n",
    "\n",
    "optimizer = torch.optim.Adam(net.parameters(), lr=0.009)\n",
    "\n",
    "loss = nn.MSELoss()\n",
    "\n",
    "batch_size = 50\n",
    "\n",
    "num_epochs = 450\n",
    "\n",
    "num_batches = ceil(len(X_train)/batch_size)\n",
    "\n",
    "for epoch in range(num_epochs):\n",
    "    order = np.random.permutation(len(X_train)) # создали случайную перестановку индексов объектов\n",
    "    for batch_idx in range(num_batches):\n",
    "        start_index = batch_idx * batch_size # посчитали номер стартового объекта батча\n",
    "        optimizer.zero_grad()\n",
    "  \n",
    "        batch_indexes = order[start_index : start_index + batch_size] # извлекли индексы объектов текущего обатча\n",
    "        X_batch = X_train[batch_indexes]\n",
    "        y_batch = y_train[batch_indexes]\n",
    "  \n",
    "        preds = net.forward(X_batch).flatten()\n",
    "     \n",
    "        loss_value = loss(preds, y_batch)\n",
    "\n",
    "        loss_value.backward()\n",
    "       \n",
    "        optimizer.step()\n",
    "\n",
    "    if epoch % 10 == 0 or epoch == num_epochs - 1:\n",
    "        net.eval()\n",
    "        test_preds = net.forward(X_test)\n",
    "        rmse = sqrt(mean_squared_error(y_test.detach().numpy(), test_preds.detach().numpy()))\n",
    "        \n",
    "        rmse_dropout.append(rmse)\n",
    "        print(rmse)\n"
   ]
  },
  {
   "cell_type": "code",
   "execution_count": 258,
   "id": "21399026",
   "metadata": {},
   "outputs": [
    {
     "data": {
      "image/png": "[encoded data removed]",
      "text/plain": [
       "<Figure size 720x720 with 1 Axes>"
      ]
     },
     "metadata": {
      "needs_background": "light"
     },
     "output_type": "display_data"
    }
   ],
   "source": [
    "plt.figure(figsize=(10,10))\n",
    "plt.plot(rmse_dropout,'o-', color='r', label='Dropout')\n",
    "plt.plot(rmse_batch,'o-', color='b', label='BatchNormalization')\n",
    "plt.title('График RMSE на тестовых данных')\n",
    "plt.ylabel('RMSE')\n",
    "plt.xlabel('Количество эпох * 0.1')\n",
    "plt.ylim = ((3000, 11000))\n",
    "plt.grid(True)\n",
    "plt.legend()\n",
    "plt.show()"
   ]
  },
  {
   "cell_type": "markdown",
   "id": "9897e01a",
   "metadata": {},
   "source": [
    "Как видим, модель с техникой регуляризации Dropout обучилась немного хуже, чем BatchNormalization. "
   ]
  },
  {
   "cell_type": "markdown",
   "id": "ce14d11f",
   "metadata": {},
   "source": [
    "Теперь попробуем улучшить модель, отрегулировав размер батча:\n"
   ]
  },
  {
   "cell_type": "code",
   "execution_count": 259,
   "id": "5b1800e5",
   "metadata": {},
   "outputs": [],
   "source": [
    "batch_size = [10, 20, 30 ,40 ,50, 60, 70, 80, 90, 100]\n",
    "cols = ['batch_size', 'last_rmse', 'rmse_mean']"
   ]
  },
  {
   "cell_type": "code",
   "execution_count": 260,
   "id": "1da1350f",
   "metadata": {},
   "outputs": [],
   "source": [
    "net = nn.Sequential(\n",
    "    nn.Linear(n_in_neurons, n_hidden_neurons_1),\n",
    "    nn.Hardswish(),\n",
    "    #nn.ReLU(),\n",
    "    nn.BatchNorm1d(n_hidden_neurons_1),  \n",
    "    nn.Linear(n_hidden_neurons_1, n_hidden_neurons_2),\n",
    "    #nn.ReLU(),\n",
    "    nn.BatchNorm1d(n_hidden_neurons_2),\n",
    "    nn.Linear(n_hidden_neurons_2, n_out_neurons)\n",
    "    \n",
    ")"
   ]
  },
  {
   "cell_type": "code",
   "execution_count": 261,
   "id": "1f2ad106",
   "metadata": {},
   "outputs": [
    {
     "name": "stdout",
     "output_type": "stream",
     "text": [
      "10 4270.928470485077\n",
      "20 4205.408184706926\n",
      "30 3904.5341591539445\n",
      "40 4342.910775044774\n",
      "50 4117.898250321394\n",
      "60 4381.6451248361045\n",
      "70 4450.370321669872\n",
      "80 4566.432962389791\n",
      "90 4501.737886638893\n",
      "100 4094.122983008693\n"
     ]
    }
   ],
   "source": [
    "rate_rmse = []\n",
    "for size in batch_size:\n",
    "    net = nn.Sequential(\n",
    "    nn.Linear(n_in_neurons, n_hidden_neurons_1),\n",
    "    nn.Hardswish(),\n",
    "    #nn.ReLU(),\n",
    "    nn.BatchNorm1d(n_hidden_neurons_1),  \n",
    "    nn.Linear(n_hidden_neurons_1, n_hidden_neurons_2),\n",
    "    #nn.ReLU(),\n",
    "    nn.BatchNorm1d(n_hidden_neurons_2),\n",
    "    nn.Linear(n_hidden_neurons_2, n_out_neurons))\n",
    "    \n",
    "    optimizer = torch.optim.Adam(net.parameters(), lr=0.009)\n",
    "\n",
    "    \n",
    "    loss = nn.MSELoss()\n",
    "\n",
    "    batch_size = size\n",
    "\n",
    "    num_epochs = 450\n",
    "\n",
    "    num_batches = ceil(len(X_train)/batch_size)\n",
    "\n",
    "    rmse_mean = []\n",
    "    for epoch in range(num_epochs):\n",
    "        order = np.random.permutation(len(X_train)) # создали случайную перестановку индексов объектов\n",
    "        for batch_idx in range(num_batches):\n",
    "            start_index = batch_idx * batch_size # посчитали номер стартового объекта батча\n",
    "            optimizer.zero_grad()\n",
    "\n",
    "            batch_indexes = order[start_index : start_index + batch_size] # извлекли индексы объектов текущего обатча\n",
    "            X_batch = X_train[batch_indexes]\n",
    "            y_batch = y_train[batch_indexes]\n",
    "\n",
    "            preds = net.forward(X_batch).flatten()\n",
    "\n",
    "            loss_value = loss(preds, y_batch)\n",
    "\n",
    "            loss_value.backward()\n",
    "\n",
    "            optimizer.step()\n",
    "\n",
    "        if epoch % 10 == 0 or epoch == num_epochs - 1:\n",
    "            net.eval()\n",
    "            test_preds = net.forward(X_test)\n",
    "            rmse = sqrt(mean_squared_error(y_test.detach().numpy(), test_preds.detach().numpy()))\n",
    "            rmse_mean.append(rmse)\n",
    "\n",
    "        if epoch == num_epochs - 1:\n",
    "            rate_rmse.append([size, rmse, np.mean(rmse_mean)])\n",
    "            print(size, rmse)\n",
    "rmse_compare = pd.DataFrame(data = rate_rmse, columns=cols)"
   ]
  },
  {
   "cell_type": "markdown",
   "id": "ae07c9b9",
   "metadata": {},
   "source": [
    "Выведем сравнительную таблицу:"
   ]
  },
  {
   "cell_type": "code",
   "execution_count": 262,
   "id": "ea7ac095",
   "metadata": {},
   "outputs": [
    {
     "data": {
      "text/html": [
       "<div>\n",
       "<style scoped>\n",
       "    .dataframe tbody tr th:only-of-type {\n",
       "        vertical-align: middle;\n",
       "    }\n",
       "\n",
       "    .dataframe tbody tr th {\n",
       "        vertical-align: top;\n",
       "    }\n",
       "\n",
       "    .dataframe thead th {\n",
       "        text-align: right;\n",
       "    }\n",
       "</style>\n",
       "<table border=\"1\" class=\"dataframe\">\n",
       "  <thead>\n",
       "    <tr style=\"text-align: right;\">\n",
       "      <th></th>\n",
       "      <th>batch_size</th>\n",
       "      <th>last_rmse</th>\n",
       "      <th>rmse_mean</th>\n",
       "      <th>rmse_diff</th>\n",
       "    </tr>\n",
       "  </thead>\n",
       "  <tbody>\n",
       "    <tr>\n",
       "      <th>0</th>\n",
       "      <td>10</td>\n",
       "      <td>4270.928470</td>\n",
       "      <td>4588.239999</td>\n",
       "      <td>317.311529</td>\n",
       "    </tr>\n",
       "    <tr>\n",
       "      <th>1</th>\n",
       "      <td>20</td>\n",
       "      <td>4205.408185</td>\n",
       "      <td>4929.336040</td>\n",
       "      <td>723.927855</td>\n",
       "    </tr>\n",
       "    <tr>\n",
       "      <th>2</th>\n",
       "      <td>30</td>\n",
       "      <td>3904.534159</td>\n",
       "      <td>4882.656835</td>\n",
       "      <td>978.122676</td>\n",
       "    </tr>\n",
       "    <tr>\n",
       "      <th>3</th>\n",
       "      <td>40</td>\n",
       "      <td>4342.910775</td>\n",
       "      <td>5401.626288</td>\n",
       "      <td>1058.715513</td>\n",
       "    </tr>\n",
       "    <tr>\n",
       "      <th>4</th>\n",
       "      <td>50</td>\n",
       "      <td>4117.898250</td>\n",
       "      <td>5457.672372</td>\n",
       "      <td>1339.774122</td>\n",
       "    </tr>\n",
       "    <tr>\n",
       "      <th>5</th>\n",
       "      <td>60</td>\n",
       "      <td>4381.645125</td>\n",
       "      <td>5687.282247</td>\n",
       "      <td>1305.637122</td>\n",
       "    </tr>\n",
       "    <tr>\n",
       "      <th>6</th>\n",
       "      <td>70</td>\n",
       "      <td>4450.370322</td>\n",
       "      <td>5728.820783</td>\n",
       "      <td>1278.450461</td>\n",
       "    </tr>\n",
       "    <tr>\n",
       "      <th>7</th>\n",
       "      <td>80</td>\n",
       "      <td>4566.432962</td>\n",
       "      <td>6233.399531</td>\n",
       "      <td>1666.966569</td>\n",
       "    </tr>\n",
       "    <tr>\n",
       "      <th>8</th>\n",
       "      <td>90</td>\n",
       "      <td>4501.737887</td>\n",
       "      <td>6369.003079</td>\n",
       "      <td>1867.265193</td>\n",
       "    </tr>\n",
       "    <tr>\n",
       "      <th>9</th>\n",
       "      <td>100</td>\n",
       "      <td>4094.122983</td>\n",
       "      <td>6101.303159</td>\n",
       "      <td>2007.180176</td>\n",
       "    </tr>\n",
       "  </tbody>\n",
       "</table>\n",
       "</div>"
      ],
      "text/plain": [
       "   batch_size    last_rmse    rmse_mean    rmse_diff\n",
       "0          10  4270.928470  4588.239999   317.311529\n",
       "1          20  4205.408185  4929.336040   723.927855\n",
       "2          30  3904.534159  4882.656835   978.122676\n",
       "3          40  4342.910775  5401.626288  1058.715513\n",
       "4          50  4117.898250  5457.672372  1339.774122\n",
       "5          60  4381.645125  5687.282247  1305.637122\n",
       "6          70  4450.370322  5728.820783  1278.450461\n",
       "7          80  4566.432962  6233.399531  1666.966569\n",
       "8          90  4501.737887  6369.003079  1867.265193\n",
       "9         100  4094.122983  6101.303159  2007.180176"
      ]
     },
     "execution_count": 262,
     "metadata": {},
     "output_type": "execute_result"
    }
   ],
   "source": [
    "rmse_compare = pd.DataFrame(data = rate_rmse, columns=cols)\n",
    "rmse_compare['rmse_diff'] = rmse_compare['rmse_mean'] - rmse_compare['last_rmse']\n",
    "\n",
    "rmse_compare"
   ]
  },
  {
   "cell_type": "code",
   "execution_count": 263,
   "id": "c1343716",
   "metadata": {
    "scrolled": true
   },
   "outputs": [
    {
     "data": {
      "text/html": [
       "<div>\n",
       "<style scoped>\n",
       "    .dataframe tbody tr th:only-of-type {\n",
       "        vertical-align: middle;\n",
       "    }\n",
       "\n",
       "    .dataframe tbody tr th {\n",
       "        vertical-align: top;\n",
       "    }\n",
       "\n",
       "    .dataframe thead th {\n",
       "        text-align: right;\n",
       "    }\n",
       "</style>\n",
       "<table border=\"1\" class=\"dataframe\">\n",
       "  <thead>\n",
       "    <tr style=\"text-align: right;\">\n",
       "      <th></th>\n",
       "      <th>batch_size</th>\n",
       "      <th>last_rmse</th>\n",
       "      <th>rmse_mean</th>\n",
       "      <th>rmse_diff</th>\n",
       "    </tr>\n",
       "  </thead>\n",
       "  <tbody>\n",
       "    <tr>\n",
       "      <th>2</th>\n",
       "      <td>30</td>\n",
       "      <td>3904.534159</td>\n",
       "      <td>4882.656835</td>\n",
       "      <td>978.122676</td>\n",
       "    </tr>\n",
       "  </tbody>\n",
       "</table>\n",
       "</div>"
      ],
      "text/plain": [
       "   batch_size    last_rmse    rmse_mean   rmse_diff\n",
       "2          30  3904.534159  4882.656835  978.122676"
      ]
     },
     "execution_count": 263,
     "metadata": {},
     "output_type": "execute_result"
    }
   ],
   "source": [
    "rmse_compare[rmse_compare['last_rmse'] == rmse_compare['last_rmse'].min() ]"
   ]
  },
  {
   "cell_type": "code",
   "execution_count": 264,
   "id": "69e2390b",
   "metadata": {},
   "outputs": [
    {
     "data": {
      "text/html": [
       "<div>\n",
       "<style scoped>\n",
       "    .dataframe tbody tr th:only-of-type {\n",
       "        vertical-align: middle;\n",
       "    }\n",
       "\n",
       "    .dataframe tbody tr th {\n",
       "        vertical-align: top;\n",
       "    }\n",
       "\n",
       "    .dataframe thead th {\n",
       "        text-align: right;\n",
       "    }\n",
       "</style>\n",
       "<table border=\"1\" class=\"dataframe\">\n",
       "  <thead>\n",
       "    <tr style=\"text-align: right;\">\n",
       "      <th></th>\n",
       "      <th>batch_size</th>\n",
       "      <th>last_rmse</th>\n",
       "      <th>rmse_mean</th>\n",
       "      <th>rmse_diff</th>\n",
       "    </tr>\n",
       "  </thead>\n",
       "  <tbody>\n",
       "    <tr>\n",
       "      <th>0</th>\n",
       "      <td>10</td>\n",
       "      <td>4270.92847</td>\n",
       "      <td>4588.239999</td>\n",
       "      <td>317.311529</td>\n",
       "    </tr>\n",
       "  </tbody>\n",
       "</table>\n",
       "</div>"
      ],
      "text/plain": [
       "   batch_size   last_rmse    rmse_mean   rmse_diff\n",
       "0          10  4270.92847  4588.239999  317.311529"
      ]
     },
     "execution_count": 264,
     "metadata": {},
     "output_type": "execute_result"
    }
   ],
   "source": [
    "rmse_compare[rmse_compare['rmse_diff'] == rmse_compare['rmse_diff'].min() ]"
   ]
  },
  {
   "cell_type": "markdown",
   "id": "6bb5375b",
   "metadata": {},
   "source": [
    "Лучший показатель RMSE достигается при размере батча = 30."
   ]
  },
  {
   "cell_type": "markdown",
   "id": "195d0a06",
   "metadata": {},
   "source": [
    "Обучим нейронную сеть с отобранными параметрами:"
   ]
  },
  {
   "cell_type": "code",
   "execution_count": 269,
   "id": "a57513ab",
   "metadata": {},
   "outputs": [],
   "source": [
    "net = nn.Sequential(\n",
    "    nn.Linear(n_in_neurons, n_hidden_neurons_1),\n",
    "    nn.Hardswish(),\n",
    "    #nn.ReLU(),\n",
    "    nn.BatchNorm1d(n_hidden_neurons_1),  \n",
    "    nn.Linear(n_hidden_neurons_1, n_hidden_neurons_2),\n",
    "    #nn.ReLU(),\n",
    "    nn.BatchNorm1d(n_hidden_neurons_2),\n",
    "    nn.Linear(n_hidden_neurons_2, n_out_neurons)\n",
    "    \n",
    ")"
   ]
  },
  {
   "cell_type": "code",
   "execution_count": 270,
   "id": "8bd8d796",
   "metadata": {},
   "outputs": [
    {
     "name": "stdout",
     "output_type": "stream",
     "text": [
      "15462.752148307882\n",
      "15241.219898682652\n",
      "9643.398156251767\n",
      "6389.190246032747\n",
      "5909.817594477853\n",
      "5748.021746653365\n",
      "5343.454687746495\n",
      "5118.599808541395\n",
      "4985.811869695847\n",
      "4908.531756034588\n",
      "4744.156405516159\n",
      "4756.760662467684\n",
      "4633.907422467566\n",
      "4565.729952592465\n",
      "4544.7763421317\n",
      "4504.868033583226\n",
      "4440.953951573918\n",
      "4398.809384367547\n",
      "4544.929262375818\n",
      "4389.561253701787\n",
      "4300.520666151949\n",
      "4346.137365523552\n",
      "4283.832863219573\n",
      "4263.901030746375\n",
      "4314.516890684286\n",
      "4328.031885279959\n",
      "4393.083199758456\n",
      "4264.165099993198\n",
      "4255.040540347412\n",
      "4212.677295972242\n",
      "4350.051493948089\n",
      "4348.721881196819\n",
      "4218.386421370143\n",
      "4249.068839169354\n",
      "4364.256637733395\n",
      "4223.584259843765\n",
      "4258.051197437626\n",
      "4147.997589198913\n",
      "4220.1336471728\n",
      "4183.908937823576\n",
      "4146.136997254191\n",
      "4201.162220148134\n",
      "4186.985550488561\n",
      "4366.590660916134\n",
      "4320.696703079261\n",
      "4130.134138257497\n"
     ]
    }
   ],
   "source": [
    "rmse_optimized = []\n",
    "\n",
    "\n",
    "optimizer = torch.optim.Adam(net.parameters(), lr=0.009)\n",
    "\n",
    "loss = nn.MSELoss()\n",
    "\n",
    "batch_size = 30\n",
    "\n",
    "num_epochs = 450\n",
    "\n",
    "num_batches = ceil(len(X_train)/batch_size)\n",
    "\n",
    "for epoch in range(num_epochs):\n",
    "    order = np.random.permutation(len(X_train)) # создали случайную перестановку индексов объектов\n",
    "    for batch_idx in range(num_batches):\n",
    "        start_index = batch_idx * batch_size # посчитали номер стартового объекта батча\n",
    "        optimizer.zero_grad()\n",
    "  \n",
    "        batch_indexes = order[start_index : start_index + batch_size] # извлекли индексы объектов текущего обатча\n",
    "        X_batch = X_train[batch_indexes]\n",
    "        y_batch = y_train[batch_indexes]\n",
    "  \n",
    "        preds = net.forward(X_batch).flatten()\n",
    "     \n",
    "        loss_value = loss(preds, y_batch)\n",
    "\n",
    "        loss_value.backward()\n",
    "       \n",
    "        optimizer.step()\n",
    "\n",
    "    if epoch % 10 == 0 or epoch == num_epochs - 1:\n",
    "        net.eval()\n",
    "        test_preds = net.forward(X_test)\n",
    "        rmse = sqrt(mean_squared_error(y_test.detach().numpy(), test_preds.detach().numpy()))\n",
    "        rmse_optimized.append(rmse)\n",
    "\n",
    "        print(rmse)"
   ]
  },
  {
   "cell_type": "markdown",
   "id": "92316e94",
   "metadata": {},
   "source": [
    "Выведем сравнение фактической и предсказанной температуры звезды по номеру моделей baseline и улучшенной:"
   ]
  },
  {
   "cell_type": "code",
   "execution_count": 271,
   "id": "09ca6fa8",
   "metadata": {
    "scrolled": true
   },
   "outputs": [
    {
     "data": {
      "text/plain": [
       "<Figure size 1440x720 with 0 Axes>"
      ]
     },
     "metadata": {},
     "output_type": "display_data"
    },
    {
     "data": {
      "image/png": "[encoded data removed]",
      "text/plain": [
       "<Figure size 1440x720 with 1 Axes>"
      ]
     },
     "metadata": {
      "needs_background": "light"
     },
     "output_type": "display_data"
    }
   ],
   "source": [
    "comparison_optimized = pd.DataFrame()\n",
    "comparison_optimized['target'] = pd.DataFrame(y_test.reshape(-1,1).detach().numpy())[0]\n",
    "comparison_optimized['predictions_optimized'] = pd.DataFrame(test_preds.reshape(-1,1).detach().numpy())[0]\n",
    "comparison['predictions_optimized'] = comparison_optimized['predictions_optimized']\n",
    "\n",
    "plt.figure(figsize=(20,10))\n",
    "\n",
    "comparison.head(20).plot.bar(figsize=(20,10),  colormap='crest_r')\n",
    "plt.title('Сравнение фактической и предсказанной температуры звезды по номеру', fontsize=20)\n",
    "\n",
    "plt.ylabel('Температура звезды', fontsize=15)\n",
    "plt.xlabel('Номер звезды в таблице данных', fontsize=15)\n",
    "plt.show()"
   ]
  },
  {
   "cell_type": "markdown",
   "id": "3fed0212",
   "metadata": {},
   "source": [
    "Для сравнения эффективности нейросетей выведем графики RMSE на тестовых данных для улучшенной нейросети и нейронной сети - baseline:"
   ]
  },
  {
   "cell_type": "code",
   "execution_count": 272,
   "id": "593a6017",
   "metadata": {},
   "outputs": [
    {
     "data": {
      "image/png": "[encoded data removed]",
      "text/plain": [
       "<Figure size 720x1080 with 1 Axes>"
      ]
     },
     "metadata": {
      "needs_background": "light"
     },
     "output_type": "display_data"
    }
   ],
   "source": [
    "plt.figure(figsize=(10,15))\n",
    "plt.plot(rmse_optimized,'o-', color='r', label='Улучшенная нейросеть')\n",
    "plt.plot(rmse_batch,'o-', color='b', label='Нейронная сеть — baseline')\n",
    "plt.title('График RMSE на тестовых данных')\n",
    "plt.ylabel('RMSE')\n",
    "plt.xlabel('Количество эпох * 0.1')\n",
    "plt.grid(True)\n",
    "plt.legend()\n",
    "plt.show()"
   ]
  },
  {
   "cell_type": "markdown",
   "id": "0b4e7327",
   "metadata": {},
   "source": [
    "Как видим, улучшенная нейронная сеть обучилась лучше, чем базовая."
   ]
  },
  {
   "cell_type": "markdown",
   "id": "a9a834a0",
   "metadata": {},
   "source": [
    "### Вывод\n",
    "\n",
    "В этой части работы мы произвели улучшение нейросети. Основным фактором, позволившим улучшить нейросеть стало изменение размера батча с 50 до 30.\n",
    "\n",
    "При этом замена техники регуляризации с BatchNormalization на Dropout дала ухудшение результатов нейросети, поэтому в финальной версии нейросети мы используем BatchNormalization. "
   ]
  },
  {
   "cell_type": "markdown",
   "id": "accurate-infrastructure",
   "metadata": {},
   "source": [
    "## Выводы"
   ]
  },
  {
   "cell_type": "markdown",
   "id": "4deafd5a",
   "metadata": {},
   "source": [
    "Архитектура базовой нейронной сети: \n",
    "\n",
    "* На входном слое 12 нейронов, на выходном - 1. 2 скрытых слоя, содержащих по 8 нейронов.\n",
    "\n",
    "* Функция активации - Hardswish()\n",
    "\n",
    "* Оптимизатор Adam() c параметром lr=0.009\n",
    "\n",
    "* Техника регуляризации - BatchNorm\n",
    "\n",
    "* **Размер батча batch_size = 50**\n",
    "\n",
    "* Количество эпох - num_epochs = 450\n",
    "\n",
    "\n",
    "\n",
    "Архитектура улучшенной нейросети:\n",
    "\n",
    "\n",
    "* На входном слое 12 нейронов, на выходном - 1. 2 скрытых слоя, содержащих по 8 нейронов.\n",
    "\n",
    "* Функция активации - Hardswish()\n",
    "\n",
    "* Оптимизатор Adam() c параметром lr=0.009\n",
    "\n",
    "* Техника регуляризации - BatchNorm\n",
    "\n",
    "* **Размер батча batch_size = 30**\n",
    "\n",
    "* Количество эпох - num_epochs = 450\n",
    "\n",
    "\n",
    "Обе модели выполняют требование: величина RMSE в каждой ниже 4500. Однако улучшенная модель обучается лучше. Ее RMSE находится на уровне 4200-4300."
   ]
  }
 ],
 "metadata": {
  "ExecuteTimeLog": [
   {
    "duration": 431,
    "start_time": "2022-06-27T11:13:08.833Z"
   },
   {
    "duration": 79,
    "start_time": "2022-06-27T11:13:51.321Z"
   },
   {
    "duration": 38,
    "start_time": "2022-06-27T11:13:56.459Z"
   },
   {
    "duration": 17,
    "start_time": "2022-06-27T11:14:07.816Z"
   },
   {
    "duration": 13,
    "start_time": "2022-06-27T11:14:32.968Z"
   },
   {
    "duration": 13,
    "start_time": "2022-06-27T15:16:24.098Z"
   },
   {
    "duration": 8,
    "start_time": "2022-06-27T15:26:35.846Z"
   },
   {
    "duration": 6,
    "start_time": "2022-06-27T15:26:41.349Z"
   },
   {
    "duration": 17,
    "start_time": "2022-06-27T15:26:59.357Z"
   },
   {
    "duration": 6,
    "start_time": "2022-06-27T15:27:03.843Z"
   },
   {
    "duration": 8,
    "start_time": "2022-06-27T15:28:08.996Z"
   },
   {
    "duration": 16,
    "start_time": "2022-06-27T15:31:22.609Z"
   },
   {
    "duration": 4,
    "start_time": "2022-06-27T15:31:30.434Z"
   },
   {
    "duration": 3,
    "start_time": "2022-06-27T15:31:38.041Z"
   },
   {
    "duration": 11,
    "start_time": "2022-06-27T15:31:43.319Z"
   },
   {
    "duration": 29,
    "start_time": "2022-06-27T15:32:18.198Z"
   },
   {
    "duration": 11,
    "start_time": "2022-06-27T15:32:42.758Z"
   },
   {
    "duration": 5,
    "start_time": "2022-06-27T15:33:13.762Z"
   },
   {
    "duration": 3,
    "start_time": "2022-06-27T15:37:28.748Z"
   },
   {
    "duration": 5,
    "start_time": "2022-06-27T15:37:34.697Z"
   },
   {
    "duration": 4,
    "start_time": "2022-06-27T15:37:41.576Z"
   },
   {
    "duration": 5,
    "start_time": "2022-06-27T15:37:48.058Z"
   },
   {
    "duration": 5,
    "start_time": "2022-06-27T15:37:58.418Z"
   },
   {
    "duration": 11,
    "start_time": "2022-06-27T15:38:09.426Z"
   },
   {
    "duration": 8,
    "start_time": "2022-06-27T15:38:16.938Z"
   },
   {
    "duration": 9,
    "start_time": "2022-06-27T15:39:11.100Z"
   },
   {
    "duration": 8,
    "start_time": "2022-06-27T15:40:25.822Z"
   },
   {
    "duration": 10,
    "start_time": "2022-06-27T15:40:34.407Z"
   },
   {
    "duration": 4,
    "start_time": "2022-06-27T15:43:12.015Z"
   },
   {
    "duration": 9,
    "start_time": "2022-06-27T15:43:17.614Z"
   },
   {
    "duration": 4,
    "start_time": "2022-06-27T15:43:30.942Z"
   },
   {
    "duration": 4,
    "start_time": "2022-06-27T15:43:33.649Z"
   },
   {
    "duration": 5,
    "start_time": "2022-06-27T15:43:41.546Z"
   },
   {
    "duration": 4,
    "start_time": "2022-06-27T15:44:10.578Z"
   },
   {
    "duration": 4,
    "start_time": "2022-06-27T15:44:21.801Z"
   },
   {
    "duration": 5,
    "start_time": "2022-06-27T15:52:31.870Z"
   },
   {
    "duration": 5,
    "start_time": "2022-06-27T15:52:37.197Z"
   },
   {
    "duration": 4,
    "start_time": "2022-06-27T15:53:17.801Z"
   },
   {
    "duration": 4,
    "start_time": "2022-06-27T15:53:19.440Z"
   },
   {
    "duration": 6,
    "start_time": "2022-06-27T15:53:46.438Z"
   },
   {
    "duration": 575,
    "start_time": "2022-06-27T15:54:17.636Z"
   },
   {
    "duration": 26,
    "start_time": "2022-06-27T15:54:30.636Z"
   },
   {
    "duration": 14,
    "start_time": "2022-06-27T15:54:35.172Z"
   },
   {
    "duration": 14,
    "start_time": "2022-06-27T15:54:42.337Z"
   },
   {
    "duration": 206,
    "start_time": "2022-06-27T15:54:51.698Z"
   },
   {
    "duration": 9,
    "start_time": "2022-06-27T15:55:10.672Z"
   },
   {
    "duration": 17,
    "start_time": "2022-06-27T15:56:03.595Z"
   },
   {
    "duration": 151,
    "start_time": "2022-06-27T15:56:17.438Z"
   },
   {
    "duration": 175,
    "start_time": "2022-06-27T15:56:29.060Z"
   },
   {
    "duration": 159,
    "start_time": "2022-06-27T15:56:40.375Z"
   },
   {
    "duration": 199,
    "start_time": "2022-06-27T15:57:11.189Z"
   },
   {
    "duration": 171,
    "start_time": "2022-06-27T15:57:35.674Z"
   },
   {
    "duration": 10,
    "start_time": "2022-06-27T15:58:12.761Z"
   },
   {
    "duration": 9,
    "start_time": "2022-06-27T15:58:19.217Z"
   },
   {
    "duration": 8,
    "start_time": "2022-06-27T16:00:16.753Z"
   },
   {
    "duration": 121,
    "start_time": "2022-06-27T16:00:20.777Z"
   },
   {
    "duration": 12,
    "start_time": "2022-06-27T16:01:04.369Z"
   },
   {
    "duration": 118,
    "start_time": "2022-06-27T16:02:22.108Z"
   },
   {
    "duration": 154,
    "start_time": "2022-06-27T16:03:00.847Z"
   },
   {
    "duration": 149,
    "start_time": "2022-06-27T16:03:22.483Z"
   },
   {
    "duration": 140,
    "start_time": "2022-06-27T16:03:41.312Z"
   },
   {
    "duration": 136,
    "start_time": "2022-06-27T16:03:54.041Z"
   },
   {
    "duration": 3,
    "start_time": "2022-06-27T16:05:07.197Z"
   },
   {
    "duration": 505,
    "start_time": "2022-06-27T16:05:12.196Z"
   },
   {
    "duration": 484,
    "start_time": "2022-06-27T16:05:34.251Z"
   },
   {
    "duration": 512,
    "start_time": "2022-06-27T16:10:40.332Z"
   },
   {
    "duration": 563,
    "start_time": "2022-06-27T16:11:11.636Z"
   },
   {
    "duration": 786,
    "start_time": "2022-06-27T16:12:08.170Z"
   },
   {
    "duration": 410,
    "start_time": "2022-06-27T16:12:19.084Z"
   },
   {
    "duration": 1041,
    "start_time": "2022-06-27T16:12:32.537Z"
   },
   {
    "duration": 28,
    "start_time": "2022-06-27T16:12:44.256Z"
   },
   {
    "duration": 18,
    "start_time": "2022-06-27T16:12:46.858Z"
   },
   {
    "duration": 19,
    "start_time": "2022-06-27T16:13:28.576Z"
   },
   {
    "duration": 107,
    "start_time": "2022-06-27T16:13:36.931Z"
   },
   {
    "duration": 713,
    "start_time": "2022-06-27T16:16:23.112Z"
   },
   {
    "duration": 716,
    "start_time": "2022-06-27T16:17:20.956Z"
   },
   {
    "duration": 751,
    "start_time": "2022-06-27T16:17:39.729Z"
   },
   {
    "duration": 674,
    "start_time": "2022-06-27T16:18:02.175Z"
   },
   {
    "duration": 3,
    "start_time": "2022-06-27T16:26:58.692Z"
   },
   {
    "duration": 26,
    "start_time": "2022-06-27T16:26:58.698Z"
   },
   {
    "duration": 11,
    "start_time": "2022-06-27T16:26:58.726Z"
   },
   {
    "duration": 876,
    "start_time": "2022-06-27T17:46:49.869Z"
   },
   {
    "duration": 4,
    "start_time": "2022-06-27T17:47:16.495Z"
   },
   {
    "duration": 22,
    "start_time": "2022-06-27T17:47:16.502Z"
   },
   {
    "duration": 12,
    "start_time": "2022-06-27T17:47:16.526Z"
   },
   {
    "duration": 13,
    "start_time": "2022-06-27T17:47:16.540Z"
   },
   {
    "duration": 7,
    "start_time": "2022-06-27T17:47:16.555Z"
   },
   {
    "duration": 21,
    "start_time": "2022-06-27T17:47:16.564Z"
   },
   {
    "duration": 4,
    "start_time": "2022-06-27T17:47:23.189Z"
   },
   {
    "duration": 7,
    "start_time": "2022-06-27T17:48:44.555Z"
   },
   {
    "duration": 5,
    "start_time": "2022-06-27T17:49:37.395Z"
   },
   {
    "duration": 55,
    "start_time": "2022-06-27T17:50:43.233Z"
   },
   {
    "duration": 176,
    "start_time": "2022-06-27T17:54:57.115Z"
   },
   {
    "duration": 6,
    "start_time": "2022-06-27T17:59:11.344Z"
   },
   {
    "duration": 120,
    "start_time": "2022-06-27T18:01:46.551Z"
   },
   {
    "duration": 59,
    "start_time": "2022-06-27T18:02:35.153Z"
   },
   {
    "duration": 157,
    "start_time": "2022-06-27T18:09:48.705Z"
   },
   {
    "duration": 160,
    "start_time": "2022-06-27T18:10:20.987Z"
   },
   {
    "duration": 529,
    "start_time": "2022-06-27T18:10:42.525Z"
   },
   {
    "duration": 3,
    "start_time": "2022-06-27T18:10:46.112Z"
   },
   {
    "duration": 372,
    "start_time": "2022-06-27T18:10:58.996Z"
   },
   {
    "duration": 2,
    "start_time": "2022-06-27T18:11:14.237Z"
   },
   {
    "duration": 1344,
    "start_time": "2022-06-27T18:11:24.518Z"
   },
   {
    "duration": 1302,
    "start_time": "2022-06-27T19:49:35.040Z"
   },
   {
    "duration": 38,
    "start_time": "2022-06-27T19:49:36.344Z"
   },
   {
    "duration": 13,
    "start_time": "2022-06-27T19:49:36.383Z"
   },
   {
    "duration": 12,
    "start_time": "2022-06-27T19:49:36.398Z"
   },
   {
    "duration": 7,
    "start_time": "2022-06-27T19:49:36.413Z"
   },
   {
    "duration": 6,
    "start_time": "2022-06-27T19:49:36.421Z"
   },
   {
    "duration": 6,
    "start_time": "2022-06-27T19:49:36.428Z"
   },
   {
    "duration": 7,
    "start_time": "2022-06-27T19:49:36.435Z"
   },
   {
    "duration": 5,
    "start_time": "2022-06-27T19:49:36.444Z"
   },
   {
    "duration": 6,
    "start_time": "2022-06-27T19:49:36.451Z"
   },
   {
    "duration": 6,
    "start_time": "2022-06-27T19:49:36.459Z"
   },
   {
    "duration": 7,
    "start_time": "2022-06-27T19:49:36.466Z"
   },
   {
    "duration": 53,
    "start_time": "2022-06-27T19:49:36.475Z"
   },
   {
    "duration": 182,
    "start_time": "2022-06-27T19:49:36.531Z"
   },
   {
    "duration": 149,
    "start_time": "2022-06-27T19:49:36.715Z"
   },
   {
    "duration": 1497,
    "start_time": "2022-06-27T19:49:36.866Z"
   },
   {
    "duration": 659,
    "start_time": "2022-06-27T19:49:49.869Z"
   },
   {
    "duration": 740,
    "start_time": "2022-06-27T19:50:45.920Z"
   },
   {
    "duration": 708,
    "start_time": "2022-06-27T19:52:35.595Z"
   },
   {
    "duration": 696,
    "start_time": "2022-06-27T19:54:30.822Z"
   },
   {
    "duration": 1499,
    "start_time": "2022-06-27T19:55:02.717Z"
   },
   {
    "duration": 1380,
    "start_time": "2022-06-27T19:55:20.050Z"
   },
   {
    "duration": 761,
    "start_time": "2022-06-27T19:55:25.110Z"
   },
   {
    "duration": 791,
    "start_time": "2022-06-27T19:55:31.842Z"
   },
   {
    "duration": 782,
    "start_time": "2022-06-27T19:55:56.982Z"
   },
   {
    "duration": 1433,
    "start_time": "2022-06-27T19:57:22.709Z"
   },
   {
    "duration": 1470,
    "start_time": "2022-06-27T20:04:59.764Z"
   },
   {
    "duration": 1523,
    "start_time": "2022-06-27T20:05:34.787Z"
   },
   {
    "duration": 9,
    "start_time": "2022-06-27T20:16:47.158Z"
   },
   {
    "duration": 11,
    "start_time": "2022-06-27T20:16:53.624Z"
   },
   {
    "duration": 294,
    "start_time": "2022-06-27T20:22:50.580Z"
   },
   {
    "duration": 98,
    "start_time": "2022-06-27T20:24:41.898Z"
   },
   {
    "duration": 13,
    "start_time": "2022-06-27T20:25:05.354Z"
   },
   {
    "duration": 13,
    "start_time": "2022-06-27T20:25:38.149Z"
   },
   {
    "duration": 12,
    "start_time": "2022-06-27T20:25:53.115Z"
   },
   {
    "duration": 17,
    "start_time": "2022-06-27T20:27:14.274Z"
   },
   {
    "duration": 13,
    "start_time": "2022-06-27T20:27:38.047Z"
   },
   {
    "duration": 683,
    "start_time": "2022-06-27T20:28:47.106Z"
   },
   {
    "duration": 6,
    "start_time": "2022-06-27T20:29:16.104Z"
   },
   {
    "duration": 4,
    "start_time": "2022-06-27T20:29:20.200Z"
   },
   {
    "duration": 12,
    "start_time": "2022-06-27T20:29:24.487Z"
   },
   {
    "duration": 3,
    "start_time": "2022-06-27T20:29:31.969Z"
   },
   {
    "duration": 4,
    "start_time": "2022-06-27T20:29:34.747Z"
   },
   {
    "duration": 4,
    "start_time": "2022-06-27T20:29:45.492Z"
   },
   {
    "duration": 11,
    "start_time": "2022-06-27T20:30:17.979Z"
   },
   {
    "duration": 3,
    "start_time": "2022-06-27T20:32:42.257Z"
   },
   {
    "duration": 14,
    "start_time": "2022-06-27T20:38:00.042Z"
   },
   {
    "duration": 11,
    "start_time": "2022-06-27T20:38:54.118Z"
   },
   {
    "duration": 12,
    "start_time": "2022-06-27T20:40:05.669Z"
   },
   {
    "duration": 3,
    "start_time": "2022-06-27T20:40:59.717Z"
   },
   {
    "duration": 22,
    "start_time": "2022-06-27T20:40:59.722Z"
   },
   {
    "duration": 9,
    "start_time": "2022-06-27T20:40:59.746Z"
   },
   {
    "duration": 12,
    "start_time": "2022-06-27T20:40:59.757Z"
   },
   {
    "duration": 4,
    "start_time": "2022-06-27T20:40:59.770Z"
   },
   {
    "duration": 6,
    "start_time": "2022-06-27T20:40:59.775Z"
   },
   {
    "duration": 13,
    "start_time": "2022-06-27T20:40:59.782Z"
   },
   {
    "duration": 8,
    "start_time": "2022-06-27T20:40:59.797Z"
   },
   {
    "duration": 5,
    "start_time": "2022-06-27T20:40:59.806Z"
   },
   {
    "duration": 14,
    "start_time": "2022-06-27T20:40:59.812Z"
   },
   {
    "duration": 4,
    "start_time": "2022-06-27T20:40:59.827Z"
   },
   {
    "duration": 8,
    "start_time": "2022-06-27T20:40:59.834Z"
   },
   {
    "duration": 34,
    "start_time": "2022-06-27T20:40:59.844Z"
   },
   {
    "duration": 176,
    "start_time": "2022-06-27T20:40:59.880Z"
   },
   {
    "duration": 149,
    "start_time": "2022-06-27T20:41:00.058Z"
   },
   {
    "duration": 1485,
    "start_time": "2022-06-27T20:41:00.208Z"
   },
   {
    "duration": 9,
    "start_time": "2022-06-27T20:41:10.255Z"
   },
   {
    "duration": 5,
    "start_time": "2022-06-27T20:41:15.396Z"
   },
   {
    "duration": 8,
    "start_time": "2022-06-27T20:41:18.695Z"
   },
   {
    "duration": 10,
    "start_time": "2022-06-27T20:41:20.956Z"
   },
   {
    "duration": 11,
    "start_time": "2022-06-27T20:41:29.621Z"
   },
   {
    "duration": 8,
    "start_time": "2022-06-27T20:41:45.446Z"
   },
   {
    "duration": 12,
    "start_time": "2022-06-27T20:41:47.749Z"
   },
   {
    "duration": 7,
    "start_time": "2022-06-27T20:42:03.786Z"
   },
   {
    "duration": 10,
    "start_time": "2022-06-27T20:42:06.778Z"
   },
   {
    "duration": 11,
    "start_time": "2022-06-27T20:42:08.486Z"
   },
   {
    "duration": 5,
    "start_time": "2022-06-27T20:42:30.799Z"
   },
   {
    "duration": 3,
    "start_time": "2022-06-27T20:43:37.330Z"
   },
   {
    "duration": 28,
    "start_time": "2022-06-27T20:43:37.336Z"
   },
   {
    "duration": 11,
    "start_time": "2022-06-27T20:43:37.366Z"
   },
   {
    "duration": 143,
    "start_time": "2022-06-27T20:43:37.379Z"
   },
   {
    "duration": 5,
    "start_time": "2022-06-27T20:43:37.526Z"
   },
   {
    "duration": 8,
    "start_time": "2022-06-27T20:43:37.532Z"
   },
   {
    "duration": 12,
    "start_time": "2022-06-27T20:43:37.542Z"
   },
   {
    "duration": 10,
    "start_time": "2022-06-27T20:43:37.556Z"
   },
   {
    "duration": 7,
    "start_time": "2022-06-27T20:43:37.567Z"
   },
   {
    "duration": 6,
    "start_time": "2022-06-27T20:43:37.575Z"
   },
   {
    "duration": 7,
    "start_time": "2022-06-27T20:43:37.582Z"
   },
   {
    "duration": 9,
    "start_time": "2022-06-27T20:43:37.590Z"
   },
   {
    "duration": 46,
    "start_time": "2022-06-27T20:43:37.600Z"
   },
   {
    "duration": 165,
    "start_time": "2022-06-27T20:43:37.648Z"
   },
   {
    "duration": 143,
    "start_time": "2022-06-27T20:43:37.815Z"
   },
   {
    "duration": 1554,
    "start_time": "2022-06-27T20:43:37.960Z"
   },
   {
    "duration": 4,
    "start_time": "2022-06-27T20:43:46.223Z"
   },
   {
    "duration": 11,
    "start_time": "2022-06-27T20:43:52.243Z"
   },
   {
    "duration": 13,
    "start_time": "2022-06-27T20:43:55.121Z"
   },
   {
    "duration": 4,
    "start_time": "2022-06-27T20:45:55.977Z"
   },
   {
    "duration": 14,
    "start_time": "2022-06-27T20:45:59.394Z"
   },
   {
    "duration": 3,
    "start_time": "2022-06-27T20:46:56.852Z"
   },
   {
    "duration": 50,
    "start_time": "2022-06-27T20:52:56.080Z"
   },
   {
    "duration": 27,
    "start_time": "2022-06-27T20:53:35.708Z"
   },
   {
    "duration": 6,
    "start_time": "2022-06-27T20:53:41.702Z"
   },
   {
    "duration": 10,
    "start_time": "2022-06-27T20:54:17.884Z"
   },
   {
    "duration": 11,
    "start_time": "2022-06-27T20:54:31.353Z"
   },
   {
    "duration": 45,
    "start_time": "2022-06-27T20:54:48.337Z"
   },
   {
    "duration": 9,
    "start_time": "2022-06-27T20:54:59.454Z"
   },
   {
    "duration": 606,
    "start_time": "2022-06-27T20:57:04.085Z"
   },
   {
    "duration": 3,
    "start_time": "2022-06-27T20:58:21.053Z"
   },
   {
    "duration": 5,
    "start_time": "2022-06-27T21:03:46.466Z"
   },
   {
    "duration": 9,
    "start_time": "2022-06-27T21:04:01.777Z"
   },
   {
    "duration": 13,
    "start_time": "2022-06-27T21:04:16.695Z"
   },
   {
    "duration": 5,
    "start_time": "2022-06-27T21:06:15.206Z"
   },
   {
    "duration": 18,
    "start_time": "2022-06-27T21:06:38.105Z"
   },
   {
    "duration": 464,
    "start_time": "2022-06-27T21:06:56.578Z"
   },
   {
    "duration": 84,
    "start_time": "2022-06-27T21:11:37.813Z"
   },
   {
    "duration": 52,
    "start_time": "2022-06-27T21:12:16.776Z"
   },
   {
    "duration": 100,
    "start_time": "2022-06-27T21:12:22.145Z"
   },
   {
    "duration": 55,
    "start_time": "2022-06-27T21:12:45.187Z"
   },
   {
    "duration": 53,
    "start_time": "2022-06-27T21:12:50.132Z"
   },
   {
    "duration": 48,
    "start_time": "2022-06-27T21:13:37.511Z"
   },
   {
    "duration": 59,
    "start_time": "2022-06-27T21:13:47.240Z"
   },
   {
    "duration": 58,
    "start_time": "2022-06-27T21:13:57.379Z"
   },
   {
    "duration": 55,
    "start_time": "2022-06-27T21:14:07.239Z"
   },
   {
    "duration": 52,
    "start_time": "2022-06-27T21:14:15.366Z"
   },
   {
    "duration": 5,
    "start_time": "2022-06-27T21:14:50.363Z"
   },
   {
    "duration": 391,
    "start_time": "2022-06-27T21:15:26.554Z"
   },
   {
    "duration": 581,
    "start_time": "2022-06-27T21:15:38.353Z"
   },
   {
    "duration": 422,
    "start_time": "2022-06-27T21:16:39.317Z"
   },
   {
    "duration": 381,
    "start_time": "2022-06-27T21:16:52.368Z"
   },
   {
    "duration": 562,
    "start_time": "2022-06-27T21:17:01.381Z"
   },
   {
    "duration": 2020,
    "start_time": "2022-06-28T11:34:12.296Z"
   },
   {
    "duration": 41,
    "start_time": "2022-06-28T11:34:14.318Z"
   },
   {
    "duration": 13,
    "start_time": "2022-06-28T11:34:14.361Z"
   },
   {
    "duration": 11,
    "start_time": "2022-06-28T11:34:14.375Z"
   },
   {
    "duration": 7,
    "start_time": "2022-06-28T11:34:14.388Z"
   },
   {
    "duration": 6,
    "start_time": "2022-06-28T11:34:14.397Z"
   },
   {
    "duration": 6,
    "start_time": "2022-06-28T11:34:14.404Z"
   },
   {
    "duration": 7,
    "start_time": "2022-06-28T11:34:14.412Z"
   },
   {
    "duration": 6,
    "start_time": "2022-06-28T11:34:14.420Z"
   },
   {
    "duration": 8,
    "start_time": "2022-06-28T11:34:14.427Z"
   },
   {
    "duration": 6,
    "start_time": "2022-06-28T11:34:14.437Z"
   },
   {
    "duration": 7,
    "start_time": "2022-06-28T11:34:14.445Z"
   },
   {
    "duration": 25,
    "start_time": "2022-06-28T11:34:14.453Z"
   },
   {
    "duration": 181,
    "start_time": "2022-06-28T11:34:14.481Z"
   },
   {
    "duration": 141,
    "start_time": "2022-06-28T11:34:14.664Z"
   },
   {
    "duration": 1567,
    "start_time": "2022-06-28T11:34:14.807Z"
   },
   {
    "duration": 4,
    "start_time": "2022-06-28T11:34:16.376Z"
   },
   {
    "duration": 15,
    "start_time": "2022-06-28T11:34:16.383Z"
   },
   {
    "duration": 8,
    "start_time": "2022-06-28T11:34:16.401Z"
   },
   {
    "duration": 16,
    "start_time": "2022-06-28T11:34:16.411Z"
   },
   {
    "duration": 16,
    "start_time": "2022-06-28T11:34:16.430Z"
   },
   {
    "duration": 21,
    "start_time": "2022-06-28T11:34:16.448Z"
   },
   {
    "duration": 678,
    "start_time": "2022-06-28T11:34:16.471Z"
   },
   {
    "duration": 3,
    "start_time": "2022-06-28T11:35:18.945Z"
   },
   {
    "duration": 21,
    "start_time": "2022-06-28T11:35:18.950Z"
   },
   {
    "duration": 10,
    "start_time": "2022-06-28T11:35:18.972Z"
   },
   {
    "duration": 12,
    "start_time": "2022-06-28T11:35:18.983Z"
   },
   {
    "duration": 9,
    "start_time": "2022-06-28T11:35:18.997Z"
   },
   {
    "duration": 6,
    "start_time": "2022-06-28T11:35:19.007Z"
   },
   {
    "duration": 13,
    "start_time": "2022-06-28T11:35:19.015Z"
   },
   {
    "duration": 9,
    "start_time": "2022-06-28T11:35:19.030Z"
   },
   {
    "duration": 8,
    "start_time": "2022-06-28T11:35:19.040Z"
   },
   {
    "duration": 9,
    "start_time": "2022-06-28T11:35:19.050Z"
   },
   {
    "duration": 9,
    "start_time": "2022-06-28T11:35:19.061Z"
   },
   {
    "duration": 8,
    "start_time": "2022-06-28T11:35:19.072Z"
   },
   {
    "duration": 52,
    "start_time": "2022-06-28T11:35:19.082Z"
   },
   {
    "duration": 173,
    "start_time": "2022-06-28T11:35:19.136Z"
   },
   {
    "duration": 230,
    "start_time": "2022-06-28T11:35:19.311Z"
   },
   {
    "duration": 1486,
    "start_time": "2022-06-28T11:35:19.543Z"
   },
   {
    "duration": 4,
    "start_time": "2022-06-28T11:35:21.030Z"
   },
   {
    "duration": 11,
    "start_time": "2022-06-28T11:35:21.035Z"
   },
   {
    "duration": 10,
    "start_time": "2022-06-28T11:35:21.048Z"
   },
   {
    "duration": 11,
    "start_time": "2022-06-28T11:35:21.060Z"
   },
   {
    "duration": 15,
    "start_time": "2022-06-28T11:35:21.072Z"
   },
   {
    "duration": 17,
    "start_time": "2022-06-28T11:35:21.088Z"
   },
   {
    "duration": 520,
    "start_time": "2022-06-28T11:35:21.107Z"
   },
   {
    "duration": 351,
    "start_time": "2022-06-28T11:35:52.197Z"
   },
   {
    "duration": 231,
    "start_time": "2022-06-28T11:36:02.730Z"
   },
   {
    "duration": 367,
    "start_time": "2022-06-28T11:36:16.867Z"
   },
   {
    "duration": 354,
    "start_time": "2022-06-28T11:36:24.088Z"
   },
   {
    "duration": 346,
    "start_time": "2022-06-28T11:36:41.205Z"
   },
   {
    "duration": 429,
    "start_time": "2022-06-28T11:36:49.314Z"
   },
   {
    "duration": 40,
    "start_time": "2022-06-28T11:38:34.414Z"
   },
   {
    "duration": 14,
    "start_time": "2022-06-28T11:39:07.218Z"
   },
   {
    "duration": 27,
    "start_time": "2022-06-28T11:39:58.398Z"
   },
   {
    "duration": 59,
    "start_time": "2022-06-28T11:40:58.730Z"
   },
   {
    "duration": 22,
    "start_time": "2022-06-28T11:41:13.640Z"
   },
   {
    "duration": 31,
    "start_time": "2022-06-28T11:41:25.950Z"
   },
   {
    "duration": 22,
    "start_time": "2022-06-28T11:41:38.451Z"
   },
   {
    "duration": 21,
    "start_time": "2022-06-28T11:41:42.835Z"
   },
   {
    "duration": 4,
    "start_time": "2022-06-28T11:42:00.235Z"
   },
   {
    "duration": 36,
    "start_time": "2022-06-28T11:42:00.241Z"
   },
   {
    "duration": 27,
    "start_time": "2022-06-28T11:42:00.278Z"
   },
   {
    "duration": 26,
    "start_time": "2022-06-28T11:42:00.307Z"
   },
   {
    "duration": 25,
    "start_time": "2022-06-28T11:42:00.335Z"
   },
   {
    "duration": 22,
    "start_time": "2022-06-28T11:42:00.362Z"
   },
   {
    "duration": 31,
    "start_time": "2022-06-28T11:42:00.386Z"
   },
   {
    "duration": 22,
    "start_time": "2022-06-28T11:42:00.419Z"
   },
   {
    "duration": 18,
    "start_time": "2022-06-28T11:42:00.443Z"
   },
   {
    "duration": 30,
    "start_time": "2022-06-28T11:42:00.462Z"
   },
   {
    "duration": 26,
    "start_time": "2022-06-28T11:42:00.494Z"
   },
   {
    "duration": 32,
    "start_time": "2022-06-28T11:42:00.522Z"
   },
   {
    "duration": 41,
    "start_time": "2022-06-28T11:42:00.556Z"
   },
   {
    "duration": 150,
    "start_time": "2022-06-28T11:42:00.599Z"
   },
   {
    "duration": 131,
    "start_time": "2022-06-28T11:42:00.751Z"
   },
   {
    "duration": 1560,
    "start_time": "2022-06-28T11:42:00.884Z"
   },
   {
    "duration": 4,
    "start_time": "2022-06-28T11:42:02.446Z"
   },
   {
    "duration": 13,
    "start_time": "2022-06-28T11:42:02.452Z"
   },
   {
    "duration": 20,
    "start_time": "2022-06-28T11:42:02.467Z"
   },
   {
    "duration": 9,
    "start_time": "2022-06-28T11:42:02.489Z"
   },
   {
    "duration": 10,
    "start_time": "2022-06-28T11:42:02.499Z"
   },
   {
    "duration": 19,
    "start_time": "2022-06-28T11:42:02.510Z"
   },
   {
    "duration": 25,
    "start_time": "2022-06-28T11:42:02.531Z"
   },
   {
    "duration": 23,
    "start_time": "2022-06-28T11:42:12.742Z"
   },
   {
    "duration": 426,
    "start_time": "2022-06-28T11:42:28.516Z"
   },
   {
    "duration": 389,
    "start_time": "2022-06-28T11:43:21.756Z"
   },
   {
    "duration": 424,
    "start_time": "2022-06-28T11:45:27.314Z"
   },
   {
    "duration": 516,
    "start_time": "2022-06-28T11:45:44.918Z"
   },
   {
    "duration": 468,
    "start_time": "2022-06-28T11:45:53.263Z"
   },
   {
    "duration": 16,
    "start_time": "2022-06-28T11:49:02.187Z"
   },
   {
    "duration": 520,
    "start_time": "2022-06-28T11:49:16.122Z"
   },
   {
    "duration": 335,
    "start_time": "2022-06-28T11:49:25.206Z"
   },
   {
    "duration": 16,
    "start_time": "2022-06-28T11:49:54.057Z"
   },
   {
    "duration": 414,
    "start_time": "2022-06-28T11:50:00.228Z"
   },
   {
    "duration": 397,
    "start_time": "2022-06-28T11:50:09.840Z"
   },
   {
    "duration": 389,
    "start_time": "2022-06-28T11:50:29.548Z"
   },
   {
    "duration": 386,
    "start_time": "2022-06-28T11:55:19.106Z"
   },
   {
    "duration": 1497,
    "start_time": "2022-06-28T11:55:26.182Z"
   },
   {
    "duration": 8325,
    "start_time": "2022-06-28T11:58:22.916Z"
   },
   {
    "duration": 16409,
    "start_time": "2022-06-28T11:58:41.419Z"
   },
   {
    "duration": 16839,
    "start_time": "2022-06-28T11:59:53.488Z"
   },
   {
    "duration": 7972,
    "start_time": "2022-06-28T12:00:15.274Z"
   },
   {
    "duration": 4,
    "start_time": "2022-06-28T12:01:39.077Z"
   },
   {
    "duration": 88,
    "start_time": "2022-06-28T12:04:04.846Z"
   },
   {
    "duration": 8105,
    "start_time": "2022-06-28T12:06:41.243Z"
   },
   {
    "duration": 3,
    "start_time": "2022-06-28T12:09:34.585Z"
   },
   {
    "duration": 8028,
    "start_time": "2022-06-28T12:10:37.602Z"
   },
   {
    "duration": 1748,
    "start_time": "2022-06-28T12:11:22.198Z"
   },
   {
    "duration": 5,
    "start_time": "2022-06-28T12:12:08.509Z"
   },
   {
    "duration": 8,
    "start_time": "2022-06-28T12:28:08.347Z"
   },
   {
    "duration": 8,
    "start_time": "2022-06-28T12:28:20.447Z"
   },
   {
    "duration": 17,
    "start_time": "2022-06-28T12:28:31.561Z"
   },
   {
    "duration": 1483,
    "start_time": "2022-06-28T12:29:15.090Z"
   },
   {
    "duration": 3,
    "start_time": "2022-06-28T12:48:17.780Z"
   },
   {
    "duration": 4,
    "start_time": "2022-06-28T12:48:38.364Z"
   },
   {
    "duration": 3,
    "start_time": "2022-06-28T12:48:42.983Z"
   },
   {
    "duration": 20,
    "start_time": "2022-06-28T12:48:42.988Z"
   },
   {
    "duration": 9,
    "start_time": "2022-06-28T12:48:43.010Z"
   },
   {
    "duration": 12,
    "start_time": "2022-06-28T12:48:43.020Z"
   },
   {
    "duration": 5,
    "start_time": "2022-06-28T12:48:43.034Z"
   },
   {
    "duration": 6,
    "start_time": "2022-06-28T12:48:43.040Z"
   },
   {
    "duration": 9,
    "start_time": "2022-06-28T12:48:43.047Z"
   },
   {
    "duration": 7,
    "start_time": "2022-06-28T12:48:43.057Z"
   },
   {
    "duration": 6,
    "start_time": "2022-06-28T12:48:43.065Z"
   },
   {
    "duration": 9,
    "start_time": "2022-06-28T12:48:43.073Z"
   },
   {
    "duration": 6,
    "start_time": "2022-06-28T12:48:43.083Z"
   },
   {
    "duration": 7,
    "start_time": "2022-06-28T12:48:43.091Z"
   },
   {
    "duration": 45,
    "start_time": "2022-06-28T12:48:43.099Z"
   },
   {
    "duration": 168,
    "start_time": "2022-06-28T12:48:43.147Z"
   },
   {
    "duration": 143,
    "start_time": "2022-06-28T12:48:43.317Z"
   },
   {
    "duration": 1575,
    "start_time": "2022-06-28T12:48:43.461Z"
   },
   {
    "duration": 4,
    "start_time": "2022-06-28T12:48:45.038Z"
   },
   {
    "duration": 26,
    "start_time": "2022-06-28T12:48:45.044Z"
   },
   {
    "duration": 22,
    "start_time": "2022-06-28T12:48:45.071Z"
   },
   {
    "duration": 24,
    "start_time": "2022-06-28T12:48:45.095Z"
   },
   {
    "duration": 20,
    "start_time": "2022-06-28T12:48:45.121Z"
   },
   {
    "duration": 23,
    "start_time": "2022-06-28T12:48:45.143Z"
   },
   {
    "duration": 1573,
    "start_time": "2022-06-28T12:48:45.168Z"
   },
   {
    "duration": 3,
    "start_time": "2022-06-28T12:49:01.510Z"
   },
   {
    "duration": 34,
    "start_time": "2022-06-28T12:49:01.515Z"
   },
   {
    "duration": 16,
    "start_time": "2022-06-28T12:49:01.551Z"
   },
   {
    "duration": 30,
    "start_time": "2022-06-28T12:49:01.569Z"
   },
   {
    "duration": 39,
    "start_time": "2022-06-28T12:49:01.602Z"
   },
   {
    "duration": 14,
    "start_time": "2022-06-28T12:49:01.643Z"
   },
   {
    "duration": 16,
    "start_time": "2022-06-28T12:49:01.659Z"
   },
   {
    "duration": 11,
    "start_time": "2022-06-28T12:49:01.677Z"
   },
   {
    "duration": 8,
    "start_time": "2022-06-28T12:49:01.690Z"
   },
   {
    "duration": 12,
    "start_time": "2022-06-28T12:49:01.700Z"
   },
   {
    "duration": 32,
    "start_time": "2022-06-28T12:49:01.713Z"
   },
   {
    "duration": 19,
    "start_time": "2022-06-28T12:49:01.746Z"
   },
   {
    "duration": 34,
    "start_time": "2022-06-28T12:49:01.766Z"
   },
   {
    "duration": 156,
    "start_time": "2022-06-28T12:49:01.803Z"
   },
   {
    "duration": 141,
    "start_time": "2022-06-28T12:49:01.961Z"
   },
   {
    "duration": 1429,
    "start_time": "2022-06-28T12:49:02.104Z"
   },
   {
    "duration": 5,
    "start_time": "2022-06-28T12:49:03.535Z"
   },
   {
    "duration": 12,
    "start_time": "2022-06-28T12:49:03.542Z"
   },
   {
    "duration": 8,
    "start_time": "2022-06-28T12:49:03.555Z"
   },
   {
    "duration": 6,
    "start_time": "2022-06-28T12:49:03.565Z"
   },
   {
    "duration": 9,
    "start_time": "2022-06-28T12:49:03.573Z"
   },
   {
    "duration": 12,
    "start_time": "2022-06-28T12:49:03.584Z"
   },
   {
    "duration": 1648,
    "start_time": "2022-06-28T12:49:03.597Z"
   },
   {
    "duration": 4,
    "start_time": "2022-06-28T12:49:17.100Z"
   },
   {
    "duration": 4,
    "start_time": "2022-06-28T12:49:21.434Z"
   },
   {
    "duration": 27,
    "start_time": "2022-06-28T12:49:21.440Z"
   },
   {
    "duration": 12,
    "start_time": "2022-06-28T12:49:21.469Z"
   },
   {
    "duration": 17,
    "start_time": "2022-06-28T12:49:21.483Z"
   },
   {
    "duration": 9,
    "start_time": "2022-06-28T12:49:21.503Z"
   },
   {
    "duration": 17,
    "start_time": "2022-06-28T12:49:21.514Z"
   },
   {
    "duration": 15,
    "start_time": "2022-06-28T12:49:21.533Z"
   },
   {
    "duration": 15,
    "start_time": "2022-06-28T12:49:21.550Z"
   },
   {
    "duration": 7,
    "start_time": "2022-06-28T12:49:21.567Z"
   },
   {
    "duration": 6,
    "start_time": "2022-06-28T12:49:21.575Z"
   },
   {
    "duration": 9,
    "start_time": "2022-06-28T12:49:21.582Z"
   },
   {
    "duration": 9,
    "start_time": "2022-06-28T12:49:21.592Z"
   },
   {
    "duration": 29,
    "start_time": "2022-06-28T12:49:21.602Z"
   },
   {
    "duration": 158,
    "start_time": "2022-06-28T12:49:21.634Z"
   },
   {
    "duration": 271,
    "start_time": "2022-06-28T12:49:21.794Z"
   },
   {
    "duration": 1566,
    "start_time": "2022-06-28T12:49:22.067Z"
   },
   {
    "duration": 4,
    "start_time": "2022-06-28T12:49:23.634Z"
   },
   {
    "duration": 14,
    "start_time": "2022-06-28T12:49:23.640Z"
   },
   {
    "duration": 7,
    "start_time": "2022-06-28T12:49:23.656Z"
   },
   {
    "duration": 8,
    "start_time": "2022-06-28T12:49:23.665Z"
   },
   {
    "duration": 11,
    "start_time": "2022-06-28T12:49:23.675Z"
   },
   {
    "duration": 22,
    "start_time": "2022-06-28T12:49:23.687Z"
   },
   {
    "duration": 1627,
    "start_time": "2022-06-28T12:49:23.711Z"
   },
   {
    "duration": 24599,
    "start_time": "2022-06-28T12:49:35.332Z"
   },
   {
    "duration": 4312,
    "start_time": "2022-06-28T12:50:24.124Z"
   },
   {
    "duration": 4636,
    "start_time": "2022-06-28T12:50:45.604Z"
   },
   {
    "duration": 9134,
    "start_time": "2022-06-28T12:50:55.511Z"
   },
   {
    "duration": 9,
    "start_time": "2022-06-28T13:01:07.961Z"
   },
   {
    "duration": 5,
    "start_time": "2022-06-28T13:01:10.188Z"
   },
   {
    "duration": 15,
    "start_time": "2022-06-28T13:01:15.094Z"
   },
   {
    "duration": 9070,
    "start_time": "2022-06-28T13:02:26.068Z"
   },
   {
    "duration": 9177,
    "start_time": "2022-06-28T13:02:41.162Z"
   },
   {
    "duration": 9194,
    "start_time": "2022-06-28T13:02:57.256Z"
   },
   {
    "duration": 9239,
    "start_time": "2022-06-28T13:03:51.804Z"
   },
   {
    "duration": 9175,
    "start_time": "2022-06-28T13:04:07.561Z"
   },
   {
    "duration": 8999,
    "start_time": "2022-06-28T13:04:21.852Z"
   },
   {
    "duration": 4583,
    "start_time": "2022-06-28T13:04:37.652Z"
   },
   {
    "duration": 6457,
    "start_time": "2022-06-28T13:04:49.387Z"
   },
   {
    "duration": 13718,
    "start_time": "2022-06-28T13:05:07.015Z"
   },
   {
    "duration": 8960,
    "start_time": "2022-06-28T13:05:27.786Z"
   },
   {
    "duration": 9429,
    "start_time": "2022-06-28T13:05:49.123Z"
   },
   {
    "duration": 9261,
    "start_time": "2022-06-28T13:06:12.670Z"
   },
   {
    "duration": 9179,
    "start_time": "2022-06-28T13:06:30.265Z"
   },
   {
    "duration": 9188,
    "start_time": "2022-06-28T13:07:06.246Z"
   },
   {
    "duration": 6516,
    "start_time": "2022-06-28T13:07:33.425Z"
   },
   {
    "duration": 3428,
    "start_time": "2022-06-28T13:07:45.701Z"
   },
   {
    "duration": 17762,
    "start_time": "2022-06-28T13:07:55.465Z"
   },
   {
    "duration": 18176,
    "start_time": "2022-06-28T13:08:33.456Z"
   },
   {
    "duration": 17197,
    "start_time": "2022-06-28T13:09:01.941Z"
   },
   {
    "duration": 17575,
    "start_time": "2022-06-28T13:09:32.565Z"
   },
   {
    "duration": 17741,
    "start_time": "2022-06-28T13:09:58.886Z"
   },
   {
    "duration": 28659,
    "start_time": "2022-06-28T13:10:42.191Z"
   },
   {
    "duration": 22796,
    "start_time": "2022-06-28T13:11:33.547Z"
   },
   {
    "duration": 32412,
    "start_time": "2022-06-28T13:12:07.120Z"
   },
   {
    "duration": 32002,
    "start_time": "2022-06-28T13:12:51.852Z"
   },
   {
    "duration": 0,
    "start_time": "2022-06-28T13:13:57.745Z"
   },
   {
    "duration": 13524,
    "start_time": "2022-06-28T13:14:00.420Z"
   },
   {
    "duration": 15,
    "start_time": "2022-06-28T13:15:31.066Z"
   },
   {
    "duration": 1988,
    "start_time": "2022-06-28T13:15:42.702Z"
   },
   {
    "duration": 1903,
    "start_time": "2022-06-28T13:15:57.293Z"
   },
   {
    "duration": 2124,
    "start_time": "2022-06-28T13:16:07.740Z"
   },
   {
    "duration": 1984,
    "start_time": "2022-06-28T13:16:17.578Z"
   },
   {
    "duration": 1982,
    "start_time": "2022-06-28T13:16:29.006Z"
   },
   {
    "duration": 2019,
    "start_time": "2022-06-28T13:16:35.713Z"
   },
   {
    "duration": 2078,
    "start_time": "2022-06-28T13:16:45.950Z"
   },
   {
    "duration": 1991,
    "start_time": "2022-06-28T13:16:56.386Z"
   },
   {
    "duration": 2048,
    "start_time": "2022-06-28T13:17:03.999Z"
   },
   {
    "duration": 2123,
    "start_time": "2022-06-28T13:17:14.841Z"
   },
   {
    "duration": 2140,
    "start_time": "2022-06-28T13:17:24.945Z"
   },
   {
    "duration": 1974,
    "start_time": "2022-06-28T13:17:39.135Z"
   },
   {
    "duration": 1935,
    "start_time": "2022-06-28T13:17:48.016Z"
   },
   {
    "duration": 2005,
    "start_time": "2022-06-28T13:17:54.381Z"
   },
   {
    "duration": 1955,
    "start_time": "2022-06-28T13:18:01.902Z"
   },
   {
    "duration": 2147,
    "start_time": "2022-06-28T13:18:09.929Z"
   },
   {
    "duration": 1939,
    "start_time": "2022-06-28T13:18:16.546Z"
   },
   {
    "duration": 1967,
    "start_time": "2022-06-28T13:19:01.885Z"
   },
   {
    "duration": 2007,
    "start_time": "2022-06-28T13:19:12.322Z"
   },
   {
    "duration": 1988,
    "start_time": "2022-06-28T13:19:34.467Z"
   },
   {
    "duration": 1933,
    "start_time": "2022-06-28T13:19:46.086Z"
   },
   {
    "duration": 13029,
    "start_time": "2022-06-28T13:20:04.604Z"
   },
   {
    "duration": 8545,
    "start_time": "2022-06-28T13:20:25.402Z"
   },
   {
    "duration": 6333,
    "start_time": "2022-06-28T13:20:40.702Z"
   },
   {
    "duration": 6852,
    "start_time": "2022-06-28T13:20:59.088Z"
   },
   {
    "duration": 12301,
    "start_time": "2022-06-28T13:21:42.733Z"
   },
   {
    "duration": 0,
    "start_time": "2022-06-28T13:24:16.038Z"
   },
   {
    "duration": 12414,
    "start_time": "2022-06-28T13:24:29.229Z"
   },
   {
    "duration": 9612,
    "start_time": "2022-06-28T13:25:01.428Z"
   },
   {
    "duration": 13530,
    "start_time": "2022-06-28T13:25:16.817Z"
   },
   {
    "duration": 13552,
    "start_time": "2022-06-28T13:28:56.091Z"
   },
   {
    "duration": 13828,
    "start_time": "2022-06-28T13:29:23.106Z"
   },
   {
    "duration": 16069,
    "start_time": "2022-06-28T13:29:42.062Z"
   },
   {
    "duration": 19009,
    "start_time": "2022-06-28T13:30:07.343Z"
   },
   {
    "duration": 17913,
    "start_time": "2022-06-28T13:30:38.426Z"
   },
   {
    "duration": 18202,
    "start_time": "2022-06-28T13:31:07.835Z"
   },
   {
    "duration": 17967,
    "start_time": "2022-06-28T13:31:42.660Z"
   },
   {
    "duration": 13140,
    "start_time": "2022-06-28T13:32:15.012Z"
   },
   {
    "duration": 9161,
    "start_time": "2022-06-28T13:32:37.680Z"
   },
   {
    "duration": 9339,
    "start_time": "2022-06-28T13:32:55.700Z"
   },
   {
    "duration": 9347,
    "start_time": "2022-06-28T13:33:32.606Z"
   },
   {
    "duration": 9957,
    "start_time": "2022-06-28T13:33:48.986Z"
   },
   {
    "duration": 9521,
    "start_time": "2022-06-28T13:34:09.523Z"
   },
   {
    "duration": 6668,
    "start_time": "2022-06-28T13:35:08.779Z"
   },
   {
    "duration": 6871,
    "start_time": "2022-06-28T13:35:25.861Z"
   },
   {
    "duration": 6381,
    "start_time": "2022-06-28T13:35:50.562Z"
   },
   {
    "duration": 9219,
    "start_time": "2022-06-28T13:37:49.325Z"
   },
   {
    "duration": 9628,
    "start_time": "2022-06-28T13:38:05.313Z"
   },
   {
    "duration": 13961,
    "start_time": "2022-06-28T13:38:30.276Z"
   },
   {
    "duration": 2069,
    "start_time": "2022-06-28T13:39:22.003Z"
   },
   {
    "duration": 12022,
    "start_time": "2022-06-28T13:39:31.318Z"
   },
   {
    "duration": 13154,
    "start_time": "2022-06-28T13:39:53.999Z"
   },
   {
    "duration": 22363,
    "start_time": "2022-06-28T13:43:04.375Z"
   },
   {
    "duration": 13295,
    "start_time": "2022-06-28T13:43:49.233Z"
   },
   {
    "duration": 9752,
    "start_time": "2022-06-28T13:44:09.597Z"
   },
   {
    "duration": 7717,
    "start_time": "2022-06-28T13:44:30.215Z"
   },
   {
    "duration": 8345,
    "start_time": "2022-06-28T13:44:43.496Z"
   },
   {
    "duration": 9456,
    "start_time": "2022-06-28T13:44:58.183Z"
   },
   {
    "duration": 10905,
    "start_time": "2022-06-28T13:45:14.940Z"
   },
   {
    "duration": 10863,
    "start_time": "2022-06-28T13:45:56.074Z"
   },
   {
    "duration": 10596,
    "start_time": "2022-06-28T13:46:19.133Z"
   },
   {
    "duration": 10570,
    "start_time": "2022-06-28T13:46:47.174Z"
   },
   {
    "duration": 10777,
    "start_time": "2022-06-28T13:47:04.653Z"
   },
   {
    "duration": 10502,
    "start_time": "2022-06-28T13:47:24.441Z"
   },
   {
    "duration": 10756,
    "start_time": "2022-06-28T13:47:48.675Z"
   },
   {
    "duration": 7728,
    "start_time": "2022-06-28T13:48:09.521Z"
   },
   {
    "duration": 4,
    "start_time": "2022-06-28T14:25:20.881Z"
   },
   {
    "duration": 27,
    "start_time": "2022-06-28T14:25:20.887Z"
   },
   {
    "duration": 9,
    "start_time": "2022-06-28T14:25:20.916Z"
   },
   {
    "duration": 14,
    "start_time": "2022-06-28T14:25:20.926Z"
   },
   {
    "duration": 11,
    "start_time": "2022-06-28T14:25:20.942Z"
   },
   {
    "duration": 9,
    "start_time": "2022-06-28T14:25:20.954Z"
   },
   {
    "duration": 9,
    "start_time": "2022-06-28T14:25:20.965Z"
   },
   {
    "duration": 9,
    "start_time": "2022-06-28T14:25:20.975Z"
   },
   {
    "duration": 9,
    "start_time": "2022-06-28T14:25:20.986Z"
   },
   {
    "duration": 6,
    "start_time": "2022-06-28T14:25:20.996Z"
   },
   {
    "duration": 8,
    "start_time": "2022-06-28T14:25:21.003Z"
   },
   {
    "duration": 7,
    "start_time": "2022-06-28T14:25:21.013Z"
   },
   {
    "duration": 24,
    "start_time": "2022-06-28T14:25:21.022Z"
   },
   {
    "duration": 157,
    "start_time": "2022-06-28T14:25:21.048Z"
   },
   {
    "duration": 134,
    "start_time": "2022-06-28T14:25:21.206Z"
   },
   {
    "duration": 1504,
    "start_time": "2022-06-28T14:25:21.342Z"
   },
   {
    "duration": 4,
    "start_time": "2022-06-28T14:25:22.848Z"
   },
   {
    "duration": 13,
    "start_time": "2022-06-28T14:25:22.853Z"
   },
   {
    "duration": 8,
    "start_time": "2022-06-28T14:25:22.867Z"
   },
   {
    "duration": 6,
    "start_time": "2022-06-28T14:25:22.876Z"
   },
   {
    "duration": 9,
    "start_time": "2022-06-28T14:25:22.883Z"
   },
   {
    "duration": 12,
    "start_time": "2022-06-28T14:25:22.893Z"
   },
   {
    "duration": 7635,
    "start_time": "2022-06-28T14:25:22.907Z"
   },
   {
    "duration": 1989,
    "start_time": "2022-06-28T14:25:30.544Z"
   },
   {
    "duration": 3,
    "start_time": "2022-06-28T14:25:55.797Z"
   },
   {
    "duration": 17,
    "start_time": "2022-06-28T14:25:55.802Z"
   },
   {
    "duration": 10,
    "start_time": "2022-06-28T14:25:55.820Z"
   },
   {
    "duration": 12,
    "start_time": "2022-06-28T14:25:55.831Z"
   },
   {
    "duration": 5,
    "start_time": "2022-06-28T14:25:55.845Z"
   },
   {
    "duration": 14,
    "start_time": "2022-06-28T14:25:55.851Z"
   },
   {
    "duration": 14,
    "start_time": "2022-06-28T14:25:55.866Z"
   },
   {
    "duration": 8,
    "start_time": "2022-06-28T14:25:55.882Z"
   },
   {
    "duration": 8,
    "start_time": "2022-06-28T14:25:55.892Z"
   },
   {
    "duration": 11,
    "start_time": "2022-06-28T14:25:55.901Z"
   },
   {
    "duration": 6,
    "start_time": "2022-06-28T14:25:55.914Z"
   },
   {
    "duration": 9,
    "start_time": "2022-06-28T14:25:55.922Z"
   },
   {
    "duration": 27,
    "start_time": "2022-06-28T14:25:55.932Z"
   },
   {
    "duration": 148,
    "start_time": "2022-06-28T14:25:55.961Z"
   },
   {
    "duration": 151,
    "start_time": "2022-06-28T14:25:56.111Z"
   },
   {
    "duration": 1463,
    "start_time": "2022-06-28T14:25:56.264Z"
   },
   {
    "duration": 4,
    "start_time": "2022-06-28T14:25:57.728Z"
   },
   {
    "duration": 16,
    "start_time": "2022-06-28T14:25:57.734Z"
   },
   {
    "duration": 7,
    "start_time": "2022-06-28T14:25:57.751Z"
   },
   {
    "duration": 7,
    "start_time": "2022-06-28T14:25:57.759Z"
   },
   {
    "duration": 10,
    "start_time": "2022-06-28T14:25:57.768Z"
   },
   {
    "duration": 10,
    "start_time": "2022-06-28T14:25:57.779Z"
   },
   {
    "duration": 7244,
    "start_time": "2022-06-28T14:25:57.790Z"
   },
   {
    "duration": 2159,
    "start_time": "2022-06-28T14:26:05.038Z"
   },
   {
    "duration": 1789,
    "start_time": "2022-06-28T19:34:03.387Z"
   },
   {
    "duration": 15,
    "start_time": "2022-06-28T19:34:05.178Z"
   },
   {
    "duration": 12,
    "start_time": "2022-06-28T19:34:05.195Z"
   },
   {
    "duration": 10,
    "start_time": "2022-06-28T19:34:05.210Z"
   },
   {
    "duration": 3,
    "start_time": "2022-06-28T19:34:05.227Z"
   },
   {
    "duration": 11,
    "start_time": "2022-06-28T19:34:05.231Z"
   },
   {
    "duration": 18,
    "start_time": "2022-06-28T19:34:05.244Z"
   },
   {
    "duration": 11,
    "start_time": "2022-06-28T19:34:05.263Z"
   },
   {
    "duration": 7,
    "start_time": "2022-06-28T19:34:05.276Z"
   },
   {
    "duration": 5,
    "start_time": "2022-06-28T19:34:05.286Z"
   },
   {
    "duration": 10,
    "start_time": "2022-06-28T19:34:05.292Z"
   },
   {
    "duration": 9,
    "start_time": "2022-06-28T19:34:05.304Z"
   },
   {
    "duration": 26,
    "start_time": "2022-06-28T19:34:05.315Z"
   },
   {
    "duration": 184,
    "start_time": "2022-06-28T19:34:05.343Z"
   },
   {
    "duration": 141,
    "start_time": "2022-06-28T19:34:05.528Z"
   },
   {
    "duration": 1565,
    "start_time": "2022-06-28T19:34:05.671Z"
   },
   {
    "duration": 4,
    "start_time": "2022-06-28T19:34:07.238Z"
   },
   {
    "duration": 37,
    "start_time": "2022-06-28T19:34:07.244Z"
   },
   {
    "duration": 8,
    "start_time": "2022-06-28T19:34:07.282Z"
   },
   {
    "duration": 8,
    "start_time": "2022-06-28T19:34:07.291Z"
   },
   {
    "duration": 13,
    "start_time": "2022-06-28T19:34:07.301Z"
   },
   {
    "duration": 14,
    "start_time": "2022-06-28T19:34:07.315Z"
   },
   {
    "duration": 176,
    "start_time": "2022-06-28T19:34:07.331Z"
   },
   {
    "duration": 0,
    "start_time": "2022-06-28T19:34:07.509Z"
   },
   {
    "duration": 4,
    "start_time": "2022-06-28T19:35:30.967Z"
   },
   {
    "duration": 3,
    "start_time": "2022-06-28T19:35:38.602Z"
   },
   {
    "duration": 20,
    "start_time": "2022-06-28T19:35:38.607Z"
   },
   {
    "duration": 9,
    "start_time": "2022-06-28T19:35:38.628Z"
   },
   {
    "duration": 13,
    "start_time": "2022-06-28T19:35:38.638Z"
   },
   {
    "duration": 6,
    "start_time": "2022-06-28T19:35:38.653Z"
   },
   {
    "duration": 6,
    "start_time": "2022-06-28T19:35:38.660Z"
   },
   {
    "duration": 6,
    "start_time": "2022-06-28T19:35:38.668Z"
   },
   {
    "duration": 8,
    "start_time": "2022-06-28T19:35:38.676Z"
   },
   {
    "duration": 11,
    "start_time": "2022-06-28T19:35:38.686Z"
   },
   {
    "duration": 5,
    "start_time": "2022-06-28T19:35:38.698Z"
   },
   {
    "duration": 24,
    "start_time": "2022-06-28T19:35:38.704Z"
   },
   {
    "duration": 7,
    "start_time": "2022-06-28T19:35:38.730Z"
   },
   {
    "duration": 32,
    "start_time": "2022-06-28T19:35:38.738Z"
   },
   {
    "duration": 153,
    "start_time": "2022-06-28T19:35:38.771Z"
   },
   {
    "duration": 214,
    "start_time": "2022-06-28T19:35:38.927Z"
   },
   {
    "duration": 1384,
    "start_time": "2022-06-28T19:35:39.142Z"
   },
   {
    "duration": 4,
    "start_time": "2022-06-28T19:35:40.527Z"
   },
   {
    "duration": 15,
    "start_time": "2022-06-28T19:35:40.533Z"
   },
   {
    "duration": 7,
    "start_time": "2022-06-28T19:35:40.549Z"
   },
   {
    "duration": 8,
    "start_time": "2022-06-28T19:35:40.558Z"
   },
   {
    "duration": 12,
    "start_time": "2022-06-28T19:35:40.567Z"
   },
   {
    "duration": 11,
    "start_time": "2022-06-28T19:35:40.581Z"
   },
   {
    "duration": 7350,
    "start_time": "2022-06-28T19:35:40.594Z"
   },
   {
    "duration": 1941,
    "start_time": "2022-06-28T19:35:47.948Z"
   },
   {
    "duration": 6049,
    "start_time": "2022-06-28T19:36:02.498Z"
   },
   {
    "duration": 4539,
    "start_time": "2022-06-28T19:36:35.701Z"
   },
   {
    "duration": 7414,
    "start_time": "2022-06-28T19:36:48.536Z"
   },
   {
    "duration": 6,
    "start_time": "2022-06-28T19:37:26.468Z"
   },
   {
    "duration": 3,
    "start_time": "2022-06-28T19:37:33.503Z"
   },
   {
    "duration": 42,
    "start_time": "2022-06-28T19:37:33.511Z"
   },
   {
    "duration": 14,
    "start_time": "2022-06-28T19:37:33.555Z"
   },
   {
    "duration": 25,
    "start_time": "2022-06-28T19:37:33.571Z"
   },
   {
    "duration": 25,
    "start_time": "2022-06-28T19:37:33.598Z"
   },
   {
    "duration": 19,
    "start_time": "2022-06-28T19:37:33.625Z"
   },
   {
    "duration": 23,
    "start_time": "2022-06-28T19:37:33.646Z"
   },
   {
    "duration": 17,
    "start_time": "2022-06-28T19:37:33.670Z"
   },
   {
    "duration": 30,
    "start_time": "2022-06-28T19:37:33.689Z"
   },
   {
    "duration": 24,
    "start_time": "2022-06-28T19:37:33.721Z"
   },
   {
    "duration": 7,
    "start_time": "2022-06-28T19:37:33.746Z"
   },
   {
    "duration": 6,
    "start_time": "2022-06-28T19:37:33.755Z"
   },
   {
    "duration": 25,
    "start_time": "2022-06-28T19:37:33.763Z"
   },
   {
    "duration": 151,
    "start_time": "2022-06-28T19:37:33.790Z"
   },
   {
    "duration": 127,
    "start_time": "2022-06-28T19:37:33.944Z"
   },
   {
    "duration": 1565,
    "start_time": "2022-06-28T19:37:34.073Z"
   },
   {
    "duration": 3,
    "start_time": "2022-06-28T19:37:35.640Z"
   },
   {
    "duration": 20,
    "start_time": "2022-06-28T19:37:35.645Z"
   },
   {
    "duration": 8,
    "start_time": "2022-06-28T19:37:35.666Z"
   },
   {
    "duration": 8,
    "start_time": "2022-06-28T19:37:35.676Z"
   },
   {
    "duration": 9,
    "start_time": "2022-06-28T19:37:35.686Z"
   },
   {
    "duration": 15,
    "start_time": "2022-06-28T19:37:35.697Z"
   },
   {
    "duration": 7914,
    "start_time": "2022-06-28T19:37:35.713Z"
   },
   {
    "duration": 1977,
    "start_time": "2022-06-28T19:37:43.630Z"
   },
   {
    "duration": 7107,
    "start_time": "2022-06-28T19:38:16.237Z"
   },
   {
    "duration": 7467,
    "start_time": "2022-06-28T19:38:34.262Z"
   },
   {
    "duration": 7264,
    "start_time": "2022-06-28T19:38:55.666Z"
   },
   {
    "duration": 7134,
    "start_time": "2022-06-28T19:39:12.003Z"
   },
   {
    "duration": 5945,
    "start_time": "2022-06-28T19:39:30.491Z"
   },
   {
    "duration": 5495,
    "start_time": "2022-06-28T19:39:50.538Z"
   },
   {
    "duration": 5825,
    "start_time": "2022-06-28T19:40:04.109Z"
   },
   {
    "duration": 7158,
    "start_time": "2022-06-28T19:40:27.986Z"
   },
   {
    "duration": 7234,
    "start_time": "2022-06-28T19:40:42.798Z"
   },
   {
    "duration": 7330,
    "start_time": "2022-06-28T19:41:06.314Z"
   },
   {
    "duration": 7417,
    "start_time": "2022-06-28T19:41:21.035Z"
   },
   {
    "duration": 9167,
    "start_time": "2022-06-28T19:41:35.774Z"
   },
   {
    "duration": 9287,
    "start_time": "2022-06-28T19:42:10.440Z"
   },
   {
    "duration": 7252,
    "start_time": "2022-06-28T19:42:29.586Z"
   },
   {
    "duration": 7533,
    "start_time": "2022-06-28T19:42:45.910Z"
   },
   {
    "duration": 9058,
    "start_time": "2022-06-28T19:43:02.669Z"
   },
   {
    "duration": 5559,
    "start_time": "2022-06-28T19:43:27.670Z"
   },
   {
    "duration": 7145,
    "start_time": "2022-06-28T19:43:39.486Z"
   },
   {
    "duration": 7163,
    "start_time": "2022-06-28T19:43:55.582Z"
   },
   {
    "duration": 6835,
    "start_time": "2022-06-28T19:44:12.798Z"
   },
   {
    "duration": 5,
    "start_time": "2022-06-28T19:44:33.878Z"
   },
   {
    "duration": 7057,
    "start_time": "2022-06-28T19:44:43.879Z"
   },
   {
    "duration": 7564,
    "start_time": "2022-06-28T19:45:02.585Z"
   },
   {
    "duration": 7367,
    "start_time": "2022-06-28T19:45:17.570Z"
   },
   {
    "duration": 7038,
    "start_time": "2022-06-28T19:45:44.606Z"
   },
   {
    "duration": 6760,
    "start_time": "2022-06-28T19:45:59.777Z"
   },
   {
    "duration": 6552,
    "start_time": "2022-06-28T19:46:13.985Z"
   },
   {
    "duration": 6865,
    "start_time": "2022-06-28T19:46:26.773Z"
   },
   {
    "duration": 6985,
    "start_time": "2022-06-28T19:46:42.064Z"
   },
   {
    "duration": 7444,
    "start_time": "2022-06-28T19:46:58.784Z"
   },
   {
    "duration": 7137,
    "start_time": "2022-06-28T19:47:24.999Z"
   },
   {
    "duration": 7827,
    "start_time": "2022-06-28T19:47:38.817Z"
   },
   {
    "duration": 7149,
    "start_time": "2022-06-28T19:47:54.191Z"
   },
   {
    "duration": 7373,
    "start_time": "2022-06-28T19:48:08.068Z"
   },
   {
    "duration": 7217,
    "start_time": "2022-06-28T19:48:25.728Z"
   },
   {
    "duration": 6,
    "start_time": "2022-06-28T19:48:57.133Z"
   },
   {
    "duration": 6,
    "start_time": "2022-06-28T19:49:08.809Z"
   },
   {
    "duration": 10,
    "start_time": "2022-06-28T19:49:11.368Z"
   },
   {
    "duration": 6966,
    "start_time": "2022-06-28T19:49:15.581Z"
   },
   {
    "duration": 8166,
    "start_time": "2022-06-28T19:49:34.165Z"
   },
   {
    "duration": 8757,
    "start_time": "2022-06-28T19:50:00.475Z"
   },
   {
    "duration": 9492,
    "start_time": "2022-06-28T19:50:18.738Z"
   },
   {
    "duration": 9124,
    "start_time": "2022-06-28T19:50:36.318Z"
   },
   {
    "duration": 9544,
    "start_time": "2022-06-28T19:50:57.001Z"
   },
   {
    "duration": 8886,
    "start_time": "2022-06-28T19:51:15.052Z"
   },
   {
    "duration": 9080,
    "start_time": "2022-06-28T19:51:30.655Z"
   },
   {
    "duration": 3,
    "start_time": "2022-06-28T19:51:59.799Z"
   },
   {
    "duration": 21,
    "start_time": "2022-06-28T19:51:59.804Z"
   },
   {
    "duration": 10,
    "start_time": "2022-06-28T19:51:59.826Z"
   },
   {
    "duration": 11,
    "start_time": "2022-06-28T19:51:59.838Z"
   },
   {
    "duration": 4,
    "start_time": "2022-06-28T19:51:59.851Z"
   },
   {
    "duration": 5,
    "start_time": "2022-06-28T19:51:59.856Z"
   },
   {
    "duration": 6,
    "start_time": "2022-06-28T19:51:59.863Z"
   },
   {
    "duration": 6,
    "start_time": "2022-06-28T19:51:59.871Z"
   },
   {
    "duration": 4,
    "start_time": "2022-06-28T19:51:59.879Z"
   },
   {
    "duration": 6,
    "start_time": "2022-06-28T19:51:59.884Z"
   },
   {
    "duration": 38,
    "start_time": "2022-06-28T19:51:59.891Z"
   },
   {
    "duration": 5,
    "start_time": "2022-06-28T19:51:59.930Z"
   },
   {
    "duration": 20,
    "start_time": "2022-06-28T19:51:59.937Z"
   },
   {
    "duration": 164,
    "start_time": "2022-06-28T19:51:59.958Z"
   },
   {
    "duration": 135,
    "start_time": "2022-06-28T19:52:00.124Z"
   },
   {
    "duration": 1505,
    "start_time": "2022-06-28T19:52:00.260Z"
   },
   {
    "duration": 4,
    "start_time": "2022-06-28T19:52:01.767Z"
   },
   {
    "duration": 16,
    "start_time": "2022-06-28T19:52:01.772Z"
   },
   {
    "duration": 9,
    "start_time": "2022-06-28T19:52:01.790Z"
   },
   {
    "duration": 18,
    "start_time": "2022-06-28T19:52:01.801Z"
   },
   {
    "duration": 16,
    "start_time": "2022-06-28T19:52:01.821Z"
   },
   {
    "duration": 22,
    "start_time": "2022-06-28T19:52:01.839Z"
   },
   {
    "duration": 9774,
    "start_time": "2022-06-28T19:52:01.863Z"
   },
   {
    "duration": 2032,
    "start_time": "2022-06-28T19:52:11.641Z"
   },
   {
    "duration": 1092,
    "start_time": "2022-06-28T19:53:19.354Z"
   },
   {
    "duration": 1157,
    "start_time": "2022-06-28T19:53:33.241Z"
   },
   {
    "duration": 1158,
    "start_time": "2022-06-28T19:53:44.500Z"
   },
   {
    "duration": 1168,
    "start_time": "2022-06-28T19:53:55.232Z"
   },
   {
    "duration": 1137,
    "start_time": "2022-06-28T19:54:01.939Z"
   },
   {
    "duration": 1174,
    "start_time": "2022-06-28T19:54:08.192Z"
   },
   {
    "duration": 1147,
    "start_time": "2022-06-28T19:54:16.558Z"
   },
   {
    "duration": 1159,
    "start_time": "2022-06-28T19:54:23.692Z"
   },
   {
    "duration": 1170,
    "start_time": "2022-06-28T19:54:30.275Z"
   },
   {
    "duration": 1177,
    "start_time": "2022-06-28T19:54:36.509Z"
   },
   {
    "duration": 1110,
    "start_time": "2022-06-28T19:54:42.978Z"
   },
   {
    "duration": 1516,
    "start_time": "2022-06-28T19:55:10.054Z"
   },
   {
    "duration": 3,
    "start_time": "2022-06-28T19:55:15.446Z"
   },
   {
    "duration": 20,
    "start_time": "2022-06-28T19:55:15.451Z"
   },
   {
    "duration": 10,
    "start_time": "2022-06-28T19:55:15.473Z"
   },
   {
    "duration": 13,
    "start_time": "2022-06-28T19:55:15.484Z"
   },
   {
    "duration": 4,
    "start_time": "2022-06-28T19:55:15.500Z"
   },
   {
    "duration": 7,
    "start_time": "2022-06-28T19:55:15.506Z"
   },
   {
    "duration": 11,
    "start_time": "2022-06-28T19:55:15.514Z"
   },
   {
    "duration": 8,
    "start_time": "2022-06-28T19:55:15.527Z"
   },
   {
    "duration": 5,
    "start_time": "2022-06-28T19:55:15.536Z"
   },
   {
    "duration": 6,
    "start_time": "2022-06-28T19:55:15.543Z"
   },
   {
    "duration": 8,
    "start_time": "2022-06-28T19:55:15.550Z"
   },
   {
    "duration": 7,
    "start_time": "2022-06-28T19:55:15.559Z"
   },
   {
    "duration": 26,
    "start_time": "2022-06-28T19:55:15.568Z"
   },
   {
    "duration": 165,
    "start_time": "2022-06-28T19:55:15.626Z"
   },
   {
    "duration": 129,
    "start_time": "2022-06-28T19:55:15.793Z"
   },
   {
    "duration": 1623,
    "start_time": "2022-06-28T19:55:15.928Z"
   },
   {
    "duration": 4,
    "start_time": "2022-06-28T19:55:17.553Z"
   },
   {
    "duration": 14,
    "start_time": "2022-06-28T19:55:17.559Z"
   },
   {
    "duration": 5,
    "start_time": "2022-06-28T19:55:17.575Z"
   },
   {
    "duration": 7,
    "start_time": "2022-06-28T19:55:17.581Z"
   },
   {
    "duration": 11,
    "start_time": "2022-06-28T19:55:17.590Z"
   },
   {
    "duration": 32,
    "start_time": "2022-06-28T19:55:17.603Z"
   },
   {
    "duration": 9392,
    "start_time": "2022-06-28T19:55:17.637Z"
   },
   {
    "duration": 1477,
    "start_time": "2022-06-28T19:55:27.030Z"
   },
   {
    "duration": 3,
    "start_time": "2022-06-28T19:56:12.457Z"
   },
   {
    "duration": 21,
    "start_time": "2022-06-28T19:56:12.462Z"
   },
   {
    "duration": 10,
    "start_time": "2022-06-28T19:56:12.484Z"
   },
   {
    "duration": 17,
    "start_time": "2022-06-28T19:56:12.495Z"
   },
   {
    "duration": 14,
    "start_time": "2022-06-28T19:56:12.514Z"
   },
   {
    "duration": 15,
    "start_time": "2022-06-28T19:56:12.530Z"
   },
   {
    "duration": 14,
    "start_time": "2022-06-28T19:56:12.546Z"
   },
   {
    "duration": 9,
    "start_time": "2022-06-28T19:56:12.562Z"
   },
   {
    "duration": 5,
    "start_time": "2022-06-28T19:56:12.574Z"
   },
   {
    "duration": 6,
    "start_time": "2022-06-28T19:56:12.581Z"
   },
   {
    "duration": 7,
    "start_time": "2022-06-28T19:56:12.589Z"
   },
   {
    "duration": 8,
    "start_time": "2022-06-28T19:56:12.597Z"
   },
   {
    "duration": 25,
    "start_time": "2022-06-28T19:56:12.606Z"
   },
   {
    "duration": 160,
    "start_time": "2022-06-28T19:56:12.633Z"
   },
   {
    "duration": 137,
    "start_time": "2022-06-28T19:56:12.795Z"
   },
   {
    "duration": 1554,
    "start_time": "2022-06-28T19:56:12.934Z"
   },
   {
    "duration": 4,
    "start_time": "2022-06-28T19:56:14.489Z"
   },
   {
    "duration": 13,
    "start_time": "2022-06-28T19:56:14.495Z"
   },
   {
    "duration": 21,
    "start_time": "2022-06-28T19:56:14.509Z"
   },
   {
    "duration": 7,
    "start_time": "2022-06-28T19:56:14.531Z"
   },
   {
    "duration": 9,
    "start_time": "2022-06-28T19:56:14.540Z"
   },
   {
    "duration": 12,
    "start_time": "2022-06-28T19:56:14.550Z"
   },
   {
    "duration": 9488,
    "start_time": "2022-06-28T19:56:14.563Z"
   },
   {
    "duration": 1608,
    "start_time": "2022-06-28T19:56:24.054Z"
   },
   {
    "duration": 4,
    "start_time": "2022-06-28T19:56:37.724Z"
   },
   {
    "duration": 20,
    "start_time": "2022-06-28T19:56:37.730Z"
   },
   {
    "duration": 12,
    "start_time": "2022-06-28T19:56:37.752Z"
   },
   {
    "duration": 16,
    "start_time": "2022-06-28T19:56:37.765Z"
   },
   {
    "duration": 8,
    "start_time": "2022-06-28T19:56:37.783Z"
   },
   {
    "duration": 7,
    "start_time": "2022-06-28T19:56:37.792Z"
   },
   {
    "duration": 8,
    "start_time": "2022-06-28T19:56:37.801Z"
   },
   {
    "duration": 18,
    "start_time": "2022-06-28T19:56:37.811Z"
   },
   {
    "duration": 4,
    "start_time": "2022-06-28T19:56:37.831Z"
   },
   {
    "duration": 9,
    "start_time": "2022-06-28T19:56:37.836Z"
   },
   {
    "duration": 7,
    "start_time": "2022-06-28T19:56:37.848Z"
   },
   {
    "duration": 7,
    "start_time": "2022-06-28T19:56:37.857Z"
   },
   {
    "duration": 32,
    "start_time": "2022-06-28T19:56:37.865Z"
   },
   {
    "duration": 180,
    "start_time": "2022-06-28T19:56:37.899Z"
   },
   {
    "duration": 132,
    "start_time": "2022-06-28T19:56:38.081Z"
   },
   {
    "duration": 1432,
    "start_time": "2022-06-28T19:56:38.215Z"
   },
   {
    "duration": 4,
    "start_time": "2022-06-28T19:56:39.648Z"
   },
   {
    "duration": 14,
    "start_time": "2022-06-28T19:56:39.654Z"
   },
   {
    "duration": 7,
    "start_time": "2022-06-28T19:56:39.669Z"
   },
   {
    "duration": 9,
    "start_time": "2022-06-28T19:56:39.678Z"
   },
   {
    "duration": 10,
    "start_time": "2022-06-28T19:56:39.688Z"
   },
   {
    "duration": 29,
    "start_time": "2022-06-28T19:56:39.700Z"
   },
   {
    "duration": 9301,
    "start_time": "2022-06-28T19:56:39.732Z"
   },
   {
    "duration": 1488,
    "start_time": "2022-06-28T19:56:49.034Z"
   },
   {
    "duration": 3,
    "start_time": "2022-06-28T19:57:18.415Z"
   },
   {
    "duration": 9472,
    "start_time": "2022-06-28T19:57:37.755Z"
   },
   {
    "duration": 4,
    "start_time": "2022-06-28T19:57:59.865Z"
   },
   {
    "duration": 41,
    "start_time": "2022-06-28T19:57:59.870Z"
   },
   {
    "duration": 9,
    "start_time": "2022-06-28T19:57:59.912Z"
   },
   {
    "duration": 22,
    "start_time": "2022-06-28T19:57:59.923Z"
   },
   {
    "duration": 10,
    "start_time": "2022-06-28T19:57:59.947Z"
   },
   {
    "duration": 17,
    "start_time": "2022-06-28T19:57:59.958Z"
   },
   {
    "duration": 23,
    "start_time": "2022-06-28T19:57:59.977Z"
   },
   {
    "duration": 24,
    "start_time": "2022-06-28T19:58:00.002Z"
   },
   {
    "duration": 30,
    "start_time": "2022-06-28T19:58:00.028Z"
   },
   {
    "duration": 22,
    "start_time": "2022-06-28T19:58:00.060Z"
   },
   {
    "duration": 32,
    "start_time": "2022-06-28T19:58:00.084Z"
   },
   {
    "duration": 19,
    "start_time": "2022-06-28T19:58:00.117Z"
   },
   {
    "duration": 51,
    "start_time": "2022-06-28T19:58:00.138Z"
   },
   {
    "duration": 163,
    "start_time": "2022-06-28T19:58:00.192Z"
   },
   {
    "duration": 145,
    "start_time": "2022-06-28T19:58:00.357Z"
   },
   {
    "duration": 1628,
    "start_time": "2022-06-28T19:58:00.503Z"
   },
   {
    "duration": 4,
    "start_time": "2022-06-28T19:58:02.133Z"
   },
   {
    "duration": 13,
    "start_time": "2022-06-28T19:58:02.139Z"
   },
   {
    "duration": 8,
    "start_time": "2022-06-28T19:58:02.153Z"
   },
   {
    "duration": 18,
    "start_time": "2022-06-28T19:58:02.163Z"
   },
   {
    "duration": 14,
    "start_time": "2022-06-28T19:58:02.183Z"
   },
   {
    "duration": 15,
    "start_time": "2022-06-28T19:58:02.199Z"
   },
   {
    "duration": 10227,
    "start_time": "2022-06-28T19:58:02.215Z"
   },
   {
    "duration": 1560,
    "start_time": "2022-06-28T19:58:12.443Z"
   },
   {
    "duration": 7302,
    "start_time": "2022-06-28T19:58:29.352Z"
   },
   {
    "duration": 7375,
    "start_time": "2022-06-28T19:58:48.854Z"
   },
   {
    "duration": 6384,
    "start_time": "2022-06-28T19:59:05.361Z"
   },
   {
    "duration": 8229,
    "start_time": "2022-06-28T19:59:17.805Z"
   },
   {
    "duration": 6397,
    "start_time": "2022-06-28T19:59:41.250Z"
   },
   {
    "duration": 7369,
    "start_time": "2022-06-28T19:59:57.876Z"
   },
   {
    "duration": 9579,
    "start_time": "2022-06-28T20:00:14.366Z"
   },
   {
    "duration": 4,
    "start_time": "2022-06-28T20:00:49.495Z"
   },
   {
    "duration": 20,
    "start_time": "2022-06-28T20:00:49.501Z"
   },
   {
    "duration": 9,
    "start_time": "2022-06-28T20:00:49.523Z"
   },
   {
    "duration": 12,
    "start_time": "2022-06-28T20:00:49.533Z"
   },
   {
    "duration": 5,
    "start_time": "2022-06-28T20:00:49.547Z"
   },
   {
    "duration": 6,
    "start_time": "2022-06-28T20:00:49.554Z"
   },
   {
    "duration": 8,
    "start_time": "2022-06-28T20:00:49.562Z"
   },
   {
    "duration": 6,
    "start_time": "2022-06-28T20:00:49.571Z"
   },
   {
    "duration": 6,
    "start_time": "2022-06-28T20:00:49.578Z"
   },
   {
    "duration": 5,
    "start_time": "2022-06-28T20:00:49.585Z"
   },
   {
    "duration": 6,
    "start_time": "2022-06-28T20:00:49.593Z"
   },
   {
    "duration": 30,
    "start_time": "2022-06-28T20:00:49.601Z"
   },
   {
    "duration": 25,
    "start_time": "2022-06-28T20:00:49.632Z"
   },
   {
    "duration": 159,
    "start_time": "2022-06-28T20:00:49.658Z"
   },
   {
    "duration": 125,
    "start_time": "2022-06-28T20:00:49.819Z"
   },
   {
    "duration": 1399,
    "start_time": "2022-06-28T20:00:49.946Z"
   },
   {
    "duration": 4,
    "start_time": "2022-06-28T20:00:51.346Z"
   },
   {
    "duration": 11,
    "start_time": "2022-06-28T20:00:51.351Z"
   },
   {
    "duration": 24,
    "start_time": "2022-06-28T20:00:51.364Z"
   },
   {
    "duration": 15,
    "start_time": "2022-06-28T20:00:51.390Z"
   },
   {
    "duration": 18,
    "start_time": "2022-06-28T20:00:51.407Z"
   },
   {
    "duration": 25,
    "start_time": "2022-06-28T20:00:51.427Z"
   },
   {
    "duration": 9577,
    "start_time": "2022-06-28T20:00:51.454Z"
   },
   {
    "duration": 1557,
    "start_time": "2022-06-28T20:01:01.034Z"
   },
   {
    "duration": 10517,
    "start_time": "2022-06-28T20:02:56.234Z"
   },
   {
    "duration": 10482,
    "start_time": "2022-06-28T20:03:20.156Z"
   },
   {
    "duration": 4,
    "start_time": "2022-06-28T20:03:55.526Z"
   },
   {
    "duration": 22,
    "start_time": "2022-06-28T20:03:55.532Z"
   },
   {
    "duration": 11,
    "start_time": "2022-06-28T20:03:55.556Z"
   },
   {
    "duration": 14,
    "start_time": "2022-06-28T20:03:55.568Z"
   },
   {
    "duration": 4,
    "start_time": "2022-06-28T20:03:55.584Z"
   },
   {
    "duration": 6,
    "start_time": "2022-06-28T20:03:55.590Z"
   },
   {
    "duration": 7,
    "start_time": "2022-06-28T20:03:55.598Z"
   },
   {
    "duration": 7,
    "start_time": "2022-06-28T20:03:55.628Z"
   },
   {
    "duration": 8,
    "start_time": "2022-06-28T20:03:55.636Z"
   },
   {
    "duration": 8,
    "start_time": "2022-06-28T20:03:55.645Z"
   },
   {
    "duration": 9,
    "start_time": "2022-06-28T20:03:55.655Z"
   },
   {
    "duration": 7,
    "start_time": "2022-06-28T20:03:55.666Z"
   },
   {
    "duration": 53,
    "start_time": "2022-06-28T20:03:55.675Z"
   },
   {
    "duration": 172,
    "start_time": "2022-06-28T20:03:55.732Z"
   },
   {
    "duration": 140,
    "start_time": "2022-06-28T20:03:55.905Z"
   },
   {
    "duration": 1716,
    "start_time": "2022-06-28T20:03:56.047Z"
   },
   {
    "duration": 5,
    "start_time": "2022-06-28T20:03:57.765Z"
   },
   {
    "duration": 12,
    "start_time": "2022-06-28T20:03:57.772Z"
   },
   {
    "duration": 6,
    "start_time": "2022-06-28T20:03:57.787Z"
   },
   {
    "duration": 8,
    "start_time": "2022-06-28T20:03:57.795Z"
   },
   {
    "duration": 27,
    "start_time": "2022-06-28T20:03:57.804Z"
   },
   {
    "duration": 14,
    "start_time": "2022-06-28T20:03:57.832Z"
   },
   {
    "duration": 11694,
    "start_time": "2022-06-28T20:03:57.848Z"
   },
   {
    "duration": 1655,
    "start_time": "2022-06-28T20:04:09.544Z"
   },
   {
    "duration": 4,
    "start_time": "2022-06-28T20:04:15.113Z"
   },
   {
    "duration": 21,
    "start_time": "2022-06-28T20:04:15.119Z"
   },
   {
    "duration": 10,
    "start_time": "2022-06-28T20:04:15.142Z"
   },
   {
    "duration": 17,
    "start_time": "2022-06-28T20:04:15.153Z"
   },
   {
    "duration": 7,
    "start_time": "2022-06-28T20:04:15.172Z"
   },
   {
    "duration": 7,
    "start_time": "2022-06-28T20:04:15.180Z"
   },
   {
    "duration": 8,
    "start_time": "2022-06-28T20:04:15.189Z"
   },
   {
    "duration": 6,
    "start_time": "2022-06-28T20:04:15.199Z"
   },
   {
    "duration": 6,
    "start_time": "2022-06-28T20:04:15.207Z"
   },
   {
    "duration": 13,
    "start_time": "2022-06-28T20:04:15.214Z"
   },
   {
    "duration": 12,
    "start_time": "2022-06-28T20:04:15.229Z"
   },
   {
    "duration": 10,
    "start_time": "2022-06-28T20:04:15.243Z"
   },
   {
    "duration": 23,
    "start_time": "2022-06-28T20:04:15.256Z"
   },
   {
    "duration": 165,
    "start_time": "2022-06-28T20:04:15.280Z"
   },
   {
    "duration": 134,
    "start_time": "2022-06-28T20:04:15.447Z"
   },
   {
    "duration": 1505,
    "start_time": "2022-06-28T20:04:15.582Z"
   },
   {
    "duration": 4,
    "start_time": "2022-06-28T20:04:17.088Z"
   },
   {
    "duration": 13,
    "start_time": "2022-06-28T20:04:17.094Z"
   },
   {
    "duration": 7,
    "start_time": "2022-06-28T20:04:17.109Z"
   },
   {
    "duration": 4,
    "start_time": "2022-06-28T20:04:17.127Z"
   },
   {
    "duration": 10,
    "start_time": "2022-06-28T20:04:17.133Z"
   },
   {
    "duration": 10,
    "start_time": "2022-06-28T20:04:17.144Z"
   },
   {
    "duration": 9490,
    "start_time": "2022-06-28T20:04:17.156Z"
   },
   {
    "duration": 1591,
    "start_time": "2022-06-28T20:04:26.648Z"
   },
   {
    "duration": 3,
    "start_time": "2022-06-28T20:04:40.990Z"
   },
   {
    "duration": 23,
    "start_time": "2022-06-28T20:04:40.995Z"
   },
   {
    "duration": 9,
    "start_time": "2022-06-28T20:04:41.020Z"
   },
   {
    "duration": 11,
    "start_time": "2022-06-28T20:04:41.031Z"
   },
   {
    "duration": 4,
    "start_time": "2022-06-28T20:04:41.044Z"
   },
   {
    "duration": 5,
    "start_time": "2022-06-28T20:04:41.050Z"
   },
   {
    "duration": 9,
    "start_time": "2022-06-28T20:04:41.057Z"
   },
   {
    "duration": 7,
    "start_time": "2022-06-28T20:04:41.067Z"
   },
   {
    "duration": 7,
    "start_time": "2022-06-28T20:04:41.075Z"
   },
   {
    "duration": 5,
    "start_time": "2022-06-28T20:04:41.084Z"
   },
   {
    "duration": 7,
    "start_time": "2022-06-28T20:04:41.091Z"
   },
   {
    "duration": 30,
    "start_time": "2022-06-28T20:04:41.099Z"
   },
   {
    "duration": 24,
    "start_time": "2022-06-28T20:04:41.131Z"
   },
   {
    "duration": 182,
    "start_time": "2022-06-28T20:04:41.158Z"
   },
   {
    "duration": 140,
    "start_time": "2022-06-28T20:04:41.342Z"
   },
   {
    "duration": 1646,
    "start_time": "2022-06-28T20:04:41.484Z"
   },
   {
    "duration": 5,
    "start_time": "2022-06-28T20:04:43.131Z"
   },
   {
    "duration": 17,
    "start_time": "2022-06-28T20:04:43.137Z"
   },
   {
    "duration": 4,
    "start_time": "2022-06-28T20:04:43.156Z"
   },
   {
    "duration": 6,
    "start_time": "2022-06-28T20:04:43.162Z"
   },
   {
    "duration": 9,
    "start_time": "2022-06-28T20:04:43.169Z"
   },
   {
    "duration": 10,
    "start_time": "2022-06-28T20:04:43.179Z"
   },
   {
    "duration": 9653,
    "start_time": "2022-06-28T20:04:43.191Z"
   },
   {
    "duration": 1658,
    "start_time": "2022-06-28T20:04:52.846Z"
   },
   {
    "duration": 4,
    "start_time": "2022-06-28T20:05:37.424Z"
   },
   {
    "duration": 20,
    "start_time": "2022-06-28T20:05:37.431Z"
   },
   {
    "duration": 10,
    "start_time": "2022-06-28T20:05:37.453Z"
   },
   {
    "duration": 12,
    "start_time": "2022-06-28T20:05:37.465Z"
   },
   {
    "duration": 6,
    "start_time": "2022-06-28T20:05:37.480Z"
   },
   {
    "duration": 10,
    "start_time": "2022-06-28T20:05:37.488Z"
   },
   {
    "duration": 11,
    "start_time": "2022-06-28T20:05:37.500Z"
   },
   {
    "duration": 17,
    "start_time": "2022-06-28T20:05:37.512Z"
   },
   {
    "duration": 8,
    "start_time": "2022-06-28T20:05:37.531Z"
   },
   {
    "duration": 14,
    "start_time": "2022-06-28T20:05:37.541Z"
   },
   {
    "duration": 9,
    "start_time": "2022-06-28T20:05:37.557Z"
   },
   {
    "duration": 12,
    "start_time": "2022-06-28T20:05:37.567Z"
   },
   {
    "duration": 24,
    "start_time": "2022-06-28T20:05:37.581Z"
   },
   {
    "duration": 151,
    "start_time": "2022-06-28T20:05:37.607Z"
   },
   {
    "duration": 132,
    "start_time": "2022-06-28T20:05:37.759Z"
   },
   {
    "duration": 1434,
    "start_time": "2022-06-28T20:05:37.893Z"
   },
   {
    "duration": 4,
    "start_time": "2022-06-28T20:05:39.328Z"
   },
   {
    "duration": 13,
    "start_time": "2022-06-28T20:05:39.334Z"
   },
   {
    "duration": 6,
    "start_time": "2022-06-28T20:05:39.348Z"
   },
   {
    "duration": 5,
    "start_time": "2022-06-28T20:05:39.355Z"
   },
   {
    "duration": 8,
    "start_time": "2022-06-28T20:05:39.362Z"
   },
   {
    "duration": 9,
    "start_time": "2022-06-28T20:05:39.371Z"
   },
   {
    "duration": 9371,
    "start_time": "2022-06-28T20:05:39.382Z"
   },
   {
    "duration": 1500,
    "start_time": "2022-06-28T20:05:48.828Z"
   },
   {
    "duration": 9211,
    "start_time": "2022-06-28T20:08:32.538Z"
   },
   {
    "duration": 9402,
    "start_time": "2022-06-28T20:09:01.944Z"
   },
   {
    "duration": 9569,
    "start_time": "2022-06-28T20:09:19.572Z"
   },
   {
    "duration": 9179,
    "start_time": "2022-06-28T20:09:41.762Z"
   },
   {
    "duration": 9138,
    "start_time": "2022-06-28T20:10:51.400Z"
   },
   {
    "duration": 9683,
    "start_time": "2022-06-28T20:11:06.873Z"
   },
   {
    "duration": 9386,
    "start_time": "2022-06-28T20:11:23.662Z"
   },
   {
    "duration": 9028,
    "start_time": "2022-06-28T20:11:41.802Z"
   },
   {
    "duration": 9193,
    "start_time": "2022-06-28T20:11:57.558Z"
   },
   {
    "duration": 9479,
    "start_time": "2022-06-28T20:12:22.060Z"
   },
   {
    "duration": 3,
    "start_time": "2022-06-28T20:12:47.964Z"
   },
   {
    "duration": 19,
    "start_time": "2022-06-28T20:12:47.969Z"
   },
   {
    "duration": 10,
    "start_time": "2022-06-28T20:12:47.990Z"
   },
   {
    "duration": 10,
    "start_time": "2022-06-28T20:12:48.002Z"
   },
   {
    "duration": 8,
    "start_time": "2022-06-28T20:12:48.015Z"
   },
   {
    "duration": 25,
    "start_time": "2022-06-28T20:12:48.024Z"
   },
   {
    "duration": 15,
    "start_time": "2022-06-28T20:12:48.051Z"
   },
   {
    "duration": 24,
    "start_time": "2022-06-28T20:12:48.068Z"
   },
   {
    "duration": 15,
    "start_time": "2022-06-28T20:12:48.094Z"
   },
   {
    "duration": 14,
    "start_time": "2022-06-28T20:12:48.110Z"
   },
   {
    "duration": 20,
    "start_time": "2022-06-28T20:12:48.126Z"
   },
   {
    "duration": 14,
    "start_time": "2022-06-28T20:12:48.147Z"
   },
   {
    "duration": 39,
    "start_time": "2022-06-28T20:12:48.162Z"
   },
   {
    "duration": 157,
    "start_time": "2022-06-28T20:12:48.204Z"
   },
   {
    "duration": 151,
    "start_time": "2022-06-28T20:12:48.363Z"
   },
   {
    "duration": 1599,
    "start_time": "2022-06-28T20:12:48.515Z"
   },
   {
    "duration": 14,
    "start_time": "2022-06-28T20:12:50.116Z"
   },
   {
    "duration": 12,
    "start_time": "2022-06-28T20:12:50.131Z"
   },
   {
    "duration": 5,
    "start_time": "2022-06-28T20:12:50.145Z"
   },
   {
    "duration": 7,
    "start_time": "2022-06-28T20:12:50.151Z"
   },
   {
    "duration": 11,
    "start_time": "2022-06-28T20:12:50.159Z"
   },
   {
    "duration": 11,
    "start_time": "2022-06-28T20:12:50.172Z"
   },
   {
    "duration": 9849,
    "start_time": "2022-06-28T20:12:50.184Z"
   },
   {
    "duration": 1535,
    "start_time": "2022-06-28T20:13:00.035Z"
   },
   {
    "duration": 8808,
    "start_time": "2022-06-28T20:13:09.620Z"
   },
   {
    "duration": 9517,
    "start_time": "2022-06-28T20:13:28.714Z"
   },
   {
    "duration": 4,
    "start_time": "2022-06-29T01:53:11.477Z"
   },
   {
    "duration": 19,
    "start_time": "2022-06-29T01:53:11.483Z"
   },
   {
    "duration": 10,
    "start_time": "2022-06-29T01:53:11.504Z"
   },
   {
    "duration": 12,
    "start_time": "2022-06-29T01:53:11.516Z"
   },
   {
    "duration": 6,
    "start_time": "2022-06-29T01:53:11.530Z"
   },
   {
    "duration": 9,
    "start_time": "2022-06-29T01:53:11.538Z"
   },
   {
    "duration": 11,
    "start_time": "2022-06-29T01:53:11.549Z"
   },
   {
    "duration": 7,
    "start_time": "2022-06-29T01:53:11.561Z"
   },
   {
    "duration": 6,
    "start_time": "2022-06-29T01:53:11.569Z"
   },
   {
    "duration": 8,
    "start_time": "2022-06-29T01:53:11.576Z"
   },
   {
    "duration": 6,
    "start_time": "2022-06-29T01:53:11.586Z"
   },
   {
    "duration": 15,
    "start_time": "2022-06-29T01:53:11.594Z"
   },
   {
    "duration": 36,
    "start_time": "2022-06-29T01:53:11.610Z"
   },
   {
    "duration": 167,
    "start_time": "2022-06-29T01:53:11.649Z"
   },
   {
    "duration": 135,
    "start_time": "2022-06-29T01:53:11.826Z"
   },
   {
    "duration": 1480,
    "start_time": "2022-06-29T01:53:11.962Z"
   },
   {
    "duration": 4,
    "start_time": "2022-06-29T01:53:13.444Z"
   },
   {
    "duration": 13,
    "start_time": "2022-06-29T01:53:13.449Z"
   },
   {
    "duration": 9,
    "start_time": "2022-06-29T01:53:13.463Z"
   },
   {
    "duration": 7,
    "start_time": "2022-06-29T01:53:13.473Z"
   },
   {
    "duration": 9,
    "start_time": "2022-06-29T01:53:13.482Z"
   },
   {
    "duration": 36,
    "start_time": "2022-06-29T01:53:13.492Z"
   },
   {
    "duration": 9603,
    "start_time": "2022-06-29T01:53:13.530Z"
   },
   {
    "duration": 1546,
    "start_time": "2022-06-29T01:53:23.134Z"
   },
   {
    "duration": 9534,
    "start_time": "2022-06-29T01:54:00.701Z"
   },
   {
    "duration": 9419,
    "start_time": "2022-06-29T01:54:20.917Z"
   },
   {
    "duration": 25,
    "start_time": "2022-06-29T01:55:57.671Z"
   },
   {
    "duration": 22,
    "start_time": "2022-06-29T01:57:03.231Z"
   },
   {
    "duration": 9642,
    "start_time": "2022-06-29T01:57:15.196Z"
   },
   {
    "duration": 9080,
    "start_time": "2022-06-29T01:59:02.867Z"
   },
   {
    "duration": 9119,
    "start_time": "2022-06-29T01:59:26.019Z"
   },
   {
    "duration": 10071,
    "start_time": "2022-06-29T02:00:20.569Z"
   },
   {
    "duration": 9781,
    "start_time": "2022-06-29T02:00:57.366Z"
   },
   {
    "duration": 9605,
    "start_time": "2022-06-29T02:01:24.142Z"
   },
   {
    "duration": 4227,
    "start_time": "2022-06-29T02:01:41.906Z"
   },
   {
    "duration": 6366,
    "start_time": "2022-06-29T02:01:53.975Z"
   },
   {
    "duration": 9915,
    "start_time": "2022-06-29T02:02:09.814Z"
   },
   {
    "duration": 10462,
    "start_time": "2022-06-29T02:02:39.471Z"
   },
   {
    "duration": 9850,
    "start_time": "2022-06-29T02:03:01.078Z"
   },
   {
    "duration": 10135,
    "start_time": "2022-06-29T02:03:26.203Z"
   },
   {
    "duration": 9104,
    "start_time": "2022-06-29T02:03:46.123Z"
   },
   {
    "duration": 7383,
    "start_time": "2022-06-29T02:04:09.768Z"
   },
   {
    "duration": 9626,
    "start_time": "2022-06-29T02:04:23.528Z"
   },
   {
    "duration": 4,
    "start_time": "2022-06-29T02:04:37.667Z"
   },
   {
    "duration": 22,
    "start_time": "2022-06-29T02:04:37.673Z"
   },
   {
    "duration": 10,
    "start_time": "2022-06-29T02:04:37.697Z"
   },
   {
    "duration": 14,
    "start_time": "2022-06-29T02:04:37.709Z"
   },
   {
    "duration": 5,
    "start_time": "2022-06-29T02:04:37.725Z"
   },
   {
    "duration": 6,
    "start_time": "2022-06-29T02:04:37.731Z"
   },
   {
    "duration": 8,
    "start_time": "2022-06-29T02:04:37.738Z"
   },
   {
    "duration": 8,
    "start_time": "2022-06-29T02:04:37.748Z"
   },
   {
    "duration": 7,
    "start_time": "2022-06-29T02:04:37.757Z"
   },
   {
    "duration": 7,
    "start_time": "2022-06-29T02:04:37.766Z"
   },
   {
    "duration": 6,
    "start_time": "2022-06-29T02:04:37.774Z"
   },
   {
    "duration": 8,
    "start_time": "2022-06-29T02:04:37.782Z"
   },
   {
    "duration": 49,
    "start_time": "2022-06-29T02:04:37.792Z"
   },
   {
    "duration": 158,
    "start_time": "2022-06-29T02:04:37.843Z"
   },
   {
    "duration": 138,
    "start_time": "2022-06-29T02:04:38.003Z"
   },
   {
    "duration": 1605,
    "start_time": "2022-06-29T02:04:38.142Z"
   },
   {
    "duration": 4,
    "start_time": "2022-06-29T02:04:39.748Z"
   },
   {
    "duration": 12,
    "start_time": "2022-06-29T02:04:39.753Z"
   },
   {
    "duration": 7,
    "start_time": "2022-06-29T02:04:39.767Z"
   },
   {
    "duration": 7,
    "start_time": "2022-06-29T02:04:39.776Z"
   },
   {
    "duration": 16,
    "start_time": "2022-06-29T02:04:39.784Z"
   },
   {
    "duration": 27,
    "start_time": "2022-06-29T02:04:39.802Z"
   },
   {
    "duration": 9516,
    "start_time": "2022-06-29T02:04:39.831Z"
   },
   {
    "duration": 1582,
    "start_time": "2022-06-29T02:04:49.349Z"
   },
   {
    "duration": 4,
    "start_time": "2022-06-29T02:05:15.552Z"
   },
   {
    "duration": 26,
    "start_time": "2022-06-29T02:05:15.558Z"
   },
   {
    "duration": 10,
    "start_time": "2022-06-29T02:05:15.586Z"
   },
   {
    "duration": 14,
    "start_time": "2022-06-29T02:05:15.597Z"
   },
   {
    "duration": 9,
    "start_time": "2022-06-29T02:05:15.613Z"
   },
   {
    "duration": 7,
    "start_time": "2022-06-29T02:05:15.623Z"
   },
   {
    "duration": 34,
    "start_time": "2022-06-29T02:05:15.632Z"
   },
   {
    "duration": 9,
    "start_time": "2022-06-29T02:05:15.668Z"
   },
   {
    "duration": 11,
    "start_time": "2022-06-29T02:05:15.678Z"
   },
   {
    "duration": 11,
    "start_time": "2022-06-29T02:05:15.690Z"
   },
   {
    "duration": 6,
    "start_time": "2022-06-29T02:05:15.703Z"
   },
   {
    "duration": 7,
    "start_time": "2022-06-29T02:05:15.711Z"
   },
   {
    "duration": 23,
    "start_time": "2022-06-29T02:05:15.721Z"
   },
   {
    "duration": 158,
    "start_time": "2022-06-29T02:05:15.746Z"
   },
   {
    "duration": 139,
    "start_time": "2022-06-29T02:05:15.906Z"
   },
   {
    "duration": 1499,
    "start_time": "2022-06-29T02:05:16.046Z"
   },
   {
    "duration": 4,
    "start_time": "2022-06-29T02:05:17.546Z"
   },
   {
    "duration": 14,
    "start_time": "2022-06-29T02:05:17.552Z"
   },
   {
    "duration": 5,
    "start_time": "2022-06-29T02:05:17.567Z"
   },
   {
    "duration": 7,
    "start_time": "2022-06-29T02:05:17.574Z"
   },
   {
    "duration": 10,
    "start_time": "2022-06-29T02:05:17.582Z"
   },
   {
    "duration": 12,
    "start_time": "2022-06-29T02:05:17.594Z"
   },
   {
    "duration": 9523,
    "start_time": "2022-06-29T02:05:17.607Z"
   },
   {
    "duration": 1508,
    "start_time": "2022-06-29T02:05:27.132Z"
   },
   {
    "duration": 5,
    "start_time": "2022-06-29T02:05:46.245Z"
   },
   {
    "duration": 28,
    "start_time": "2022-06-29T02:05:46.252Z"
   },
   {
    "duration": 10,
    "start_time": "2022-06-29T02:05:46.283Z"
   },
   {
    "duration": 35,
    "start_time": "2022-06-29T02:05:46.295Z"
   },
   {
    "duration": 14,
    "start_time": "2022-06-29T02:05:46.332Z"
   },
   {
    "duration": 10,
    "start_time": "2022-06-29T02:05:46.348Z"
   },
   {
    "duration": 23,
    "start_time": "2022-06-29T02:05:46.360Z"
   },
   {
    "duration": 20,
    "start_time": "2022-06-29T02:05:46.386Z"
   },
   {
    "duration": 10,
    "start_time": "2022-06-29T02:05:46.408Z"
   },
   {
    "duration": 9,
    "start_time": "2022-06-29T02:05:46.420Z"
   },
   {
    "duration": 7,
    "start_time": "2022-06-29T02:05:46.431Z"
   },
   {
    "duration": 9,
    "start_time": "2022-06-29T02:05:46.440Z"
   },
   {
    "duration": 35,
    "start_time": "2022-06-29T02:05:46.450Z"
   },
   {
    "duration": 156,
    "start_time": "2022-06-29T02:05:46.488Z"
   },
   {
    "duration": 127,
    "start_time": "2022-06-29T02:05:46.647Z"
   },
   {
    "duration": 1664,
    "start_time": "2022-06-29T02:05:46.775Z"
   },
   {
    "duration": 3,
    "start_time": "2022-06-29T02:05:48.441Z"
   },
   {
    "duration": 14,
    "start_time": "2022-06-29T02:05:48.446Z"
   },
   {
    "duration": 10,
    "start_time": "2022-06-29T02:05:48.461Z"
   },
   {
    "duration": 7,
    "start_time": "2022-06-29T02:05:48.473Z"
   },
   {
    "duration": 12,
    "start_time": "2022-06-29T02:05:48.481Z"
   },
   {
    "duration": 15,
    "start_time": "2022-06-29T02:05:48.494Z"
   },
   {
    "duration": 9404,
    "start_time": "2022-06-29T02:05:48.526Z"
   },
   {
    "duration": 1522,
    "start_time": "2022-06-29T02:05:57.932Z"
   },
   {
    "duration": 9133,
    "start_time": "2022-06-29T02:10:14.716Z"
   },
   {
    "duration": 3,
    "start_time": "2022-06-29T02:10:28.419Z"
   },
   {
    "duration": 24,
    "start_time": "2022-06-29T02:10:28.424Z"
   },
   {
    "duration": 9,
    "start_time": "2022-06-29T02:10:28.449Z"
   },
   {
    "duration": 12,
    "start_time": "2022-06-29T02:10:28.460Z"
   },
   {
    "duration": 7,
    "start_time": "2022-06-29T02:10:28.474Z"
   },
   {
    "duration": 8,
    "start_time": "2022-06-29T02:10:28.482Z"
   },
   {
    "duration": 6,
    "start_time": "2022-06-29T02:10:28.492Z"
   },
   {
    "duration": 9,
    "start_time": "2022-06-29T02:10:28.500Z"
   },
   {
    "duration": 6,
    "start_time": "2022-06-29T02:10:28.510Z"
   },
   {
    "duration": 4,
    "start_time": "2022-06-29T02:10:28.528Z"
   },
   {
    "duration": 9,
    "start_time": "2022-06-29T02:10:28.534Z"
   },
   {
    "duration": 7,
    "start_time": "2022-06-29T02:10:28.545Z"
   },
   {
    "duration": 25,
    "start_time": "2022-06-29T02:10:28.553Z"
   },
   {
    "duration": 169,
    "start_time": "2022-06-29T02:10:28.580Z"
   },
   {
    "duration": 132,
    "start_time": "2022-06-29T02:10:28.750Z"
   },
   {
    "duration": 1448,
    "start_time": "2022-06-29T02:10:28.884Z"
   },
   {
    "duration": 4,
    "start_time": "2022-06-29T02:10:30.334Z"
   },
   {
    "duration": 31,
    "start_time": "2022-06-29T02:10:30.339Z"
   },
   {
    "duration": 31,
    "start_time": "2022-06-29T02:10:30.372Z"
   },
   {
    "duration": 21,
    "start_time": "2022-06-29T02:10:30.404Z"
   },
   {
    "duration": 31,
    "start_time": "2022-06-29T02:10:30.427Z"
   },
   {
    "duration": 42,
    "start_time": "2022-06-29T02:10:30.460Z"
   },
   {
    "duration": 9036,
    "start_time": "2022-06-29T02:10:30.504Z"
   },
   {
    "duration": 1523,
    "start_time": "2022-06-29T02:10:39.542Z"
   },
   {
    "duration": 4,
    "start_time": "2022-06-29T02:10:52.525Z"
   },
   {
    "duration": 17,
    "start_time": "2022-06-29T02:10:52.531Z"
   },
   {
    "duration": 9,
    "start_time": "2022-06-29T02:10:52.550Z"
   },
   {
    "duration": 12,
    "start_time": "2022-06-29T02:10:52.560Z"
   },
   {
    "duration": 6,
    "start_time": "2022-06-29T02:10:52.574Z"
   },
   {
    "duration": 7,
    "start_time": "2022-06-29T02:10:52.582Z"
   },
   {
    "duration": 11,
    "start_time": "2022-06-29T02:10:52.591Z"
   },
   {
    "duration": 27,
    "start_time": "2022-06-29T02:10:52.604Z"
   },
   {
    "duration": 5,
    "start_time": "2022-06-29T02:10:52.633Z"
   },
   {
    "duration": 6,
    "start_time": "2022-06-29T02:10:52.639Z"
   },
   {
    "duration": 8,
    "start_time": "2022-06-29T02:10:52.646Z"
   },
   {
    "duration": 7,
    "start_time": "2022-06-29T02:10:52.655Z"
   },
   {
    "duration": 23,
    "start_time": "2022-06-29T02:10:52.663Z"
   },
   {
    "duration": 176,
    "start_time": "2022-06-29T02:10:52.688Z"
   },
   {
    "duration": 136,
    "start_time": "2022-06-29T02:10:52.865Z"
   },
   {
    "duration": 1672,
    "start_time": "2022-06-29T02:10:53.003Z"
   },
   {
    "duration": 5,
    "start_time": "2022-06-29T02:10:54.677Z"
   },
   {
    "duration": 17,
    "start_time": "2022-06-29T02:10:54.683Z"
   },
   {
    "duration": 9,
    "start_time": "2022-06-29T02:10:54.702Z"
   },
   {
    "duration": 16,
    "start_time": "2022-06-29T02:10:54.713Z"
   },
   {
    "duration": 10,
    "start_time": "2022-06-29T02:10:54.731Z"
   },
   {
    "duration": 12,
    "start_time": "2022-06-29T02:10:54.743Z"
   },
   {
    "duration": 8474,
    "start_time": "2022-06-29T02:10:54.757Z"
   },
   {
    "duration": 1633,
    "start_time": "2022-06-29T02:11:03.233Z"
   },
   {
    "duration": 4,
    "start_time": "2022-06-29T02:11:11.714Z"
   },
   {
    "duration": 19,
    "start_time": "2022-06-29T02:11:11.720Z"
   },
   {
    "duration": 10,
    "start_time": "2022-06-29T02:11:11.740Z"
   },
   {
    "duration": 19,
    "start_time": "2022-06-29T02:11:11.751Z"
   },
   {
    "duration": 9,
    "start_time": "2022-06-29T02:11:11.772Z"
   },
   {
    "duration": 8,
    "start_time": "2022-06-29T02:11:11.783Z"
   },
   {
    "duration": 12,
    "start_time": "2022-06-29T02:11:11.792Z"
   },
   {
    "duration": 12,
    "start_time": "2022-06-29T02:11:11.805Z"
   },
   {
    "duration": 19,
    "start_time": "2022-06-29T02:11:11.818Z"
   },
   {
    "duration": 13,
    "start_time": "2022-06-29T02:11:11.838Z"
   },
   {
    "duration": 9,
    "start_time": "2022-06-29T02:11:11.852Z"
   },
   {
    "duration": 8,
    "start_time": "2022-06-29T02:11:11.863Z"
   },
   {
    "duration": 27,
    "start_time": "2022-06-29T02:11:11.873Z"
   },
   {
    "duration": 167,
    "start_time": "2022-06-29T02:11:11.904Z"
   },
   {
    "duration": 134,
    "start_time": "2022-06-29T02:11:12.073Z"
   },
   {
    "duration": 1430,
    "start_time": "2022-06-29T02:11:12.208Z"
   },
   {
    "duration": 4,
    "start_time": "2022-06-29T02:11:13.640Z"
   },
   {
    "duration": 23,
    "start_time": "2022-06-29T02:11:13.646Z"
   },
   {
    "duration": 9,
    "start_time": "2022-06-29T02:11:13.671Z"
   },
   {
    "duration": 9,
    "start_time": "2022-06-29T02:11:13.681Z"
   },
   {
    "duration": 12,
    "start_time": "2022-06-29T02:11:13.691Z"
   },
   {
    "duration": 27,
    "start_time": "2022-06-29T02:11:13.705Z"
   },
   {
    "duration": 8204,
    "start_time": "2022-06-29T02:11:13.734Z"
   },
   {
    "duration": 1539,
    "start_time": "2022-06-29T02:11:21.940Z"
   },
   {
    "duration": 4,
    "start_time": "2022-06-29T02:11:43.654Z"
   },
   {
    "duration": 19,
    "start_time": "2022-06-29T02:11:43.660Z"
   },
   {
    "duration": 10,
    "start_time": "2022-06-29T02:11:43.680Z"
   },
   {
    "duration": 12,
    "start_time": "2022-06-29T02:11:43.692Z"
   },
   {
    "duration": 7,
    "start_time": "2022-06-29T02:11:43.705Z"
   },
   {
    "duration": 5,
    "start_time": "2022-06-29T02:11:43.714Z"
   },
   {
    "duration": 9,
    "start_time": "2022-06-29T02:11:43.720Z"
   },
   {
    "duration": 8,
    "start_time": "2022-06-29T02:11:43.730Z"
   },
   {
    "duration": 6,
    "start_time": "2022-06-29T02:11:43.740Z"
   },
   {
    "duration": 5,
    "start_time": "2022-06-29T02:11:43.748Z"
   },
   {
    "duration": 6,
    "start_time": "2022-06-29T02:11:43.755Z"
   },
   {
    "duration": 8,
    "start_time": "2022-06-29T02:11:43.762Z"
   },
   {
    "duration": 23,
    "start_time": "2022-06-29T02:11:43.772Z"
   },
   {
    "duration": 196,
    "start_time": "2022-06-29T02:11:43.797Z"
   },
   {
    "duration": 134,
    "start_time": "2022-06-29T02:11:43.995Z"
   },
   {
    "duration": 1514,
    "start_time": "2022-06-29T02:11:44.131Z"
   },
   {
    "duration": 4,
    "start_time": "2022-06-29T02:11:45.647Z"
   },
   {
    "duration": 15,
    "start_time": "2022-06-29T02:11:45.652Z"
   },
   {
    "duration": 6,
    "start_time": "2022-06-29T02:11:45.669Z"
   },
   {
    "duration": 14,
    "start_time": "2022-06-29T02:11:45.676Z"
   },
   {
    "duration": 14,
    "start_time": "2022-06-29T02:11:45.693Z"
   },
   {
    "duration": 21,
    "start_time": "2022-06-29T02:11:45.709Z"
   },
   {
    "duration": 8618,
    "start_time": "2022-06-29T02:11:45.731Z"
   },
   {
    "duration": 1630,
    "start_time": "2022-06-29T02:11:54.352Z"
   },
   {
    "duration": 4,
    "start_time": "2022-06-29T02:11:59.134Z"
   },
   {
    "duration": 18,
    "start_time": "2022-06-29T02:11:59.140Z"
   },
   {
    "duration": 10,
    "start_time": "2022-06-29T02:11:59.160Z"
   },
   {
    "duration": 12,
    "start_time": "2022-06-29T02:11:59.171Z"
   },
   {
    "duration": 5,
    "start_time": "2022-06-29T02:11:59.185Z"
   },
   {
    "duration": 6,
    "start_time": "2022-06-29T02:11:59.191Z"
   },
   {
    "duration": 10,
    "start_time": "2022-06-29T02:11:59.199Z"
   },
   {
    "duration": 23,
    "start_time": "2022-06-29T02:11:59.210Z"
   },
   {
    "duration": 7,
    "start_time": "2022-06-29T02:11:59.236Z"
   },
   {
    "duration": 6,
    "start_time": "2022-06-29T02:11:59.244Z"
   },
   {
    "duration": 7,
    "start_time": "2022-06-29T02:11:59.251Z"
   },
   {
    "duration": 10,
    "start_time": "2022-06-29T02:11:59.260Z"
   },
   {
    "duration": 31,
    "start_time": "2022-06-29T02:11:59.271Z"
   },
   {
    "duration": 172,
    "start_time": "2022-06-29T02:11:59.303Z"
   },
   {
    "duration": 330,
    "start_time": "2022-06-29T02:11:59.477Z"
   },
   {
    "duration": 1449,
    "start_time": "2022-06-29T02:11:59.809Z"
   },
   {
    "duration": 5,
    "start_time": "2022-06-29T02:12:01.260Z"
   },
   {
    "duration": 22,
    "start_time": "2022-06-29T02:12:01.266Z"
   },
   {
    "duration": 16,
    "start_time": "2022-06-29T02:12:01.289Z"
   },
   {
    "duration": 18,
    "start_time": "2022-06-29T02:12:01.306Z"
   },
   {
    "duration": 28,
    "start_time": "2022-06-29T02:12:01.326Z"
   },
   {
    "duration": 15,
    "start_time": "2022-06-29T02:12:01.356Z"
   },
   {
    "duration": 8871,
    "start_time": "2022-06-29T02:12:01.373Z"
   },
   {
    "duration": 1625,
    "start_time": "2022-06-29T02:12:10.248Z"
   },
   {
    "duration": 3,
    "start_time": "2022-06-29T02:12:15.274Z"
   },
   {
    "duration": 26,
    "start_time": "2022-06-29T02:12:15.279Z"
   },
   {
    "duration": 10,
    "start_time": "2022-06-29T02:12:15.306Z"
   },
   {
    "duration": 14,
    "start_time": "2022-06-29T02:12:15.318Z"
   },
   {
    "duration": 10,
    "start_time": "2022-06-29T02:12:15.334Z"
   },
   {
    "duration": 8,
    "start_time": "2022-06-29T02:12:15.346Z"
   },
   {
    "duration": 11,
    "start_time": "2022-06-29T02:12:15.356Z"
   },
   {
    "duration": 6,
    "start_time": "2022-06-29T02:12:15.369Z"
   },
   {
    "duration": 7,
    "start_time": "2022-06-29T02:12:15.376Z"
   },
   {
    "duration": 6,
    "start_time": "2022-06-29T02:12:15.384Z"
   },
   {
    "duration": 6,
    "start_time": "2022-06-29T02:12:15.392Z"
   },
   {
    "duration": 8,
    "start_time": "2022-06-29T02:12:15.400Z"
   },
   {
    "duration": 31,
    "start_time": "2022-06-29T02:12:15.426Z"
   },
   {
    "duration": 178,
    "start_time": "2022-06-29T02:12:15.459Z"
   },
   {
    "duration": 136,
    "start_time": "2022-06-29T02:12:15.638Z"
   },
   {
    "duration": 1560,
    "start_time": "2022-06-29T02:12:15.776Z"
   },
   {
    "duration": 4,
    "start_time": "2022-06-29T02:12:17.338Z"
   },
   {
    "duration": 12,
    "start_time": "2022-06-29T02:12:17.344Z"
   },
   {
    "duration": 7,
    "start_time": "2022-06-29T02:12:17.358Z"
   },
   {
    "duration": 7,
    "start_time": "2022-06-29T02:12:17.366Z"
   },
   {
    "duration": 20,
    "start_time": "2022-06-29T02:12:17.374Z"
   },
   {
    "duration": 33,
    "start_time": "2022-06-29T02:12:17.396Z"
   },
   {
    "duration": 8099,
    "start_time": "2022-06-29T02:12:17.431Z"
   },
   {
    "duration": 1649,
    "start_time": "2022-06-29T02:12:25.533Z"
   },
   {
    "duration": 4,
    "start_time": "2022-06-29T02:12:56.839Z"
   },
   {
    "duration": 25,
    "start_time": "2022-06-29T02:12:56.845Z"
   },
   {
    "duration": 10,
    "start_time": "2022-06-29T02:12:56.872Z"
   },
   {
    "duration": 13,
    "start_time": "2022-06-29T02:12:56.884Z"
   },
   {
    "duration": 4,
    "start_time": "2022-06-29T02:12:56.900Z"
   },
   {
    "duration": 5,
    "start_time": "2022-06-29T02:12:56.906Z"
   },
   {
    "duration": 8,
    "start_time": "2022-06-29T02:12:56.913Z"
   },
   {
    "duration": 6,
    "start_time": "2022-06-29T02:12:56.926Z"
   },
   {
    "duration": 6,
    "start_time": "2022-06-29T02:12:56.934Z"
   },
   {
    "duration": 7,
    "start_time": "2022-06-29T02:12:56.942Z"
   },
   {
    "duration": 8,
    "start_time": "2022-06-29T02:12:56.950Z"
   },
   {
    "duration": 10,
    "start_time": "2022-06-29T02:12:56.960Z"
   },
   {
    "duration": 56,
    "start_time": "2022-06-29T02:12:56.972Z"
   },
   {
    "duration": 154,
    "start_time": "2022-06-29T02:12:57.031Z"
   },
   {
    "duration": 150,
    "start_time": "2022-06-29T02:12:57.188Z"
   },
   {
    "duration": 1595,
    "start_time": "2022-06-29T02:12:57.340Z"
   },
   {
    "duration": 5,
    "start_time": "2022-06-29T02:12:58.937Z"
   },
   {
    "duration": 14,
    "start_time": "2022-06-29T02:12:58.943Z"
   },
   {
    "duration": 7,
    "start_time": "2022-06-29T02:12:58.959Z"
   },
   {
    "duration": 9,
    "start_time": "2022-06-29T02:12:58.967Z"
   },
   {
    "duration": 12,
    "start_time": "2022-06-29T02:12:58.977Z"
   },
   {
    "duration": 13,
    "start_time": "2022-06-29T02:12:58.991Z"
   },
   {
    "duration": 8949,
    "start_time": "2022-06-29T02:12:59.005Z"
   },
   {
    "duration": 1698,
    "start_time": "2022-06-29T02:13:07.956Z"
   },
   {
    "duration": 8373,
    "start_time": "2022-06-29T02:13:34.466Z"
   },
   {
    "duration": 3,
    "start_time": "2022-06-29T02:13:48.788Z"
   },
   {
    "duration": 27,
    "start_time": "2022-06-29T02:13:48.793Z"
   },
   {
    "duration": 9,
    "start_time": "2022-06-29T02:13:48.822Z"
   },
   {
    "duration": 13,
    "start_time": "2022-06-29T02:13:48.833Z"
   },
   {
    "duration": 7,
    "start_time": "2022-06-29T02:13:48.849Z"
   },
   {
    "duration": 8,
    "start_time": "2022-06-29T02:13:48.857Z"
   },
   {
    "duration": 5,
    "start_time": "2022-06-29T02:13:48.867Z"
   },
   {
    "duration": 6,
    "start_time": "2022-06-29T02:13:48.874Z"
   },
   {
    "duration": 6,
    "start_time": "2022-06-29T02:13:48.882Z"
   },
   {
    "duration": 6,
    "start_time": "2022-06-29T02:13:48.889Z"
   },
   {
    "duration": 33,
    "start_time": "2022-06-29T02:13:48.896Z"
   },
   {
    "duration": 7,
    "start_time": "2022-06-29T02:13:48.930Z"
   },
   {
    "duration": 22,
    "start_time": "2022-06-29T02:13:48.939Z"
   },
   {
    "duration": 171,
    "start_time": "2022-06-29T02:13:48.964Z"
   },
   {
    "duration": 141,
    "start_time": "2022-06-29T02:13:49.136Z"
   },
   {
    "duration": 1458,
    "start_time": "2022-06-29T02:13:49.282Z"
   },
   {
    "duration": 4,
    "start_time": "2022-06-29T02:13:50.741Z"
   },
   {
    "duration": 14,
    "start_time": "2022-06-29T02:13:50.747Z"
   },
   {
    "duration": 7,
    "start_time": "2022-06-29T02:13:50.763Z"
   },
   {
    "duration": 6,
    "start_time": "2022-06-29T02:13:50.772Z"
   },
   {
    "duration": 10,
    "start_time": "2022-06-29T02:13:50.780Z"
   },
   {
    "duration": 11,
    "start_time": "2022-06-29T02:13:50.792Z"
   },
   {
    "duration": 8610,
    "start_time": "2022-06-29T02:13:50.828Z"
   },
   {
    "duration": 1529,
    "start_time": "2022-06-29T02:13:59.440Z"
   },
   {
    "duration": 4,
    "start_time": "2022-06-29T02:14:04.031Z"
   },
   {
    "duration": 21,
    "start_time": "2022-06-29T02:14:04.037Z"
   },
   {
    "duration": 10,
    "start_time": "2022-06-29T02:14:04.059Z"
   },
   {
    "duration": 13,
    "start_time": "2022-06-29T02:14:04.071Z"
   },
   {
    "duration": 8,
    "start_time": "2022-06-29T02:14:04.085Z"
   },
   {
    "duration": 7,
    "start_time": "2022-06-29T02:14:04.095Z"
   },
   {
    "duration": 12,
    "start_time": "2022-06-29T02:14:04.104Z"
   },
   {
    "duration": 11,
    "start_time": "2022-06-29T02:14:04.117Z"
   },
   {
    "duration": 4,
    "start_time": "2022-06-29T02:14:04.132Z"
   },
   {
    "duration": 7,
    "start_time": "2022-06-29T02:14:04.138Z"
   },
   {
    "duration": 7,
    "start_time": "2022-06-29T02:14:04.146Z"
   },
   {
    "duration": 8,
    "start_time": "2022-06-29T02:14:04.155Z"
   },
   {
    "duration": 25,
    "start_time": "2022-06-29T02:14:04.165Z"
   },
   {
    "duration": 195,
    "start_time": "2022-06-29T02:14:04.191Z"
   },
   {
    "duration": 134,
    "start_time": "2022-06-29T02:14:04.387Z"
   },
   {
    "duration": 1509,
    "start_time": "2022-06-29T02:14:04.523Z"
   },
   {
    "duration": 4,
    "start_time": "2022-06-29T02:14:06.034Z"
   },
   {
    "duration": 15,
    "start_time": "2022-06-29T02:14:06.039Z"
   },
   {
    "duration": 7,
    "start_time": "2022-06-29T02:14:06.056Z"
   },
   {
    "duration": 9,
    "start_time": "2022-06-29T02:14:06.064Z"
   },
   {
    "duration": 9,
    "start_time": "2022-06-29T02:14:06.075Z"
   },
   {
    "duration": 13,
    "start_time": "2022-06-29T02:14:06.086Z"
   },
   {
    "duration": 8741,
    "start_time": "2022-06-29T02:14:06.100Z"
   },
   {
    "duration": 1655,
    "start_time": "2022-06-29T02:14:14.844Z"
   },
   {
    "duration": 3,
    "start_time": "2022-06-29T02:14:22.299Z"
   },
   {
    "duration": 23,
    "start_time": "2022-06-29T02:14:22.305Z"
   },
   {
    "duration": 14,
    "start_time": "2022-06-29T02:14:22.330Z"
   },
   {
    "duration": 15,
    "start_time": "2022-06-29T02:14:22.346Z"
   },
   {
    "duration": 7,
    "start_time": "2022-06-29T02:14:22.363Z"
   },
   {
    "duration": 6,
    "start_time": "2022-06-29T02:14:22.372Z"
   },
   {
    "duration": 11,
    "start_time": "2022-06-29T02:14:22.380Z"
   },
   {
    "duration": 12,
    "start_time": "2022-06-29T02:14:22.393Z"
   },
   {
    "duration": 22,
    "start_time": "2022-06-29T02:14:22.407Z"
   },
   {
    "duration": 9,
    "start_time": "2022-06-29T02:14:22.431Z"
   },
   {
    "duration": 10,
    "start_time": "2022-06-29T02:14:22.442Z"
   },
   {
    "duration": 11,
    "start_time": "2022-06-29T02:14:22.454Z"
   },
   {
    "duration": 31,
    "start_time": "2022-06-29T02:14:22.467Z"
   },
   {
    "duration": 194,
    "start_time": "2022-06-29T02:14:22.499Z"
   },
   {
    "duration": 157,
    "start_time": "2022-06-29T02:14:22.695Z"
   },
   {
    "duration": 1698,
    "start_time": "2022-06-29T02:14:22.853Z"
   },
   {
    "duration": 4,
    "start_time": "2022-06-29T02:14:24.553Z"
   },
   {
    "duration": 16,
    "start_time": "2022-06-29T02:14:24.558Z"
   },
   {
    "duration": 9,
    "start_time": "2022-06-29T02:14:24.575Z"
   },
   {
    "duration": 10,
    "start_time": "2022-06-29T02:14:24.585Z"
   },
   {
    "duration": 11,
    "start_time": "2022-06-29T02:14:24.596Z"
   },
   {
    "duration": 26,
    "start_time": "2022-06-29T02:14:24.608Z"
   },
   {
    "duration": 9091,
    "start_time": "2022-06-29T02:14:24.636Z"
   },
   {
    "duration": 1629,
    "start_time": "2022-06-29T02:14:33.731Z"
   },
   {
    "duration": 4,
    "start_time": "2022-06-29T02:14:40.098Z"
   },
   {
    "duration": 22,
    "start_time": "2022-06-29T02:14:40.104Z"
   },
   {
    "duration": 9,
    "start_time": "2022-06-29T02:14:40.128Z"
   },
   {
    "duration": 12,
    "start_time": "2022-06-29T02:14:40.140Z"
   },
   {
    "duration": 6,
    "start_time": "2022-06-29T02:14:40.153Z"
   },
   {
    "duration": 5,
    "start_time": "2022-06-29T02:14:40.161Z"
   },
   {
    "duration": 8,
    "start_time": "2022-06-29T02:14:40.168Z"
   },
   {
    "duration": 10,
    "start_time": "2022-06-29T02:14:40.178Z"
   },
   {
    "duration": 6,
    "start_time": "2022-06-29T02:14:40.190Z"
   },
   {
    "duration": 30,
    "start_time": "2022-06-29T02:14:40.199Z"
   },
   {
    "duration": 4,
    "start_time": "2022-06-29T02:14:40.230Z"
   },
   {
    "duration": 9,
    "start_time": "2022-06-29T02:14:40.236Z"
   },
   {
    "duration": 22,
    "start_time": "2022-06-29T02:14:40.247Z"
   },
   {
    "duration": 181,
    "start_time": "2022-06-29T02:14:40.271Z"
   },
   {
    "duration": 142,
    "start_time": "2022-06-29T02:14:40.453Z"
   },
   {
    "duration": 1457,
    "start_time": "2022-06-29T02:14:40.597Z"
   },
   {
    "duration": 4,
    "start_time": "2022-06-29T02:14:42.056Z"
   },
   {
    "duration": 16,
    "start_time": "2022-06-29T02:14:42.061Z"
   },
   {
    "duration": 6,
    "start_time": "2022-06-29T02:14:42.079Z"
   },
   {
    "duration": 6,
    "start_time": "2022-06-29T02:14:42.086Z"
   },
   {
    "duration": 10,
    "start_time": "2022-06-29T02:14:42.094Z"
   },
   {
    "duration": 29,
    "start_time": "2022-06-29T02:14:42.106Z"
   },
   {
    "duration": 8406,
    "start_time": "2022-06-29T02:14:42.137Z"
   },
   {
    "duration": 1541,
    "start_time": "2022-06-29T02:14:50.544Z"
   },
   {
    "duration": 3,
    "start_time": "2022-06-29T02:15:00.253Z"
   },
   {
    "duration": 26,
    "start_time": "2022-06-29T02:15:00.258Z"
   },
   {
    "duration": 9,
    "start_time": "2022-06-29T02:15:00.286Z"
   },
   {
    "duration": 31,
    "start_time": "2022-06-29T02:15:00.297Z"
   },
   {
    "duration": 21,
    "start_time": "2022-06-29T02:15:00.329Z"
   },
   {
    "duration": 24,
    "start_time": "2022-06-29T02:15:00.352Z"
   },
   {
    "duration": 57,
    "start_time": "2022-06-29T02:15:00.378Z"
   },
   {
    "duration": 19,
    "start_time": "2022-06-29T02:15:00.436Z"
   },
   {
    "duration": 20,
    "start_time": "2022-06-29T02:15:00.458Z"
   },
   {
    "duration": 18,
    "start_time": "2022-06-29T02:15:00.480Z"
   },
   {
    "duration": 21,
    "start_time": "2022-06-29T02:15:00.500Z"
   },
   {
    "duration": 16,
    "start_time": "2022-06-29T02:15:00.523Z"
   },
   {
    "duration": 32,
    "start_time": "2022-06-29T02:15:00.541Z"
   },
   {
    "duration": 148,
    "start_time": "2022-06-29T02:15:00.574Z"
   },
   {
    "duration": 134,
    "start_time": "2022-06-29T02:15:00.728Z"
   },
   {
    "duration": 1498,
    "start_time": "2022-06-29T02:15:00.864Z"
   },
   {
    "duration": 4,
    "start_time": "2022-06-29T02:15:02.364Z"
   },
   {
    "duration": 58,
    "start_time": "2022-06-29T02:15:02.370Z"
   },
   {
    "duration": 30,
    "start_time": "2022-06-29T02:15:02.431Z"
   },
   {
    "duration": 16,
    "start_time": "2022-06-29T02:15:02.463Z"
   },
   {
    "duration": 25,
    "start_time": "2022-06-29T02:15:02.481Z"
   },
   {
    "duration": 29,
    "start_time": "2022-06-29T02:15:02.508Z"
   },
   {
    "duration": 9292,
    "start_time": "2022-06-29T02:15:02.538Z"
   },
   {
    "duration": 1631,
    "start_time": "2022-06-29T02:15:11.834Z"
   },
   {
    "duration": 4,
    "start_time": "2022-06-29T02:15:17.369Z"
   },
   {
    "duration": 19,
    "start_time": "2022-06-29T02:15:17.375Z"
   },
   {
    "duration": 11,
    "start_time": "2022-06-29T02:15:17.395Z"
   },
   {
    "duration": 11,
    "start_time": "2022-06-29T02:15:17.408Z"
   },
   {
    "duration": 4,
    "start_time": "2022-06-29T02:15:17.422Z"
   },
   {
    "duration": 9,
    "start_time": "2022-06-29T02:15:17.428Z"
   },
   {
    "duration": 9,
    "start_time": "2022-06-29T02:15:17.439Z"
   },
   {
    "duration": 7,
    "start_time": "2022-06-29T02:15:17.450Z"
   },
   {
    "duration": 9,
    "start_time": "2022-06-29T02:15:17.458Z"
   },
   {
    "duration": 7,
    "start_time": "2022-06-29T02:15:17.468Z"
   },
   {
    "duration": 7,
    "start_time": "2022-06-29T02:15:17.477Z"
   },
   {
    "duration": 9,
    "start_time": "2022-06-29T02:15:17.486Z"
   },
   {
    "duration": 54,
    "start_time": "2022-06-29T02:15:17.497Z"
   },
   {
    "duration": 166,
    "start_time": "2022-06-29T02:15:17.554Z"
   },
   {
    "duration": 137,
    "start_time": "2022-06-29T02:15:17.721Z"
   },
   {
    "duration": 1468,
    "start_time": "2022-06-29T02:15:17.860Z"
   },
   {
    "duration": 4,
    "start_time": "2022-06-29T02:15:19.330Z"
   },
   {
    "duration": 13,
    "start_time": "2022-06-29T02:15:19.336Z"
   },
   {
    "duration": 12,
    "start_time": "2022-06-29T02:15:19.351Z"
   },
   {
    "duration": 6,
    "start_time": "2022-06-29T02:15:19.364Z"
   },
   {
    "duration": 9,
    "start_time": "2022-06-29T02:15:19.372Z"
   },
   {
    "duration": 14,
    "start_time": "2022-06-29T02:15:19.383Z"
   },
   {
    "duration": 8546,
    "start_time": "2022-06-29T02:15:19.398Z"
   },
   {
    "duration": 1588,
    "start_time": "2022-06-29T02:15:27.946Z"
   },
   {
    "duration": 4,
    "start_time": "2022-06-29T02:15:36.468Z"
   },
   {
    "duration": 32,
    "start_time": "2022-06-29T02:15:36.474Z"
   },
   {
    "duration": 9,
    "start_time": "2022-06-29T02:15:36.508Z"
   },
   {
    "duration": 12,
    "start_time": "2022-06-29T02:15:36.519Z"
   },
   {
    "duration": 5,
    "start_time": "2022-06-29T02:15:36.534Z"
   },
   {
    "duration": 5,
    "start_time": "2022-06-29T02:15:36.541Z"
   },
   {
    "duration": 13,
    "start_time": "2022-06-29T02:15:36.547Z"
   },
   {
    "duration": 9,
    "start_time": "2022-06-29T02:15:36.561Z"
   },
   {
    "duration": 7,
    "start_time": "2022-06-29T02:15:36.571Z"
   },
   {
    "duration": 6,
    "start_time": "2022-06-29T02:15:36.579Z"
   },
   {
    "duration": 8,
    "start_time": "2022-06-29T02:15:36.586Z"
   },
   {
    "duration": 32,
    "start_time": "2022-06-29T02:15:36.596Z"
   },
   {
    "duration": 30,
    "start_time": "2022-06-29T02:15:36.630Z"
   },
   {
    "duration": 155,
    "start_time": "2022-06-29T02:15:36.663Z"
   },
   {
    "duration": 135,
    "start_time": "2022-06-29T02:15:36.819Z"
   },
   {
    "duration": 1481,
    "start_time": "2022-06-29T02:15:36.956Z"
   },
   {
    "duration": 4,
    "start_time": "2022-06-29T02:15:38.439Z"
   },
   {
    "duration": 16,
    "start_time": "2022-06-29T02:15:38.444Z"
   },
   {
    "duration": 6,
    "start_time": "2022-06-29T02:15:38.462Z"
   },
   {
    "duration": 7,
    "start_time": "2022-06-29T02:15:38.469Z"
   },
   {
    "duration": 10,
    "start_time": "2022-06-29T02:15:38.477Z"
   },
   {
    "duration": 14,
    "start_time": "2022-06-29T02:15:38.489Z"
   },
   {
    "duration": 8817,
    "start_time": "2022-06-29T02:15:38.527Z"
   },
   {
    "duration": 1612,
    "start_time": "2022-06-29T02:15:47.346Z"
   },
   {
    "duration": 8834,
    "start_time": "2022-06-29T02:20:15.793Z"
   },
   {
    "duration": 9339,
    "start_time": "2022-06-29T02:20:40.264Z"
   },
   {
    "duration": 109,
    "start_time": "2022-06-29T02:21:58.196Z"
   },
   {
    "duration": 110,
    "start_time": "2022-06-29T02:22:37.399Z"
   },
   {
    "duration": 101,
    "start_time": "2022-06-29T02:22:42.982Z"
   },
   {
    "duration": 114,
    "start_time": "2022-06-29T02:23:29.365Z"
   },
   {
    "duration": 122,
    "start_time": "2022-06-29T02:23:38.424Z"
   },
   {
    "duration": 127,
    "start_time": "2022-06-29T02:24:28.292Z"
   },
   {
    "duration": 112,
    "start_time": "2022-06-29T02:24:43.000Z"
   },
   {
    "duration": 121,
    "start_time": "2022-06-29T02:25:10.141Z"
   },
   {
    "duration": 122,
    "start_time": "2022-06-29T02:25:59.021Z"
   },
   {
    "duration": 148,
    "start_time": "2022-06-29T02:26:23.868Z"
   },
   {
    "duration": 405,
    "start_time": "2022-06-29T02:27:09.433Z"
   },
   {
    "duration": 138,
    "start_time": "2022-06-29T02:28:09.079Z"
   },
   {
    "duration": 242,
    "start_time": "2022-06-29T02:29:00.712Z"
   },
   {
    "duration": 171,
    "start_time": "2022-06-29T02:29:10.016Z"
   },
   {
    "duration": 154,
    "start_time": "2022-06-29T02:29:22.362Z"
   },
   {
    "duration": 150,
    "start_time": "2022-06-29T02:29:34.979Z"
   },
   {
    "duration": 51,
    "start_time": "2022-06-29T02:31:09.949Z"
   },
   {
    "duration": 150,
    "start_time": "2022-06-29T02:31:52.013Z"
   },
   {
    "duration": 157,
    "start_time": "2022-06-29T02:32:02.323Z"
   },
   {
    "duration": 8328,
    "start_time": "2022-06-29T02:32:29.400Z"
   },
   {
    "duration": 153,
    "start_time": "2022-06-29T02:32:40.649Z"
   },
   {
    "duration": 20,
    "start_time": "2022-06-29T02:36:20.219Z"
   },
   {
    "duration": 12,
    "start_time": "2022-06-29T02:37:33.889Z"
   },
   {
    "duration": 6,
    "start_time": "2022-06-29T02:37:41.006Z"
   },
   {
    "duration": 5,
    "start_time": "2022-06-29T02:38:44.067Z"
   },
   {
    "duration": 10,
    "start_time": "2022-06-29T02:39:07.210Z"
   },
   {
    "duration": 12,
    "start_time": "2022-06-29T02:40:10.043Z"
   },
   {
    "duration": 13,
    "start_time": "2022-06-29T02:40:45.574Z"
   },
   {
    "duration": 13,
    "start_time": "2022-06-29T02:41:01.999Z"
   },
   {
    "duration": 5,
    "start_time": "2022-06-29T02:41:09.838Z"
   },
   {
    "duration": 5,
    "start_time": "2022-06-29T02:41:22.735Z"
   },
   {
    "duration": 5,
    "start_time": "2022-06-29T02:41:29.531Z"
   },
   {
    "duration": 6,
    "start_time": "2022-06-29T02:41:35.109Z"
   },
   {
    "duration": 15,
    "start_time": "2022-06-29T02:41:54.103Z"
   },
   {
    "duration": 6,
    "start_time": "2022-06-29T02:42:30.542Z"
   },
   {
    "duration": 5,
    "start_time": "2022-06-29T02:42:36.962Z"
   },
   {
    "duration": 8,
    "start_time": "2022-06-29T02:42:42.108Z"
   },
   {
    "duration": 55,
    "start_time": "2022-06-29T02:43:08.371Z"
   },
   {
    "duration": 3,
    "start_time": "2022-06-29T02:43:14.262Z"
   },
   {
    "duration": 13,
    "start_time": "2022-06-29T02:43:18.397Z"
   },
   {
    "duration": 7,
    "start_time": "2022-06-29T02:43:31.662Z"
   },
   {
    "duration": 11,
    "start_time": "2022-06-29T02:43:48.438Z"
   },
   {
    "duration": 10,
    "start_time": "2022-06-29T02:43:54.010Z"
   },
   {
    "duration": 10,
    "start_time": "2022-06-29T02:44:08.010Z"
   },
   {
    "duration": 3,
    "start_time": "2022-06-29T02:44:25.823Z"
   },
   {
    "duration": 15,
    "start_time": "2022-06-29T02:44:28.564Z"
   },
   {
    "duration": 17,
    "start_time": "2022-06-29T02:44:51.848Z"
   },
   {
    "duration": 10,
    "start_time": "2022-06-29T02:46:20.441Z"
   },
   {
    "duration": 24240,
    "start_time": "2022-06-29T02:47:06.869Z"
   },
   {
    "duration": 4,
    "start_time": "2022-06-29T02:47:48.363Z"
   },
   {
    "duration": 2894,
    "start_time": "2022-06-29T02:47:48.369Z"
   },
   {
    "duration": 17,
    "start_time": "2022-06-29T02:47:51.265Z"
   },
   {
    "duration": 18,
    "start_time": "2022-06-29T02:47:51.283Z"
   },
   {
    "duration": 11,
    "start_time": "2022-06-29T02:47:51.303Z"
   },
   {
    "duration": 12,
    "start_time": "2022-06-29T02:47:51.315Z"
   },
   {
    "duration": 5,
    "start_time": "2022-06-29T02:47:51.329Z"
   },
   {
    "duration": 10,
    "start_time": "2022-06-29T02:47:51.336Z"
   },
   {
    "duration": 9,
    "start_time": "2022-06-29T02:47:51.347Z"
   },
   {
    "duration": 6,
    "start_time": "2022-06-29T02:47:51.358Z"
   },
   {
    "duration": 7,
    "start_time": "2022-06-29T02:47:51.366Z"
   },
   {
    "duration": 8,
    "start_time": "2022-06-29T02:47:51.374Z"
   },
   {
    "duration": 12,
    "start_time": "2022-06-29T02:47:51.384Z"
   },
   {
    "duration": 58,
    "start_time": "2022-06-29T02:47:51.398Z"
   },
   {
    "duration": 224,
    "start_time": "2022-06-29T02:47:51.459Z"
   },
   {
    "duration": 131,
    "start_time": "2022-06-29T02:47:51.684Z"
   },
   {
    "duration": 1544,
    "start_time": "2022-06-29T02:47:51.816Z"
   },
   {
    "duration": 5,
    "start_time": "2022-06-29T02:47:53.362Z"
   },
   {
    "duration": 20,
    "start_time": "2022-06-29T02:47:53.369Z"
   },
   {
    "duration": 6,
    "start_time": "2022-06-29T02:47:53.391Z"
   },
   {
    "duration": 12,
    "start_time": "2022-06-29T02:47:53.398Z"
   },
   {
    "duration": 22,
    "start_time": "2022-06-29T02:47:53.412Z"
   },
   {
    "duration": 24,
    "start_time": "2022-06-29T02:47:53.436Z"
   },
   {
    "duration": 145,
    "start_time": "2022-06-29T02:47:53.462Z"
   },
   {
    "duration": 0,
    "start_time": "2022-06-29T02:47:53.609Z"
   },
   {
    "duration": 0,
    "start_time": "2022-06-29T02:47:53.610Z"
   },
   {
    "duration": 0,
    "start_time": "2022-06-29T02:47:53.611Z"
   },
   {
    "duration": 6890,
    "start_time": "2022-06-29T02:48:14.241Z"
   },
   {
    "duration": 10,
    "start_time": "2022-06-29T02:48:25.276Z"
   },
   {
    "duration": 153,
    "start_time": "2022-06-29T02:48:35.432Z"
   },
   {
    "duration": 4,
    "start_time": "2022-06-29T02:49:55.463Z"
   },
   {
    "duration": 11,
    "start_time": "2022-06-29T02:50:06.885Z"
   },
   {
    "duration": 10,
    "start_time": "2022-06-29T02:50:10.026Z"
   },
   {
    "duration": 10,
    "start_time": "2022-06-29T02:50:13.660Z"
   },
   {
    "duration": 2187,
    "start_time": "2022-06-29T02:51:55.604Z"
   },
   {
    "duration": 20,
    "start_time": "2022-06-29T02:56:24.002Z"
   },
   {
    "duration": 8,
    "start_time": "2022-06-29T02:56:43.274Z"
   },
   {
    "duration": 234,
    "start_time": "2022-06-29T02:58:10.007Z"
   },
   {
    "duration": 11,
    "start_time": "2022-06-29T02:59:12.732Z"
   },
   {
    "duration": 109,
    "start_time": "2022-06-29T02:59:58.659Z"
   },
   {
    "duration": 108,
    "start_time": "2022-06-29T03:01:26.382Z"
   },
   {
    "duration": 19,
    "start_time": "2022-06-29T03:01:38.431Z"
   },
   {
    "duration": 15,
    "start_time": "2022-06-29T03:02:46.601Z"
   },
   {
    "duration": 15,
    "start_time": "2022-06-29T03:03:02.858Z"
   },
   {
    "duration": 14,
    "start_time": "2022-06-29T03:03:14.460Z"
   },
   {
    "duration": 10,
    "start_time": "2022-06-29T03:03:30.209Z"
   },
   {
    "duration": 13,
    "start_time": "2022-06-29T03:03:47.858Z"
   },
   {
    "duration": 9,
    "start_time": "2022-06-29T03:03:58.044Z"
   },
   {
    "duration": 10,
    "start_time": "2022-06-29T03:04:33.841Z"
   },
   {
    "duration": 14,
    "start_time": "2022-06-29T03:05:00.419Z"
   },
   {
    "duration": 15,
    "start_time": "2022-06-29T03:05:07.894Z"
   },
   {
    "duration": 6,
    "start_time": "2022-06-29T03:05:13.034Z"
   },
   {
    "duration": 11,
    "start_time": "2022-06-29T03:05:21.739Z"
   },
   {
    "duration": 13,
    "start_time": "2022-06-29T03:06:03.042Z"
   },
   {
    "duration": 132,
    "start_time": "2022-06-29T03:06:34.862Z"
   },
   {
    "duration": 918,
    "start_time": "2022-06-29T03:06:41.366Z"
   },
   {
    "duration": 953,
    "start_time": "2022-06-29T03:06:54.033Z"
   },
   {
    "duration": 1111,
    "start_time": "2022-06-29T03:07:15.973Z"
   },
   {
    "duration": 50,
    "start_time": "2022-06-29T03:07:50.641Z"
   },
   {
    "duration": 20,
    "start_time": "2022-06-29T03:07:58.710Z"
   },
   {
    "duration": 1104,
    "start_time": "2022-06-29T03:08:06.273Z"
   },
   {
    "duration": 1105,
    "start_time": "2022-06-29T03:08:16.358Z"
   },
   {
    "duration": 983,
    "start_time": "2022-06-29T03:10:05.204Z"
   },
   {
    "duration": 1118,
    "start_time": "2022-06-29T03:11:01.774Z"
   },
   {
    "duration": 976,
    "start_time": "2022-06-29T03:11:17.986Z"
   },
   {
    "duration": 1029,
    "start_time": "2022-06-29T03:11:24.757Z"
   },
   {
    "duration": 1009,
    "start_time": "2022-06-29T03:11:37.058Z"
   },
   {
    "duration": 1100,
    "start_time": "2022-06-29T03:11:54.870Z"
   },
   {
    "duration": 974,
    "start_time": "2022-06-29T03:12:18.235Z"
   },
   {
    "duration": 1041,
    "start_time": "2022-06-29T03:12:23.505Z"
   },
   {
    "duration": 1149,
    "start_time": "2022-06-29T03:12:56.896Z"
   },
   {
    "duration": 1152,
    "start_time": "2022-06-29T03:14:07.431Z"
   },
   {
    "duration": 1107,
    "start_time": "2022-06-29T03:14:55.408Z"
   },
   {
    "duration": 1121,
    "start_time": "2022-06-29T03:16:08.669Z"
   },
   {
    "duration": 1223,
    "start_time": "2022-06-29T03:16:22.910Z"
   },
   {
    "duration": 45,
    "start_time": "2022-06-29T03:19:46.757Z"
   },
   {
    "duration": 1128,
    "start_time": "2022-06-29T03:19:53.564Z"
   },
   {
    "duration": 1089,
    "start_time": "2022-06-29T03:19:59.281Z"
   },
   {
    "duration": 1296,
    "start_time": "2022-06-29T03:20:13.758Z"
   },
   {
    "duration": 1117,
    "start_time": "2022-06-29T03:20:32.357Z"
   },
   {
    "duration": 1103,
    "start_time": "2022-06-29T03:20:42.891Z"
   },
   {
    "duration": 1100,
    "start_time": "2022-06-29T03:21:27.991Z"
   },
   {
    "duration": 1271,
    "start_time": "2022-06-29T03:21:49.308Z"
   },
   {
    "duration": 1095,
    "start_time": "2022-06-29T03:21:59.394Z"
   },
   {
    "duration": 1152,
    "start_time": "2022-06-29T03:23:53.828Z"
   },
   {
    "duration": 1423,
    "start_time": "2022-06-29T03:24:05.641Z"
   },
   {
    "duration": 1105,
    "start_time": "2022-06-29T03:24:20.998Z"
   },
   {
    "duration": 1154,
    "start_time": "2022-06-29T03:24:30.302Z"
   },
   {
    "duration": 1283,
    "start_time": "2022-06-29T03:24:40.378Z"
   },
   {
    "duration": 3,
    "start_time": "2022-06-29T03:24:50.285Z"
   },
   {
    "duration": 27,
    "start_time": "2022-06-29T03:24:50.290Z"
   },
   {
    "duration": 9,
    "start_time": "2022-06-29T03:24:50.319Z"
   },
   {
    "duration": 14,
    "start_time": "2022-06-29T03:24:50.329Z"
   },
   {
    "duration": 7,
    "start_time": "2022-06-29T03:24:50.345Z"
   },
   {
    "duration": 6,
    "start_time": "2022-06-29T03:24:50.354Z"
   },
   {
    "duration": 10,
    "start_time": "2022-06-29T03:24:50.361Z"
   },
   {
    "duration": 8,
    "start_time": "2022-06-29T03:24:50.372Z"
   },
   {
    "duration": 5,
    "start_time": "2022-06-29T03:24:50.382Z"
   },
   {
    "duration": 8,
    "start_time": "2022-06-29T03:24:50.389Z"
   },
   {
    "duration": 30,
    "start_time": "2022-06-29T03:24:50.398Z"
   },
   {
    "duration": 8,
    "start_time": "2022-06-29T03:24:50.430Z"
   },
   {
    "duration": 25,
    "start_time": "2022-06-29T03:24:50.439Z"
   },
   {
    "duration": 175,
    "start_time": "2022-06-29T03:24:50.466Z"
   },
   {
    "duration": 135,
    "start_time": "2022-06-29T03:24:50.643Z"
   },
   {
    "duration": 1572,
    "start_time": "2022-06-29T03:24:50.780Z"
   },
   {
    "duration": 5,
    "start_time": "2022-06-29T03:24:52.354Z"
   },
   {
    "duration": 57,
    "start_time": "2022-06-29T03:24:52.360Z"
   },
   {
    "duration": 34,
    "start_time": "2022-06-29T03:24:52.418Z"
   },
   {
    "duration": 24,
    "start_time": "2022-06-29T03:24:52.454Z"
   },
   {
    "duration": 27,
    "start_time": "2022-06-29T03:24:52.479Z"
   },
   {
    "duration": 25,
    "start_time": "2022-06-29T03:24:52.508Z"
   },
   {
    "duration": 1446,
    "start_time": "2022-06-29T03:24:52.535Z"
   },
   {
    "duration": 8257,
    "start_time": "2022-06-29T03:24:53.982Z"
   },
   {
    "duration": 1320,
    "start_time": "2022-06-29T03:25:02.241Z"
   },
   {
    "duration": 350,
    "start_time": "2022-06-29T03:25:03.563Z"
   },
   {
    "duration": 1210,
    "start_time": "2022-06-29T03:31:25.874Z"
   },
   {
    "duration": 1223,
    "start_time": "2022-06-29T03:31:37.281Z"
   },
   {
    "duration": 12,
    "start_time": "2022-06-29T04:11:12.238Z"
   },
   {
    "duration": 4,
    "start_time": "2022-06-29T04:11:16.097Z"
   },
   {
    "duration": 19,
    "start_time": "2022-06-29T04:11:16.103Z"
   },
   {
    "duration": 12,
    "start_time": "2022-06-29T04:11:16.124Z"
   },
   {
    "duration": 28,
    "start_time": "2022-06-29T04:11:16.138Z"
   },
   {
    "duration": 6,
    "start_time": "2022-06-29T04:11:16.169Z"
   },
   {
    "duration": 19,
    "start_time": "2022-06-29T04:11:16.178Z"
   },
   {
    "duration": 12,
    "start_time": "2022-06-29T04:11:16.199Z"
   },
   {
    "duration": 11,
    "start_time": "2022-06-29T04:11:16.212Z"
   },
   {
    "duration": 38,
    "start_time": "2022-06-29T04:11:16.225Z"
   },
   {
    "duration": 30,
    "start_time": "2022-06-29T04:11:16.265Z"
   },
   {
    "duration": 13,
    "start_time": "2022-06-29T04:11:16.298Z"
   },
   {
    "duration": 15,
    "start_time": "2022-06-29T04:11:16.313Z"
   },
   {
    "duration": 54,
    "start_time": "2022-06-29T04:11:16.331Z"
   },
   {
    "duration": 227,
    "start_time": "2022-06-29T04:11:16.388Z"
   },
   {
    "duration": 165,
    "start_time": "2022-06-29T04:11:16.617Z"
   },
   {
    "duration": 1808,
    "start_time": "2022-06-29T04:11:16.784Z"
   },
   {
    "duration": 4,
    "start_time": "2022-06-29T04:11:18.593Z"
   },
   {
    "duration": 12,
    "start_time": "2022-06-29T04:11:18.599Z"
   },
   {
    "duration": 33,
    "start_time": "2022-06-29T04:11:18.613Z"
   },
   {
    "duration": 16,
    "start_time": "2022-06-29T04:11:18.649Z"
   },
   {
    "duration": 14,
    "start_time": "2022-06-29T04:11:18.667Z"
   },
   {
    "duration": 15,
    "start_time": "2022-06-29T04:11:18.682Z"
   },
   {
    "duration": 1485,
    "start_time": "2022-06-29T04:11:18.699Z"
   },
   {
    "duration": 29,
    "start_time": "2022-06-29T04:11:20.186Z"
   },
   {
    "duration": 0,
    "start_time": "2022-06-29T04:11:20.217Z"
   },
   {
    "duration": 0,
    "start_time": "2022-06-29T04:11:20.227Z"
   },
   {
    "duration": 15475,
    "start_time": "2022-06-29T04:11:56.288Z"
   },
   {
    "duration": 43,
    "start_time": "2022-06-29T04:12:18.253Z"
   },
   {
    "duration": 10,
    "start_time": "2022-06-29T04:12:31.088Z"
   },
   {
    "duration": 18,
    "start_time": "2022-06-29T04:12:33.841Z"
   },
   {
    "duration": 5,
    "start_time": "2022-06-29T04:12:34.052Z"
   },
   {
    "duration": 81,
    "start_time": "2022-06-29T04:17:56.981Z"
   },
   {
    "duration": 1455,
    "start_time": "2022-06-29T04:31:58.039Z"
   },
   {
    "duration": 16,
    "start_time": "2022-06-29T04:51:55.796Z"
   },
   {
    "duration": 3,
    "start_time": "2022-06-29T04:52:01.272Z"
   },
   {
    "duration": 25,
    "start_time": "2022-06-29T04:52:03.387Z"
   },
   {
    "duration": 9,
    "start_time": "2022-06-29T04:52:26.724Z"
   },
   {
    "duration": 28,
    "start_time": "2022-06-29T04:52:26.735Z"
   },
   {
    "duration": 10,
    "start_time": "2022-06-29T04:52:26.765Z"
   },
   {
    "duration": 12,
    "start_time": "2022-06-29T04:52:26.776Z"
   },
   {
    "duration": 5,
    "start_time": "2022-06-29T04:52:26.791Z"
   },
   {
    "duration": 8,
    "start_time": "2022-06-29T04:52:26.797Z"
   },
   {
    "duration": 11,
    "start_time": "2022-06-29T04:52:26.806Z"
   },
   {
    "duration": 25,
    "start_time": "2022-06-29T04:52:26.818Z"
   },
   {
    "duration": 8,
    "start_time": "2022-06-29T04:52:26.845Z"
   },
   {
    "duration": 8,
    "start_time": "2022-06-29T04:52:26.854Z"
   },
   {
    "duration": 9,
    "start_time": "2022-06-29T04:52:26.863Z"
   },
   {
    "duration": 8,
    "start_time": "2022-06-29T04:52:26.873Z"
   },
   {
    "duration": 25,
    "start_time": "2022-06-29T04:52:26.882Z"
   },
   {
    "duration": 173,
    "start_time": "2022-06-29T04:52:26.929Z"
   },
   {
    "duration": 145,
    "start_time": "2022-06-29T04:52:27.104Z"
   },
   {
    "duration": 1630,
    "start_time": "2022-06-29T04:52:27.251Z"
   },
   {
    "duration": 4,
    "start_time": "2022-06-29T04:52:28.883Z"
   },
   {
    "duration": 47,
    "start_time": "2022-06-29T04:52:28.889Z"
   },
   {
    "duration": 40,
    "start_time": "2022-06-29T04:52:28.940Z"
   },
   {
    "duration": 11,
    "start_time": "2022-06-29T04:52:28.982Z"
   },
   {
    "duration": 16,
    "start_time": "2022-06-29T04:52:28.995Z"
   },
   {
    "duration": 22,
    "start_time": "2022-06-29T04:52:29.012Z"
   },
   {
    "duration": 52,
    "start_time": "2022-06-29T04:52:29.035Z"
   },
   {
    "duration": 0,
    "start_time": "2022-06-29T04:52:29.089Z"
   },
   {
    "duration": 0,
    "start_time": "2022-06-29T04:52:29.092Z"
   },
   {
    "duration": 0,
    "start_time": "2022-06-29T04:52:29.093Z"
   },
   {
    "duration": 0,
    "start_time": "2022-06-29T04:52:29.095Z"
   },
   {
    "duration": 5,
    "start_time": "2022-06-29T04:52:39.999Z"
   },
   {
    "duration": 4,
    "start_time": "2022-06-29T04:52:42.374Z"
   },
   {
    "duration": 5,
    "start_time": "2022-06-29T04:52:44.540Z"
   },
   {
    "duration": 3,
    "start_time": "2022-06-29T04:52:47.007Z"
   },
   {
    "duration": 5704,
    "start_time": "2022-06-29T04:52:49.429Z"
   },
   {
    "duration": 5832,
    "start_time": "2022-06-29T04:53:08.868Z"
   },
   {
    "duration": 5579,
    "start_time": "2022-06-29T04:53:21.913Z"
   },
   {
    "duration": 7,
    "start_time": "2022-06-29T04:53:41.319Z"
   },
   {
    "duration": 4,
    "start_time": "2022-06-29T04:54:52.441Z"
   },
   {
    "duration": 21,
    "start_time": "2022-06-29T04:54:52.447Z"
   },
   {
    "duration": 9,
    "start_time": "2022-06-29T04:54:52.470Z"
   },
   {
    "duration": 15,
    "start_time": "2022-06-29T04:54:52.481Z"
   },
   {
    "duration": 6,
    "start_time": "2022-06-29T04:54:52.498Z"
   },
   {
    "duration": 9,
    "start_time": "2022-06-29T04:54:52.505Z"
   },
   {
    "duration": 14,
    "start_time": "2022-06-29T04:54:52.515Z"
   },
   {
    "duration": 24,
    "start_time": "2022-06-29T04:54:52.531Z"
   },
   {
    "duration": 8,
    "start_time": "2022-06-29T04:54:52.557Z"
   },
   {
    "duration": 7,
    "start_time": "2022-06-29T04:54:52.567Z"
   },
   {
    "duration": 9,
    "start_time": "2022-06-29T04:54:52.575Z"
   },
   {
    "duration": 8,
    "start_time": "2022-06-29T04:54:52.585Z"
   },
   {
    "duration": 26,
    "start_time": "2022-06-29T04:54:52.595Z"
   },
   {
    "duration": 159,
    "start_time": "2022-06-29T04:54:52.633Z"
   },
   {
    "duration": 140,
    "start_time": "2022-06-29T04:54:52.794Z"
   },
   {
    "duration": 1525,
    "start_time": "2022-06-29T04:54:52.942Z"
   },
   {
    "duration": 4,
    "start_time": "2022-06-29T04:54:54.469Z"
   },
   {
    "duration": 20,
    "start_time": "2022-06-29T04:54:54.475Z"
   },
   {
    "duration": 13,
    "start_time": "2022-06-29T04:54:54.497Z"
   },
   {
    "duration": 18,
    "start_time": "2022-06-29T04:54:54.512Z"
   },
   {
    "duration": 15,
    "start_time": "2022-06-29T04:54:54.532Z"
   },
   {
    "duration": 15,
    "start_time": "2022-06-29T04:54:54.549Z"
   },
   {
    "duration": 4,
    "start_time": "2022-06-29T04:54:54.567Z"
   },
   {
    "duration": 9,
    "start_time": "2022-06-29T04:54:54.574Z"
   },
   {
    "duration": 7,
    "start_time": "2022-06-29T04:54:54.585Z"
   },
   {
    "duration": 4,
    "start_time": "2022-06-29T04:54:54.594Z"
   },
   {
    "duration": 5550,
    "start_time": "2022-06-29T04:54:54.600Z"
   },
   {
    "duration": 9,
    "start_time": "2022-06-29T04:55:04.871Z"
   },
   {
    "duration": 1427,
    "start_time": "2022-06-29T04:57:47.201Z"
   },
   {
    "duration": 5805,
    "start_time": "2022-06-29T04:58:10.842Z"
   },
   {
    "duration": 12,
    "start_time": "2022-06-29T04:58:19.934Z"
   },
   {
    "duration": 4,
    "start_time": "2022-06-29T04:58:45.796Z"
   },
   {
    "duration": 19,
    "start_time": "2022-06-29T04:58:45.803Z"
   },
   {
    "duration": 18,
    "start_time": "2022-06-29T04:58:45.824Z"
   },
   {
    "duration": 20,
    "start_time": "2022-06-29T04:58:45.843Z"
   },
   {
    "duration": 6,
    "start_time": "2022-06-29T04:58:45.865Z"
   },
   {
    "duration": 9,
    "start_time": "2022-06-29T04:58:45.872Z"
   },
   {
    "duration": 7,
    "start_time": "2022-06-29T04:58:45.882Z"
   },
   {
    "duration": 9,
    "start_time": "2022-06-29T04:58:45.891Z"
   },
   {
    "duration": 7,
    "start_time": "2022-06-29T04:58:45.901Z"
   },
   {
    "duration": 17,
    "start_time": "2022-06-29T04:58:45.927Z"
   },
   {
    "duration": 9,
    "start_time": "2022-06-29T04:58:45.947Z"
   },
   {
    "duration": 9,
    "start_time": "2022-06-29T04:58:45.958Z"
   },
   {
    "duration": 25,
    "start_time": "2022-06-29T04:58:45.969Z"
   },
   {
    "duration": 188,
    "start_time": "2022-06-29T04:58:45.997Z"
   },
   {
    "duration": 203,
    "start_time": "2022-06-29T04:58:46.187Z"
   },
   {
    "duration": 1712,
    "start_time": "2022-06-29T04:58:46.393Z"
   },
   {
    "duration": 4,
    "start_time": "2022-06-29T04:58:48.106Z"
   },
   {
    "duration": 24,
    "start_time": "2022-06-29T04:58:48.111Z"
   },
   {
    "duration": 20,
    "start_time": "2022-06-29T04:58:48.140Z"
   },
   {
    "duration": 6,
    "start_time": "2022-06-29T04:58:48.162Z"
   },
   {
    "duration": 7,
    "start_time": "2022-06-29T04:58:48.169Z"
   },
   {
    "duration": 12,
    "start_time": "2022-06-29T04:58:48.177Z"
   },
   {
    "duration": 5,
    "start_time": "2022-06-29T04:58:48.191Z"
   },
   {
    "duration": 5,
    "start_time": "2022-06-29T04:58:48.198Z"
   },
   {
    "duration": 6,
    "start_time": "2022-06-29T04:58:48.205Z"
   },
   {
    "duration": 4,
    "start_time": "2022-06-29T04:58:48.212Z"
   },
   {
    "duration": 5490,
    "start_time": "2022-06-29T04:58:48.218Z"
   },
   {
    "duration": 8,
    "start_time": "2022-06-29T04:58:53.709Z"
   },
   {
    "duration": 3,
    "start_time": "2022-06-29T04:59:54.461Z"
   },
   {
    "duration": 16,
    "start_time": "2022-06-29T04:59:54.484Z"
   },
   {
    "duration": 14,
    "start_time": "2022-06-29T04:59:54.503Z"
   },
   {
    "duration": 17,
    "start_time": "2022-06-29T04:59:54.519Z"
   },
   {
    "duration": 8,
    "start_time": "2022-06-29T04:59:54.542Z"
   },
   {
    "duration": 7,
    "start_time": "2022-06-29T04:59:54.553Z"
   },
   {
    "duration": 6,
    "start_time": "2022-06-29T04:59:54.562Z"
   },
   {
    "duration": 7,
    "start_time": "2022-06-29T04:59:54.570Z"
   },
   {
    "duration": 6,
    "start_time": "2022-06-29T04:59:54.578Z"
   },
   {
    "duration": 5,
    "start_time": "2022-06-29T04:59:54.586Z"
   },
   {
    "duration": 8,
    "start_time": "2022-06-29T04:59:54.593Z"
   },
   {
    "duration": 8,
    "start_time": "2022-06-29T04:59:54.602Z"
   },
   {
    "duration": 26,
    "start_time": "2022-06-29T04:59:54.631Z"
   },
   {
    "duration": 184,
    "start_time": "2022-06-29T04:59:54.659Z"
   },
   {
    "duration": 149,
    "start_time": "2022-06-29T04:59:54.849Z"
   },
   {
    "duration": 1525,
    "start_time": "2022-06-29T04:59:55.000Z"
   },
   {
    "duration": 4,
    "start_time": "2022-06-29T04:59:56.530Z"
   },
   {
    "duration": 36,
    "start_time": "2022-06-29T04:59:56.537Z"
   },
   {
    "duration": 24,
    "start_time": "2022-06-29T04:59:56.575Z"
   },
   {
    "duration": 37,
    "start_time": "2022-06-29T04:59:56.601Z"
   },
   {
    "duration": 9,
    "start_time": "2022-06-29T04:59:56.642Z"
   },
   {
    "duration": 12,
    "start_time": "2022-06-29T04:59:56.652Z"
   },
   {
    "duration": 5,
    "start_time": "2022-06-29T04:59:56.665Z"
   },
   {
    "duration": 6,
    "start_time": "2022-06-29T04:59:56.672Z"
   },
   {
    "duration": 12,
    "start_time": "2022-06-29T04:59:56.679Z"
   },
   {
    "duration": 10,
    "start_time": "2022-06-29T04:59:56.693Z"
   },
   {
    "duration": 51945,
    "start_time": "2022-06-29T04:59:56.704Z"
   },
   {
    "duration": 8,
    "start_time": "2022-06-29T05:00:48.651Z"
   },
   {
    "duration": 12610,
    "start_time": "2022-06-29T05:00:48.727Z"
   },
   {
    "duration": 14313,
    "start_time": "2022-06-29T05:01:01.339Z"
   },
   {
    "duration": 231,
    "start_time": "2022-06-29T05:01:15.655Z"
   },
   {
    "duration": 1384,
    "start_time": "2022-06-29T05:01:15.887Z"
   },
   {
    "duration": 48797,
    "start_time": "2022-06-29T05:01:30.551Z"
   },
   {
    "duration": 13,
    "start_time": "2022-06-29T05:02:26.084Z"
   },
   {
    "duration": 4,
    "start_time": "2022-06-29T05:02:50.843Z"
   },
   {
    "duration": 19,
    "start_time": "2022-06-29T05:02:50.850Z"
   },
   {
    "duration": 12,
    "start_time": "2022-06-29T05:02:50.871Z"
   },
   {
    "duration": 23,
    "start_time": "2022-06-29T05:02:50.885Z"
   },
   {
    "duration": 5,
    "start_time": "2022-06-29T05:02:50.911Z"
   },
   {
    "duration": 7,
    "start_time": "2022-06-29T05:02:50.917Z"
   },
   {
    "duration": 28,
    "start_time": "2022-06-29T05:02:50.926Z"
   },
   {
    "duration": 13,
    "start_time": "2022-06-29T05:02:50.956Z"
   },
   {
    "duration": 9,
    "start_time": "2022-06-29T05:02:50.971Z"
   },
   {
    "duration": 9,
    "start_time": "2022-06-29T05:02:50.982Z"
   },
   {
    "duration": 10,
    "start_time": "2022-06-29T05:02:50.993Z"
   },
   {
    "duration": 19,
    "start_time": "2022-06-29T05:02:51.005Z"
   },
   {
    "duration": 51,
    "start_time": "2022-06-29T05:02:51.026Z"
   },
   {
    "duration": 161,
    "start_time": "2022-06-29T05:02:51.081Z"
   },
   {
    "duration": 140,
    "start_time": "2022-06-29T05:02:51.243Z"
   },
   {
    "duration": 1690,
    "start_time": "2022-06-29T05:02:51.384Z"
   },
   {
    "duration": 5,
    "start_time": "2022-06-29T05:02:53.076Z"
   },
   {
    "duration": 12,
    "start_time": "2022-06-29T05:02:53.083Z"
   },
   {
    "duration": 43,
    "start_time": "2022-06-29T05:02:53.097Z"
   },
   {
    "duration": 8,
    "start_time": "2022-06-29T05:02:53.143Z"
   },
   {
    "duration": 15,
    "start_time": "2022-06-29T05:02:53.153Z"
   },
   {
    "duration": 12,
    "start_time": "2022-06-29T05:02:53.170Z"
   },
   {
    "duration": 4,
    "start_time": "2022-06-29T05:02:53.183Z"
   },
   {
    "duration": 6,
    "start_time": "2022-06-29T05:02:53.189Z"
   },
   {
    "duration": 9,
    "start_time": "2022-06-29T05:02:53.197Z"
   },
   {
    "duration": 6,
    "start_time": "2022-06-29T05:02:53.208Z"
   },
   {
    "duration": 29028,
    "start_time": "2022-06-29T05:02:53.215Z"
   },
   {
    "duration": 0,
    "start_time": "2022-06-29T05:03:22.245Z"
   },
   {
    "duration": 5,
    "start_time": "2022-06-29T05:03:26.191Z"
   },
   {
    "duration": 40,
    "start_time": "2022-06-29T05:03:26.198Z"
   },
   {
    "duration": 18,
    "start_time": "2022-06-29T05:03:26.240Z"
   },
   {
    "duration": 36,
    "start_time": "2022-06-29T05:03:26.260Z"
   },
   {
    "duration": 9,
    "start_time": "2022-06-29T05:03:26.299Z"
   },
   {
    "duration": 11,
    "start_time": "2022-06-29T05:03:26.310Z"
   },
   {
    "duration": 11,
    "start_time": "2022-06-29T05:03:26.323Z"
   },
   {
    "duration": 31,
    "start_time": "2022-06-29T05:03:26.337Z"
   },
   {
    "duration": 13,
    "start_time": "2022-06-29T05:03:26.370Z"
   },
   {
    "duration": 8,
    "start_time": "2022-06-29T05:03:26.386Z"
   },
   {
    "duration": 11,
    "start_time": "2022-06-29T05:03:26.396Z"
   },
   {
    "duration": 12,
    "start_time": "2022-06-29T05:03:26.409Z"
   },
   {
    "duration": 37,
    "start_time": "2022-06-29T05:03:26.423Z"
   },
   {
    "duration": 215,
    "start_time": "2022-06-29T05:03:26.466Z"
   },
   {
    "duration": 134,
    "start_time": "2022-06-29T05:03:26.683Z"
   },
   {
    "duration": 1420,
    "start_time": "2022-06-29T05:03:26.829Z"
   },
   {
    "duration": 4,
    "start_time": "2022-06-29T05:03:28.251Z"
   },
   {
    "duration": 13,
    "start_time": "2022-06-29T05:03:28.257Z"
   },
   {
    "duration": 16,
    "start_time": "2022-06-29T05:03:28.272Z"
   },
   {
    "duration": 8,
    "start_time": "2022-06-29T05:03:28.290Z"
   },
   {
    "duration": 7,
    "start_time": "2022-06-29T05:03:28.300Z"
   },
   {
    "duration": 42,
    "start_time": "2022-06-29T05:03:28.309Z"
   },
   {
    "duration": 4,
    "start_time": "2022-06-29T05:03:28.354Z"
   },
   {
    "duration": 5,
    "start_time": "2022-06-29T05:03:28.360Z"
   },
   {
    "duration": 5,
    "start_time": "2022-06-29T05:03:28.367Z"
   },
   {
    "duration": 4,
    "start_time": "2022-06-29T05:03:28.374Z"
   },
   {
    "duration": 48571,
    "start_time": "2022-06-29T05:03:28.379Z"
   },
   {
    "duration": 8,
    "start_time": "2022-06-29T05:04:16.951Z"
   },
   {
    "duration": 12085,
    "start_time": "2022-06-29T05:04:16.962Z"
   },
   {
    "duration": 11491,
    "start_time": "2022-06-29T05:04:29.049Z"
   },
   {
    "duration": 205,
    "start_time": "2022-06-29T05:04:40.542Z"
   },
   {
    "duration": 1409,
    "start_time": "2022-06-29T05:04:40.749Z"
   },
   {
    "duration": 1202,
    "start_time": "2022-06-29T05:11:14.680Z"
   },
   {
    "duration": 20423,
    "start_time": "2022-06-29T05:15:29.148Z"
   },
   {
    "duration": 1299,
    "start_time": "2022-06-29T05:15:53.909Z"
   },
   {
    "duration": 16860,
    "start_time": "2022-06-29T05:16:27.881Z"
   },
   {
    "duration": 1297,
    "start_time": "2022-06-29T05:16:48.951Z"
   },
   {
    "duration": 3,
    "start_time": "2022-06-29T05:22:22.255Z"
   },
   {
    "duration": 26,
    "start_time": "2022-06-29T05:22:22.260Z"
   },
   {
    "duration": 10,
    "start_time": "2022-06-29T05:22:22.287Z"
   },
   {
    "duration": 15,
    "start_time": "2022-06-29T05:22:22.298Z"
   },
   {
    "duration": 4,
    "start_time": "2022-06-29T05:22:22.315Z"
   },
   {
    "duration": 31,
    "start_time": "2022-06-29T05:22:22.321Z"
   },
   {
    "duration": 6,
    "start_time": "2022-06-29T05:22:22.354Z"
   },
   {
    "duration": 8,
    "start_time": "2022-06-29T05:22:22.361Z"
   },
   {
    "duration": 6,
    "start_time": "2022-06-29T05:22:22.370Z"
   },
   {
    "duration": 7,
    "start_time": "2022-06-29T05:22:22.377Z"
   },
   {
    "duration": 8,
    "start_time": "2022-06-29T05:22:22.386Z"
   },
   {
    "duration": 14,
    "start_time": "2022-06-29T05:22:22.395Z"
   },
   {
    "duration": 28,
    "start_time": "2022-06-29T05:22:22.411Z"
   },
   {
    "duration": 157,
    "start_time": "2022-06-29T05:22:22.443Z"
   },
   {
    "duration": 150,
    "start_time": "2022-06-29T05:22:22.602Z"
   },
   {
    "duration": 1734,
    "start_time": "2022-06-29T05:22:22.754Z"
   },
   {
    "duration": 3,
    "start_time": "2022-06-29T05:22:24.490Z"
   },
   {
    "duration": 12,
    "start_time": "2022-06-29T05:22:24.495Z"
   },
   {
    "duration": 31,
    "start_time": "2022-06-29T05:22:24.508Z"
   },
   {
    "duration": 21,
    "start_time": "2022-06-29T05:22:24.541Z"
   },
   {
    "duration": 9,
    "start_time": "2022-06-29T05:22:24.564Z"
   },
   {
    "duration": 10,
    "start_time": "2022-06-29T05:22:24.575Z"
   },
   {
    "duration": 4,
    "start_time": "2022-06-29T05:22:24.586Z"
   },
   {
    "duration": 4,
    "start_time": "2022-06-29T05:22:24.592Z"
   },
   {
    "duration": 7,
    "start_time": "2022-06-29T05:22:24.598Z"
   },
   {
    "duration": 13,
    "start_time": "2022-06-29T05:22:24.606Z"
   },
   {
    "duration": 67418,
    "start_time": "2022-06-29T05:22:24.620Z"
   },
   {
    "duration": 9,
    "start_time": "2022-06-29T05:23:32.042Z"
   },
   {
    "duration": 15801,
    "start_time": "2022-06-29T05:23:32.053Z"
   },
   {
    "duration": 1248,
    "start_time": "2022-06-29T05:23:47.856Z"
   },
   {
    "duration": 14537,
    "start_time": "2022-06-29T05:23:49.106Z"
   },
   {
    "duration": 217,
    "start_time": "2022-06-29T05:24:03.645Z"
   },
   {
    "duration": 1462,
    "start_time": "2022-06-29T05:24:03.864Z"
   },
   {
    "duration": 1220,
    "start_time": "2022-06-29T05:26:38.524Z"
   },
   {
    "duration": 1498,
    "start_time": "2022-06-29T05:26:53.623Z"
   },
   {
    "duration": 1414,
    "start_time": "2022-06-29T05:27:06.169Z"
   },
   {
    "duration": 1308,
    "start_time": "2022-06-29T05:27:13.640Z"
   },
   {
    "duration": 156,
    "start_time": "2022-06-29T05:28:26.548Z"
   },
   {
    "duration": 136,
    "start_time": "2022-06-29T05:28:55.123Z"
   },
   {
    "duration": 166,
    "start_time": "2022-06-29T05:29:00.571Z"
   },
   {
    "duration": 5,
    "start_time": "2022-06-29T05:29:37.245Z"
   },
   {
    "duration": 44,
    "start_time": "2022-06-29T05:29:37.252Z"
   },
   {
    "duration": 12,
    "start_time": "2022-06-29T05:29:37.298Z"
   },
   {
    "duration": 51,
    "start_time": "2022-06-29T05:29:37.312Z"
   },
   {
    "duration": 13,
    "start_time": "2022-06-29T05:29:37.366Z"
   },
   {
    "duration": 12,
    "start_time": "2022-06-29T05:29:37.381Z"
   },
   {
    "duration": 12,
    "start_time": "2022-06-29T05:29:37.395Z"
   },
   {
    "duration": 15,
    "start_time": "2022-06-29T05:29:37.410Z"
   },
   {
    "duration": 34,
    "start_time": "2022-06-29T05:29:37.427Z"
   },
   {
    "duration": 10,
    "start_time": "2022-06-29T05:29:37.463Z"
   },
   {
    "duration": 15,
    "start_time": "2022-06-29T05:29:37.475Z"
   },
   {
    "duration": 13,
    "start_time": "2022-06-29T05:29:37.492Z"
   },
   {
    "duration": 31,
    "start_time": "2022-06-29T05:29:37.506Z"
   },
   {
    "duration": 195,
    "start_time": "2022-06-29T05:29:37.540Z"
   },
   {
    "duration": 138,
    "start_time": "2022-06-29T05:29:37.742Z"
   },
   {
    "duration": 1621,
    "start_time": "2022-06-29T05:29:37.883Z"
   },
   {
    "duration": 4,
    "start_time": "2022-06-29T05:29:39.506Z"
   },
   {
    "duration": 27,
    "start_time": "2022-06-29T05:29:39.511Z"
   },
   {
    "duration": 16,
    "start_time": "2022-06-29T05:29:39.541Z"
   },
   {
    "duration": 7,
    "start_time": "2022-06-29T05:29:39.559Z"
   },
   {
    "duration": 8,
    "start_time": "2022-06-29T05:29:39.567Z"
   },
   {
    "duration": 12,
    "start_time": "2022-06-29T05:29:39.577Z"
   },
   {
    "duration": 3,
    "start_time": "2022-06-29T05:29:39.591Z"
   },
   {
    "duration": 8,
    "start_time": "2022-06-29T05:29:39.596Z"
   },
   {
    "duration": 6,
    "start_time": "2022-06-29T05:29:39.605Z"
   },
   {
    "duration": 10,
    "start_time": "2022-06-29T05:29:39.613Z"
   },
   {
    "duration": 49017,
    "start_time": "2022-06-29T05:29:39.624Z"
   },
   {
    "duration": 8,
    "start_time": "2022-06-29T05:30:28.650Z"
   },
   {
    "duration": 12096,
    "start_time": "2022-06-29T05:30:28.660Z"
   },
   {
    "duration": 1264,
    "start_time": "2022-06-29T05:30:40.758Z"
   },
   {
    "duration": 1366,
    "start_time": "2022-06-29T05:30:42.028Z"
   },
   {
    "duration": 163,
    "start_time": "2022-06-29T05:30:43.396Z"
   },
   {
    "duration": 1401,
    "start_time": "2022-06-29T05:30:43.561Z"
   },
   {
    "duration": 1444,
    "start_time": "2022-06-29T14:01:13.395Z"
   },
   {
    "duration": 4,
    "start_time": "2022-06-29T14:01:26.009Z"
   },
   {
    "duration": 26,
    "start_time": "2022-06-29T14:01:26.015Z"
   },
   {
    "duration": 10,
    "start_time": "2022-06-29T14:01:26.043Z"
   },
   {
    "duration": 13,
    "start_time": "2022-06-29T14:01:26.054Z"
   },
   {
    "duration": 5,
    "start_time": "2022-06-29T14:01:26.070Z"
   },
   {
    "duration": 6,
    "start_time": "2022-06-29T14:01:26.076Z"
   },
   {
    "duration": 19,
    "start_time": "2022-06-29T14:01:26.083Z"
   },
   {
    "duration": 39,
    "start_time": "2022-06-29T14:01:26.104Z"
   },
   {
    "duration": 18,
    "start_time": "2022-06-29T14:01:26.147Z"
   },
   {
    "duration": 22,
    "start_time": "2022-06-29T14:01:26.167Z"
   },
   {
    "duration": 23,
    "start_time": "2022-06-29T14:01:26.190Z"
   },
   {
    "duration": 35,
    "start_time": "2022-06-29T14:01:26.215Z"
   },
   {
    "duration": 33,
    "start_time": "2022-06-29T14:01:26.252Z"
   },
   {
    "duration": 172,
    "start_time": "2022-06-29T14:01:26.288Z"
   },
   {
    "duration": 168,
    "start_time": "2022-06-29T14:01:26.464Z"
   },
   {
    "duration": 1555,
    "start_time": "2022-06-29T14:01:26.634Z"
   },
   {
    "duration": 4,
    "start_time": "2022-06-29T14:01:28.190Z"
   },
   {
    "duration": 25,
    "start_time": "2022-06-29T14:01:28.196Z"
   },
   {
    "duration": 31,
    "start_time": "2022-06-29T14:01:28.223Z"
   },
   {
    "duration": 9,
    "start_time": "2022-06-29T14:01:28.256Z"
   },
   {
    "duration": 6,
    "start_time": "2022-06-29T14:01:28.267Z"
   },
   {
    "duration": 10,
    "start_time": "2022-06-29T14:01:28.275Z"
   },
   {
    "duration": 12,
    "start_time": "2022-06-29T14:01:28.287Z"
   },
   {
    "duration": 5,
    "start_time": "2022-06-29T14:01:28.300Z"
   },
   {
    "duration": 7,
    "start_time": "2022-06-29T14:01:28.306Z"
   },
   {
    "duration": 5,
    "start_time": "2022-06-29T14:01:28.314Z"
   },
   {
    "duration": 41716,
    "start_time": "2022-06-29T14:01:28.321Z"
   },
   {
    "duration": 9,
    "start_time": "2022-06-29T14:02:10.039Z"
   },
   {
    "duration": 10592,
    "start_time": "2022-06-29T14:02:10.049Z"
   },
   {
    "duration": 1175,
    "start_time": "2022-06-29T14:02:20.643Z"
   },
   {
    "duration": 1403,
    "start_time": "2022-06-29T14:02:21.819Z"
   },
   {
    "duration": 159,
    "start_time": "2022-06-29T14:02:23.227Z"
   },
   {
    "duration": 1481,
    "start_time": "2022-06-29T14:02:23.388Z"
   },
   {
    "duration": 177,
    "start_time": "2022-06-29T14:03:56.373Z"
   },
   {
    "duration": 165,
    "start_time": "2022-06-29T14:04:17.113Z"
   },
   {
    "duration": 4,
    "start_time": "2022-06-29T14:06:51.073Z"
   },
   {
    "duration": 3,
    "start_time": "2022-06-29T14:09:12.483Z"
   },
   {
    "duration": 4,
    "start_time": "2022-06-29T14:09:14.970Z"
   },
   {
    "duration": 134785,
    "start_time": "2022-06-29T14:09:19.864Z"
   },
   {
    "duration": 4,
    "start_time": "2022-06-29T14:11:58.794Z"
   },
   {
    "duration": 8,
    "start_time": "2022-06-29T14:12:02.463Z"
   },
   {
    "duration": 4,
    "start_time": "2022-06-29T14:12:27.158Z"
   },
   {
    "duration": 24,
    "start_time": "2022-06-29T14:12:27.164Z"
   },
   {
    "duration": 10,
    "start_time": "2022-06-29T14:12:27.190Z"
   },
   {
    "duration": 13,
    "start_time": "2022-06-29T14:12:27.203Z"
   },
   {
    "duration": 14,
    "start_time": "2022-06-29T14:12:27.219Z"
   },
   {
    "duration": 13,
    "start_time": "2022-06-29T14:12:27.234Z"
   },
   {
    "duration": 8,
    "start_time": "2022-06-29T14:12:27.248Z"
   },
   {
    "duration": 8,
    "start_time": "2022-06-29T14:12:27.257Z"
   },
   {
    "duration": 5,
    "start_time": "2022-06-29T14:12:27.267Z"
   },
   {
    "duration": 7,
    "start_time": "2022-06-29T14:12:27.273Z"
   },
   {
    "duration": 11,
    "start_time": "2022-06-29T14:12:27.282Z"
   },
   {
    "duration": 8,
    "start_time": "2022-06-29T14:12:27.295Z"
   },
   {
    "duration": 38,
    "start_time": "2022-06-29T14:12:27.305Z"
   },
   {
    "duration": 153,
    "start_time": "2022-06-29T14:12:27.345Z"
   },
   {
    "duration": 141,
    "start_time": "2022-06-29T14:12:27.499Z"
   },
   {
    "duration": 1471,
    "start_time": "2022-06-29T14:12:27.642Z"
   },
   {
    "duration": 14,
    "start_time": "2022-06-29T14:12:29.115Z"
   },
   {
    "duration": 28,
    "start_time": "2022-06-29T14:12:29.130Z"
   },
   {
    "duration": 12,
    "start_time": "2022-06-29T14:12:29.160Z"
   },
   {
    "duration": 8,
    "start_time": "2022-06-29T14:12:29.173Z"
   },
   {
    "duration": 8,
    "start_time": "2022-06-29T14:12:29.182Z"
   },
   {
    "duration": 10,
    "start_time": "2022-06-29T14:12:29.191Z"
   },
   {
    "duration": 6,
    "start_time": "2022-06-29T14:12:29.203Z"
   },
   {
    "duration": 35,
    "start_time": "2022-06-29T14:12:29.211Z"
   },
   {
    "duration": 6,
    "start_time": "2022-06-29T14:12:29.248Z"
   },
   {
    "duration": 6,
    "start_time": "2022-06-29T14:12:29.255Z"
   },
   {
    "duration": 39882,
    "start_time": "2022-06-29T14:12:29.263Z"
   },
   {
    "duration": 10,
    "start_time": "2022-06-29T14:13:09.147Z"
   },
   {
    "duration": 10691,
    "start_time": "2022-06-29T14:13:09.162Z"
   },
   {
    "duration": 1181,
    "start_time": "2022-06-29T14:13:19.929Z"
   },
   {
    "duration": 1374,
    "start_time": "2022-06-29T14:13:21.112Z"
   },
   {
    "duration": 175,
    "start_time": "2022-06-29T14:13:22.489Z"
   },
   {
    "duration": 3,
    "start_time": "2022-06-29T14:13:22.666Z"
   },
   {
    "duration": 6,
    "start_time": "2022-06-29T14:13:22.671Z"
   },
   {
    "duration": 131366,
    "start_time": "2022-06-29T14:13:22.679Z"
   },
   {
    "duration": 4,
    "start_time": "2022-06-29T14:15:34.046Z"
   },
   {
    "duration": 42,
    "start_time": "2022-06-29T14:15:34.052Z"
   },
   {
    "duration": 1471,
    "start_time": "2022-06-29T14:15:34.097Z"
   },
   {
    "duration": 10,
    "start_time": "2022-06-29T14:16:05.257Z"
   },
   {
    "duration": 21,
    "start_time": "2022-06-29T14:16:26.788Z"
   },
   {
    "duration": 98,
    "start_time": "2022-06-29T14:16:57.521Z"
   },
   {
    "duration": 4,
    "start_time": "2022-06-29T14:17:03.541Z"
   },
   {
    "duration": 7,
    "start_time": "2022-06-29T14:17:06.669Z"
   },
   {
    "duration": 8,
    "start_time": "2022-06-29T14:17:11.907Z"
   },
   {
    "duration": 9,
    "start_time": "2022-06-29T14:17:22.367Z"
   },
   {
    "duration": 2,
    "start_time": "2022-06-29T14:19:28.703Z"
   },
   {
    "duration": 4,
    "start_time": "2022-06-29T14:19:38.220Z"
   },
   {
    "duration": 111271,
    "start_time": "2022-06-29T14:21:44.970Z"
   },
   {
    "duration": 112611,
    "start_time": "2022-06-29T14:25:17.623Z"
   },
   {
    "duration": 16,
    "start_time": "2022-06-29T14:28:05.081Z"
   },
   {
    "duration": 3,
    "start_time": "2022-06-29T14:28:15.971Z"
   },
   {
    "duration": 101835,
    "start_time": "2022-06-29T14:28:18.002Z"
   },
   {
    "duration": 20,
    "start_time": "2022-06-29T14:30:27.369Z"
   },
   {
    "duration": 3,
    "start_time": "2022-06-29T14:30:31.019Z"
   },
   {
    "duration": 4,
    "start_time": "2022-06-29T14:30:34.509Z"
   },
   {
    "duration": 121932,
    "start_time": "2022-06-29T14:30:37.013Z"
   },
   {
    "duration": 12,
    "start_time": "2022-06-29T14:33:17.262Z"
   },
   {
    "duration": 9,
    "start_time": "2022-06-29T14:33:21.304Z"
   },
   {
    "duration": 5,
    "start_time": "2022-06-29T14:33:30.982Z"
   },
   {
    "duration": 4,
    "start_time": "2022-06-29T14:33:33.293Z"
   },
   {
    "duration": 119144,
    "start_time": "2022-06-29T14:33:41.903Z"
   },
   {
    "duration": 20409,
    "start_time": "2022-06-29T14:36:31.529Z"
   },
   {
    "duration": 3,
    "start_time": "2022-06-29T14:36:55.590Z"
   },
   {
    "duration": 5,
    "start_time": "2022-06-29T14:36:57.429Z"
   },
   {
    "duration": 115747,
    "start_time": "2022-06-29T14:37:00.787Z"
   },
   {
    "duration": 9,
    "start_time": "2022-06-29T14:39:48.256Z"
   },
   {
    "duration": 8,
    "start_time": "2022-06-29T14:39:52.159Z"
   },
   {
    "duration": 5,
    "start_time": "2022-06-29T14:42:40.070Z"
   },
   {
    "duration": 12574,
    "start_time": "2022-06-29T14:42:43.664Z"
   },
   {
    "duration": 4,
    "start_time": "2022-06-29T14:43:22.923Z"
   },
   {
    "duration": 18,
    "start_time": "2022-06-29T14:43:22.929Z"
   },
   {
    "duration": 9,
    "start_time": "2022-06-29T14:43:22.948Z"
   },
   {
    "duration": 12,
    "start_time": "2022-06-29T14:43:22.959Z"
   },
   {
    "duration": 5,
    "start_time": "2022-06-29T14:43:22.974Z"
   },
   {
    "duration": 7,
    "start_time": "2022-06-29T14:43:22.980Z"
   },
   {
    "duration": 9,
    "start_time": "2022-06-29T14:43:22.989Z"
   },
   {
    "duration": 28,
    "start_time": "2022-06-29T14:43:23.000Z"
   },
   {
    "duration": 4,
    "start_time": "2022-06-29T14:43:23.031Z"
   },
   {
    "duration": 9,
    "start_time": "2022-06-29T14:43:23.037Z"
   },
   {
    "duration": 9,
    "start_time": "2022-06-29T14:43:23.047Z"
   },
   {
    "duration": 7,
    "start_time": "2022-06-29T14:43:23.057Z"
   },
   {
    "duration": 21,
    "start_time": "2022-06-29T14:43:23.066Z"
   },
   {
    "duration": 185,
    "start_time": "2022-06-29T14:43:23.090Z"
   },
   {
    "duration": 138,
    "start_time": "2022-06-29T14:43:23.277Z"
   },
   {
    "duration": 1424,
    "start_time": "2022-06-29T14:43:23.417Z"
   },
   {
    "duration": 6,
    "start_time": "2022-06-29T14:43:24.843Z"
   },
   {
    "duration": 17,
    "start_time": "2022-06-29T14:43:24.850Z"
   },
   {
    "duration": 33,
    "start_time": "2022-06-29T14:43:24.869Z"
   },
   {
    "duration": 13,
    "start_time": "2022-06-29T14:43:24.904Z"
   },
   {
    "duration": 10,
    "start_time": "2022-06-29T14:43:24.919Z"
   },
   {
    "duration": 12,
    "start_time": "2022-06-29T14:43:24.931Z"
   },
   {
    "duration": 9,
    "start_time": "2022-06-29T14:43:24.944Z"
   },
   {
    "duration": 3,
    "start_time": "2022-06-29T14:43:24.956Z"
   },
   {
    "duration": 8,
    "start_time": "2022-06-29T14:43:24.960Z"
   },
   {
    "duration": 10,
    "start_time": "2022-06-29T14:43:24.969Z"
   },
   {
    "duration": 35860,
    "start_time": "2022-06-29T14:43:24.980Z"
   },
   {
    "duration": 9,
    "start_time": "2022-06-29T14:44:00.841Z"
   },
   {
    "duration": 9076,
    "start_time": "2022-06-29T14:44:00.851Z"
   },
   {
    "duration": 1193,
    "start_time": "2022-06-29T14:44:09.929Z"
   },
   {
    "duration": 1352,
    "start_time": "2022-06-29T14:44:11.123Z"
   },
   {
    "duration": 176,
    "start_time": "2022-06-29T14:44:12.477Z"
   },
   {
    "duration": 3,
    "start_time": "2022-06-29T14:44:12.655Z"
   },
   {
    "duration": 8,
    "start_time": "2022-06-29T14:44:12.659Z"
   },
   {
    "duration": 112970,
    "start_time": "2022-06-29T14:44:12.669Z"
   },
   {
    "duration": 9,
    "start_time": "2022-06-29T14:46:05.641Z"
   },
   {
    "duration": 16,
    "start_time": "2022-06-29T14:46:05.652Z"
   },
   {
    "duration": 11,
    "start_time": "2022-06-29T14:46:05.670Z"
   },
   {
    "duration": 16,
    "start_time": "2022-06-29T14:46:05.728Z"
   },
   {
    "duration": 109495,
    "start_time": "2022-06-29T14:46:05.745Z"
   },
   {
    "duration": 9,
    "start_time": "2022-06-29T14:47:55.242Z"
   },
   {
    "duration": 29,
    "start_time": "2022-06-29T14:47:55.253Z"
   },
   {
    "duration": 46,
    "start_time": "2022-06-29T14:47:55.284Z"
   },
   {
    "duration": 13201,
    "start_time": "2022-06-29T14:47:55.332Z"
   },
   {
    "duration": 1448,
    "start_time": "2022-06-29T14:48:08.535Z"
   },
   {
    "duration": 4,
    "start_time": "2022-06-29T14:48:14.601Z"
   },
   {
    "duration": 8679,
    "start_time": "2022-06-29T14:48:22.755Z"
   },
   {
    "duration": 10,
    "start_time": "2022-06-29T14:50:00.636Z"
   },
   {
    "duration": 10,
    "start_time": "2022-06-29T14:50:04.743Z"
   },
   {
    "duration": 5,
    "start_time": "2022-06-29T14:50:38.796Z"
   },
   {
    "duration": 19264,
    "start_time": "2022-06-29T14:50:46.872Z"
   },
   {
    "duration": 1259,
    "start_time": "2022-06-29T14:51:35.593Z"
   },
   {
    "duration": 1431,
    "start_time": "2022-06-29T14:53:05.758Z"
   },
   {
    "duration": 1601,
    "start_time": "2022-06-29T14:53:39.055Z"
   },
   {
    "duration": 1325,
    "start_time": "2022-06-29T14:53:55.286Z"
   },
   {
    "duration": 1360,
    "start_time": "2022-06-29T14:54:08.133Z"
   },
   {
    "duration": 1404,
    "start_time": "2022-06-29T14:54:25.336Z"
   },
   {
    "duration": 1564,
    "start_time": "2022-06-29T14:54:31.560Z"
   },
   {
    "duration": 358,
    "start_time": "2022-06-29T14:55:56.069Z"
   },
   {
    "duration": 1350,
    "start_time": "2022-06-29T14:56:35.634Z"
   },
   {
    "duration": 1532,
    "start_time": "2022-06-29T14:56:44.128Z"
   },
   {
    "duration": 1280,
    "start_time": "2022-06-29T14:57:12.208Z"
   },
   {
    "duration": 1297,
    "start_time": "2022-06-29T15:05:23.922Z"
   },
   {
    "duration": 1551,
    "start_time": "2022-06-29T15:06:02.162Z"
   },
   {
    "duration": 1353,
    "start_time": "2022-06-29T15:06:12.400Z"
   },
   {
    "duration": 1387,
    "start_time": "2022-06-29T15:06:25.662Z"
   },
   {
    "duration": 1576,
    "start_time": "2022-06-29T15:07:08.193Z"
   },
   {
    "duration": 1315,
    "start_time": "2022-06-29T15:07:30.731Z"
   },
   {
    "duration": 1280,
    "start_time": "2022-06-29T15:07:38.093Z"
   },
   {
    "duration": 1480,
    "start_time": "2022-06-29T15:07:53.347Z"
   },
   {
    "duration": 1345,
    "start_time": "2022-06-29T15:08:01.013Z"
   },
   {
    "duration": 1322,
    "start_time": "2022-06-29T15:08:08.020Z"
   },
   {
    "duration": 1508,
    "start_time": "2022-06-29T15:08:30.966Z"
   },
   {
    "duration": 1331,
    "start_time": "2022-06-29T15:37:03.428Z"
   },
   {
    "duration": 1003,
    "start_time": "2022-06-29T15:39:00.177Z"
   },
   {
    "duration": 19,
    "start_time": "2022-06-29T15:39:23.379Z"
   },
   {
    "duration": 14,
    "start_time": "2022-06-29T15:41:44.600Z"
   },
   {
    "duration": 1285,
    "start_time": "2022-06-29T15:44:14.098Z"
   },
   {
    "duration": 1499,
    "start_time": "2022-06-29T15:44:39.946Z"
   },
   {
    "duration": 7,
    "start_time": "2022-06-29T15:46:29.073Z"
   },
   {
    "duration": 15,
    "start_time": "2022-06-29T15:46:34.379Z"
   },
   {
    "duration": 1157,
    "start_time": "2022-06-29T15:46:50.030Z"
   },
   {
    "duration": 1191,
    "start_time": "2022-06-29T15:47:12.859Z"
   },
   {
    "duration": 1367,
    "start_time": "2022-06-29T15:47:22.414Z"
   },
   {
    "duration": 1202,
    "start_time": "2022-06-29T15:47:29.018Z"
   },
   {
    "duration": 1165,
    "start_time": "2022-06-29T15:47:34.556Z"
   },
   {
    "duration": 1447,
    "start_time": "2022-06-29T15:47:46.119Z"
   },
   {
    "duration": 1388,
    "start_time": "2022-06-29T15:49:44.727Z"
   },
   {
    "duration": 1342,
    "start_time": "2022-06-29T15:50:05.747Z"
   },
   {
    "duration": 1299,
    "start_time": "2022-06-29T15:50:46.122Z"
   },
   {
    "duration": 1730,
    "start_time": "2022-06-29T15:53:57.813Z"
   },
   {
    "duration": 1277,
    "start_time": "2022-06-29T15:54:07.272Z"
   },
   {
    "duration": 523,
    "start_time": "2022-06-29T15:54:33.766Z"
   },
   {
    "duration": 1447,
    "start_time": "2022-06-29T15:54:48.987Z"
   },
   {
    "duration": 1258,
    "start_time": "2022-06-29T16:00:45.080Z"
   },
   {
    "duration": 1345,
    "start_time": "2022-06-29T16:00:56.477Z"
   },
   {
    "duration": 1246,
    "start_time": "2022-06-29T16:01:14.685Z"
   },
   {
    "duration": 1682,
    "start_time": "2022-06-29T16:01:25.198Z"
   },
   {
    "duration": 445,
    "start_time": "2022-06-29T16:02:34.129Z"
   },
   {
    "duration": 452,
    "start_time": "2022-06-29T16:04:39.369Z"
   },
   {
    "duration": 5,
    "start_time": "2022-06-29T16:06:02.425Z"
   },
   {
    "duration": 176,
    "start_time": "2022-06-29T16:06:11.412Z"
   },
   {
    "duration": 510,
    "start_time": "2022-06-29T16:06:46.918Z"
   },
   {
    "duration": 446,
    "start_time": "2022-06-29T16:07:16.982Z"
   },
   {
    "duration": 707,
    "start_time": "2022-06-29T16:07:27.518Z"
   },
   {
    "duration": 467,
    "start_time": "2022-06-29T16:07:39.161Z"
   },
   {
    "duration": 447,
    "start_time": "2022-06-29T16:07:56.650Z"
   },
   {
    "duration": 479,
    "start_time": "2022-06-29T16:08:04.335Z"
   },
   {
    "duration": 453,
    "start_time": "2022-06-29T16:08:11.809Z"
   },
   {
    "duration": 439,
    "start_time": "2022-06-29T16:08:22.819Z"
   },
   {
    "duration": 420,
    "start_time": "2022-06-29T16:08:47.774Z"
   },
   {
    "duration": 702,
    "start_time": "2022-06-29T16:08:54.673Z"
   },
   {
    "duration": 455,
    "start_time": "2022-06-29T16:09:05.521Z"
   },
   {
    "duration": 455,
    "start_time": "2022-06-29T16:09:12.786Z"
   },
   {
    "duration": 444,
    "start_time": "2022-06-29T16:09:24.112Z"
   },
   {
    "duration": 449,
    "start_time": "2022-06-29T16:09:33.006Z"
   },
   {
    "duration": 425,
    "start_time": "2022-06-29T16:09:45.674Z"
   },
   {
    "duration": 481,
    "start_time": "2022-06-29T16:10:02.099Z"
   },
   {
    "duration": 709,
    "start_time": "2022-06-29T16:10:12.564Z"
   },
   {
    "duration": 485,
    "start_time": "2022-06-29T16:10:19.019Z"
   },
   {
    "duration": 480,
    "start_time": "2022-06-29T16:10:25.786Z"
   },
   {
    "duration": 439,
    "start_time": "2022-06-29T16:10:31.756Z"
   },
   {
    "duration": 442,
    "start_time": "2022-06-29T16:10:37.835Z"
   },
   {
    "duration": 446,
    "start_time": "2022-06-29T16:10:53.928Z"
   },
   {
    "duration": 463,
    "start_time": "2022-06-29T16:11:03.731Z"
   },
   {
    "duration": 713,
    "start_time": "2022-06-29T16:11:12.594Z"
   },
   {
    "duration": 13138,
    "start_time": "2022-06-29T16:12:28.836Z"
   },
   {
    "duration": 46872,
    "start_time": "2022-06-29T16:12:53.842Z"
   },
   {
    "duration": 46624,
    "start_time": "2022-06-29T16:18:07.477Z"
   },
   {
    "duration": 469,
    "start_time": "2022-06-29T16:18:54.103Z"
   },
   {
    "duration": 372,
    "start_time": "2022-06-29T16:19:03.997Z"
   },
   {
    "duration": 18652,
    "start_time": "2022-06-29T16:20:32.786Z"
   },
   {
    "duration": 154,
    "start_time": "2022-06-29T16:21:31.790Z"
   },
   {
    "duration": 169,
    "start_time": "2022-06-29T16:21:52.758Z"
   },
   {
    "duration": 196,
    "start_time": "2022-06-29T16:22:01.556Z"
   },
   {
    "duration": 207,
    "start_time": "2022-06-29T16:22:29.861Z"
   },
   {
    "duration": 455,
    "start_time": "2022-06-29T16:22:41.658Z"
   },
   {
    "duration": 4,
    "start_time": "2022-06-29T16:22:48.027Z"
   },
   {
    "duration": 19,
    "start_time": "2022-06-29T16:22:48.033Z"
   },
   {
    "duration": 10,
    "start_time": "2022-06-29T16:22:48.053Z"
   },
   {
    "duration": 15,
    "start_time": "2022-06-29T16:22:48.066Z"
   },
   {
    "duration": 8,
    "start_time": "2022-06-29T16:22:48.083Z"
   },
   {
    "duration": 6,
    "start_time": "2022-06-29T16:22:48.093Z"
   },
   {
    "duration": 30,
    "start_time": "2022-06-29T16:22:48.100Z"
   },
   {
    "duration": 6,
    "start_time": "2022-06-29T16:22:48.131Z"
   },
   {
    "duration": 7,
    "start_time": "2022-06-29T16:22:48.139Z"
   },
   {
    "duration": 8,
    "start_time": "2022-06-29T16:22:48.147Z"
   },
   {
    "duration": 8,
    "start_time": "2022-06-29T16:22:48.156Z"
   },
   {
    "duration": 8,
    "start_time": "2022-06-29T16:22:48.165Z"
   },
   {
    "duration": 28,
    "start_time": "2022-06-29T16:22:48.174Z"
   },
   {
    "duration": 167,
    "start_time": "2022-06-29T16:22:48.204Z"
   },
   {
    "duration": 137,
    "start_time": "2022-06-29T16:22:48.373Z"
   },
   {
    "duration": 1424,
    "start_time": "2022-06-29T16:22:48.512Z"
   },
   {
    "duration": 5,
    "start_time": "2022-06-29T16:22:49.937Z"
   },
   {
    "duration": 12,
    "start_time": "2022-06-29T16:22:49.943Z"
   },
   {
    "duration": 14,
    "start_time": "2022-06-29T16:22:49.957Z"
   },
   {
    "duration": 8,
    "start_time": "2022-06-29T16:22:49.973Z"
   },
   {
    "duration": 9,
    "start_time": "2022-06-29T16:22:49.983Z"
   },
   {
    "duration": 10,
    "start_time": "2022-06-29T16:22:49.994Z"
   },
   {
    "duration": 3,
    "start_time": "2022-06-29T16:22:50.006Z"
   },
   {
    "duration": 3,
    "start_time": "2022-06-29T16:22:50.030Z"
   },
   {
    "duration": 6,
    "start_time": "2022-06-29T16:22:50.035Z"
   },
   {
    "duration": 7,
    "start_time": "2022-06-29T16:22:50.042Z"
   },
   {
    "duration": 33185,
    "start_time": "2022-06-29T16:22:50.050Z"
   },
   {
    "duration": 13,
    "start_time": "2022-06-29T16:23:23.236Z"
   },
   {
    "duration": 8988,
    "start_time": "2022-06-29T16:23:23.251Z"
   },
   {
    "duration": 1187,
    "start_time": "2022-06-29T16:23:32.241Z"
   },
   {
    "duration": 1336,
    "start_time": "2022-06-29T16:23:33.430Z"
   },
   {
    "duration": 179,
    "start_time": "2022-06-29T16:23:34.767Z"
   },
   {
    "duration": 3,
    "start_time": "2022-06-29T16:23:34.948Z"
   },
   {
    "duration": 8,
    "start_time": "2022-06-29T16:23:34.952Z"
   },
   {
    "duration": 108668,
    "start_time": "2022-06-29T16:23:34.961Z"
   },
   {
    "duration": 8,
    "start_time": "2022-06-29T16:25:23.631Z"
   },
   {
    "duration": 11,
    "start_time": "2022-06-29T16:25:23.641Z"
   },
   {
    "duration": 12,
    "start_time": "2022-06-29T16:25:23.654Z"
   },
   {
    "duration": 18570,
    "start_time": "2022-06-29T16:25:23.668Z"
   },
   {
    "duration": 414,
    "start_time": "2022-06-29T16:25:42.239Z"
   },
   {
    "duration": 197,
    "start_time": "2022-06-29T16:25:42.655Z"
   },
   {
    "duration": 391,
    "start_time": "2022-06-29T16:28:35.561Z"
   },
   {
    "duration": 2229,
    "start_time": "2022-06-29T16:28:58.563Z"
   },
   {
    "duration": 3,
    "start_time": "2022-06-29T16:42:18.405Z"
   },
   {
    "duration": 71,
    "start_time": "2022-06-29T16:42:18.410Z"
   },
   {
    "duration": 10,
    "start_time": "2022-06-29T16:42:18.483Z"
   },
   {
    "duration": 15,
    "start_time": "2022-06-29T16:42:18.494Z"
   },
   {
    "duration": 6,
    "start_time": "2022-06-29T16:42:18.511Z"
   },
   {
    "duration": 11,
    "start_time": "2022-06-29T16:42:18.519Z"
   },
   {
    "duration": 10,
    "start_time": "2022-06-29T16:42:18.531Z"
   },
   {
    "duration": 11,
    "start_time": "2022-06-29T16:42:18.542Z"
   },
   {
    "duration": 7,
    "start_time": "2022-06-29T16:42:18.554Z"
   },
   {
    "duration": 14,
    "start_time": "2022-06-29T16:42:18.562Z"
   },
   {
    "duration": 9,
    "start_time": "2022-06-29T16:42:18.578Z"
   },
   {
    "duration": 19,
    "start_time": "2022-06-29T16:42:18.589Z"
   },
   {
    "duration": 29,
    "start_time": "2022-06-29T16:42:18.610Z"
   },
   {
    "duration": 159,
    "start_time": "2022-06-29T16:42:18.642Z"
   },
   {
    "duration": 140,
    "start_time": "2022-06-29T16:42:18.803Z"
   },
   {
    "duration": 1493,
    "start_time": "2022-06-29T16:42:18.945Z"
   },
   {
    "duration": 4,
    "start_time": "2022-06-29T16:42:20.440Z"
   },
   {
    "duration": 13,
    "start_time": "2022-06-29T16:42:20.446Z"
   },
   {
    "duration": 14,
    "start_time": "2022-06-29T16:42:20.461Z"
   },
   {
    "duration": 4,
    "start_time": "2022-06-29T16:42:20.477Z"
   },
   {
    "duration": 53,
    "start_time": "2022-06-29T16:42:20.483Z"
   },
   {
    "duration": 15,
    "start_time": "2022-06-29T16:42:20.537Z"
   },
   {
    "duration": 12,
    "start_time": "2022-06-29T16:42:20.553Z"
   },
   {
    "duration": 5,
    "start_time": "2022-06-29T16:42:20.566Z"
   },
   {
    "duration": 8,
    "start_time": "2022-06-29T16:42:20.573Z"
   },
   {
    "duration": 9,
    "start_time": "2022-06-29T16:42:20.582Z"
   },
   {
    "duration": 33343,
    "start_time": "2022-06-29T16:42:20.592Z"
   },
   {
    "duration": 8,
    "start_time": "2022-06-29T16:42:53.937Z"
   },
   {
    "duration": 8292,
    "start_time": "2022-06-29T16:42:53.947Z"
   },
   {
    "duration": 1899,
    "start_time": "2022-06-29T16:43:02.241Z"
   },
   {
    "duration": 0,
    "start_time": "2022-06-29T16:43:04.142Z"
   },
   {
    "duration": 0,
    "start_time": "2022-06-29T16:43:04.143Z"
   },
   {
    "duration": 0,
    "start_time": "2022-06-29T16:43:04.144Z"
   },
   {
    "duration": 0,
    "start_time": "2022-06-29T16:43:04.145Z"
   },
   {
    "duration": 0,
    "start_time": "2022-06-29T16:43:04.146Z"
   },
   {
    "duration": 0,
    "start_time": "2022-06-29T16:43:04.147Z"
   },
   {
    "duration": 0,
    "start_time": "2022-06-29T16:43:04.148Z"
   },
   {
    "duration": 0,
    "start_time": "2022-06-29T16:43:04.149Z"
   },
   {
    "duration": 0,
    "start_time": "2022-06-29T16:43:04.150Z"
   },
   {
    "duration": 0,
    "start_time": "2022-06-29T16:43:04.150Z"
   },
   {
    "duration": 0,
    "start_time": "2022-06-29T16:43:04.151Z"
   },
   {
    "duration": 1144,
    "start_time": "2022-06-29T16:43:47.288Z"
   },
   {
    "duration": 1322,
    "start_time": "2022-06-29T16:43:57.914Z"
   },
   {
    "duration": 163,
    "start_time": "2022-06-29T16:43:59.238Z"
   },
   {
    "duration": 3,
    "start_time": "2022-06-29T16:43:59.403Z"
   },
   {
    "duration": 7,
    "start_time": "2022-06-29T16:43:59.407Z"
   },
   {
    "duration": 103125,
    "start_time": "2022-06-29T16:43:59.415Z"
   },
   {
    "duration": 0,
    "start_time": "2022-06-29T16:45:42.542Z"
   },
   {
    "duration": 0,
    "start_time": "2022-06-29T16:45:42.543Z"
   },
   {
    "duration": 0,
    "start_time": "2022-06-29T16:45:42.544Z"
   },
   {
    "duration": 0,
    "start_time": "2022-06-29T16:45:42.545Z"
   },
   {
    "duration": 0,
    "start_time": "2022-06-29T16:45:42.546Z"
   },
   {
    "duration": 0,
    "start_time": "2022-06-29T16:45:42.547Z"
   },
   {
    "duration": 1723,
    "start_time": "2022-06-29T16:45:50.912Z"
   },
   {
    "duration": 16,
    "start_time": "2022-06-29T16:45:52.637Z"
   },
   {
    "duration": 13,
    "start_time": "2022-06-29T16:45:52.654Z"
   },
   {
    "duration": 11,
    "start_time": "2022-06-29T16:45:52.669Z"
   },
   {
    "duration": 10,
    "start_time": "2022-06-29T16:45:52.682Z"
   },
   {
    "duration": 9,
    "start_time": "2022-06-29T16:45:52.694Z"
   },
   {
    "duration": 7,
    "start_time": "2022-06-29T16:45:52.704Z"
   },
   {
    "duration": 13,
    "start_time": "2022-06-29T16:45:52.713Z"
   },
   {
    "duration": 7,
    "start_time": "2022-06-29T16:45:52.727Z"
   },
   {
    "duration": 8,
    "start_time": "2022-06-29T16:45:52.735Z"
   },
   {
    "duration": 6,
    "start_time": "2022-06-29T16:45:52.745Z"
   },
   {
    "duration": 7,
    "start_time": "2022-06-29T16:45:52.752Z"
   },
   {
    "duration": 24,
    "start_time": "2022-06-29T16:45:52.761Z"
   },
   {
    "duration": 183,
    "start_time": "2022-06-29T16:45:52.788Z"
   },
   {
    "duration": 128,
    "start_time": "2022-06-29T16:45:52.972Z"
   },
   {
    "duration": 1478,
    "start_time": "2022-06-29T16:45:53.102Z"
   },
   {
    "duration": 4,
    "start_time": "2022-06-29T16:45:54.582Z"
   },
   {
    "duration": 13,
    "start_time": "2022-06-29T16:45:54.587Z"
   },
   {
    "duration": 13,
    "start_time": "2022-06-29T16:45:54.602Z"
   },
   {
    "duration": 5,
    "start_time": "2022-06-29T16:45:54.627Z"
   },
   {
    "duration": 7,
    "start_time": "2022-06-29T16:45:54.634Z"
   },
   {
    "duration": 12,
    "start_time": "2022-06-29T16:45:54.642Z"
   },
   {
    "duration": 5,
    "start_time": "2022-06-29T16:45:54.655Z"
   },
   {
    "duration": 4,
    "start_time": "2022-06-29T16:45:54.661Z"
   },
   {
    "duration": 6,
    "start_time": "2022-06-29T16:45:54.667Z"
   },
   {
    "duration": 7,
    "start_time": "2022-06-29T16:45:54.675Z"
   },
   {
    "duration": 33462,
    "start_time": "2022-06-29T16:45:54.684Z"
   },
   {
    "duration": 80,
    "start_time": "2022-06-29T16:46:28.147Z"
   },
   {
    "duration": 8698,
    "start_time": "2022-06-29T16:46:28.229Z"
   },
   {
    "duration": 1328,
    "start_time": "2022-06-29T16:46:36.929Z"
   },
   {
    "duration": 1379,
    "start_time": "2022-06-29T16:46:38.259Z"
   },
   {
    "duration": 171,
    "start_time": "2022-06-29T16:46:39.640Z"
   },
   {
    "duration": 3,
    "start_time": "2022-06-29T16:46:39.813Z"
   },
   {
    "duration": 13,
    "start_time": "2022-06-29T16:46:39.817Z"
   },
   {
    "duration": 110205,
    "start_time": "2022-06-29T16:46:39.832Z"
   },
   {
    "duration": 9,
    "start_time": "2022-06-29T16:48:30.039Z"
   },
   {
    "duration": 15,
    "start_time": "2022-06-29T16:48:30.050Z"
   },
   {
    "duration": 25,
    "start_time": "2022-06-29T16:48:30.066Z"
   },
   {
    "duration": 19040,
    "start_time": "2022-06-29T16:48:30.092Z"
   },
   {
    "duration": 404,
    "start_time": "2022-06-29T16:48:49.134Z"
   },
   {
    "duration": 202,
    "start_time": "2022-06-29T16:48:49.541Z"
   },
   {
    "duration": 3,
    "start_time": "2022-06-29T16:49:59.190Z"
   },
   {
    "duration": 21,
    "start_time": "2022-06-29T16:49:59.195Z"
   },
   {
    "duration": 12,
    "start_time": "2022-06-29T16:49:59.218Z"
   },
   {
    "duration": 16,
    "start_time": "2022-06-29T16:49:59.231Z"
   },
   {
    "duration": 8,
    "start_time": "2022-06-29T16:49:59.249Z"
   },
   {
    "duration": 12,
    "start_time": "2022-06-29T16:49:59.259Z"
   },
   {
    "duration": 11,
    "start_time": "2022-06-29T16:49:59.273Z"
   },
   {
    "duration": 9,
    "start_time": "2022-06-29T16:49:59.285Z"
   },
   {
    "duration": 12,
    "start_time": "2022-06-29T16:49:59.296Z"
   },
   {
    "duration": 8,
    "start_time": "2022-06-29T16:49:59.310Z"
   },
   {
    "duration": 4,
    "start_time": "2022-06-29T16:49:59.327Z"
   },
   {
    "duration": 14,
    "start_time": "2022-06-29T16:49:59.333Z"
   },
   {
    "duration": 28,
    "start_time": "2022-06-29T16:49:59.349Z"
   },
   {
    "duration": 165,
    "start_time": "2022-06-29T16:49:59.378Z"
   },
   {
    "duration": 133,
    "start_time": "2022-06-29T16:49:59.545Z"
   },
   {
    "duration": 1627,
    "start_time": "2022-06-29T16:49:59.679Z"
   },
   {
    "duration": 4,
    "start_time": "2022-06-29T16:50:01.308Z"
   },
   {
    "duration": 10,
    "start_time": "2022-06-29T16:50:01.327Z"
   },
   {
    "duration": 31,
    "start_time": "2022-06-29T16:50:01.338Z"
   },
   {
    "duration": 16,
    "start_time": "2022-06-29T16:50:01.371Z"
   },
   {
    "duration": 13,
    "start_time": "2022-06-29T16:50:01.389Z"
   },
   {
    "duration": 33,
    "start_time": "2022-06-29T16:50:01.403Z"
   },
   {
    "duration": 19,
    "start_time": "2022-06-29T16:50:01.438Z"
   },
   {
    "duration": 11,
    "start_time": "2022-06-29T16:50:01.459Z"
   },
   {
    "duration": 20,
    "start_time": "2022-06-29T16:50:01.472Z"
   },
   {
    "duration": 6,
    "start_time": "2022-06-29T16:50:01.494Z"
   },
   {
    "duration": 33753,
    "start_time": "2022-06-29T16:50:01.501Z"
   },
   {
    "duration": 79,
    "start_time": "2022-06-29T16:50:35.256Z"
   },
   {
    "duration": 8308,
    "start_time": "2022-06-29T16:50:35.337Z"
   },
   {
    "duration": 1219,
    "start_time": "2022-06-29T16:50:43.647Z"
   },
   {
    "duration": 1321,
    "start_time": "2022-06-29T16:50:44.867Z"
   },
   {
    "duration": 214,
    "start_time": "2022-06-29T16:50:46.190Z"
   },
   {
    "duration": 3,
    "start_time": "2022-06-29T16:50:46.406Z"
   },
   {
    "duration": 16,
    "start_time": "2022-06-29T16:50:46.411Z"
   },
   {
    "duration": 109007,
    "start_time": "2022-06-29T16:50:46.429Z"
   },
   {
    "duration": 8,
    "start_time": "2022-06-29T16:52:35.438Z"
   },
   {
    "duration": 25,
    "start_time": "2022-06-29T16:52:35.450Z"
   },
   {
    "duration": 6,
    "start_time": "2022-06-29T16:52:35.477Z"
   },
   {
    "duration": 18749,
    "start_time": "2022-06-29T16:52:35.485Z"
   },
   {
    "duration": 405,
    "start_time": "2022-06-29T16:52:54.235Z"
   },
   {
    "duration": 206,
    "start_time": "2022-06-29T16:52:54.642Z"
   },
   {
    "duration": 1987,
    "start_time": "2022-06-29T18:58:25.878Z"
   },
   {
    "duration": 34,
    "start_time": "2022-06-29T18:58:27.867Z"
   },
   {
    "duration": 14,
    "start_time": "2022-06-29T18:58:28.578Z"
   },
   {
    "duration": 14,
    "start_time": "2022-06-29T18:58:35.647Z"
   },
   {
    "duration": 10,
    "start_time": "2022-06-29T18:58:36.873Z"
   },
   {
    "duration": 3,
    "start_time": "2022-06-29T21:41:47.355Z"
   },
   {
    "duration": 16,
    "start_time": "2022-06-29T21:41:47.360Z"
   },
   {
    "duration": 9,
    "start_time": "2022-06-29T21:41:47.378Z"
   },
   {
    "duration": 14,
    "start_time": "2022-06-29T21:41:47.389Z"
   },
   {
    "duration": 6,
    "start_time": "2022-06-29T21:41:47.405Z"
   },
   {
    "duration": 6,
    "start_time": "2022-06-29T21:41:47.412Z"
   },
   {
    "duration": 7,
    "start_time": "2022-06-29T21:41:47.419Z"
   },
   {
    "duration": 11,
    "start_time": "2022-06-29T21:41:47.427Z"
   },
   {
    "duration": 5,
    "start_time": "2022-06-29T21:41:47.440Z"
   },
   {
    "duration": 9,
    "start_time": "2022-06-29T21:41:47.446Z"
   },
   {
    "duration": 16,
    "start_time": "2022-06-29T21:41:47.456Z"
   },
   {
    "duration": 8,
    "start_time": "2022-06-29T21:41:47.473Z"
   },
   {
    "duration": 46,
    "start_time": "2022-06-29T21:41:47.482Z"
   },
   {
    "duration": 166,
    "start_time": "2022-06-29T21:41:47.529Z"
   },
   {
    "duration": 126,
    "start_time": "2022-06-29T21:41:47.696Z"
   },
   {
    "duration": 1514,
    "start_time": "2022-06-29T21:41:47.827Z"
   },
   {
    "duration": 3,
    "start_time": "2022-06-29T21:41:49.343Z"
   },
   {
    "duration": 12,
    "start_time": "2022-06-29T21:41:49.347Z"
   },
   {
    "duration": 14,
    "start_time": "2022-06-29T21:41:49.360Z"
   },
   {
    "duration": 6,
    "start_time": "2022-06-29T21:41:49.375Z"
   },
   {
    "duration": 6,
    "start_time": "2022-06-29T21:41:49.382Z"
   },
   {
    "duration": 12,
    "start_time": "2022-06-29T21:41:49.389Z"
   },
   {
    "duration": 48,
    "start_time": "2022-06-29T21:41:49.402Z"
   },
   {
    "duration": 2,
    "start_time": "2022-06-29T21:41:49.453Z"
   },
   {
    "duration": 52,
    "start_time": "2022-06-29T21:41:49.457Z"
   },
   {
    "duration": 3,
    "start_time": "2022-06-29T21:41:49.510Z"
   },
   {
    "duration": 35029,
    "start_time": "2022-06-29T21:41:49.514Z"
   },
   {
    "duration": 7,
    "start_time": "2022-06-29T21:42:24.545Z"
   },
   {
    "duration": 9078,
    "start_time": "2022-06-29T21:42:24.554Z"
   },
   {
    "duration": 1291,
    "start_time": "2022-06-29T21:42:33.634Z"
   },
   {
    "duration": 1459,
    "start_time": "2022-06-29T21:42:34.926Z"
   },
   {
    "duration": 198,
    "start_time": "2022-06-29T21:42:36.387Z"
   },
   {
    "duration": 2,
    "start_time": "2022-06-29T21:42:36.587Z"
   },
   {
    "duration": 22,
    "start_time": "2022-06-29T21:42:36.591Z"
   },
   {
    "duration": 115625,
    "start_time": "2022-06-29T21:42:36.614Z"
   },
   {
    "duration": 9,
    "start_time": "2022-06-29T21:44:32.241Z"
   },
   {
    "duration": 23,
    "start_time": "2022-06-29T21:44:32.252Z"
   },
   {
    "duration": 19,
    "start_time": "2022-06-29T21:44:32.277Z"
   },
   {
    "duration": 18740,
    "start_time": "2022-06-29T21:44:32.298Z"
   },
   {
    "duration": 443,
    "start_time": "2022-06-29T21:44:51.040Z"
   },
   {
    "duration": 205,
    "start_time": "2022-06-29T21:44:51.484Z"
   },
   {
    "duration": 3,
    "start_time": "2022-06-29T21:51:40.004Z"
   },
   {
    "duration": 24,
    "start_time": "2022-06-29T21:51:40.009Z"
   },
   {
    "duration": 9,
    "start_time": "2022-06-29T21:51:40.035Z"
   },
   {
    "duration": 13,
    "start_time": "2022-06-29T21:51:40.046Z"
   },
   {
    "duration": 18,
    "start_time": "2022-06-29T21:51:40.060Z"
   },
   {
    "duration": 7,
    "start_time": "2022-06-29T21:51:40.079Z"
   },
   {
    "duration": 9,
    "start_time": "2022-06-29T21:51:40.087Z"
   },
   {
    "duration": 7,
    "start_time": "2022-06-29T21:51:40.098Z"
   },
   {
    "duration": 22,
    "start_time": "2022-06-29T21:51:40.106Z"
   },
   {
    "duration": 9,
    "start_time": "2022-06-29T21:51:40.129Z"
   },
   {
    "duration": 7,
    "start_time": "2022-06-29T21:51:40.141Z"
   },
   {
    "duration": 7,
    "start_time": "2022-06-29T21:51:40.150Z"
   },
   {
    "duration": 22,
    "start_time": "2022-06-29T21:51:40.158Z"
   },
   {
    "duration": 175,
    "start_time": "2022-06-29T21:51:40.182Z"
   },
   {
    "duration": 129,
    "start_time": "2022-06-29T21:51:40.359Z"
   },
   {
    "duration": 2156,
    "start_time": "2022-06-29T21:51:40.491Z"
   },
   {
    "duration": 5,
    "start_time": "2022-06-29T21:51:42.648Z"
   },
   {
    "duration": 13,
    "start_time": "2022-06-29T21:51:42.654Z"
   },
   {
    "duration": 63,
    "start_time": "2022-06-29T21:51:42.668Z"
   },
   {
    "duration": 3,
    "start_time": "2022-06-29T21:51:42.733Z"
   },
   {
    "duration": 7,
    "start_time": "2022-06-29T21:51:42.738Z"
   },
   {
    "duration": 10,
    "start_time": "2022-06-29T21:51:42.746Z"
   },
   {
    "duration": 7,
    "start_time": "2022-06-29T21:51:42.757Z"
   },
   {
    "duration": 5,
    "start_time": "2022-06-29T21:51:42.765Z"
   },
   {
    "duration": 5,
    "start_time": "2022-06-29T21:51:42.771Z"
   },
   {
    "duration": 51,
    "start_time": "2022-06-29T21:51:42.777Z"
   },
   {
    "duration": 37301,
    "start_time": "2022-06-29T21:51:42.830Z"
   },
   {
    "duration": 7,
    "start_time": "2022-06-29T21:52:20.133Z"
   },
   {
    "duration": 8902,
    "start_time": "2022-06-29T21:52:20.144Z"
   },
   {
    "duration": 1213,
    "start_time": "2022-06-29T21:52:29.047Z"
   },
   {
    "duration": 1423,
    "start_time": "2022-06-29T21:52:30.262Z"
   },
   {
    "duration": 166,
    "start_time": "2022-06-29T21:52:31.687Z"
   },
   {
    "duration": 3,
    "start_time": "2022-06-29T21:52:31.854Z"
   },
   {
    "duration": 10,
    "start_time": "2022-06-29T21:52:31.858Z"
   },
   {
    "duration": 117078,
    "start_time": "2022-06-29T21:52:31.869Z"
   },
   {
    "duration": 82,
    "start_time": "2022-06-29T21:54:28.948Z"
   },
   {
    "duration": 9,
    "start_time": "2022-06-29T21:54:29.032Z"
   },
   {
    "duration": 5,
    "start_time": "2022-06-29T21:54:29.043Z"
   },
   {
    "duration": 19082,
    "start_time": "2022-06-29T21:54:29.050Z"
   },
   {
    "duration": 388,
    "start_time": "2022-06-29T21:54:48.133Z"
   },
   {
    "duration": 193,
    "start_time": "2022-06-29T21:54:48.526Z"
   },
   {
    "duration": 16,
    "start_time": "2022-06-29T22:12:17.655Z"
   },
   {
    "duration": 5,
    "start_time": "2022-06-29T22:12:29.214Z"
   },
   {
    "duration": 10,
    "start_time": "2022-06-29T22:12:59.163Z"
   },
   {
    "duration": 11,
    "start_time": "2022-06-29T22:12:59.732Z"
   },
   {
    "duration": 5,
    "start_time": "2022-06-29T22:13:01.319Z"
   },
   {
    "duration": 5,
    "start_time": "2022-06-29T22:13:02.100Z"
   },
   {
    "duration": 15,
    "start_time": "2022-06-29T22:14:15.691Z"
   },
   {
    "duration": 128,
    "start_time": "2022-06-29T22:16:13.186Z"
   },
   {
    "duration": 4,
    "start_time": "2022-06-29T22:16:17.107Z"
   },
   {
    "duration": 6,
    "start_time": "2022-06-29T22:16:25.263Z"
   },
   {
    "duration": 11,
    "start_time": "2022-06-29T22:16:26.406Z"
   },
   {
    "duration": 5,
    "start_time": "2022-06-29T22:16:28.358Z"
   },
   {
    "duration": 4,
    "start_time": "2022-06-29T22:33:58.161Z"
   },
   {
    "duration": 19,
    "start_time": "2022-06-29T22:33:58.166Z"
   },
   {
    "duration": 9,
    "start_time": "2022-06-29T22:33:58.186Z"
   },
   {
    "duration": 11,
    "start_time": "2022-06-29T22:33:58.196Z"
   },
   {
    "duration": 4,
    "start_time": "2022-06-29T22:33:58.209Z"
   },
   {
    "duration": 6,
    "start_time": "2022-06-29T22:33:58.214Z"
   },
   {
    "duration": 7,
    "start_time": "2022-06-29T22:33:58.221Z"
   },
   {
    "duration": 9,
    "start_time": "2022-06-29T22:33:58.230Z"
   },
   {
    "duration": 6,
    "start_time": "2022-06-29T22:33:58.240Z"
   },
   {
    "duration": 9,
    "start_time": "2022-06-29T22:33:58.247Z"
   },
   {
    "duration": 5,
    "start_time": "2022-06-29T22:33:58.258Z"
   },
   {
    "duration": 6,
    "start_time": "2022-06-29T22:33:58.265Z"
   },
   {
    "duration": 21,
    "start_time": "2022-06-29T22:33:58.273Z"
   },
   {
    "duration": 182,
    "start_time": "2022-06-29T22:33:58.295Z"
   },
   {
    "duration": 251,
    "start_time": "2022-06-29T22:33:58.479Z"
   },
   {
    "duration": 1402,
    "start_time": "2022-06-29T22:33:58.731Z"
   },
   {
    "duration": 4,
    "start_time": "2022-06-29T22:34:00.134Z"
   },
   {
    "duration": 13,
    "start_time": "2022-06-29T22:34:00.139Z"
   },
   {
    "duration": 12,
    "start_time": "2022-06-29T22:34:00.154Z"
   },
   {
    "duration": 61,
    "start_time": "2022-06-29T22:34:00.167Z"
   },
   {
    "duration": 5,
    "start_time": "2022-06-29T22:34:00.231Z"
   },
   {
    "duration": 16,
    "start_time": "2022-06-29T22:34:00.238Z"
   },
   {
    "duration": 15,
    "start_time": "2022-06-29T22:34:00.256Z"
   },
   {
    "duration": 17,
    "start_time": "2022-06-29T22:34:00.272Z"
   },
   {
    "duration": 4,
    "start_time": "2022-06-29T22:34:00.328Z"
   },
   {
    "duration": 25,
    "start_time": "2022-06-29T22:34:00.334Z"
   },
   {
    "duration": 39973,
    "start_time": "2022-06-29T22:34:00.362Z"
   },
   {
    "duration": 7,
    "start_time": "2022-06-29T22:34:40.337Z"
   },
   {
    "duration": 8891,
    "start_time": "2022-06-29T22:34:40.346Z"
   },
   {
    "duration": 1177,
    "start_time": "2022-06-29T22:34:49.240Z"
   },
   {
    "duration": 1508,
    "start_time": "2022-06-29T22:34:50.419Z"
   },
   {
    "duration": 163,
    "start_time": "2022-06-29T22:34:51.929Z"
   },
   {
    "duration": 2,
    "start_time": "2022-06-29T22:34:52.094Z"
   },
   {
    "duration": 11,
    "start_time": "2022-06-29T22:34:52.098Z"
   },
   {
    "duration": 4,
    "start_time": "2022-06-29T22:37:26.209Z"
   },
   {
    "duration": 46,
    "start_time": "2022-06-29T22:37:26.215Z"
   },
   {
    "duration": 12,
    "start_time": "2022-06-29T22:37:26.263Z"
   },
   {
    "duration": 23,
    "start_time": "2022-06-29T22:37:26.277Z"
   },
   {
    "duration": 6,
    "start_time": "2022-06-29T22:37:26.302Z"
   },
   {
    "duration": 9,
    "start_time": "2022-06-29T22:37:26.310Z"
   },
   {
    "duration": 10,
    "start_time": "2022-06-29T22:37:26.321Z"
   },
   {
    "duration": 11,
    "start_time": "2022-06-29T22:37:26.334Z"
   },
   {
    "duration": 12,
    "start_time": "2022-06-29T22:37:26.347Z"
   },
   {
    "duration": 9,
    "start_time": "2022-06-29T22:37:26.361Z"
   },
   {
    "duration": 12,
    "start_time": "2022-06-29T22:37:26.372Z"
   },
   {
    "duration": 11,
    "start_time": "2022-06-29T22:37:26.386Z"
   },
   {
    "duration": 38,
    "start_time": "2022-06-29T22:37:26.399Z"
   },
   {
    "duration": 168,
    "start_time": "2022-06-29T22:37:26.439Z"
   },
   {
    "duration": 130,
    "start_time": "2022-06-29T22:37:26.608Z"
   },
   {
    "duration": 1401,
    "start_time": "2022-06-29T22:37:26.740Z"
   },
   {
    "duration": 4,
    "start_time": "2022-06-29T22:37:28.143Z"
   },
   {
    "duration": 13,
    "start_time": "2022-06-29T22:37:28.148Z"
   },
   {
    "duration": 13,
    "start_time": "2022-06-29T22:37:28.163Z"
   },
   {
    "duration": 17,
    "start_time": "2022-06-29T22:37:28.178Z"
   },
   {
    "duration": 7,
    "start_time": "2022-06-29T22:37:28.197Z"
   },
   {
    "duration": 22,
    "start_time": "2022-06-29T22:37:28.205Z"
   },
   {
    "duration": 4,
    "start_time": "2022-06-29T22:37:28.229Z"
   },
   {
    "duration": 8,
    "start_time": "2022-06-29T22:37:28.234Z"
   },
   {
    "duration": 7,
    "start_time": "2022-06-29T22:37:28.243Z"
   },
   {
    "duration": 4,
    "start_time": "2022-06-29T22:37:28.251Z"
   },
   {
    "duration": 35184,
    "start_time": "2022-06-29T22:37:28.256Z"
   },
   {
    "duration": 8,
    "start_time": "2022-06-29T22:38:03.441Z"
   },
   {
    "duration": 9197,
    "start_time": "2022-06-29T22:38:03.451Z"
   },
   {
    "duration": 1221,
    "start_time": "2022-06-29T22:38:12.650Z"
   },
   {
    "duration": 1432,
    "start_time": "2022-06-29T22:38:13.873Z"
   },
   {
    "duration": 177,
    "start_time": "2022-06-29T22:38:15.307Z"
   },
   {
    "duration": 3,
    "start_time": "2022-06-29T22:38:15.486Z"
   },
   {
    "duration": 7,
    "start_time": "2022-06-29T22:38:15.491Z"
   },
   {
    "duration": 113940,
    "start_time": "2022-06-29T22:38:15.500Z"
   },
   {
    "duration": 9,
    "start_time": "2022-06-29T22:40:09.442Z"
   },
   {
    "duration": 9,
    "start_time": "2022-06-29T22:40:09.454Z"
   },
   {
    "duration": 65,
    "start_time": "2022-06-29T22:40:09.464Z"
   },
   {
    "duration": 19209,
    "start_time": "2022-06-29T22:40:09.531Z"
   },
   {
    "duration": 403,
    "start_time": "2022-06-29T22:40:28.742Z"
   },
   {
    "duration": 212,
    "start_time": "2022-06-29T22:40:29.146Z"
   },
   {
    "duration": 15,
    "start_time": "2022-06-29T22:43:17.412Z"
   },
   {
    "duration": 14,
    "start_time": "2022-06-29T22:43:33.851Z"
   },
   {
    "duration": 10,
    "start_time": "2022-06-29T22:43:48.347Z"
   },
   {
    "duration": 3,
    "start_time": "2022-06-30T00:28:50.276Z"
   },
   {
    "duration": 26,
    "start_time": "2022-06-30T00:28:50.281Z"
   },
   {
    "duration": 9,
    "start_time": "2022-06-30T00:28:50.309Z"
   },
   {
    "duration": 16,
    "start_time": "2022-06-30T00:28:50.319Z"
   },
   {
    "duration": 6,
    "start_time": "2022-06-30T00:28:50.337Z"
   },
   {
    "duration": 8,
    "start_time": "2022-06-30T00:28:50.344Z"
   },
   {
    "duration": 8,
    "start_time": "2022-06-30T00:28:50.353Z"
   },
   {
    "duration": 10,
    "start_time": "2022-06-30T00:28:50.362Z"
   },
   {
    "duration": 11,
    "start_time": "2022-06-30T00:28:50.373Z"
   },
   {
    "duration": 7,
    "start_time": "2022-06-30T00:28:50.385Z"
   },
   {
    "duration": 7,
    "start_time": "2022-06-30T00:28:50.394Z"
   },
   {
    "duration": 12,
    "start_time": "2022-06-30T00:28:50.402Z"
   },
   {
    "duration": 35,
    "start_time": "2022-06-30T00:28:50.416Z"
   },
   {
    "duration": 168,
    "start_time": "2022-06-30T00:28:50.453Z"
   },
   {
    "duration": 125,
    "start_time": "2022-06-30T00:28:50.629Z"
   },
   {
    "duration": 1552,
    "start_time": "2022-06-30T00:28:50.756Z"
   },
   {
    "duration": 3,
    "start_time": "2022-06-30T00:28:52.310Z"
   },
   {
    "duration": 8,
    "start_time": "2022-06-30T00:28:52.327Z"
   },
   {
    "duration": 16,
    "start_time": "2022-06-30T00:28:52.336Z"
   },
   {
    "duration": 4,
    "start_time": "2022-06-30T00:28:52.354Z"
   },
   {
    "duration": 7,
    "start_time": "2022-06-30T00:28:52.359Z"
   },
   {
    "duration": 10,
    "start_time": "2022-06-30T00:28:52.367Z"
   },
   {
    "duration": 3,
    "start_time": "2022-06-30T00:28:52.378Z"
   },
   {
    "duration": 4,
    "start_time": "2022-06-30T00:28:52.383Z"
   },
   {
    "duration": 5,
    "start_time": "2022-06-30T00:28:52.389Z"
   },
   {
    "duration": 4,
    "start_time": "2022-06-30T00:28:52.395Z"
   },
   {
    "duration": 38942,
    "start_time": "2022-06-30T00:28:52.402Z"
   },
   {
    "duration": 8,
    "start_time": "2022-06-30T00:29:31.346Z"
   },
   {
    "duration": 8682,
    "start_time": "2022-06-30T00:29:31.356Z"
   },
   {
    "duration": 1161,
    "start_time": "2022-06-30T00:29:40.040Z"
   },
   {
    "duration": 1370,
    "start_time": "2022-06-30T00:29:41.203Z"
   },
   {
    "duration": 174,
    "start_time": "2022-06-30T00:29:42.575Z"
   },
   {
    "duration": 3,
    "start_time": "2022-06-30T00:29:42.751Z"
   },
   {
    "duration": 10,
    "start_time": "2022-06-30T00:29:42.756Z"
   },
   {
    "duration": 111676,
    "start_time": "2022-06-30T00:29:42.767Z"
   },
   {
    "duration": 9,
    "start_time": "2022-06-30T00:31:34.445Z"
   },
   {
    "duration": 73,
    "start_time": "2022-06-30T00:31:34.456Z"
   },
   {
    "duration": 5,
    "start_time": "2022-06-30T00:31:34.531Z"
   },
   {
    "duration": 19916,
    "start_time": "2022-06-30T00:31:34.538Z"
   },
   {
    "duration": 413,
    "start_time": "2022-06-30T00:31:54.528Z"
   },
   {
    "duration": 210,
    "start_time": "2022-06-30T00:31:54.943Z"
   },
   {
    "duration": 20,
    "start_time": "2022-06-30T00:33:51.229Z"
   },
   {
    "duration": 22,
    "start_time": "2022-06-30T00:33:59.263Z"
   },
   {
    "duration": 8,
    "start_time": "2022-06-30T00:35:39.899Z"
   },
   {
    "duration": 20,
    "start_time": "2022-06-30T00:45:58.336Z"
   },
   {
    "duration": 20,
    "start_time": "2022-06-30T00:46:22.286Z"
   },
   {
    "duration": 9,
    "start_time": "2022-06-30T00:47:55.771Z"
   },
   {
    "duration": 44,
    "start_time": "2022-06-30T16:31:36.348Z"
   },
   {
    "duration": 1965,
    "start_time": "2022-06-30T16:31:40.411Z"
   },
   {
    "duration": 38,
    "start_time": "2022-06-30T16:31:42.378Z"
   },
   {
    "duration": 14,
    "start_time": "2022-06-30T16:31:42.418Z"
   },
   {
    "duration": 11,
    "start_time": "2022-06-30T16:31:42.434Z"
   },
   {
    "duration": 6,
    "start_time": "2022-06-30T16:31:42.447Z"
   },
   {
    "duration": 12,
    "start_time": "2022-06-30T16:31:42.454Z"
   },
   {
    "duration": 7,
    "start_time": "2022-06-30T16:31:42.468Z"
   },
   {
    "duration": 7,
    "start_time": "2022-06-30T16:31:42.477Z"
   },
   {
    "duration": 5,
    "start_time": "2022-06-30T16:32:11.371Z"
   },
   {
    "duration": 54,
    "start_time": "2022-06-30T16:34:33.684Z"
   },
   {
    "duration": 3,
    "start_time": "2022-06-30T16:34:51.733Z"
   },
   {
    "duration": 14,
    "start_time": "2022-06-30T16:35:08.649Z"
   },
   {
    "duration": 16,
    "start_time": "2022-06-30T16:35:23.792Z"
   },
   {
    "duration": 5,
    "start_time": "2022-06-30T16:35:31.641Z"
   },
   {
    "duration": 4,
    "start_time": "2022-06-30T16:35:34.872Z"
   },
   {
    "duration": 6,
    "start_time": "2022-06-30T16:35:59.069Z"
   },
   {
    "duration": 4,
    "start_time": "2022-06-30T16:36:11.588Z"
   },
   {
    "duration": 42,
    "start_time": "2022-06-30T16:36:11.593Z"
   },
   {
    "duration": 16,
    "start_time": "2022-06-30T16:36:11.636Z"
   },
   {
    "duration": 26,
    "start_time": "2022-06-30T16:36:11.654Z"
   },
   {
    "duration": 11,
    "start_time": "2022-06-30T16:36:11.681Z"
   },
   {
    "duration": 14,
    "start_time": "2022-06-30T16:36:11.693Z"
   },
   {
    "duration": 22,
    "start_time": "2022-06-30T16:36:11.709Z"
   },
   {
    "duration": 35,
    "start_time": "2022-06-30T16:36:11.733Z"
   },
   {
    "duration": 10,
    "start_time": "2022-06-30T16:36:11.769Z"
   },
   {
    "duration": 8,
    "start_time": "2022-06-30T16:36:11.781Z"
   },
   {
    "duration": 17,
    "start_time": "2022-06-30T16:36:11.790Z"
   },
   {
    "duration": 18,
    "start_time": "2022-06-30T16:36:11.809Z"
   },
   {
    "duration": 7,
    "start_time": "2022-06-30T16:36:11.828Z"
   },
   {
    "duration": 12,
    "start_time": "2022-06-30T16:36:11.837Z"
   },
   {
    "duration": 25,
    "start_time": "2022-06-30T16:36:11.851Z"
   },
   {
    "duration": 46,
    "start_time": "2022-06-30T16:36:11.878Z"
   },
   {
    "duration": 141,
    "start_time": "2022-06-30T16:36:11.926Z"
   },
   {
    "duration": 137,
    "start_time": "2022-06-30T16:36:12.069Z"
   },
   {
    "duration": 1574,
    "start_time": "2022-06-30T16:36:12.207Z"
   },
   {
    "duration": 4,
    "start_time": "2022-06-30T16:36:13.784Z"
   },
   {
    "duration": 12,
    "start_time": "2022-06-30T16:36:13.789Z"
   },
   {
    "duration": 14,
    "start_time": "2022-06-30T16:36:13.802Z"
   },
   {
    "duration": 6,
    "start_time": "2022-06-30T16:36:13.818Z"
   },
   {
    "duration": 7,
    "start_time": "2022-06-30T16:36:13.826Z"
   },
   {
    "duration": 32,
    "start_time": "2022-06-30T16:36:13.835Z"
   },
   {
    "duration": 3,
    "start_time": "2022-06-30T16:36:13.869Z"
   },
   {
    "duration": 5,
    "start_time": "2022-06-30T16:36:13.874Z"
   },
   {
    "duration": 10,
    "start_time": "2022-06-30T16:36:13.881Z"
   },
   {
    "duration": 10,
    "start_time": "2022-06-30T16:36:13.893Z"
   },
   {
    "duration": 111,
    "start_time": "2022-06-30T16:36:13.905Z"
   },
   {
    "duration": 0,
    "start_time": "2022-06-30T16:36:14.017Z"
   },
   {
    "duration": 0,
    "start_time": "2022-06-30T16:36:14.019Z"
   },
   {
    "duration": 0,
    "start_time": "2022-06-30T16:36:14.020Z"
   },
   {
    "duration": 0,
    "start_time": "2022-06-30T16:36:14.021Z"
   },
   {
    "duration": 0,
    "start_time": "2022-06-30T16:36:14.022Z"
   },
   {
    "duration": 0,
    "start_time": "2022-06-30T16:36:14.023Z"
   },
   {
    "duration": 0,
    "start_time": "2022-06-30T16:36:14.023Z"
   },
   {
    "duration": 0,
    "start_time": "2022-06-30T16:36:14.025Z"
   },
   {
    "duration": 0,
    "start_time": "2022-06-30T16:36:14.026Z"
   },
   {
    "duration": 0,
    "start_time": "2022-06-30T16:36:14.026Z"
   },
   {
    "duration": 0,
    "start_time": "2022-06-30T16:36:14.027Z"
   },
   {
    "duration": 0,
    "start_time": "2022-06-30T16:36:14.028Z"
   },
   {
    "duration": 0,
    "start_time": "2022-06-30T16:36:14.029Z"
   },
   {
    "duration": 0,
    "start_time": "2022-06-30T16:36:14.030Z"
   },
   {
    "duration": 2,
    "start_time": "2022-06-30T16:37:09.588Z"
   },
   {
    "duration": 5,
    "start_time": "2022-06-30T16:37:26.343Z"
   },
   {
    "duration": 3,
    "start_time": "2022-06-30T16:37:29.422Z"
   },
   {
    "duration": 33815,
    "start_time": "2022-06-30T16:37:32.273Z"
   },
   {
    "duration": 8,
    "start_time": "2022-06-30T16:38:30.868Z"
   },
   {
    "duration": 8436,
    "start_time": "2022-06-30T16:38:45.948Z"
   },
   {
    "duration": 46,
    "start_time": "2022-06-30T16:39:22.893Z"
   },
   {
    "duration": 5,
    "start_time": "2022-06-30T16:39:26.508Z"
   },
   {
    "duration": 2,
    "start_time": "2022-06-30T16:39:41.636Z"
   },
   {
    "duration": 35747,
    "start_time": "2022-06-30T16:39:44.939Z"
   },
   {
    "duration": 9213,
    "start_time": "2022-06-30T16:44:40.273Z"
   },
   {
    "duration": 9018,
    "start_time": "2022-06-30T16:45:11.661Z"
   },
   {
    "duration": 9004,
    "start_time": "2022-06-30T16:45:30.280Z"
   },
   {
    "duration": 9418,
    "start_time": "2022-06-30T16:45:56.268Z"
   },
   {
    "duration": 1222,
    "start_time": "2022-06-30T16:46:20.453Z"
   },
   {
    "duration": 1462,
    "start_time": "2022-06-30T16:46:52.614Z"
   },
   {
    "duration": 174,
    "start_time": "2022-06-30T16:46:59.971Z"
   },
   {
    "duration": 4,
    "start_time": "2022-06-30T16:47:08.897Z"
   },
   {
    "duration": 5,
    "start_time": "2022-06-30T16:47:20.042Z"
   },
   {
    "duration": 131550,
    "start_time": "2022-06-30T16:47:23.927Z"
   },
   {
    "duration": 4,
    "start_time": "2022-06-30T16:50:20.940Z"
   },
   {
    "duration": 16,
    "start_time": "2022-06-30T16:50:27.519Z"
   },
   {
    "duration": 3,
    "start_time": "2022-06-30T16:50:33.364Z"
   },
   {
    "duration": 4,
    "start_time": "2022-06-30T16:50:36.085Z"
   },
   {
    "duration": 84463,
    "start_time": "2022-06-30T16:50:38.629Z"
   },
   {
    "duration": 51,
    "start_time": "2022-06-30T16:52:12.171Z"
   },
   {
    "duration": 3,
    "start_time": "2022-06-30T16:52:20.321Z"
   },
   {
    "duration": 5,
    "start_time": "2022-06-30T16:52:22.091Z"
   },
   {
    "duration": 140526,
    "start_time": "2022-06-30T16:52:29.161Z"
   },
   {
    "duration": 13,
    "start_time": "2022-06-30T16:54:57.596Z"
   },
   {
    "duration": 12,
    "start_time": "2022-06-30T16:55:05.262Z"
   },
   {
    "duration": 5,
    "start_time": "2022-06-30T16:55:40.503Z"
   },
   {
    "duration": 26174,
    "start_time": "2022-06-30T16:55:44.995Z"
   },
   {
    "duration": 5,
    "start_time": "2022-06-30T16:56:49.353Z"
   },
   {
    "duration": 2,
    "start_time": "2022-06-30T16:56:52.340Z"
   },
   {
    "duration": 40513,
    "start_time": "2022-06-30T16:56:55.573Z"
   },
   {
    "duration": 13,
    "start_time": "2022-06-30T16:57:57.367Z"
   },
   {
    "duration": 11733,
    "start_time": "2022-06-30T16:58:30.758Z"
   },
   {
    "duration": 1265,
    "start_time": "2022-06-30T17:00:00.812Z"
   },
   {
    "duration": 1787,
    "start_time": "2022-06-30T17:00:38.403Z"
   },
   {
    "duration": 11735,
    "start_time": "2022-06-30T17:01:16.643Z"
   },
   {
    "duration": 11648,
    "start_time": "2022-06-30T17:01:42.729Z"
   },
   {
    "duration": 3,
    "start_time": "2022-07-01T07:13:20.798Z"
   },
   {
    "duration": 2,
    "start_time": "2022-07-01T07:13:23.832Z"
   },
   {
    "duration": 4,
    "start_time": "2022-07-01T07:13:41.150Z"
   },
   {
    "duration": 39348,
    "start_time": "2022-07-01T07:13:46.028Z"
   },
   {
    "duration": 8,
    "start_time": "2022-07-01T07:14:53.400Z"
   },
   {
    "duration": 9896,
    "start_time": "2022-07-01T07:15:42.094Z"
   },
   {
    "duration": 1216,
    "start_time": "2022-07-01T07:15:56.863Z"
   },
   {
    "duration": 1589,
    "start_time": "2022-07-01T07:16:13.604Z"
   },
   {
    "duration": 204,
    "start_time": "2022-07-01T07:16:18.846Z"
   },
   {
    "duration": 5,
    "start_time": "2022-07-01T07:16:52.428Z"
   },
   {
    "duration": 2,
    "start_time": "2022-07-01T07:16:57.397Z"
   },
   {
    "duration": 119909,
    "start_time": "2022-07-01T07:17:00.759Z"
   },
   {
    "duration": 10,
    "start_time": "2022-07-01T07:19:10.467Z"
   },
   {
    "duration": 9,
    "start_time": "2022-07-01T07:19:19.126Z"
   },
   {
    "duration": 4,
    "start_time": "2022-07-01T07:19:38.330Z"
   },
   {
    "duration": 19372,
    "start_time": "2022-07-01T07:20:10.913Z"
   },
   {
    "duration": 395,
    "start_time": "2022-07-01T07:20:37.507Z"
   },
   {
    "duration": 223,
    "start_time": "2022-07-01T07:21:03.010Z"
   },
   {
    "duration": 4,
    "start_time": "2022-07-01T07:23:41.754Z"
   },
   {
    "duration": 21,
    "start_time": "2022-07-01T07:23:41.761Z"
   },
   {
    "duration": 13,
    "start_time": "2022-07-01T07:23:41.784Z"
   },
   {
    "duration": 13,
    "start_time": "2022-07-01T07:23:41.799Z"
   },
   {
    "duration": 8,
    "start_time": "2022-07-01T07:23:41.814Z"
   },
   {
    "duration": 9,
    "start_time": "2022-07-01T07:23:41.824Z"
   },
   {
    "duration": 10,
    "start_time": "2022-07-01T07:23:41.835Z"
   },
   {
    "duration": 8,
    "start_time": "2022-07-01T07:23:41.868Z"
   },
   {
    "duration": 16,
    "start_time": "2022-07-01T07:23:41.878Z"
   },
   {
    "duration": 8,
    "start_time": "2022-07-01T07:23:41.896Z"
   },
   {
    "duration": 10,
    "start_time": "2022-07-01T07:23:41.905Z"
   },
   {
    "duration": 11,
    "start_time": "2022-07-01T07:23:41.917Z"
   },
   {
    "duration": 8,
    "start_time": "2022-07-01T07:23:41.930Z"
   },
   {
    "duration": 6,
    "start_time": "2022-07-01T07:23:41.942Z"
   },
   {
    "duration": 23,
    "start_time": "2022-07-01T07:23:41.950Z"
   },
   {
    "duration": 33,
    "start_time": "2022-07-01T07:23:41.975Z"
   },
   {
    "duration": 177,
    "start_time": "2022-07-01T07:23:42.010Z"
   },
   {
    "duration": 156,
    "start_time": "2022-07-01T07:23:42.189Z"
   },
   {
    "duration": 1455,
    "start_time": "2022-07-01T07:23:42.347Z"
   },
   {
    "duration": 4,
    "start_time": "2022-07-01T07:23:43.804Z"
   },
   {
    "duration": 21,
    "start_time": "2022-07-01T07:23:43.810Z"
   },
   {
    "duration": 14,
    "start_time": "2022-07-01T07:23:43.834Z"
   },
   {
    "duration": 19,
    "start_time": "2022-07-01T07:23:43.850Z"
   },
   {
    "duration": 9,
    "start_time": "2022-07-01T07:23:43.870Z"
   },
   {
    "duration": 13,
    "start_time": "2022-07-01T07:23:43.881Z"
   },
   {
    "duration": 12,
    "start_time": "2022-07-01T07:23:43.896Z"
   },
   {
    "duration": 16,
    "start_time": "2022-07-01T07:23:43.910Z"
   },
   {
    "duration": 7,
    "start_time": "2022-07-01T07:23:43.928Z"
   },
   {
    "duration": 8,
    "start_time": "2022-07-01T07:23:43.936Z"
   },
   {
    "duration": 41744,
    "start_time": "2022-07-01T07:23:43.945Z"
   },
   {
    "duration": 85,
    "start_time": "2022-07-01T07:24:25.691Z"
   },
   {
    "duration": 12104,
    "start_time": "2022-07-01T07:24:25.778Z"
   },
   {
    "duration": 1599,
    "start_time": "2022-07-01T07:24:37.885Z"
   },
   {
    "duration": 1833,
    "start_time": "2022-07-01T07:24:39.486Z"
   },
   {
    "duration": 217,
    "start_time": "2022-07-01T07:24:41.322Z"
   },
   {
    "duration": 4,
    "start_time": "2022-07-01T07:24:41.541Z"
   },
   {
    "duration": 10,
    "start_time": "2022-07-01T07:24:41.547Z"
   },
   {
    "duration": 144024,
    "start_time": "2022-07-01T07:24:41.568Z"
   },
   {
    "duration": 79,
    "start_time": "2022-07-01T07:27:05.594Z"
   },
   {
    "duration": 13,
    "start_time": "2022-07-01T07:27:05.675Z"
   },
   {
    "duration": 8,
    "start_time": "2022-07-01T07:27:05.692Z"
   },
   {
    "duration": 26981,
    "start_time": "2022-07-01T07:27:05.701Z"
   },
   {
    "duration": 479,
    "start_time": "2022-07-01T07:27:32.684Z"
   },
   {
    "duration": 243,
    "start_time": "2022-07-01T07:27:33.167Z"
   },
   {
    "duration": 8,
    "start_time": "2022-07-01T07:28:22.990Z"
   },
   {
    "duration": 5,
    "start_time": "2022-07-01T07:28:27.084Z"
   },
   {
    "duration": 4,
    "start_time": "2022-07-01T07:32:27.606Z"
   },
   {
    "duration": 28,
    "start_time": "2022-07-01T07:32:27.612Z"
   },
   {
    "duration": 10,
    "start_time": "2022-07-01T07:32:27.641Z"
   },
   {
    "duration": 14,
    "start_time": "2022-07-01T07:32:27.652Z"
   },
   {
    "duration": 9,
    "start_time": "2022-07-01T07:32:27.668Z"
   },
   {
    "duration": 7,
    "start_time": "2022-07-01T07:32:27.678Z"
   },
   {
    "duration": 10,
    "start_time": "2022-07-01T07:32:27.687Z"
   },
   {
    "duration": 9,
    "start_time": "2022-07-01T07:32:27.699Z"
   },
   {
    "duration": 8,
    "start_time": "2022-07-01T07:32:27.710Z"
   },
   {
    "duration": 8,
    "start_time": "2022-07-01T07:32:27.719Z"
   },
   {
    "duration": 8,
    "start_time": "2022-07-01T07:32:27.729Z"
   },
   {
    "duration": 7,
    "start_time": "2022-07-01T07:32:27.739Z"
   },
   {
    "duration": 20,
    "start_time": "2022-07-01T07:32:27.748Z"
   },
   {
    "duration": 7,
    "start_time": "2022-07-01T07:32:27.771Z"
   },
   {
    "duration": 26,
    "start_time": "2022-07-01T07:32:27.779Z"
   },
   {
    "duration": 140,
    "start_time": "2022-07-01T07:32:27.806Z"
   },
   {
    "duration": 131,
    "start_time": "2022-07-01T07:32:27.948Z"
   },
   {
    "duration": 1556,
    "start_time": "2022-07-01T07:32:28.081Z"
   },
   {
    "duration": 4,
    "start_time": "2022-07-01T07:32:29.639Z"
   },
   {
    "duration": 26,
    "start_time": "2022-07-01T07:32:29.645Z"
   },
   {
    "duration": 14,
    "start_time": "2022-07-01T07:32:29.673Z"
   },
   {
    "duration": 8,
    "start_time": "2022-07-01T07:32:29.688Z"
   },
   {
    "duration": 7,
    "start_time": "2022-07-01T07:32:29.698Z"
   },
   {
    "duration": 10,
    "start_time": "2022-07-01T07:32:29.707Z"
   },
   {
    "duration": 4,
    "start_time": "2022-07-01T07:32:29.718Z"
   },
   {
    "duration": 19,
    "start_time": "2022-07-01T07:32:29.723Z"
   },
   {
    "duration": 8,
    "start_time": "2022-07-01T07:32:29.745Z"
   },
   {
    "duration": 6,
    "start_time": "2022-07-01T07:32:29.754Z"
   },
   {
    "duration": 42113,
    "start_time": "2022-07-01T07:32:29.762Z"
   },
   {
    "duration": 7,
    "start_time": "2022-07-01T07:33:11.877Z"
   },
   {
    "duration": 9381,
    "start_time": "2022-07-01T07:33:11.886Z"
   },
   {
    "duration": 1050,
    "start_time": "2022-07-01T07:33:21.269Z"
   },
   {
    "duration": 1446,
    "start_time": "2022-07-01T07:33:22.321Z"
   },
   {
    "duration": 166,
    "start_time": "2022-07-01T07:33:23.768Z"
   },
   {
    "duration": 3,
    "start_time": "2022-07-01T07:33:23.936Z"
   },
   {
    "duration": 12,
    "start_time": "2022-07-01T07:33:23.940Z"
   },
   {
    "duration": 114336,
    "start_time": "2022-07-01T07:33:23.954Z"
   },
   {
    "duration": 80,
    "start_time": "2022-07-01T07:35:18.292Z"
   },
   {
    "duration": 13,
    "start_time": "2022-07-01T07:35:18.373Z"
   },
   {
    "duration": 14,
    "start_time": "2022-07-01T07:35:18.388Z"
   },
   {
    "duration": 18062,
    "start_time": "2022-07-01T07:35:18.405Z"
   },
   {
    "duration": 357,
    "start_time": "2022-07-01T07:35:36.469Z"
   },
   {
    "duration": 208,
    "start_time": "2022-07-01T07:35:36.828Z"
   },
   {
    "duration": 8,
    "start_time": "2022-07-01T07:35:37.038Z"
   },
   {
    "duration": 5347,
    "start_time": "2022-07-01T07:35:56.128Z"
   },
   {
    "duration": 5,
    "start_time": "2022-07-01T07:36:14.976Z"
   },
   {
    "duration": 18445,
    "start_time": "2022-07-01T07:36:20.144Z"
   },
   {
    "duration": 208,
    "start_time": "2022-07-01T07:36:46.016Z"
   },
   {
    "duration": 3,
    "start_time": "2022-07-01T07:37:30.997Z"
   },
   {
    "duration": 4,
    "start_time": "2022-07-01T07:37:36.031Z"
   },
   {
    "duration": 2,
    "start_time": "2022-07-01T07:37:39.861Z"
   },
   {
    "duration": 38641,
    "start_time": "2022-07-01T07:37:43.529Z"
   },
   {
    "duration": 9,
    "start_time": "2022-07-01T07:39:02.008Z"
   },
   {
    "duration": 2,
    "start_time": "2022-07-01T07:39:15.416Z"
   },
   {
    "duration": 5,
    "start_time": "2022-07-01T07:39:18.324Z"
   },
   {
    "duration": 3,
    "start_time": "2022-07-01T07:39:21.607Z"
   },
   {
    "duration": 38919,
    "start_time": "2022-07-01T07:39:23.964Z"
   },
   {
    "duration": 8,
    "start_time": "2022-07-01T07:40:36.884Z"
   },
   {
    "duration": 5,
    "start_time": "2022-07-01T07:41:07.361Z"
   },
   {
    "duration": 3,
    "start_time": "2022-07-01T07:41:10.061Z"
   },
   {
    "duration": 40532,
    "start_time": "2022-07-01T07:41:12.542Z"
   },
   {
    "duration": 10,
    "start_time": "2022-07-01T07:42:09.768Z"
   },
   {
    "duration": 4,
    "start_time": "2022-07-01T07:42:25.952Z"
   },
   {
    "duration": 3,
    "start_time": "2022-07-01T07:42:33.962Z"
   },
   {
    "duration": 42095,
    "start_time": "2022-07-01T07:42:36.790Z"
   },
   {
    "duration": 8,
    "start_time": "2022-07-01T07:43:56.799Z"
   },
   {
    "duration": 5,
    "start_time": "2022-07-01T07:44:06.848Z"
   },
   {
    "duration": 28,
    "start_time": "2022-07-01T07:44:06.855Z"
   },
   {
    "duration": 12,
    "start_time": "2022-07-01T07:44:06.885Z"
   },
   {
    "duration": 18,
    "start_time": "2022-07-01T07:44:06.900Z"
   },
   {
    "duration": 21,
    "start_time": "2022-07-01T07:44:06.921Z"
   },
   {
    "duration": 15,
    "start_time": "2022-07-01T07:44:06.944Z"
   },
   {
    "duration": 11,
    "start_time": "2022-07-01T07:44:06.960Z"
   },
   {
    "duration": 10,
    "start_time": "2022-07-01T07:44:06.973Z"
   },
   {
    "duration": 10,
    "start_time": "2022-07-01T07:44:06.984Z"
   },
   {
    "duration": 11,
    "start_time": "2022-07-01T07:44:06.995Z"
   },
   {
    "duration": 14,
    "start_time": "2022-07-01T07:44:07.008Z"
   },
   {
    "duration": 8,
    "start_time": "2022-07-01T07:44:07.024Z"
   },
   {
    "duration": 11,
    "start_time": "2022-07-01T07:44:07.034Z"
   },
   {
    "duration": 23,
    "start_time": "2022-07-01T07:44:07.048Z"
   },
   {
    "duration": 36,
    "start_time": "2022-07-01T07:44:07.073Z"
   },
   {
    "duration": 203,
    "start_time": "2022-07-01T07:44:07.110Z"
   },
   {
    "duration": 203,
    "start_time": "2022-07-01T07:44:07.315Z"
   },
   {
    "duration": 1681,
    "start_time": "2022-07-01T07:44:07.521Z"
   },
   {
    "duration": 5,
    "start_time": "2022-07-01T07:44:09.203Z"
   },
   {
    "duration": 21,
    "start_time": "2022-07-01T07:44:09.209Z"
   },
   {
    "duration": 17,
    "start_time": "2022-07-01T07:44:09.231Z"
   },
   {
    "duration": 18,
    "start_time": "2022-07-01T07:44:09.249Z"
   },
   {
    "duration": 6,
    "start_time": "2022-07-01T07:44:09.269Z"
   },
   {
    "duration": 17,
    "start_time": "2022-07-01T07:44:09.276Z"
   },
   {
    "duration": 16,
    "start_time": "2022-07-01T07:44:09.295Z"
   },
   {
    "duration": 9,
    "start_time": "2022-07-01T07:44:09.313Z"
   },
   {
    "duration": 10,
    "start_time": "2022-07-01T07:44:09.323Z"
   },
   {
    "duration": 14,
    "start_time": "2022-07-01T07:44:09.335Z"
   },
   {
    "duration": 40930,
    "start_time": "2022-07-01T07:44:09.351Z"
   },
   {
    "duration": 7,
    "start_time": "2022-07-01T07:44:50.283Z"
   },
   {
    "duration": 3,
    "start_time": "2022-07-01T07:46:16.126Z"
   },
   {
    "duration": 30,
    "start_time": "2022-07-01T07:46:16.131Z"
   },
   {
    "duration": 20,
    "start_time": "2022-07-01T07:46:16.162Z"
   },
   {
    "duration": 20,
    "start_time": "2022-07-01T07:46:16.184Z"
   },
   {
    "duration": 6,
    "start_time": "2022-07-01T07:46:16.206Z"
   },
   {
    "duration": 9,
    "start_time": "2022-07-01T07:46:16.214Z"
   },
   {
    "duration": 12,
    "start_time": "2022-07-01T07:46:16.225Z"
   },
   {
    "duration": 9,
    "start_time": "2022-07-01T07:46:16.238Z"
   },
   {
    "duration": 10,
    "start_time": "2022-07-01T07:46:16.249Z"
   },
   {
    "duration": 12,
    "start_time": "2022-07-01T07:46:16.261Z"
   },
   {
    "duration": 15,
    "start_time": "2022-07-01T07:46:16.277Z"
   },
   {
    "duration": 7,
    "start_time": "2022-07-01T07:46:16.294Z"
   },
   {
    "duration": 9,
    "start_time": "2022-07-01T07:46:16.302Z"
   },
   {
    "duration": 7,
    "start_time": "2022-07-01T07:46:16.313Z"
   },
   {
    "duration": 23,
    "start_time": "2022-07-01T07:46:16.322Z"
   },
   {
    "duration": 149,
    "start_time": "2022-07-01T07:46:16.347Z"
   },
   {
    "duration": 135,
    "start_time": "2022-07-01T07:46:16.498Z"
   },
   {
    "duration": 1564,
    "start_time": "2022-07-01T07:46:16.635Z"
   },
   {
    "duration": 4,
    "start_time": "2022-07-01T07:46:18.200Z"
   },
   {
    "duration": 13,
    "start_time": "2022-07-01T07:46:18.206Z"
   },
   {
    "duration": 12,
    "start_time": "2022-07-01T07:46:18.220Z"
   },
   {
    "duration": 7,
    "start_time": "2022-07-01T07:46:18.234Z"
   },
   {
    "duration": 6,
    "start_time": "2022-07-01T07:46:18.242Z"
   },
   {
    "duration": 29,
    "start_time": "2022-07-01T07:46:18.250Z"
   },
   {
    "duration": 4,
    "start_time": "2022-07-01T07:46:18.281Z"
   },
   {
    "duration": 5,
    "start_time": "2022-07-01T07:46:18.287Z"
   },
   {
    "duration": 7,
    "start_time": "2022-07-01T07:46:18.293Z"
   },
   {
    "duration": 6,
    "start_time": "2022-07-01T07:46:18.302Z"
   },
   {
    "duration": 47271,
    "start_time": "2022-07-01T07:46:18.311Z"
   },
   {
    "duration": 9,
    "start_time": "2022-07-01T07:47:05.584Z"
   },
   {
    "duration": 4,
    "start_time": "2022-07-01T07:47:32.893Z"
   },
   {
    "duration": 27,
    "start_time": "2022-07-01T07:47:32.903Z"
   },
   {
    "duration": 14,
    "start_time": "2022-07-01T07:47:32.932Z"
   },
   {
    "duration": 14,
    "start_time": "2022-07-01T07:47:32.948Z"
   },
   {
    "duration": 25,
    "start_time": "2022-07-01T07:47:32.964Z"
   },
   {
    "duration": 6,
    "start_time": "2022-07-01T07:47:32.992Z"
   },
   {
    "duration": 8,
    "start_time": "2022-07-01T07:47:33.000Z"
   },
   {
    "duration": 7,
    "start_time": "2022-07-01T07:47:33.009Z"
   },
   {
    "duration": 8,
    "start_time": "2022-07-01T07:47:33.018Z"
   },
   {
    "duration": 8,
    "start_time": "2022-07-01T07:47:33.027Z"
   },
   {
    "duration": 11,
    "start_time": "2022-07-01T07:47:33.037Z"
   },
   {
    "duration": 7,
    "start_time": "2022-07-01T07:47:33.049Z"
   },
   {
    "duration": 9,
    "start_time": "2022-07-01T07:47:33.057Z"
   },
   {
    "duration": 22,
    "start_time": "2022-07-01T07:47:33.067Z"
   },
   {
    "duration": 46,
    "start_time": "2022-07-01T07:47:33.092Z"
   },
   {
    "duration": 168,
    "start_time": "2022-07-01T07:47:33.140Z"
   },
   {
    "duration": 148,
    "start_time": "2022-07-01T07:47:33.309Z"
   },
   {
    "duration": 1452,
    "start_time": "2022-07-01T07:47:33.459Z"
   },
   {
    "duration": 3,
    "start_time": "2022-07-01T07:47:34.914Z"
   },
   {
    "duration": 15,
    "start_time": "2022-07-01T07:47:34.919Z"
   },
   {
    "duration": 20,
    "start_time": "2022-07-01T07:47:34.935Z"
   },
   {
    "duration": 16,
    "start_time": "2022-07-01T07:47:34.956Z"
   },
   {
    "duration": 13,
    "start_time": "2022-07-01T07:47:34.977Z"
   },
   {
    "duration": 11,
    "start_time": "2022-07-01T07:47:34.992Z"
   },
   {
    "duration": 7,
    "start_time": "2022-07-01T07:47:35.005Z"
   },
   {
    "duration": 9,
    "start_time": "2022-07-01T07:47:35.014Z"
   },
   {
    "duration": 10,
    "start_time": "2022-07-01T07:47:35.024Z"
   },
   {
    "duration": 4,
    "start_time": "2022-07-01T07:47:35.036Z"
   },
   {
    "duration": 45342,
    "start_time": "2022-07-01T07:47:35.041Z"
   },
   {
    "duration": 8,
    "start_time": "2022-07-01T07:48:20.385Z"
   },
   {
    "duration": 3,
    "start_time": "2022-07-01T07:51:15.986Z"
   },
   {
    "duration": 18,
    "start_time": "2022-07-01T07:51:15.991Z"
   },
   {
    "duration": 9,
    "start_time": "2022-07-01T07:51:16.011Z"
   },
   {
    "duration": 11,
    "start_time": "2022-07-01T07:51:16.022Z"
   },
   {
    "duration": 4,
    "start_time": "2022-07-01T07:51:16.035Z"
   },
   {
    "duration": 9,
    "start_time": "2022-07-01T07:51:16.040Z"
   },
   {
    "duration": 5,
    "start_time": "2022-07-01T07:51:16.050Z"
   },
   {
    "duration": 11,
    "start_time": "2022-07-01T07:51:16.057Z"
   },
   {
    "duration": 8,
    "start_time": "2022-07-01T07:51:16.069Z"
   },
   {
    "duration": 9,
    "start_time": "2022-07-01T07:51:16.078Z"
   },
   {
    "duration": 11,
    "start_time": "2022-07-01T07:51:16.089Z"
   },
   {
    "duration": 6,
    "start_time": "2022-07-01T07:51:16.103Z"
   },
   {
    "duration": 13,
    "start_time": "2022-07-01T07:51:16.111Z"
   },
   {
    "duration": 6,
    "start_time": "2022-07-01T07:51:16.126Z"
   },
   {
    "duration": 23,
    "start_time": "2022-07-01T07:51:16.134Z"
   },
   {
    "duration": 143,
    "start_time": "2022-07-01T07:51:16.158Z"
   },
   {
    "duration": 142,
    "start_time": "2022-07-01T07:51:16.302Z"
   },
   {
    "duration": 1524,
    "start_time": "2022-07-01T07:51:16.445Z"
   },
   {
    "duration": 4,
    "start_time": "2022-07-01T07:51:17.970Z"
   },
   {
    "duration": 11,
    "start_time": "2022-07-01T07:51:17.975Z"
   },
   {
    "duration": 11,
    "start_time": "2022-07-01T07:51:17.988Z"
   },
   {
    "duration": 8,
    "start_time": "2022-07-01T07:51:18.001Z"
   },
   {
    "duration": 8,
    "start_time": "2022-07-01T07:51:18.010Z"
   },
   {
    "duration": 16,
    "start_time": "2022-07-01T07:51:18.019Z"
   },
   {
    "duration": 5,
    "start_time": "2022-07-01T07:51:18.037Z"
   },
   {
    "duration": 6,
    "start_time": "2022-07-01T07:51:18.043Z"
   },
   {
    "duration": 19,
    "start_time": "2022-07-01T07:51:18.050Z"
   },
   {
    "duration": 7,
    "start_time": "2022-07-01T07:51:18.071Z"
   },
   {
    "duration": 37598,
    "start_time": "2022-07-01T07:51:18.079Z"
   },
   {
    "duration": 7,
    "start_time": "2022-07-01T07:51:55.679Z"
   },
   {
    "duration": 9000,
    "start_time": "2022-07-01T07:51:55.687Z"
   },
   {
    "duration": 1318,
    "start_time": "2022-07-01T07:52:04.689Z"
   },
   {
    "duration": 1685,
    "start_time": "2022-07-01T07:52:06.009Z"
   },
   {
    "duration": 185,
    "start_time": "2022-07-01T07:52:07.696Z"
   },
   {
    "duration": 3,
    "start_time": "2022-07-01T07:52:07.882Z"
   },
   {
    "duration": 10,
    "start_time": "2022-07-01T07:52:07.887Z"
   },
   {
    "duration": 111377,
    "start_time": "2022-07-01T07:52:07.898Z"
   },
   {
    "duration": 8,
    "start_time": "2022-07-01T07:53:59.277Z"
   },
   {
    "duration": 13,
    "start_time": "2022-07-01T07:53:59.287Z"
   },
   {
    "duration": 6,
    "start_time": "2022-07-01T07:53:59.301Z"
   },
   {
    "duration": 18867,
    "start_time": "2022-07-01T07:53:59.311Z"
   },
   {
    "duration": 412,
    "start_time": "2022-07-01T07:54:18.179Z"
   },
   {
    "duration": 194,
    "start_time": "2022-07-01T07:54:18.593Z"
   },
   {
    "duration": 3,
    "start_time": "2022-07-01T08:19:50.695Z"
   },
   {
    "duration": 20,
    "start_time": "2022-07-01T08:19:50.700Z"
   },
   {
    "duration": 10,
    "start_time": "2022-07-01T08:19:50.722Z"
   },
   {
    "duration": 15,
    "start_time": "2022-07-01T08:19:50.733Z"
   },
   {
    "duration": 6,
    "start_time": "2022-07-01T08:19:50.751Z"
   },
   {
    "duration": 13,
    "start_time": "2022-07-01T08:19:50.759Z"
   },
   {
    "duration": 10,
    "start_time": "2022-07-01T08:19:50.774Z"
   },
   {
    "duration": 7,
    "start_time": "2022-07-01T08:19:50.786Z"
   },
   {
    "duration": 10,
    "start_time": "2022-07-01T08:19:50.794Z"
   },
   {
    "duration": 9,
    "start_time": "2022-07-01T08:19:50.805Z"
   },
   {
    "duration": 13,
    "start_time": "2022-07-01T08:19:50.816Z"
   },
   {
    "duration": 7,
    "start_time": "2022-07-01T08:19:50.830Z"
   },
   {
    "duration": 9,
    "start_time": "2022-07-01T08:19:50.839Z"
   },
   {
    "duration": 17,
    "start_time": "2022-07-01T08:19:50.852Z"
   },
   {
    "duration": 28,
    "start_time": "2022-07-01T08:19:50.872Z"
   },
   {
    "duration": 160,
    "start_time": "2022-07-01T08:19:50.902Z"
   },
   {
    "duration": 292,
    "start_time": "2022-07-01T08:19:51.067Z"
   },
   {
    "duration": 1423,
    "start_time": "2022-07-01T08:19:51.360Z"
   },
   {
    "duration": 4,
    "start_time": "2022-07-01T08:19:52.785Z"
   },
   {
    "duration": 15,
    "start_time": "2022-07-01T08:19:52.791Z"
   },
   {
    "duration": 17,
    "start_time": "2022-07-01T08:19:52.807Z"
   },
   {
    "duration": 9,
    "start_time": "2022-07-01T08:19:52.826Z"
   },
   {
    "duration": 8,
    "start_time": "2022-07-01T08:19:52.836Z"
   },
   {
    "duration": 24,
    "start_time": "2022-07-01T08:19:52.846Z"
   },
   {
    "duration": 8,
    "start_time": "2022-07-01T08:19:52.872Z"
   },
   {
    "duration": 8,
    "start_time": "2022-07-01T08:19:52.881Z"
   },
   {
    "duration": 7,
    "start_time": "2022-07-01T08:19:52.891Z"
   },
   {
    "duration": 4,
    "start_time": "2022-07-01T08:19:52.900Z"
   },
   {
    "duration": 43074,
    "start_time": "2022-07-01T08:19:52.905Z"
   },
   {
    "duration": 10,
    "start_time": "2022-07-01T08:20:35.981Z"
   },
   {
    "duration": 14488,
    "start_time": "2022-07-01T08:20:35.992Z"
   },
   {
    "duration": 1288,
    "start_time": "2022-07-01T08:20:50.483Z"
   },
   {
    "duration": 1702,
    "start_time": "2022-07-01T08:20:51.773Z"
   },
   {
    "duration": 218,
    "start_time": "2022-07-01T08:20:53.477Z"
   },
   {
    "duration": 3,
    "start_time": "2022-07-01T08:20:53.698Z"
   },
   {
    "duration": 11,
    "start_time": "2022-07-01T08:20:53.703Z"
   },
   {
    "duration": 139269,
    "start_time": "2022-07-01T08:20:53.716Z"
   },
   {
    "duration": 0,
    "start_time": "2022-07-01T08:23:12.987Z"
   },
   {
    "duration": 0,
    "start_time": "2022-07-01T08:23:12.989Z"
   },
   {
    "duration": 0,
    "start_time": "2022-07-01T08:23:12.990Z"
   },
   {
    "duration": 0,
    "start_time": "2022-07-01T08:23:12.991Z"
   },
   {
    "duration": 0,
    "start_time": "2022-07-01T08:23:12.992Z"
   },
   {
    "duration": 0,
    "start_time": "2022-07-01T08:23:12.993Z"
   },
   {
    "duration": 16,
    "start_time": "2022-07-01T08:23:47.224Z"
   },
   {
    "duration": 3,
    "start_time": "2022-07-01T08:23:52.701Z"
   },
   {
    "duration": 167837,
    "start_time": "2022-07-01T08:23:55.947Z"
   },
   {
    "duration": 5,
    "start_time": "2022-07-01T08:31:56.099Z"
   },
   {
    "duration": 4,
    "start_time": "2022-07-01T08:31:58.862Z"
   },
   {
    "duration": 40309,
    "start_time": "2022-07-01T08:32:03.073Z"
   },
   {
    "duration": 10,
    "start_time": "2022-07-01T08:32:53.584Z"
   },
   {
    "duration": 5,
    "start_time": "2022-07-01T08:33:22.681Z"
   },
   {
    "duration": 23,
    "start_time": "2022-07-01T08:33:22.688Z"
   },
   {
    "duration": 10,
    "start_time": "2022-07-01T08:33:22.714Z"
   },
   {
    "duration": 13,
    "start_time": "2022-07-01T08:33:22.725Z"
   },
   {
    "duration": 5,
    "start_time": "2022-07-01T08:33:22.740Z"
   },
   {
    "duration": 7,
    "start_time": "2022-07-01T08:33:22.747Z"
   },
   {
    "duration": 14,
    "start_time": "2022-07-01T08:33:22.756Z"
   },
   {
    "duration": 9,
    "start_time": "2022-07-01T08:33:22.772Z"
   },
   {
    "duration": 8,
    "start_time": "2022-07-01T08:33:22.783Z"
   },
   {
    "duration": 7,
    "start_time": "2022-07-01T08:33:22.793Z"
   },
   {
    "duration": 8,
    "start_time": "2022-07-01T08:33:22.802Z"
   },
   {
    "duration": 7,
    "start_time": "2022-07-01T08:33:22.812Z"
   },
   {
    "duration": 7,
    "start_time": "2022-07-01T08:33:22.821Z"
   },
   {
    "duration": 42,
    "start_time": "2022-07-01T08:33:22.831Z"
   },
   {
    "duration": 29,
    "start_time": "2022-07-01T08:33:22.874Z"
   },
   {
    "duration": 165,
    "start_time": "2022-07-01T08:33:22.905Z"
   },
   {
    "duration": 283,
    "start_time": "2022-07-01T08:33:23.072Z"
   },
   {
    "duration": 1747,
    "start_time": "2022-07-01T08:33:23.356Z"
   },
   {
    "duration": 4,
    "start_time": "2022-07-01T08:33:25.104Z"
   },
   {
    "duration": 15,
    "start_time": "2022-07-01T08:33:25.110Z"
   },
   {
    "duration": 18,
    "start_time": "2022-07-01T08:33:25.127Z"
   },
   {
    "duration": 22,
    "start_time": "2022-07-01T08:33:25.147Z"
   },
   {
    "duration": 7,
    "start_time": "2022-07-01T08:33:25.171Z"
   },
   {
    "duration": 14,
    "start_time": "2022-07-01T08:33:25.180Z"
   },
   {
    "duration": 6,
    "start_time": "2022-07-01T08:33:25.196Z"
   },
   {
    "duration": 8,
    "start_time": "2022-07-01T08:33:25.204Z"
   },
   {
    "duration": 8,
    "start_time": "2022-07-01T08:33:25.214Z"
   },
   {
    "duration": 4,
    "start_time": "2022-07-01T08:33:25.224Z"
   },
   {
    "duration": 40754,
    "start_time": "2022-07-01T08:33:25.230Z"
   },
   {
    "duration": 16,
    "start_time": "2022-07-01T08:34:05.986Z"
   },
   {
    "duration": 14,
    "start_time": "2022-07-01T08:40:22.547Z"
   },
   {
    "duration": 3,
    "start_time": "2022-07-01T08:43:25.518Z"
   },
   {
    "duration": 21,
    "start_time": "2022-07-01T08:43:25.523Z"
   },
   {
    "duration": 9,
    "start_time": "2022-07-01T08:43:25.546Z"
   },
   {
    "duration": 14,
    "start_time": "2022-07-01T08:43:25.557Z"
   },
   {
    "duration": 6,
    "start_time": "2022-07-01T08:43:25.574Z"
   },
   {
    "duration": 6,
    "start_time": "2022-07-01T08:43:25.581Z"
   },
   {
    "duration": 6,
    "start_time": "2022-07-01T08:43:25.589Z"
   },
   {
    "duration": 13,
    "start_time": "2022-07-01T08:43:25.596Z"
   },
   {
    "duration": 7,
    "start_time": "2022-07-01T08:43:25.610Z"
   },
   {
    "duration": 7,
    "start_time": "2022-07-01T08:43:25.619Z"
   },
   {
    "duration": 5,
    "start_time": "2022-07-01T08:43:25.628Z"
   },
   {
    "duration": 6,
    "start_time": "2022-07-01T08:43:25.635Z"
   },
   {
    "duration": 26,
    "start_time": "2022-07-01T08:43:25.642Z"
   },
   {
    "duration": 8,
    "start_time": "2022-07-01T08:43:25.671Z"
   },
   {
    "duration": 25,
    "start_time": "2022-07-01T08:43:25.680Z"
   },
   {
    "duration": 152,
    "start_time": "2022-07-01T08:43:25.707Z"
   },
   {
    "duration": 134,
    "start_time": "2022-07-01T08:43:25.867Z"
   },
   {
    "duration": 1475,
    "start_time": "2022-07-01T08:43:26.003Z"
   },
   {
    "duration": 4,
    "start_time": "2022-07-01T08:43:27.480Z"
   },
   {
    "duration": 13,
    "start_time": "2022-07-01T08:43:27.485Z"
   },
   {
    "duration": 12,
    "start_time": "2022-07-01T08:43:27.500Z"
   },
   {
    "duration": 10,
    "start_time": "2022-07-01T08:43:27.513Z"
   },
   {
    "duration": 6,
    "start_time": "2022-07-01T08:43:27.525Z"
   },
   {
    "duration": 9,
    "start_time": "2022-07-01T08:43:27.533Z"
   },
   {
    "duration": 23,
    "start_time": "2022-07-01T08:43:27.544Z"
   },
   {
    "duration": 3,
    "start_time": "2022-07-01T08:43:27.569Z"
   },
   {
    "duration": 27,
    "start_time": "2022-07-01T08:43:27.574Z"
   },
   {
    "duration": 6,
    "start_time": "2022-07-01T08:43:27.602Z"
   },
   {
    "duration": 38168,
    "start_time": "2022-07-01T08:43:27.610Z"
   },
   {
    "duration": 10,
    "start_time": "2022-07-01T08:44:05.780Z"
   },
   {
    "duration": 10592,
    "start_time": "2022-07-01T08:44:05.792Z"
   },
   {
    "duration": 1282,
    "start_time": "2022-07-01T08:44:16.386Z"
   },
   {
    "duration": 1873,
    "start_time": "2022-07-01T08:44:17.669Z"
   },
   {
    "duration": 217,
    "start_time": "2022-07-01T08:44:19.544Z"
   },
   {
    "duration": 5,
    "start_time": "2022-07-01T08:44:19.763Z"
   },
   {
    "duration": 14,
    "start_time": "2022-07-01T08:44:19.770Z"
   },
   {
    "duration": 121088,
    "start_time": "2022-07-01T08:44:19.787Z"
   },
   {
    "duration": 9,
    "start_time": "2022-07-01T08:46:20.877Z"
   },
   {
    "duration": 10,
    "start_time": "2022-07-01T08:46:20.887Z"
   },
   {
    "duration": 5,
    "start_time": "2022-07-01T08:46:20.898Z"
   },
   {
    "duration": 18877,
    "start_time": "2022-07-01T08:46:20.906Z"
   },
   {
    "duration": 440,
    "start_time": "2022-07-01T08:46:39.785Z"
   },
   {
    "duration": 210,
    "start_time": "2022-07-01T08:46:40.226Z"
   },
   {
    "duration": 4,
    "start_time": "2022-07-01T09:24:00.200Z"
   },
   {
    "duration": 30,
    "start_time": "2022-07-01T09:24:00.206Z"
   },
   {
    "duration": 11,
    "start_time": "2022-07-01T09:24:00.238Z"
   },
   {
    "duration": 25,
    "start_time": "2022-07-01T09:24:00.251Z"
   },
   {
    "duration": 16,
    "start_time": "2022-07-01T09:24:00.278Z"
   },
   {
    "duration": 8,
    "start_time": "2022-07-01T09:24:00.296Z"
   },
   {
    "duration": 24,
    "start_time": "2022-07-01T09:24:00.305Z"
   },
   {
    "duration": 15,
    "start_time": "2022-07-01T09:24:00.331Z"
   },
   {
    "duration": 24,
    "start_time": "2022-07-01T09:24:00.348Z"
   },
   {
    "duration": 24,
    "start_time": "2022-07-01T09:24:00.374Z"
   },
   {
    "duration": 23,
    "start_time": "2022-07-01T09:24:00.401Z"
   },
   {
    "duration": 18,
    "start_time": "2022-07-01T09:24:00.426Z"
   },
   {
    "duration": 39,
    "start_time": "2022-07-01T09:24:00.445Z"
   },
   {
    "duration": 23,
    "start_time": "2022-07-01T09:24:00.486Z"
   },
   {
    "duration": 38,
    "start_time": "2022-07-01T09:24:00.511Z"
   },
   {
    "duration": 160,
    "start_time": "2022-07-01T09:24:00.551Z"
   },
   {
    "duration": 166,
    "start_time": "2022-07-01T09:24:00.713Z"
   },
   {
    "duration": 1732,
    "start_time": "2022-07-01T09:24:00.881Z"
   },
   {
    "duration": 4,
    "start_time": "2022-07-01T09:24:02.616Z"
   },
   {
    "duration": 18,
    "start_time": "2022-07-01T09:24:02.622Z"
   },
   {
    "duration": 36,
    "start_time": "2022-07-01T09:24:02.642Z"
   },
   {
    "duration": 16,
    "start_time": "2022-07-01T09:24:02.682Z"
   },
   {
    "duration": 7,
    "start_time": "2022-07-01T09:24:02.699Z"
   },
   {
    "duration": 12,
    "start_time": "2022-07-01T09:24:02.708Z"
   },
   {
    "duration": 4,
    "start_time": "2022-07-01T09:24:02.721Z"
   },
   {
    "duration": 4,
    "start_time": "2022-07-01T09:24:02.729Z"
   },
   {
    "duration": 7,
    "start_time": "2022-07-01T09:24:02.735Z"
   },
   {
    "duration": 13,
    "start_time": "2022-07-01T09:24:02.743Z"
   },
   {
    "duration": 64435,
    "start_time": "2022-07-01T09:24:02.758Z"
   },
   {
    "duration": 84,
    "start_time": "2022-07-01T09:25:07.195Z"
   },
   {
    "duration": 3,
    "start_time": "2022-07-01T09:25:26.233Z"
   },
   {
    "duration": 27,
    "start_time": "2022-07-01T09:25:26.238Z"
   },
   {
    "duration": 11,
    "start_time": "2022-07-01T09:25:26.266Z"
   },
   {
    "duration": 35,
    "start_time": "2022-07-01T09:25:26.279Z"
   },
   {
    "duration": 9,
    "start_time": "2022-07-01T09:25:26.316Z"
   },
   {
    "duration": 27,
    "start_time": "2022-07-01T09:25:26.326Z"
   },
   {
    "duration": 27,
    "start_time": "2022-07-01T09:25:26.354Z"
   },
   {
    "duration": 26,
    "start_time": "2022-07-01T09:25:26.382Z"
   },
   {
    "duration": 26,
    "start_time": "2022-07-01T09:25:26.409Z"
   },
   {
    "duration": 41,
    "start_time": "2022-07-01T09:25:26.436Z"
   },
   {
    "duration": 33,
    "start_time": "2022-07-01T09:25:26.479Z"
   },
   {
    "duration": 18,
    "start_time": "2022-07-01T09:25:26.514Z"
   },
   {
    "duration": 15,
    "start_time": "2022-07-01T09:25:26.535Z"
   },
   {
    "duration": 25,
    "start_time": "2022-07-01T09:25:26.552Z"
   },
   {
    "duration": 56,
    "start_time": "2022-07-01T09:25:26.579Z"
   },
   {
    "duration": 150,
    "start_time": "2022-07-01T09:25:26.637Z"
   },
   {
    "duration": 147,
    "start_time": "2022-07-01T09:25:26.789Z"
   },
   {
    "duration": 1483,
    "start_time": "2022-07-01T09:25:26.938Z"
   },
   {
    "duration": 5,
    "start_time": "2022-07-01T09:25:28.423Z"
   },
   {
    "duration": 15,
    "start_time": "2022-07-01T09:25:28.430Z"
   },
   {
    "duration": 29,
    "start_time": "2022-07-01T09:25:28.446Z"
   },
   {
    "duration": 5,
    "start_time": "2022-07-01T09:25:28.476Z"
   },
   {
    "duration": 13,
    "start_time": "2022-07-01T09:25:28.483Z"
   },
   {
    "duration": 13,
    "start_time": "2022-07-01T09:25:28.498Z"
   },
   {
    "duration": 6,
    "start_time": "2022-07-01T09:25:28.513Z"
   },
   {
    "duration": 5,
    "start_time": "2022-07-01T09:25:28.520Z"
   },
   {
    "duration": 5,
    "start_time": "2022-07-01T09:25:28.527Z"
   },
   {
    "duration": 4,
    "start_time": "2022-07-01T09:25:28.534Z"
   },
   {
    "duration": 43340,
    "start_time": "2022-07-01T09:25:28.540Z"
   },
   {
    "duration": 8,
    "start_time": "2022-07-01T09:26:11.883Z"
   },
   {
    "duration": 4,
    "start_time": "2022-07-01T09:26:25.667Z"
   },
   {
    "duration": 24,
    "start_time": "2022-07-01T09:26:25.673Z"
   },
   {
    "duration": 11,
    "start_time": "2022-07-01T09:26:25.698Z"
   },
   {
    "duration": 13,
    "start_time": "2022-07-01T09:26:25.710Z"
   },
   {
    "duration": 4,
    "start_time": "2022-07-01T09:26:25.726Z"
   },
   {
    "duration": 10,
    "start_time": "2022-07-01T09:26:25.732Z"
   },
   {
    "duration": 24,
    "start_time": "2022-07-01T09:26:25.744Z"
   },
   {
    "duration": 7,
    "start_time": "2022-07-01T09:26:25.770Z"
   },
   {
    "duration": 10,
    "start_time": "2022-07-01T09:26:25.779Z"
   },
   {
    "duration": 17,
    "start_time": "2022-07-01T09:26:25.791Z"
   },
   {
    "duration": 8,
    "start_time": "2022-07-01T09:26:25.810Z"
   },
   {
    "duration": 10,
    "start_time": "2022-07-01T09:26:25.819Z"
   },
   {
    "duration": 10,
    "start_time": "2022-07-01T09:26:25.830Z"
   },
   {
    "duration": 9,
    "start_time": "2022-07-01T09:26:25.843Z"
   },
   {
    "duration": 35,
    "start_time": "2022-07-01T09:26:25.854Z"
   },
   {
    "duration": 156,
    "start_time": "2022-07-01T09:26:25.891Z"
   },
   {
    "duration": 156,
    "start_time": "2022-07-01T09:26:26.049Z"
   },
   {
    "duration": 1779,
    "start_time": "2022-07-01T09:26:26.206Z"
   },
   {
    "duration": 4,
    "start_time": "2022-07-01T09:26:27.987Z"
   },
   {
    "duration": 10,
    "start_time": "2022-07-01T09:26:27.993Z"
   },
   {
    "duration": 14,
    "start_time": "2022-07-01T09:26:28.005Z"
   },
   {
    "duration": 4,
    "start_time": "2022-07-01T09:26:28.021Z"
   },
   {
    "duration": 11,
    "start_time": "2022-07-01T09:26:28.027Z"
   },
   {
    "duration": 34,
    "start_time": "2022-07-01T09:26:28.040Z"
   },
   {
    "duration": 7,
    "start_time": "2022-07-01T09:26:28.075Z"
   },
   {
    "duration": 5,
    "start_time": "2022-07-01T09:26:28.084Z"
   },
   {
    "duration": 6,
    "start_time": "2022-07-01T09:26:28.091Z"
   },
   {
    "duration": 5,
    "start_time": "2022-07-01T09:26:28.098Z"
   },
   {
    "duration": 40068,
    "start_time": "2022-07-01T09:26:28.104Z"
   },
   {
    "duration": 9,
    "start_time": "2022-07-01T09:27:08.174Z"
   },
   {
    "duration": 4,
    "start_time": "2022-07-01T09:27:43.698Z"
   },
   {
    "duration": 18,
    "start_time": "2022-07-01T09:27:43.704Z"
   },
   {
    "duration": 11,
    "start_time": "2022-07-01T09:27:43.724Z"
   },
   {
    "duration": 26,
    "start_time": "2022-07-01T09:27:43.736Z"
   },
   {
    "duration": 7,
    "start_time": "2022-07-01T09:27:43.765Z"
   },
   {
    "duration": 12,
    "start_time": "2022-07-01T09:27:43.773Z"
   },
   {
    "duration": 6,
    "start_time": "2022-07-01T09:27:43.787Z"
   },
   {
    "duration": 6,
    "start_time": "2022-07-01T09:27:43.795Z"
   },
   {
    "duration": 6,
    "start_time": "2022-07-01T09:27:43.803Z"
   },
   {
    "duration": 6,
    "start_time": "2022-07-01T09:27:43.810Z"
   },
   {
    "duration": 10,
    "start_time": "2022-07-01T09:27:43.817Z"
   },
   {
    "duration": 6,
    "start_time": "2022-07-01T09:27:43.829Z"
   },
   {
    "duration": 9,
    "start_time": "2022-07-01T09:27:43.836Z"
   },
   {
    "duration": 7,
    "start_time": "2022-07-01T09:27:43.868Z"
   },
   {
    "duration": 23,
    "start_time": "2022-07-01T09:27:43.877Z"
   },
   {
    "duration": 160,
    "start_time": "2022-07-01T09:27:43.902Z"
   },
   {
    "duration": 151,
    "start_time": "2022-07-01T09:27:44.067Z"
   },
   {
    "duration": 1760,
    "start_time": "2022-07-01T09:27:44.220Z"
   },
   {
    "duration": 5,
    "start_time": "2022-07-01T09:27:45.981Z"
   },
   {
    "duration": 15,
    "start_time": "2022-07-01T09:27:45.988Z"
   },
   {
    "duration": 16,
    "start_time": "2022-07-01T09:27:46.006Z"
   },
   {
    "duration": 6,
    "start_time": "2022-07-01T09:27:46.024Z"
   },
   {
    "duration": 8,
    "start_time": "2022-07-01T09:27:46.032Z"
   },
   {
    "duration": 32,
    "start_time": "2022-07-01T09:27:46.041Z"
   },
   {
    "duration": 5,
    "start_time": "2022-07-01T09:27:46.074Z"
   },
   {
    "duration": 5,
    "start_time": "2022-07-01T09:27:46.080Z"
   },
   {
    "duration": 5,
    "start_time": "2022-07-01T09:27:46.087Z"
   },
   {
    "duration": 4,
    "start_time": "2022-07-01T09:27:46.094Z"
   },
   {
    "duration": 39268,
    "start_time": "2022-07-01T09:27:46.099Z"
   },
   {
    "duration": 9,
    "start_time": "2022-07-01T09:28:25.369Z"
   },
   {
    "duration": 4,
    "start_time": "2022-07-01T09:28:44.937Z"
   },
   {
    "duration": 22,
    "start_time": "2022-07-01T09:28:44.943Z"
   },
   {
    "duration": 10,
    "start_time": "2022-07-01T09:28:44.967Z"
   },
   {
    "duration": 14,
    "start_time": "2022-07-01T09:28:44.978Z"
   },
   {
    "duration": 5,
    "start_time": "2022-07-01T09:28:44.995Z"
   },
   {
    "duration": 8,
    "start_time": "2022-07-01T09:28:45.002Z"
   },
   {
    "duration": 15,
    "start_time": "2022-07-01T09:28:45.011Z"
   },
   {
    "duration": 9,
    "start_time": "2022-07-01T09:28:45.028Z"
   },
   {
    "duration": 31,
    "start_time": "2022-07-01T09:28:45.038Z"
   },
   {
    "duration": 8,
    "start_time": "2022-07-01T09:28:45.071Z"
   },
   {
    "duration": 8,
    "start_time": "2022-07-01T09:28:45.081Z"
   },
   {
    "duration": 24,
    "start_time": "2022-07-01T09:28:45.090Z"
   },
   {
    "duration": 7,
    "start_time": "2022-07-01T09:28:45.116Z"
   },
   {
    "duration": 6,
    "start_time": "2022-07-01T09:28:45.126Z"
   },
   {
    "duration": 35,
    "start_time": "2022-07-01T09:28:45.134Z"
   },
   {
    "duration": 147,
    "start_time": "2022-07-01T09:28:45.171Z"
   },
   {
    "duration": 152,
    "start_time": "2022-07-01T09:28:45.320Z"
   },
   {
    "duration": 1519,
    "start_time": "2022-07-01T09:28:45.474Z"
   },
   {
    "duration": 4,
    "start_time": "2022-07-01T09:28:46.995Z"
   },
   {
    "duration": 11,
    "start_time": "2022-07-01T09:28:47.001Z"
   },
   {
    "duration": 11,
    "start_time": "2022-07-01T09:28:47.014Z"
   },
   {
    "duration": 5,
    "start_time": "2022-07-01T09:28:47.027Z"
   },
   {
    "duration": 6,
    "start_time": "2022-07-01T09:28:47.033Z"
   },
   {
    "duration": 10,
    "start_time": "2022-07-01T09:28:47.068Z"
   },
   {
    "duration": 5,
    "start_time": "2022-07-01T09:28:47.080Z"
   },
   {
    "duration": 4,
    "start_time": "2022-07-01T09:28:47.086Z"
   },
   {
    "duration": 6,
    "start_time": "2022-07-01T09:28:47.092Z"
   },
   {
    "duration": 3,
    "start_time": "2022-07-01T09:28:47.100Z"
   },
   {
    "duration": 39066,
    "start_time": "2022-07-01T09:28:47.105Z"
   },
   {
    "duration": 8,
    "start_time": "2022-07-01T09:29:26.173Z"
   },
   {
    "duration": 4,
    "start_time": "2022-07-01T09:29:54.955Z"
   },
   {
    "duration": 28,
    "start_time": "2022-07-01T09:29:54.962Z"
   },
   {
    "duration": 11,
    "start_time": "2022-07-01T09:29:54.992Z"
   },
   {
    "duration": 14,
    "start_time": "2022-07-01T09:29:55.005Z"
   },
   {
    "duration": 8,
    "start_time": "2022-07-01T09:29:55.022Z"
   },
   {
    "duration": 9,
    "start_time": "2022-07-01T09:29:55.032Z"
   },
   {
    "duration": 10,
    "start_time": "2022-07-01T09:29:55.043Z"
   },
   {
    "duration": 9,
    "start_time": "2022-07-01T09:29:55.054Z"
   },
   {
    "duration": 11,
    "start_time": "2022-07-01T09:29:55.065Z"
   },
   {
    "duration": 10,
    "start_time": "2022-07-01T09:29:55.077Z"
   },
   {
    "duration": 6,
    "start_time": "2022-07-01T09:29:55.089Z"
   },
   {
    "duration": 5,
    "start_time": "2022-07-01T09:29:55.097Z"
   },
   {
    "duration": 7,
    "start_time": "2022-07-01T09:29:55.103Z"
   },
   {
    "duration": 6,
    "start_time": "2022-07-01T09:29:55.112Z"
   },
   {
    "duration": 22,
    "start_time": "2022-07-01T09:29:55.120Z"
   },
   {
    "duration": 147,
    "start_time": "2022-07-01T09:29:55.166Z"
   },
   {
    "duration": 313,
    "start_time": "2022-07-01T09:29:55.315Z"
   },
   {
    "duration": 1477,
    "start_time": "2022-07-01T09:29:55.630Z"
   },
   {
    "duration": 4,
    "start_time": "2022-07-01T09:29:57.110Z"
   },
   {
    "duration": 21,
    "start_time": "2022-07-01T09:29:57.115Z"
   },
   {
    "duration": 15,
    "start_time": "2022-07-01T09:29:57.138Z"
   },
   {
    "duration": 13,
    "start_time": "2022-07-01T09:29:57.155Z"
   },
   {
    "duration": 7,
    "start_time": "2022-07-01T09:29:57.170Z"
   },
   {
    "duration": 16,
    "start_time": "2022-07-01T09:29:57.178Z"
   },
   {
    "duration": 3,
    "start_time": "2022-07-01T09:29:57.196Z"
   },
   {
    "duration": 5,
    "start_time": "2022-07-01T09:29:57.201Z"
   },
   {
    "duration": 8,
    "start_time": "2022-07-01T09:29:57.207Z"
   },
   {
    "duration": 6,
    "start_time": "2022-07-01T09:29:57.216Z"
   },
   {
    "duration": 39963,
    "start_time": "2022-07-01T09:29:57.223Z"
   },
   {
    "duration": 79,
    "start_time": "2022-07-01T09:30:37.188Z"
   },
   {
    "duration": 4,
    "start_time": "2022-07-01T09:31:10.512Z"
   },
   {
    "duration": 22,
    "start_time": "2022-07-01T09:31:10.518Z"
   },
   {
    "duration": 11,
    "start_time": "2022-07-01T09:31:10.541Z"
   },
   {
    "duration": 14,
    "start_time": "2022-07-01T09:31:10.554Z"
   },
   {
    "duration": 11,
    "start_time": "2022-07-01T09:31:10.571Z"
   },
   {
    "duration": 14,
    "start_time": "2022-07-01T09:31:10.583Z"
   },
   {
    "duration": 19,
    "start_time": "2022-07-01T09:31:10.599Z"
   },
   {
    "duration": 15,
    "start_time": "2022-07-01T09:31:10.620Z"
   },
   {
    "duration": 8,
    "start_time": "2022-07-01T09:31:10.637Z"
   },
   {
    "duration": 18,
    "start_time": "2022-07-01T09:31:10.647Z"
   },
   {
    "duration": 23,
    "start_time": "2022-07-01T09:31:10.668Z"
   },
   {
    "duration": 10,
    "start_time": "2022-07-01T09:31:10.693Z"
   },
   {
    "duration": 10,
    "start_time": "2022-07-01T09:31:10.704Z"
   },
   {
    "duration": 15,
    "start_time": "2022-07-01T09:31:10.715Z"
   },
   {
    "duration": 24,
    "start_time": "2022-07-01T09:31:10.732Z"
   },
   {
    "duration": 144,
    "start_time": "2022-07-01T09:31:10.758Z"
   },
   {
    "duration": 158,
    "start_time": "2022-07-01T09:31:10.904Z"
   },
   {
    "duration": 1515,
    "start_time": "2022-07-01T09:31:11.064Z"
   },
   {
    "duration": 4,
    "start_time": "2022-07-01T09:31:12.581Z"
   },
   {
    "duration": 13,
    "start_time": "2022-07-01T09:31:12.587Z"
   },
   {
    "duration": 13,
    "start_time": "2022-07-01T09:31:12.601Z"
   },
   {
    "duration": 18,
    "start_time": "2022-07-01T09:31:12.616Z"
   },
   {
    "duration": 7,
    "start_time": "2022-07-01T09:31:12.636Z"
   },
   {
    "duration": 11,
    "start_time": "2022-07-01T09:31:12.645Z"
   },
   {
    "duration": 11,
    "start_time": "2022-07-01T09:31:12.657Z"
   },
   {
    "duration": 12,
    "start_time": "2022-07-01T09:31:12.670Z"
   },
   {
    "duration": 10,
    "start_time": "2022-07-01T09:31:12.684Z"
   },
   {
    "duration": 5,
    "start_time": "2022-07-01T09:31:12.696Z"
   },
   {
    "duration": 37376,
    "start_time": "2022-07-01T09:31:12.705Z"
   },
   {
    "duration": 8,
    "start_time": "2022-07-01T09:31:50.083Z"
   },
   {
    "duration": 5,
    "start_time": "2022-07-01T09:32:10.102Z"
   },
   {
    "duration": 28,
    "start_time": "2022-07-01T09:32:10.109Z"
   },
   {
    "duration": 10,
    "start_time": "2022-07-01T09:32:10.140Z"
   },
   {
    "duration": 12,
    "start_time": "2022-07-01T09:32:10.152Z"
   },
   {
    "duration": 5,
    "start_time": "2022-07-01T09:32:10.166Z"
   },
   {
    "duration": 10,
    "start_time": "2022-07-01T09:32:10.173Z"
   },
   {
    "duration": 8,
    "start_time": "2022-07-01T09:32:10.184Z"
   },
   {
    "duration": 9,
    "start_time": "2022-07-01T09:32:10.194Z"
   },
   {
    "duration": 11,
    "start_time": "2022-07-01T09:32:10.205Z"
   },
   {
    "duration": 14,
    "start_time": "2022-07-01T09:32:10.218Z"
   },
   {
    "duration": 9,
    "start_time": "2022-07-01T09:32:10.234Z"
   },
   {
    "duration": 23,
    "start_time": "2022-07-01T09:32:10.245Z"
   },
   {
    "duration": 9,
    "start_time": "2022-07-01T09:32:10.270Z"
   },
   {
    "duration": 10,
    "start_time": "2022-07-01T09:32:10.282Z"
   },
   {
    "duration": 25,
    "start_time": "2022-07-01T09:32:10.295Z"
   },
   {
    "duration": 172,
    "start_time": "2022-07-01T09:32:10.322Z"
   },
   {
    "duration": 158,
    "start_time": "2022-07-01T09:32:10.496Z"
   },
   {
    "duration": 1771,
    "start_time": "2022-07-01T09:32:10.656Z"
   },
   {
    "duration": 4,
    "start_time": "2022-07-01T09:32:12.429Z"
   },
   {
    "duration": 11,
    "start_time": "2022-07-01T09:32:12.435Z"
   },
   {
    "duration": 28,
    "start_time": "2022-07-01T09:32:12.448Z"
   },
   {
    "duration": 7,
    "start_time": "2022-07-01T09:32:12.478Z"
   },
   {
    "duration": 8,
    "start_time": "2022-07-01T09:32:12.487Z"
   },
   {
    "duration": 11,
    "start_time": "2022-07-01T09:32:12.497Z"
   },
   {
    "duration": 4,
    "start_time": "2022-07-01T09:32:12.510Z"
   },
   {
    "duration": 9,
    "start_time": "2022-07-01T09:32:12.516Z"
   },
   {
    "duration": 21,
    "start_time": "2022-07-01T09:32:12.526Z"
   },
   {
    "duration": 14,
    "start_time": "2022-07-01T09:32:12.549Z"
   },
   {
    "duration": 42016,
    "start_time": "2022-07-01T09:32:12.566Z"
   },
   {
    "duration": 8,
    "start_time": "2022-07-01T09:32:54.583Z"
   },
   {
    "duration": 3,
    "start_time": "2022-07-01T09:33:38.841Z"
   },
   {
    "duration": 25,
    "start_time": "2022-07-01T09:33:38.846Z"
   },
   {
    "duration": 13,
    "start_time": "2022-07-01T09:33:38.874Z"
   },
   {
    "duration": 27,
    "start_time": "2022-07-01T09:33:38.889Z"
   },
   {
    "duration": 8,
    "start_time": "2022-07-01T09:33:38.918Z"
   },
   {
    "duration": 25,
    "start_time": "2022-07-01T09:33:38.927Z"
   },
   {
    "duration": 10,
    "start_time": "2022-07-01T09:33:38.954Z"
   },
   {
    "duration": 13,
    "start_time": "2022-07-01T09:33:38.967Z"
   },
   {
    "duration": 14,
    "start_time": "2022-07-01T09:33:38.984Z"
   },
   {
    "duration": 11,
    "start_time": "2022-07-01T09:33:39.000Z"
   },
   {
    "duration": 24,
    "start_time": "2022-07-01T09:33:39.013Z"
   },
   {
    "duration": 17,
    "start_time": "2022-07-01T09:33:39.039Z"
   },
   {
    "duration": 13,
    "start_time": "2022-07-01T09:33:39.058Z"
   },
   {
    "duration": 15,
    "start_time": "2022-07-01T09:33:39.073Z"
   },
   {
    "duration": 31,
    "start_time": "2022-07-01T09:33:39.090Z"
   },
   {
    "duration": 150,
    "start_time": "2022-07-01T09:33:39.123Z"
   },
   {
    "duration": 146,
    "start_time": "2022-07-01T09:33:39.274Z"
   },
   {
    "duration": 1559,
    "start_time": "2022-07-01T09:33:39.422Z"
   },
   {
    "duration": 3,
    "start_time": "2022-07-01T09:33:40.983Z"
   },
   {
    "duration": 11,
    "start_time": "2022-07-01T09:33:40.988Z"
   },
   {
    "duration": 12,
    "start_time": "2022-07-01T09:33:41.000Z"
   },
   {
    "duration": 11,
    "start_time": "2022-07-01T09:33:41.015Z"
   },
   {
    "duration": 7,
    "start_time": "2022-07-01T09:33:41.028Z"
   },
   {
    "duration": 29,
    "start_time": "2022-07-01T09:33:41.038Z"
   },
   {
    "duration": 4,
    "start_time": "2022-07-01T09:33:41.069Z"
   },
   {
    "duration": 6,
    "start_time": "2022-07-01T09:33:41.074Z"
   },
   {
    "duration": 14,
    "start_time": "2022-07-01T09:33:41.081Z"
   },
   {
    "duration": 5,
    "start_time": "2022-07-01T09:33:41.097Z"
   },
   {
    "duration": 9478,
    "start_time": "2022-07-01T09:33:41.104Z"
   },
   {
    "duration": 0,
    "start_time": "2022-07-01T09:33:50.585Z"
   },
   {
    "duration": 0,
    "start_time": "2022-07-01T09:33:50.586Z"
   },
   {
    "duration": 0,
    "start_time": "2022-07-01T09:33:50.588Z"
   },
   {
    "duration": 0,
    "start_time": "2022-07-01T09:33:50.590Z"
   },
   {
    "duration": 0,
    "start_time": "2022-07-01T09:33:50.591Z"
   },
   {
    "duration": 0,
    "start_time": "2022-07-01T09:33:50.593Z"
   },
   {
    "duration": 0,
    "start_time": "2022-07-01T09:33:50.594Z"
   },
   {
    "duration": 0,
    "start_time": "2022-07-01T09:33:50.596Z"
   },
   {
    "duration": 0,
    "start_time": "2022-07-01T09:33:50.598Z"
   },
   {
    "duration": 0,
    "start_time": "2022-07-01T09:33:50.599Z"
   },
   {
    "duration": 1,
    "start_time": "2022-07-01T09:33:50.600Z"
   },
   {
    "duration": 0,
    "start_time": "2022-07-01T09:33:50.602Z"
   },
   {
    "duration": 0,
    "start_time": "2022-07-01T09:33:50.604Z"
   },
   {
    "duration": 0,
    "start_time": "2022-07-01T09:33:50.606Z"
   },
   {
    "duration": 5,
    "start_time": "2022-07-01T09:33:58.547Z"
   },
   {
    "duration": 20,
    "start_time": "2022-07-01T09:33:58.554Z"
   },
   {
    "duration": 10,
    "start_time": "2022-07-01T09:33:58.576Z"
   },
   {
    "duration": 13,
    "start_time": "2022-07-01T09:33:58.588Z"
   },
   {
    "duration": 10,
    "start_time": "2022-07-01T09:33:58.603Z"
   },
   {
    "duration": 8,
    "start_time": "2022-07-01T09:33:58.614Z"
   },
   {
    "duration": 6,
    "start_time": "2022-07-01T09:33:58.623Z"
   },
   {
    "duration": 38,
    "start_time": "2022-07-01T09:33:58.631Z"
   },
   {
    "duration": 6,
    "start_time": "2022-07-01T09:33:58.671Z"
   },
   {
    "duration": 8,
    "start_time": "2022-07-01T09:33:58.678Z"
   },
   {
    "duration": 7,
    "start_time": "2022-07-01T09:33:58.688Z"
   },
   {
    "duration": 7,
    "start_time": "2022-07-01T09:33:58.696Z"
   },
   {
    "duration": 7,
    "start_time": "2022-07-01T09:33:58.704Z"
   },
   {
    "duration": 7,
    "start_time": "2022-07-01T09:33:58.713Z"
   },
   {
    "duration": 53,
    "start_time": "2022-07-01T09:33:58.722Z"
   },
   {
    "duration": 178,
    "start_time": "2022-07-01T09:33:58.776Z"
   },
   {
    "duration": 180,
    "start_time": "2022-07-01T09:33:58.956Z"
   },
   {
    "duration": 1720,
    "start_time": "2022-07-01T09:33:59.138Z"
   },
   {
    "duration": 9,
    "start_time": "2022-07-01T09:34:00.859Z"
   },
   {
    "duration": 28,
    "start_time": "2022-07-01T09:34:00.870Z"
   },
   {
    "duration": 23,
    "start_time": "2022-07-01T09:34:00.901Z"
   },
   {
    "duration": 11,
    "start_time": "2022-07-01T09:34:00.926Z"
   },
   {
    "duration": 29,
    "start_time": "2022-07-01T09:34:00.939Z"
   },
   {
    "duration": 31,
    "start_time": "2022-07-01T09:34:00.972Z"
   },
   {
    "duration": 18,
    "start_time": "2022-07-01T09:34:01.005Z"
   },
   {
    "duration": 23,
    "start_time": "2022-07-01T09:34:01.024Z"
   },
   {
    "duration": 13,
    "start_time": "2022-07-01T09:34:01.049Z"
   },
   {
    "duration": 9,
    "start_time": "2022-07-01T09:34:01.064Z"
   },
   {
    "duration": 40099,
    "start_time": "2022-07-01T09:34:01.074Z"
   },
   {
    "duration": 8,
    "start_time": "2022-07-01T09:34:41.174Z"
   },
   {
    "duration": 4,
    "start_time": "2022-07-01T09:35:24.172Z"
   },
   {
    "duration": 22,
    "start_time": "2022-07-01T09:35:24.178Z"
   },
   {
    "duration": 11,
    "start_time": "2022-07-01T09:35:24.202Z"
   },
   {
    "duration": 13,
    "start_time": "2022-07-01T09:35:24.215Z"
   },
   {
    "duration": 6,
    "start_time": "2022-07-01T09:35:24.230Z"
   },
   {
    "duration": 9,
    "start_time": "2022-07-01T09:35:24.237Z"
   },
   {
    "duration": 22,
    "start_time": "2022-07-01T09:35:24.247Z"
   },
   {
    "duration": 6,
    "start_time": "2022-07-01T09:35:24.271Z"
   },
   {
    "duration": 8,
    "start_time": "2022-07-01T09:35:24.278Z"
   },
   {
    "duration": 7,
    "start_time": "2022-07-01T09:35:24.288Z"
   },
   {
    "duration": 6,
    "start_time": "2022-07-01T09:35:24.297Z"
   },
   {
    "duration": 7,
    "start_time": "2022-07-01T09:35:24.305Z"
   },
   {
    "duration": 7,
    "start_time": "2022-07-01T09:35:24.313Z"
   },
   {
    "duration": 6,
    "start_time": "2022-07-01T09:35:24.323Z"
   },
   {
    "duration": 56,
    "start_time": "2022-07-01T09:35:24.331Z"
   },
   {
    "duration": 156,
    "start_time": "2022-07-01T09:35:24.389Z"
   },
   {
    "duration": 163,
    "start_time": "2022-07-01T09:35:24.547Z"
   },
   {
    "duration": 1583,
    "start_time": "2022-07-01T09:35:24.712Z"
   },
   {
    "duration": 5,
    "start_time": "2022-07-01T09:35:26.297Z"
   },
   {
    "duration": 15,
    "start_time": "2022-07-01T09:35:26.303Z"
   },
   {
    "duration": 13,
    "start_time": "2022-07-01T09:35:26.319Z"
   },
   {
    "duration": 4,
    "start_time": "2022-07-01T09:35:26.334Z"
   },
   {
    "duration": 29,
    "start_time": "2022-07-01T09:35:26.340Z"
   },
   {
    "duration": 9,
    "start_time": "2022-07-01T09:35:26.371Z"
   },
   {
    "duration": 6,
    "start_time": "2022-07-01T09:35:26.381Z"
   },
   {
    "duration": 6,
    "start_time": "2022-07-01T09:35:26.389Z"
   },
   {
    "duration": 6,
    "start_time": "2022-07-01T09:35:26.397Z"
   },
   {
    "duration": 5,
    "start_time": "2022-07-01T09:35:26.405Z"
   },
   {
    "duration": 40755,
    "start_time": "2022-07-01T09:35:26.412Z"
   },
   {
    "duration": 11,
    "start_time": "2022-07-01T09:36:07.169Z"
   },
   {
    "duration": 4,
    "start_time": "2022-07-01T09:40:09.786Z"
   },
   {
    "duration": 21,
    "start_time": "2022-07-01T09:40:09.793Z"
   },
   {
    "duration": 10,
    "start_time": "2022-07-01T09:40:09.816Z"
   },
   {
    "duration": 19,
    "start_time": "2022-07-01T09:40:09.828Z"
   },
   {
    "duration": 22,
    "start_time": "2022-07-01T09:40:09.850Z"
   },
   {
    "duration": 19,
    "start_time": "2022-07-01T09:40:09.873Z"
   },
   {
    "duration": 17,
    "start_time": "2022-07-01T09:40:09.894Z"
   },
   {
    "duration": 21,
    "start_time": "2022-07-01T09:40:09.912Z"
   },
   {
    "duration": 17,
    "start_time": "2022-07-01T09:40:09.935Z"
   },
   {
    "duration": 8,
    "start_time": "2022-07-01T09:40:09.953Z"
   },
   {
    "duration": 9,
    "start_time": "2022-07-01T09:40:09.963Z"
   },
   {
    "duration": 8,
    "start_time": "2022-07-01T09:40:09.974Z"
   },
   {
    "duration": 15,
    "start_time": "2022-07-01T09:40:09.983Z"
   },
   {
    "duration": 9,
    "start_time": "2022-07-01T09:40:10.003Z"
   },
   {
    "duration": 35,
    "start_time": "2022-07-01T09:40:10.014Z"
   },
   {
    "duration": 174,
    "start_time": "2022-07-01T09:40:10.050Z"
   },
   {
    "duration": 156,
    "start_time": "2022-07-01T09:40:10.226Z"
   },
   {
    "duration": 1536,
    "start_time": "2022-07-01T09:40:10.383Z"
   },
   {
    "duration": 4,
    "start_time": "2022-07-01T09:40:11.921Z"
   },
   {
    "duration": 22,
    "start_time": "2022-07-01T09:40:11.927Z"
   },
   {
    "duration": 16,
    "start_time": "2022-07-01T09:40:11.951Z"
   },
   {
    "duration": 9,
    "start_time": "2022-07-01T09:40:11.970Z"
   },
   {
    "duration": 9,
    "start_time": "2022-07-01T09:40:11.981Z"
   },
   {
    "duration": 15,
    "start_time": "2022-07-01T09:40:11.991Z"
   },
   {
    "duration": 8,
    "start_time": "2022-07-01T09:40:12.008Z"
   },
   {
    "duration": 5,
    "start_time": "2022-07-01T09:40:12.018Z"
   },
   {
    "duration": 11,
    "start_time": "2022-07-01T09:40:12.025Z"
   },
   {
    "duration": 13,
    "start_time": "2022-07-01T09:40:12.037Z"
   },
   {
    "duration": 48739,
    "start_time": "2022-07-01T09:40:12.051Z"
   },
   {
    "duration": 11,
    "start_time": "2022-07-01T09:41:00.868Z"
   },
   {
    "duration": 12301,
    "start_time": "2022-07-01T09:41:00.881Z"
   },
   {
    "duration": 1684,
    "start_time": "2022-07-01T09:41:13.184Z"
   },
   {
    "duration": 1962,
    "start_time": "2022-07-01T09:41:14.870Z"
   },
   {
    "duration": 263,
    "start_time": "2022-07-01T09:41:16.835Z"
   },
   {
    "duration": 4,
    "start_time": "2022-07-01T09:41:17.102Z"
   },
   {
    "duration": 17,
    "start_time": "2022-07-01T09:41:17.109Z"
   },
   {
    "duration": 155555,
    "start_time": "2022-07-01T09:41:17.128Z"
   },
   {
    "duration": 8,
    "start_time": "2022-07-01T09:43:52.686Z"
   },
   {
    "duration": 16,
    "start_time": "2022-07-01T09:43:52.696Z"
   },
   {
    "duration": 7,
    "start_time": "2022-07-01T09:43:52.713Z"
   },
   {
    "duration": 27223,
    "start_time": "2022-07-01T09:43:52.770Z"
   },
   {
    "duration": 470,
    "start_time": "2022-07-01T09:44:19.995Z"
   },
   {
    "duration": 228,
    "start_time": "2022-07-01T09:44:20.467Z"
   },
   {
    "duration": 5,
    "start_time": "2022-07-01T09:45:09.586Z"
   },
   {
    "duration": 8,
    "start_time": "2022-07-01T09:45:09.593Z"
   },
   {
    "duration": 7,
    "start_time": "2022-07-01T09:45:09.602Z"
   },
   {
    "duration": 5,
    "start_time": "2022-07-01T09:45:09.611Z"
   },
   {
    "duration": 74956,
    "start_time": "2022-07-01T09:45:09.618Z"
   },
   {
    "duration": 13,
    "start_time": "2022-07-01T09:46:24.577Z"
   },
   {
    "duration": 20404,
    "start_time": "2022-07-01T09:46:24.592Z"
   },
   {
    "duration": 1423,
    "start_time": "2022-07-01T09:46:45.000Z"
   },
   {
    "duration": 1740,
    "start_time": "2022-07-01T09:46:46.425Z"
   },
   {
    "duration": 223,
    "start_time": "2022-07-01T09:46:48.167Z"
   },
   {
    "duration": 3,
    "start_time": "2022-07-01T09:46:48.393Z"
   },
   {
    "duration": 11,
    "start_time": "2022-07-01T09:46:48.398Z"
   },
   {
    "duration": 252967,
    "start_time": "2022-07-01T09:46:48.411Z"
   },
   {
    "duration": 12,
    "start_time": "2022-07-01T09:51:01.381Z"
   },
   {
    "duration": 20,
    "start_time": "2022-07-01T09:51:01.395Z"
   },
   {
    "duration": 52,
    "start_time": "2022-07-01T09:51:01.417Z"
   },
   {
    "duration": 33801,
    "start_time": "2022-07-01T09:51:01.471Z"
   },
   {
    "duration": 442,
    "start_time": "2022-07-01T09:51:35.277Z"
   },
   {
    "duration": 221,
    "start_time": "2022-07-01T09:51:35.721Z"
   },
   {
    "duration": 4,
    "start_time": "2022-07-01T09:54:11.994Z"
   },
   {
    "duration": 19,
    "start_time": "2022-07-01T09:54:12.000Z"
   },
   {
    "duration": 22,
    "start_time": "2022-07-01T09:54:12.021Z"
   },
   {
    "duration": 21,
    "start_time": "2022-07-01T09:54:12.045Z"
   },
   {
    "duration": 42,
    "start_time": "2022-07-01T09:54:12.069Z"
   },
   {
    "duration": 22,
    "start_time": "2022-07-01T09:54:12.113Z"
   },
   {
    "duration": 8,
    "start_time": "2022-07-01T09:54:12.137Z"
   },
   {
    "duration": 80533,
    "start_time": "2022-07-01T09:54:12.147Z"
   },
   {
    "duration": 15,
    "start_time": "2022-07-01T09:55:32.683Z"
   },
   {
    "duration": 20197,
    "start_time": "2022-07-01T09:55:32.700Z"
   },
   {
    "duration": 1310,
    "start_time": "2022-07-01T09:55:52.899Z"
   },
   {
    "duration": 1733,
    "start_time": "2022-07-01T09:55:54.210Z"
   },
   {
    "duration": 199,
    "start_time": "2022-07-01T09:55:55.945Z"
   },
   {
    "duration": 3,
    "start_time": "2022-07-01T09:55:56.147Z"
   },
   {
    "duration": 23,
    "start_time": "2022-07-01T09:55:56.152Z"
   },
   {
    "duration": 224319,
    "start_time": "2022-07-01T09:55:56.177Z"
   },
   {
    "duration": 21,
    "start_time": "2022-07-01T09:59:40.569Z"
   },
   {
    "duration": 14,
    "start_time": "2022-07-01T09:59:40.592Z"
   },
   {
    "duration": 5,
    "start_time": "2022-07-01T09:59:40.609Z"
   },
   {
    "duration": 42352,
    "start_time": "2022-07-01T09:59:40.616Z"
   },
   {
    "duration": 692,
    "start_time": "2022-07-01T10:00:22.972Z"
   },
   {
    "duration": 244,
    "start_time": "2022-07-01T10:00:23.667Z"
   },
   {
    "duration": 5,
    "start_time": "2022-07-01T10:01:35.951Z"
   },
   {
    "duration": 10,
    "start_time": "2022-07-01T10:01:35.958Z"
   },
   {
    "duration": 22,
    "start_time": "2022-07-01T10:01:35.975Z"
   },
   {
    "duration": 5,
    "start_time": "2022-07-01T10:01:35.999Z"
   },
   {
    "duration": 4,
    "start_time": "2022-07-01T10:01:36.007Z"
   },
   {
    "duration": 7,
    "start_time": "2022-07-01T10:01:36.013Z"
   },
   {
    "duration": 5,
    "start_time": "2022-07-01T10:01:36.022Z"
   },
   {
    "duration": 64770,
    "start_time": "2022-07-01T10:01:36.029Z"
   },
   {
    "duration": 81,
    "start_time": "2022-07-01T10:02:40.800Z"
   },
   {
    "duration": 15892,
    "start_time": "2022-07-01T10:02:40.883Z"
   },
   {
    "duration": 1329,
    "start_time": "2022-07-01T10:02:56.776Z"
   },
   {
    "duration": 1786,
    "start_time": "2022-07-01T10:02:58.107Z"
   },
   {
    "duration": 214,
    "start_time": "2022-07-01T10:02:59.895Z"
   },
   {
    "duration": 4,
    "start_time": "2022-07-01T10:03:00.112Z"
   },
   {
    "duration": 19,
    "start_time": "2022-07-01T10:03:00.118Z"
   },
   {
    "duration": 180232,
    "start_time": "2022-07-01T10:03:00.139Z"
   },
   {
    "duration": 13,
    "start_time": "2022-07-01T10:06:00.376Z"
   },
   {
    "duration": 117,
    "start_time": "2022-07-01T10:06:00.391Z"
   },
   {
    "duration": 17,
    "start_time": "2022-07-01T10:06:00.510Z"
   },
   {
    "duration": 28669,
    "start_time": "2022-07-01T10:06:00.528Z"
   },
   {
    "duration": 484,
    "start_time": "2022-07-01T10:06:29.199Z"
   },
   {
    "duration": 240,
    "start_time": "2022-07-01T10:06:29.685Z"
   },
   {
    "duration": 5,
    "start_time": "2022-07-01T10:10:35.943Z"
   },
   {
    "duration": 23,
    "start_time": "2022-07-01T10:10:35.951Z"
   },
   {
    "duration": 14,
    "start_time": "2022-07-01T10:10:35.976Z"
   },
   {
    "duration": 12,
    "start_time": "2022-07-01T10:10:35.993Z"
   },
   {
    "duration": 6,
    "start_time": "2022-07-01T10:10:36.007Z"
   },
   {
    "duration": 6,
    "start_time": "2022-07-01T10:10:36.016Z"
   },
   {
    "duration": 8,
    "start_time": "2022-07-01T10:10:36.024Z"
   },
   {
    "duration": 35,
    "start_time": "2022-07-01T10:10:36.034Z"
   },
   {
    "duration": 6,
    "start_time": "2022-07-01T10:10:36.071Z"
   },
   {
    "duration": 14,
    "start_time": "2022-07-01T10:10:36.079Z"
   },
   {
    "duration": 9,
    "start_time": "2022-07-01T10:10:36.096Z"
   },
   {
    "duration": 8,
    "start_time": "2022-07-01T10:10:36.108Z"
   },
   {
    "duration": 7,
    "start_time": "2022-07-01T10:10:36.118Z"
   },
   {
    "duration": 9,
    "start_time": "2022-07-01T10:10:36.126Z"
   },
   {
    "duration": 60,
    "start_time": "2022-07-01T10:10:36.137Z"
   },
   {
    "duration": 148,
    "start_time": "2022-07-01T10:10:36.199Z"
   },
   {
    "duration": 165,
    "start_time": "2022-07-01T10:10:36.349Z"
   },
   {
    "duration": 1509,
    "start_time": "2022-07-01T10:10:36.517Z"
   },
   {
    "duration": 4,
    "start_time": "2022-07-01T10:10:38.028Z"
   },
   {
    "duration": 15,
    "start_time": "2022-07-01T10:10:38.034Z"
   },
   {
    "duration": 25,
    "start_time": "2022-07-01T10:10:38.051Z"
   },
   {
    "duration": 6,
    "start_time": "2022-07-01T10:10:38.078Z"
   },
   {
    "duration": 6,
    "start_time": "2022-07-01T10:10:38.085Z"
   },
   {
    "duration": 12,
    "start_time": "2022-07-01T10:10:38.095Z"
   },
   {
    "duration": 5,
    "start_time": "2022-07-01T10:10:38.109Z"
   },
   {
    "duration": 5,
    "start_time": "2022-07-01T10:10:38.115Z"
   },
   {
    "duration": 9,
    "start_time": "2022-07-01T10:10:38.122Z"
   },
   {
    "duration": 4,
    "start_time": "2022-07-01T10:10:38.133Z"
   },
   {
    "duration": 41836,
    "start_time": "2022-07-01T10:10:38.139Z"
   },
   {
    "duration": 8,
    "start_time": "2022-07-01T10:11:19.977Z"
   },
   {
    "duration": 11394,
    "start_time": "2022-07-01T10:11:19.988Z"
   },
   {
    "duration": 2172,
    "start_time": "2022-07-01T10:11:31.385Z"
   },
   {
    "duration": 1598,
    "start_time": "2022-07-01T10:11:33.559Z"
   },
   {
    "duration": 194,
    "start_time": "2022-07-01T10:11:35.159Z"
   },
   {
    "duration": 3,
    "start_time": "2022-07-01T10:11:35.354Z"
   },
   {
    "duration": 5,
    "start_time": "2022-07-01T10:11:35.367Z"
   },
   {
    "duration": 131001,
    "start_time": "2022-07-01T10:11:35.373Z"
   },
   {
    "duration": 13,
    "start_time": "2022-07-01T10:13:46.376Z"
   },
   {
    "duration": 14,
    "start_time": "2022-07-01T10:13:46.391Z"
   },
   {
    "duration": 8,
    "start_time": "2022-07-01T10:13:46.407Z"
   },
   {
    "duration": 20460,
    "start_time": "2022-07-01T10:13:46.416Z"
   },
   {
    "duration": 422,
    "start_time": "2022-07-01T10:14:06.878Z"
   },
   {
    "duration": 225,
    "start_time": "2022-07-01T10:14:07.302Z"
   },
   {
    "duration": 4,
    "start_time": "2022-07-01T10:15:03.814Z"
   },
   {
    "duration": 24,
    "start_time": "2022-07-01T10:15:03.820Z"
   },
   {
    "duration": 12,
    "start_time": "2022-07-01T10:15:03.846Z"
   },
   {
    "duration": 15,
    "start_time": "2022-07-01T10:15:03.860Z"
   },
   {
    "duration": 12,
    "start_time": "2022-07-01T10:15:03.877Z"
   },
   {
    "duration": 6,
    "start_time": "2022-07-01T10:15:03.890Z"
   },
   {
    "duration": 8,
    "start_time": "2022-07-01T10:15:03.897Z"
   },
   {
    "duration": 9,
    "start_time": "2022-07-01T10:15:03.906Z"
   },
   {
    "duration": 10,
    "start_time": "2022-07-01T10:15:03.918Z"
   },
   {
    "duration": 12,
    "start_time": "2022-07-01T10:15:03.930Z"
   },
   {
    "duration": 26,
    "start_time": "2022-07-01T10:15:03.944Z"
   },
   {
    "duration": 8,
    "start_time": "2022-07-01T10:15:03.972Z"
   },
   {
    "duration": 7,
    "start_time": "2022-07-01T10:15:03.982Z"
   },
   {
    "duration": 20,
    "start_time": "2022-07-01T10:15:03.990Z"
   },
   {
    "duration": 25,
    "start_time": "2022-07-01T10:15:04.012Z"
   },
   {
    "duration": 172,
    "start_time": "2022-07-01T10:15:04.039Z"
   },
   {
    "duration": 182,
    "start_time": "2022-07-01T10:15:04.213Z"
   },
   {
    "duration": 1658,
    "start_time": "2022-07-01T10:15:04.397Z"
   },
   {
    "duration": 15,
    "start_time": "2022-07-01T10:15:06.056Z"
   },
   {
    "duration": 13,
    "start_time": "2022-07-01T10:15:06.072Z"
   },
   {
    "duration": 17,
    "start_time": "2022-07-01T10:15:06.087Z"
   },
   {
    "duration": 9,
    "start_time": "2022-07-01T10:15:06.106Z"
   },
   {
    "duration": 6,
    "start_time": "2022-07-01T10:15:06.117Z"
   },
   {
    "duration": 11,
    "start_time": "2022-07-01T10:15:06.127Z"
   },
   {
    "duration": 5,
    "start_time": "2022-07-01T10:15:06.139Z"
   },
   {
    "duration": 22,
    "start_time": "2022-07-01T10:15:06.146Z"
   },
   {
    "duration": 10,
    "start_time": "2022-07-01T10:15:06.170Z"
   },
   {
    "duration": 4,
    "start_time": "2022-07-01T10:15:06.182Z"
   },
   {
    "duration": 44197,
    "start_time": "2022-07-01T10:15:06.188Z"
   },
   {
    "duration": 9,
    "start_time": "2022-07-01T10:15:50.387Z"
   },
   {
    "duration": 12601,
    "start_time": "2022-07-01T10:15:50.467Z"
   },
   {
    "duration": 1510,
    "start_time": "2022-07-01T10:16:03.070Z"
   },
   {
    "duration": 1806,
    "start_time": "2022-07-01T10:16:04.582Z"
   },
   {
    "duration": 219,
    "start_time": "2022-07-01T10:16:06.389Z"
   },
   {
    "duration": 3,
    "start_time": "2022-07-01T10:16:06.610Z"
   },
   {
    "duration": 9,
    "start_time": "2022-07-01T10:16:06.615Z"
   },
   {
    "duration": 133962,
    "start_time": "2022-07-01T10:16:06.626Z"
   },
   {
    "duration": 80,
    "start_time": "2022-07-01T10:18:20.591Z"
   },
   {
    "duration": 12,
    "start_time": "2022-07-01T10:18:20.672Z"
   },
   {
    "duration": 8,
    "start_time": "2022-07-01T10:18:20.686Z"
   },
   {
    "duration": 21990,
    "start_time": "2022-07-01T10:18:20.695Z"
   },
   {
    "duration": 787,
    "start_time": "2022-07-01T10:18:42.687Z"
   },
   {
    "duration": 224,
    "start_time": "2022-07-01T10:18:43.476Z"
   },
   {
    "duration": 14,
    "start_time": "2022-07-01T10:20:45.784Z"
   },
   {
    "duration": 3,
    "start_time": "2022-07-01T10:23:28.262Z"
   },
   {
    "duration": 33,
    "start_time": "2022-07-01T10:23:28.268Z"
   },
   {
    "duration": 11,
    "start_time": "2022-07-01T10:23:28.302Z"
   },
   {
    "duration": 15,
    "start_time": "2022-07-01T10:23:28.315Z"
   },
   {
    "duration": 9,
    "start_time": "2022-07-01T10:23:28.332Z"
   },
   {
    "duration": 8,
    "start_time": "2022-07-01T10:23:28.343Z"
   },
   {
    "duration": 37,
    "start_time": "2022-07-01T10:23:28.353Z"
   },
   {
    "duration": 14,
    "start_time": "2022-07-01T10:23:28.392Z"
   },
   {
    "duration": 8,
    "start_time": "2022-07-01T10:23:28.409Z"
   },
   {
    "duration": 13,
    "start_time": "2022-07-01T10:23:28.419Z"
   },
   {
    "duration": 10,
    "start_time": "2022-07-01T10:23:28.433Z"
   },
   {
    "duration": 6,
    "start_time": "2022-07-01T10:23:28.444Z"
   },
   {
    "duration": 9,
    "start_time": "2022-07-01T10:23:28.452Z"
   },
   {
    "duration": 28,
    "start_time": "2022-07-01T10:23:28.463Z"
   },
   {
    "duration": 28,
    "start_time": "2022-07-01T10:23:28.493Z"
   },
   {
    "duration": 158,
    "start_time": "2022-07-01T10:23:28.522Z"
   },
   {
    "duration": 157,
    "start_time": "2022-07-01T10:23:28.682Z"
   },
   {
    "duration": 1657,
    "start_time": "2022-07-01T10:23:28.841Z"
   },
   {
    "duration": 5,
    "start_time": "2022-07-01T10:23:30.500Z"
   },
   {
    "duration": 24,
    "start_time": "2022-07-01T10:23:30.507Z"
   },
   {
    "duration": 29,
    "start_time": "2022-07-01T10:23:30.533Z"
   },
   {
    "duration": 41,
    "start_time": "2022-07-01T10:23:30.564Z"
   },
   {
    "duration": 38,
    "start_time": "2022-07-01T10:23:30.606Z"
   },
   {
    "duration": 28,
    "start_time": "2022-07-01T10:23:30.646Z"
   },
   {
    "duration": 27,
    "start_time": "2022-07-01T10:23:30.677Z"
   },
   {
    "duration": 42,
    "start_time": "2022-07-01T10:23:30.705Z"
   },
   {
    "duration": 33,
    "start_time": "2022-07-01T10:23:30.749Z"
   },
   {
    "duration": 21,
    "start_time": "2022-07-01T10:23:30.784Z"
   },
   {
    "duration": 61062,
    "start_time": "2022-07-01T10:23:30.807Z"
   },
   {
    "duration": 12,
    "start_time": "2022-07-01T10:24:31.871Z"
   },
   {
    "duration": 10,
    "start_time": "2022-07-01T10:26:12.083Z"
   },
   {
    "duration": 12,
    "start_time": "2022-07-01T10:27:45.998Z"
   },
   {
    "duration": 4,
    "start_time": "2022-07-01T10:28:23.824Z"
   },
   {
    "duration": 5,
    "start_time": "2022-07-01T10:28:26.864Z"
   },
   {
    "duration": 123749,
    "start_time": "2022-07-01T10:28:32.318Z"
   },
   {
    "duration": 15,
    "start_time": "2022-07-01T10:31:11.384Z"
   },
   {
    "duration": 10,
    "start_time": "2022-07-01T10:31:26.102Z"
   },
   {
    "duration": 10,
    "start_time": "2022-07-01T10:31:53.028Z"
   },
   {
    "duration": 4,
    "start_time": "2022-07-01T10:32:31.156Z"
   },
   {
    "duration": 5,
    "start_time": "2022-07-01T10:32:37.914Z"
   },
   {
    "duration": 19262,
    "start_time": "2022-07-01T10:32:37.921Z"
   },
   {
    "duration": 453,
    "start_time": "2022-07-01T10:32:57.185Z"
   },
   {
    "duration": 206,
    "start_time": "2022-07-01T10:32:57.639Z"
   },
   {
    "duration": 4,
    "start_time": "2022-07-01T10:33:29.206Z"
   },
   {
    "duration": 23,
    "start_time": "2022-07-01T10:33:29.212Z"
   },
   {
    "duration": 11,
    "start_time": "2022-07-01T10:33:29.236Z"
   },
   {
    "duration": 14,
    "start_time": "2022-07-01T10:33:29.249Z"
   },
   {
    "duration": 9,
    "start_time": "2022-07-01T10:33:29.265Z"
   },
   {
    "duration": 5,
    "start_time": "2022-07-01T10:33:29.276Z"
   },
   {
    "duration": 6,
    "start_time": "2022-07-01T10:33:29.283Z"
   },
   {
    "duration": 14,
    "start_time": "2022-07-01T10:33:29.290Z"
   },
   {
    "duration": 13,
    "start_time": "2022-07-01T10:33:29.306Z"
   },
   {
    "duration": 13,
    "start_time": "2022-07-01T10:33:29.321Z"
   },
   {
    "duration": 7,
    "start_time": "2022-07-01T10:33:29.336Z"
   },
   {
    "duration": 22,
    "start_time": "2022-07-01T10:33:29.345Z"
   },
   {
    "duration": 5,
    "start_time": "2022-07-01T10:33:29.369Z"
   },
   {
    "duration": 10,
    "start_time": "2022-07-01T10:33:29.376Z"
   },
   {
    "duration": 27,
    "start_time": "2022-07-01T10:33:29.388Z"
   },
   {
    "duration": 169,
    "start_time": "2022-07-01T10:33:29.416Z"
   },
   {
    "duration": 154,
    "start_time": "2022-07-01T10:33:29.587Z"
   },
   {
    "duration": 1790,
    "start_time": "2022-07-01T10:33:29.743Z"
   },
   {
    "duration": 4,
    "start_time": "2022-07-01T10:33:31.535Z"
   },
   {
    "duration": 26,
    "start_time": "2022-07-01T10:33:31.541Z"
   },
   {
    "duration": 21,
    "start_time": "2022-07-01T10:33:31.569Z"
   },
   {
    "duration": 9,
    "start_time": "2022-07-01T10:33:31.592Z"
   },
   {
    "duration": 17,
    "start_time": "2022-07-01T10:33:31.603Z"
   },
   {
    "duration": 16,
    "start_time": "2022-07-01T10:33:31.624Z"
   },
   {
    "duration": 7,
    "start_time": "2022-07-01T10:33:31.641Z"
   },
   {
    "duration": 5,
    "start_time": "2022-07-01T10:33:31.650Z"
   },
   {
    "duration": 12,
    "start_time": "2022-07-01T10:33:31.657Z"
   },
   {
    "duration": 9,
    "start_time": "2022-07-01T10:33:31.670Z"
   },
   {
    "duration": 42405,
    "start_time": "2022-07-01T10:33:31.680Z"
   },
   {
    "duration": 10,
    "start_time": "2022-07-01T10:34:14.087Z"
   },
   {
    "duration": 79,
    "start_time": "2022-07-01T10:34:14.099Z"
   },
   {
    "duration": 10393,
    "start_time": "2022-07-01T10:34:14.180Z"
   },
   {
    "duration": 1352,
    "start_time": "2022-07-01T10:34:24.576Z"
   },
   {
    "duration": 1771,
    "start_time": "2022-07-01T10:34:25.930Z"
   },
   {
    "duration": 204,
    "start_time": "2022-07-01T10:34:27.703Z"
   },
   {
    "duration": 3,
    "start_time": "2022-07-01T10:34:27.909Z"
   },
   {
    "duration": 8,
    "start_time": "2022-07-01T10:34:27.914Z"
   },
   {
    "duration": 128951,
    "start_time": "2022-07-01T10:34:27.924Z"
   },
   {
    "duration": 11,
    "start_time": "2022-07-01T10:36:36.877Z"
   },
   {
    "duration": 11,
    "start_time": "2022-07-01T10:36:36.890Z"
   },
   {
    "duration": 12,
    "start_time": "2022-07-01T10:36:36.903Z"
   },
   {
    "duration": 53,
    "start_time": "2022-07-01T10:36:36.916Z"
   },
   {
    "duration": 20619,
    "start_time": "2022-07-01T10:36:36.971Z"
   },
   {
    "duration": 448,
    "start_time": "2022-07-01T10:36:57.591Z"
   },
   {
    "duration": 209,
    "start_time": "2022-07-01T10:36:58.041Z"
   },
   {
    "duration": 4,
    "start_time": "2022-07-01T10:37:38.225Z"
   },
   {
    "duration": 19,
    "start_time": "2022-07-01T10:37:38.231Z"
   },
   {
    "duration": 14,
    "start_time": "2022-07-01T10:37:38.252Z"
   },
   {
    "duration": 15,
    "start_time": "2022-07-01T10:37:38.268Z"
   },
   {
    "duration": 7,
    "start_time": "2022-07-01T10:37:38.285Z"
   },
   {
    "duration": 3,
    "start_time": "2022-07-01T10:37:38.299Z"
   },
   {
    "duration": 7,
    "start_time": "2022-07-01T10:37:38.304Z"
   },
   {
    "duration": 15,
    "start_time": "2022-07-01T10:37:38.313Z"
   },
   {
    "duration": 15,
    "start_time": "2022-07-01T10:37:38.333Z"
   },
   {
    "duration": 21,
    "start_time": "2022-07-01T10:37:38.350Z"
   },
   {
    "duration": 8,
    "start_time": "2022-07-01T10:37:38.373Z"
   },
   {
    "duration": 10,
    "start_time": "2022-07-01T10:37:38.383Z"
   },
   {
    "duration": 10,
    "start_time": "2022-07-01T10:37:38.395Z"
   },
   {
    "duration": 11,
    "start_time": "2022-07-01T10:37:38.409Z"
   },
   {
    "duration": 56,
    "start_time": "2022-07-01T10:37:38.421Z"
   },
   {
    "duration": 166,
    "start_time": "2022-07-01T10:37:38.479Z"
   },
   {
    "duration": 145,
    "start_time": "2022-07-01T10:37:38.648Z"
   },
   {
    "duration": 1537,
    "start_time": "2022-07-01T10:37:38.794Z"
   },
   {
    "duration": 6,
    "start_time": "2022-07-01T10:37:40.333Z"
   },
   {
    "duration": 26,
    "start_time": "2022-07-01T10:37:40.341Z"
   },
   {
    "duration": 16,
    "start_time": "2022-07-01T10:37:40.369Z"
   },
   {
    "duration": 9,
    "start_time": "2022-07-01T10:37:40.386Z"
   },
   {
    "duration": 11,
    "start_time": "2022-07-01T10:37:40.397Z"
   },
   {
    "duration": 15,
    "start_time": "2022-07-01T10:37:40.410Z"
   },
   {
    "duration": 5,
    "start_time": "2022-07-01T10:37:40.428Z"
   },
   {
    "duration": 7,
    "start_time": "2022-07-01T10:37:40.435Z"
   },
   {
    "duration": 27,
    "start_time": "2022-07-01T10:37:40.444Z"
   },
   {
    "duration": 6,
    "start_time": "2022-07-01T10:37:40.472Z"
   },
   {
    "duration": 41007,
    "start_time": "2022-07-01T10:37:40.479Z"
   },
   {
    "duration": 9,
    "start_time": "2022-07-01T10:38:21.487Z"
   },
   {
    "duration": 76,
    "start_time": "2022-07-01T10:38:21.499Z"
   },
   {
    "duration": 11790,
    "start_time": "2022-07-01T10:38:21.578Z"
   },
   {
    "duration": 1449,
    "start_time": "2022-07-01T10:38:33.370Z"
   },
   {
    "duration": 1767,
    "start_time": "2022-07-01T10:38:34.820Z"
   },
   {
    "duration": 206,
    "start_time": "2022-07-01T10:38:36.589Z"
   },
   {
    "duration": 4,
    "start_time": "2022-07-01T10:38:36.798Z"
   },
   {
    "duration": 18,
    "start_time": "2022-07-01T10:38:36.804Z"
   },
   {
    "duration": 133252,
    "start_time": "2022-07-01T10:38:36.823Z"
   },
   {
    "duration": 11,
    "start_time": "2022-07-01T10:40:50.077Z"
   },
   {
    "duration": 25,
    "start_time": "2022-07-01T10:40:50.090Z"
   },
   {
    "duration": 21,
    "start_time": "2022-07-01T10:40:50.117Z"
   },
   {
    "duration": 8,
    "start_time": "2022-07-01T10:40:50.140Z"
   },
   {
    "duration": 21202,
    "start_time": "2022-07-01T10:40:50.167Z"
   },
   {
    "duration": 441,
    "start_time": "2022-07-01T10:41:11.371Z"
   },
   {
    "duration": 225,
    "start_time": "2022-07-01T10:41:11.814Z"
   },
   {
    "duration": 3314,
    "start_time": "2022-07-01T12:05:27.784Z"
   },
   {
    "duration": 38,
    "start_time": "2022-07-01T12:05:31.102Z"
   },
   {
    "duration": 15,
    "start_time": "2022-07-01T12:05:31.142Z"
   },
   {
    "duration": 25,
    "start_time": "2022-07-01T12:05:31.159Z"
   },
   {
    "duration": 41,
    "start_time": "2022-07-01T12:05:31.187Z"
   },
   {
    "duration": 35,
    "start_time": "2022-07-01T12:05:31.230Z"
   },
   {
    "duration": 36,
    "start_time": "2022-07-01T12:05:31.267Z"
   },
   {
    "duration": 19,
    "start_time": "2022-07-01T12:05:31.305Z"
   },
   {
    "duration": 19,
    "start_time": "2022-07-01T12:05:31.327Z"
   },
   {
    "duration": 16,
    "start_time": "2022-07-01T12:05:31.348Z"
   },
   {
    "duration": 26,
    "start_time": "2022-07-01T12:05:31.366Z"
   },
   {
    "duration": 16,
    "start_time": "2022-07-01T12:05:31.394Z"
   },
   {
    "duration": 25,
    "start_time": "2022-07-01T12:05:31.412Z"
   },
   {
    "duration": 12,
    "start_time": "2022-07-01T12:05:31.440Z"
   },
   {
    "duration": 33,
    "start_time": "2022-07-01T12:05:31.453Z"
   },
   {
    "duration": 181,
    "start_time": "2022-07-01T12:05:31.488Z"
   },
   {
    "duration": 176,
    "start_time": "2022-07-01T12:05:31.671Z"
   },
   {
    "duration": 1730,
    "start_time": "2022-07-01T12:05:31.849Z"
   },
   {
    "duration": 5,
    "start_time": "2022-07-01T12:05:33.581Z"
   },
   {
    "duration": 21,
    "start_time": "2022-07-01T12:05:33.588Z"
   },
   {
    "duration": 15,
    "start_time": "2022-07-01T12:05:33.611Z"
   },
   {
    "duration": 24,
    "start_time": "2022-07-01T12:05:33.628Z"
   },
   {
    "duration": 9,
    "start_time": "2022-07-01T12:05:33.655Z"
   },
   {
    "duration": 17,
    "start_time": "2022-07-01T12:05:33.667Z"
   },
   {
    "duration": 6,
    "start_time": "2022-07-01T12:05:33.686Z"
   },
   {
    "duration": 20,
    "start_time": "2022-07-01T12:05:33.694Z"
   },
   {
    "duration": 17,
    "start_time": "2022-07-01T12:05:33.717Z"
   },
   {
    "duration": 4,
    "start_time": "2022-07-01T12:05:33.736Z"
   },
   {
    "duration": 63110,
    "start_time": "2022-07-01T12:05:33.742Z"
   },
   {
    "duration": 8,
    "start_time": "2022-07-01T12:06:36.854Z"
   },
   {
    "duration": 14,
    "start_time": "2022-07-01T12:06:36.864Z"
   },
   {
    "duration": 11085,
    "start_time": "2022-07-01T12:06:36.880Z"
   },
   {
    "duration": 1361,
    "start_time": "2022-07-01T12:06:47.967Z"
   },
   {
    "duration": 1608,
    "start_time": "2022-07-01T12:06:49.331Z"
   },
   {
    "duration": 208,
    "start_time": "2022-07-01T12:06:50.941Z"
   },
   {
    "duration": 4,
    "start_time": "2022-07-01T12:06:51.151Z"
   },
   {
    "duration": 28,
    "start_time": "2022-07-01T12:06:51.157Z"
   },
   {
    "duration": 176486,
    "start_time": "2022-07-01T12:06:51.187Z"
   },
   {
    "duration": 15,
    "start_time": "2022-07-01T12:09:47.675Z"
   },
   {
    "duration": 70,
    "start_time": "2022-07-01T12:09:47.693Z"
   },
   {
    "duration": 17,
    "start_time": "2022-07-01T12:09:47.767Z"
   },
   {
    "duration": 7,
    "start_time": "2022-07-01T12:09:47.786Z"
   },
   {
    "duration": 27966,
    "start_time": "2022-07-01T12:09:47.795Z"
   },
   {
    "duration": 454,
    "start_time": "2022-07-01T12:10:15.762Z"
   },
   {
    "duration": 212,
    "start_time": "2022-07-01T12:10:16.219Z"
   },
   {
    "duration": 17,
    "start_time": "2022-07-01T12:13:13.108Z"
   },
   {
    "duration": 6,
    "start_time": "2022-07-01T12:14:16.431Z"
   },
   {
    "duration": 13,
    "start_time": "2022-07-01T12:14:19.018Z"
   },
   {
    "duration": 5,
    "start_time": "2022-07-01T12:15:28.462Z"
   },
   {
    "duration": 19,
    "start_time": "2022-07-01T12:15:28.469Z"
   },
   {
    "duration": 12,
    "start_time": "2022-07-01T12:15:28.490Z"
   },
   {
    "duration": 16,
    "start_time": "2022-07-01T12:15:28.504Z"
   },
   {
    "duration": 22,
    "start_time": "2022-07-01T12:15:28.522Z"
   },
   {
    "duration": 30,
    "start_time": "2022-07-01T12:15:28.546Z"
   },
   {
    "duration": 18,
    "start_time": "2022-07-01T12:15:28.578Z"
   },
   {
    "duration": 21,
    "start_time": "2022-07-01T12:15:28.597Z"
   },
   {
    "duration": 18,
    "start_time": "2022-07-01T12:15:28.620Z"
   },
   {
    "duration": 16,
    "start_time": "2022-07-01T12:15:28.642Z"
   },
   {
    "duration": 38,
    "start_time": "2022-07-01T12:15:28.662Z"
   },
   {
    "duration": 23,
    "start_time": "2022-07-01T12:15:28.702Z"
   },
   {
    "duration": 22,
    "start_time": "2022-07-01T12:15:28.727Z"
   },
   {
    "duration": 34,
    "start_time": "2022-07-01T12:15:28.751Z"
   },
   {
    "duration": 32,
    "start_time": "2022-07-01T12:15:28.787Z"
   },
   {
    "duration": 154,
    "start_time": "2022-07-01T12:15:28.821Z"
   },
   {
    "duration": 146,
    "start_time": "2022-07-01T12:15:28.977Z"
   },
   {
    "duration": 1757,
    "start_time": "2022-07-01T12:15:29.125Z"
   },
   {
    "duration": 5,
    "start_time": "2022-07-01T12:15:30.884Z"
   },
   {
    "duration": 64,
    "start_time": "2022-07-01T12:15:30.891Z"
   },
   {
    "duration": 51,
    "start_time": "2022-07-01T12:15:30.957Z"
   },
   {
    "duration": 27,
    "start_time": "2022-07-01T12:15:31.011Z"
   },
   {
    "duration": 35,
    "start_time": "2022-07-01T12:15:31.040Z"
   },
   {
    "duration": 33,
    "start_time": "2022-07-01T12:15:31.077Z"
   },
   {
    "duration": 53,
    "start_time": "2022-07-01T12:15:31.112Z"
   },
   {
    "duration": 14,
    "start_time": "2022-07-01T12:15:31.167Z"
   },
   {
    "duration": 15,
    "start_time": "2022-07-01T12:15:31.182Z"
   },
   {
    "duration": 21,
    "start_time": "2022-07-01T12:15:31.200Z"
   },
   {
    "duration": 55158,
    "start_time": "2022-07-01T12:15:31.223Z"
   },
   {
    "duration": 9,
    "start_time": "2022-07-01T12:16:26.383Z"
   },
   {
    "duration": 13,
    "start_time": "2022-07-01T12:16:26.453Z"
   },
   {
    "duration": 17895,
    "start_time": "2022-07-01T12:16:26.468Z"
   },
   {
    "duration": 1570,
    "start_time": "2022-07-01T12:16:44.366Z"
   },
   {
    "duration": 1665,
    "start_time": "2022-07-01T12:16:45.938Z"
   },
   {
    "duration": 195,
    "start_time": "2022-07-01T12:16:47.604Z"
   },
   {
    "duration": 4,
    "start_time": "2022-07-01T12:16:47.800Z"
   },
   {
    "duration": 11,
    "start_time": "2022-07-01T12:16:47.805Z"
   },
   {
    "duration": 104194,
    "start_time": "2022-07-01T12:16:47.818Z"
   },
   {
    "duration": 0,
    "start_time": "2022-07-01T12:18:32.015Z"
   },
   {
    "duration": 0,
    "start_time": "2022-07-01T12:18:32.016Z"
   },
   {
    "duration": 0,
    "start_time": "2022-07-01T12:18:32.017Z"
   },
   {
    "duration": 0,
    "start_time": "2022-07-01T12:18:32.018Z"
   },
   {
    "duration": 0,
    "start_time": "2022-07-01T12:18:32.019Z"
   },
   {
    "duration": 0,
    "start_time": "2022-07-01T12:18:32.020Z"
   },
   {
    "duration": 0,
    "start_time": "2022-07-01T12:18:32.021Z"
   },
   {
    "duration": 0,
    "start_time": "2022-07-01T12:18:32.022Z"
   },
   {
    "duration": 1856,
    "start_time": "2022-07-01T12:19:53.213Z"
   },
   {
    "duration": 18,
    "start_time": "2022-07-01T12:19:55.071Z"
   },
   {
    "duration": 16,
    "start_time": "2022-07-01T12:19:55.091Z"
   },
   {
    "duration": 20,
    "start_time": "2022-07-01T12:19:55.110Z"
   },
   {
    "duration": 9,
    "start_time": "2022-07-01T12:19:55.132Z"
   },
   {
    "duration": 25,
    "start_time": "2022-07-01T12:19:55.144Z"
   },
   {
    "duration": 33,
    "start_time": "2022-07-01T12:19:55.177Z"
   },
   {
    "duration": 17,
    "start_time": "2022-07-01T12:19:55.212Z"
   },
   {
    "duration": 14,
    "start_time": "2022-07-01T12:19:55.231Z"
   },
   {
    "duration": 31,
    "start_time": "2022-07-01T12:19:55.248Z"
   },
   {
    "duration": 11,
    "start_time": "2022-07-01T12:19:55.281Z"
   },
   {
    "duration": 22,
    "start_time": "2022-07-01T12:19:55.294Z"
   },
   {
    "duration": 17,
    "start_time": "2022-07-01T12:19:55.318Z"
   },
   {
    "duration": 43,
    "start_time": "2022-07-01T12:19:55.337Z"
   },
   {
    "duration": 55,
    "start_time": "2022-07-01T12:19:55.382Z"
   },
   {
    "duration": 168,
    "start_time": "2022-07-01T12:19:55.439Z"
   },
   {
    "duration": 153,
    "start_time": "2022-07-01T12:19:55.608Z"
   },
   {
    "duration": 1539,
    "start_time": "2022-07-01T12:19:55.766Z"
   },
   {
    "duration": 4,
    "start_time": "2022-07-01T12:19:57.307Z"
   },
   {
    "duration": 30,
    "start_time": "2022-07-01T12:19:57.312Z"
   },
   {
    "duration": 19,
    "start_time": "2022-07-01T12:19:57.344Z"
   },
   {
    "duration": 13,
    "start_time": "2022-07-01T12:19:57.366Z"
   },
   {
    "duration": 8,
    "start_time": "2022-07-01T12:19:57.380Z"
   },
   {
    "duration": 13,
    "start_time": "2022-07-01T12:19:57.390Z"
   },
   {
    "duration": 5,
    "start_time": "2022-07-01T12:19:57.405Z"
   },
   {
    "duration": 5,
    "start_time": "2022-07-01T12:19:57.412Z"
   },
   {
    "duration": 10,
    "start_time": "2022-07-01T12:19:57.419Z"
   },
   {
    "duration": 32,
    "start_time": "2022-07-01T12:19:57.434Z"
   },
   {
    "duration": 57107,
    "start_time": "2022-07-01T12:19:57.468Z"
   },
   {
    "duration": 86,
    "start_time": "2022-07-01T12:20:54.580Z"
   },
   {
    "duration": 11,
    "start_time": "2022-07-01T12:20:54.668Z"
   },
   {
    "duration": 15180,
    "start_time": "2022-07-01T12:20:54.681Z"
   },
   {
    "duration": 1320,
    "start_time": "2022-07-01T12:21:09.864Z"
   },
   {
    "duration": 10,
    "start_time": "2022-07-01T12:21:11.186Z"
   },
   {
    "duration": 1729,
    "start_time": "2022-07-01T12:21:11.198Z"
   },
   {
    "duration": 227,
    "start_time": "2022-07-01T12:21:12.929Z"
   },
   {
    "duration": 11,
    "start_time": "2022-07-01T12:21:13.157Z"
   },
   {
    "duration": 10,
    "start_time": "2022-07-01T12:21:13.171Z"
   },
   {
    "duration": 172388,
    "start_time": "2022-07-01T12:21:13.183Z"
   },
   {
    "duration": 11,
    "start_time": "2022-07-01T12:24:05.574Z"
   },
   {
    "duration": 16,
    "start_time": "2022-07-01T12:24:05.587Z"
   },
   {
    "duration": 64,
    "start_time": "2022-07-01T12:24:05.604Z"
   },
   {
    "duration": 8,
    "start_time": "2022-07-01T12:24:05.671Z"
   },
   {
    "duration": 25472,
    "start_time": "2022-07-01T12:24:05.681Z"
   },
   {
    "duration": 421,
    "start_time": "2022-07-01T12:24:31.156Z"
   },
   {
    "duration": 217,
    "start_time": "2022-07-01T12:24:31.579Z"
   },
   {
    "duration": 1925,
    "start_time": "2022-07-01T12:42:25.862Z"
   },
   {
    "duration": 17,
    "start_time": "2022-07-01T12:42:27.789Z"
   },
   {
    "duration": 14,
    "start_time": "2022-07-01T12:42:27.808Z"
   },
   {
    "duration": 12,
    "start_time": "2022-07-01T12:42:27.824Z"
   },
   {
    "duration": 17,
    "start_time": "2022-07-01T12:42:27.838Z"
   },
   {
    "duration": 16,
    "start_time": "2022-07-01T12:42:27.857Z"
   },
   {
    "duration": 10,
    "start_time": "2022-07-01T12:42:27.874Z"
   },
   {
    "duration": 15,
    "start_time": "2022-07-01T12:42:27.885Z"
   },
   {
    "duration": 20,
    "start_time": "2022-07-01T12:42:27.901Z"
   },
   {
    "duration": 12,
    "start_time": "2022-07-01T12:42:27.924Z"
   },
   {
    "duration": 13,
    "start_time": "2022-07-01T12:42:27.937Z"
   },
   {
    "duration": 22,
    "start_time": "2022-07-01T12:42:27.954Z"
   },
   {
    "duration": 12,
    "start_time": "2022-07-01T12:42:27.978Z"
   },
   {
    "duration": 11,
    "start_time": "2022-07-01T12:42:27.992Z"
   },
   {
    "duration": 28,
    "start_time": "2022-07-01T12:42:28.005Z"
   },
   {
    "duration": 166,
    "start_time": "2022-07-01T12:42:28.034Z"
   },
   {
    "duration": 159,
    "start_time": "2022-07-01T12:42:28.202Z"
   },
   {
    "duration": 1532,
    "start_time": "2022-07-01T12:42:28.362Z"
   },
   {
    "duration": 4,
    "start_time": "2022-07-01T12:42:29.896Z"
   },
   {
    "duration": 11,
    "start_time": "2022-07-01T12:42:29.901Z"
   },
   {
    "duration": 16,
    "start_time": "2022-07-01T12:42:29.913Z"
   },
   {
    "duration": 32,
    "start_time": "2022-07-01T12:42:29.930Z"
   },
   {
    "duration": 12,
    "start_time": "2022-07-01T12:42:29.965Z"
   },
   {
    "duration": 13,
    "start_time": "2022-07-01T12:42:29.978Z"
   },
   {
    "duration": 6,
    "start_time": "2022-07-01T12:42:29.992Z"
   },
   {
    "duration": 8,
    "start_time": "2022-07-01T12:42:29.999Z"
   },
   {
    "duration": 20,
    "start_time": "2022-07-01T12:42:30.008Z"
   },
   {
    "duration": 6,
    "start_time": "2022-07-01T12:42:30.033Z"
   },
   {
    "duration": 48711,
    "start_time": "2022-07-01T12:42:30.041Z"
   },
   {
    "duration": 10,
    "start_time": "2022-07-01T12:43:18.754Z"
   },
   {
    "duration": 23,
    "start_time": "2022-07-01T12:43:18.766Z"
   },
   {
    "duration": 10173,
    "start_time": "2022-07-01T12:43:18.791Z"
   },
   {
    "duration": 1341,
    "start_time": "2022-07-01T12:43:28.965Z"
   },
   {
    "duration": 1560,
    "start_time": "2022-07-01T12:43:30.308Z"
   },
   {
    "duration": 196,
    "start_time": "2022-07-01T12:43:31.870Z"
   },
   {
    "duration": 3,
    "start_time": "2022-07-01T12:43:32.067Z"
   },
   {
    "duration": 8,
    "start_time": "2022-07-01T12:43:32.072Z"
   },
   {
    "duration": 145279,
    "start_time": "2022-07-01T12:43:32.081Z"
   },
   {
    "duration": 15,
    "start_time": "2022-07-01T12:45:57.363Z"
   },
   {
    "duration": 10,
    "start_time": "2022-07-01T12:45:57.379Z"
   },
   {
    "duration": 18,
    "start_time": "2022-07-01T12:45:57.391Z"
   },
   {
    "duration": 45,
    "start_time": "2022-07-01T12:45:57.410Z"
   },
   {
    "duration": 22513,
    "start_time": "2022-07-01T12:45:57.457Z"
   },
   {
    "duration": 454,
    "start_time": "2022-07-01T12:46:19.971Z"
   },
   {
    "duration": 211,
    "start_time": "2022-07-01T12:46:20.426Z"
   },
   {
    "duration": 10636,
    "start_time": "2022-07-01T12:47:09.430Z"
   },
   {
    "duration": 1421,
    "start_time": "2022-07-01T12:47:28.750Z"
   },
   {
    "duration": 214,
    "start_time": "2022-07-01T12:47:38.034Z"
   },
   {
    "duration": 142,
    "start_time": "2022-07-01T12:47:45.532Z"
   },
   {
    "duration": 3,
    "start_time": "2022-07-01T12:47:49.881Z"
   },
   {
    "duration": 126662,
    "start_time": "2022-07-01T12:47:55.696Z"
   },
   {
    "duration": 11,
    "start_time": "2022-07-01T12:50:09.267Z"
   },
   {
    "duration": 9,
    "start_time": "2022-07-01T12:50:34.585Z"
   },
   {
    "duration": 10,
    "start_time": "2022-07-01T12:50:36.669Z"
   },
   {
    "duration": 6,
    "start_time": "2022-07-01T12:50:41.765Z"
   },
   {
    "duration": 21044,
    "start_time": "2022-07-01T12:50:51.630Z"
   },
   {
    "duration": 379,
    "start_time": "2022-07-01T12:51:17.498Z"
   },
   {
    "duration": 217,
    "start_time": "2022-07-01T12:51:34.430Z"
   },
   {
    "duration": 40572,
    "start_time": "2022-07-01T12:52:07.198Z"
   },
   {
    "duration": 9,
    "start_time": "2022-07-01T12:54:05.799Z"
   },
   {
    "duration": 9,
    "start_time": "2022-07-01T12:54:20.311Z"
   },
   {
    "duration": 36830,
    "start_time": "2022-07-01T12:54:51.749Z"
   },
   {
    "duration": 8,
    "start_time": "2022-07-01T12:55:35.444Z"
   },
   {
    "duration": 9,
    "start_time": "2022-07-01T12:55:44.607Z"
   },
   {
    "duration": 3,
    "start_time": "2022-07-01T12:56:00.888Z"
   },
   {
    "duration": 71,
    "start_time": "2022-07-01T12:56:00.893Z"
   },
   {
    "duration": 30,
    "start_time": "2022-07-01T12:56:00.966Z"
   },
   {
    "duration": 27,
    "start_time": "2022-07-01T12:56:00.998Z"
   },
   {
    "duration": 25,
    "start_time": "2022-07-01T12:56:01.028Z"
   },
   {
    "duration": 24,
    "start_time": "2022-07-01T12:56:01.059Z"
   },
   {
    "duration": 9,
    "start_time": "2022-07-01T12:56:01.087Z"
   },
   {
    "duration": 27,
    "start_time": "2022-07-01T12:56:01.098Z"
   },
   {
    "duration": 50,
    "start_time": "2022-07-01T12:56:01.127Z"
   },
   {
    "duration": 17,
    "start_time": "2022-07-01T12:56:01.178Z"
   },
   {
    "duration": 30,
    "start_time": "2022-07-01T12:56:01.197Z"
   },
   {
    "duration": 21,
    "start_time": "2022-07-01T12:56:01.229Z"
   },
   {
    "duration": 45,
    "start_time": "2022-07-01T12:56:01.255Z"
   },
   {
    "duration": 76,
    "start_time": "2022-07-01T12:56:01.304Z"
   },
   {
    "duration": 47,
    "start_time": "2022-07-01T12:56:01.382Z"
   },
   {
    "duration": 160,
    "start_time": "2022-07-01T12:56:01.431Z"
   },
   {
    "duration": 151,
    "start_time": "2022-07-01T12:56:01.593Z"
   },
   {
    "duration": 1662,
    "start_time": "2022-07-01T12:56:01.745Z"
   },
   {
    "duration": 4,
    "start_time": "2022-07-01T12:56:03.409Z"
   },
   {
    "duration": 18,
    "start_time": "2022-07-01T12:56:03.415Z"
   },
   {
    "duration": 28,
    "start_time": "2022-07-01T12:56:03.434Z"
   },
   {
    "duration": 9,
    "start_time": "2022-07-01T12:56:03.464Z"
   },
   {
    "duration": 7,
    "start_time": "2022-07-01T12:56:03.474Z"
   },
   {
    "duration": 15,
    "start_time": "2022-07-01T12:56:03.482Z"
   },
   {
    "duration": 9,
    "start_time": "2022-07-01T12:56:03.498Z"
   },
   {
    "duration": 23,
    "start_time": "2022-07-01T12:56:03.509Z"
   },
   {
    "duration": 16,
    "start_time": "2022-07-01T12:56:03.534Z"
   },
   {
    "duration": 19,
    "start_time": "2022-07-01T12:56:03.551Z"
   },
   {
    "duration": 35390,
    "start_time": "2022-07-01T12:56:03.571Z"
   },
   {
    "duration": 9,
    "start_time": "2022-07-01T12:56:38.969Z"
   },
   {
    "duration": 18,
    "start_time": "2022-07-01T12:56:38.980Z"
   },
   {
    "duration": 9437,
    "start_time": "2022-07-01T12:57:25.638Z"
   },
   {
    "duration": 10352,
    "start_time": "2022-07-01T12:57:43.812Z"
   },
   {
    "duration": 9140,
    "start_time": "2022-07-01T12:58:01.228Z"
   },
   {
    "duration": 10521,
    "start_time": "2022-07-01T12:58:20.853Z"
   },
   {
    "duration": 10176,
    "start_time": "2022-07-01T12:59:46.600Z"
   },
   {
    "duration": 1247,
    "start_time": "2022-07-01T13:00:17.068Z"
   },
   {
    "duration": 1555,
    "start_time": "2022-07-01T13:00:42.939Z"
   },
   {
    "duration": 214,
    "start_time": "2022-07-01T13:00:54.083Z"
   },
   {
    "duration": 1421,
    "start_time": "2022-07-01T13:01:02.768Z"
   },
   {
    "duration": 219,
    "start_time": "2022-07-01T13:01:04.897Z"
   },
   {
    "duration": 3,
    "start_time": "2022-07-01T13:01:12.941Z"
   },
   {
    "duration": 4,
    "start_time": "2022-07-01T13:01:15.877Z"
   },
   {
    "duration": 129841,
    "start_time": "2022-07-01T13:01:29.033Z"
   },
   {
    "duration": 3,
    "start_time": "2022-07-01T13:05:37.590Z"
   },
   {
    "duration": 24,
    "start_time": "2022-07-01T13:05:37.595Z"
   },
   {
    "duration": 9,
    "start_time": "2022-07-01T13:05:37.621Z"
   },
   {
    "duration": 25,
    "start_time": "2022-07-01T13:05:37.632Z"
   },
   {
    "duration": 8,
    "start_time": "2022-07-01T13:05:37.660Z"
   },
   {
    "duration": 8,
    "start_time": "2022-07-01T13:05:37.669Z"
   },
   {
    "duration": 11,
    "start_time": "2022-07-01T13:05:37.679Z"
   },
   {
    "duration": 17,
    "start_time": "2022-07-01T13:05:37.692Z"
   },
   {
    "duration": 16,
    "start_time": "2022-07-01T13:05:37.711Z"
   },
   {
    "duration": 10,
    "start_time": "2022-07-01T13:05:37.728Z"
   },
   {
    "duration": 10,
    "start_time": "2022-07-01T13:05:37.740Z"
   },
   {
    "duration": 9,
    "start_time": "2022-07-01T13:05:37.752Z"
   },
   {
    "duration": 10,
    "start_time": "2022-07-01T13:05:37.762Z"
   },
   {
    "duration": 17,
    "start_time": "2022-07-01T13:05:37.775Z"
   },
   {
    "duration": 25,
    "start_time": "2022-07-01T13:05:37.794Z"
   },
   {
    "duration": 155,
    "start_time": "2022-07-01T13:05:37.820Z"
   },
   {
    "duration": 148,
    "start_time": "2022-07-01T13:05:37.976Z"
   },
   {
    "duration": 1555,
    "start_time": "2022-07-01T13:05:38.126Z"
   },
   {
    "duration": 5,
    "start_time": "2022-07-01T13:05:39.685Z"
   },
   {
    "duration": 13,
    "start_time": "2022-07-01T13:05:39.692Z"
   },
   {
    "duration": 14,
    "start_time": "2022-07-01T13:05:39.707Z"
   },
   {
    "duration": 8,
    "start_time": "2022-07-01T13:05:39.723Z"
   },
   {
    "duration": 19,
    "start_time": "2022-07-01T13:05:39.733Z"
   },
   {
    "duration": 12,
    "start_time": "2022-07-01T13:05:39.754Z"
   },
   {
    "duration": 4,
    "start_time": "2022-07-01T13:05:39.769Z"
   },
   {
    "duration": 8,
    "start_time": "2022-07-01T13:05:39.775Z"
   },
   {
    "duration": 8,
    "start_time": "2022-07-01T13:05:39.784Z"
   },
   {
    "duration": 9,
    "start_time": "2022-07-01T13:05:39.793Z"
   },
   {
    "duration": 42373,
    "start_time": "2022-07-01T13:05:39.803Z"
   },
   {
    "duration": 15,
    "start_time": "2022-07-01T13:06:22.251Z"
   },
   {
    "duration": 15,
    "start_time": "2022-07-01T13:08:05.729Z"
   },
   {
    "duration": 7,
    "start_time": "2022-07-01T13:08:13.676Z"
   },
   {
    "duration": 6,
    "start_time": "2022-07-01T13:08:30.974Z"
   },
   {
    "duration": 4,
    "start_time": "2022-07-01T13:31:22.701Z"
   },
   {
    "duration": 31,
    "start_time": "2022-07-01T13:31:22.707Z"
   },
   {
    "duration": 10,
    "start_time": "2022-07-01T13:31:22.739Z"
   },
   {
    "duration": 13,
    "start_time": "2022-07-01T13:31:22.751Z"
   },
   {
    "duration": 10,
    "start_time": "2022-07-01T13:31:22.767Z"
   },
   {
    "duration": 7,
    "start_time": "2022-07-01T13:31:22.779Z"
   },
   {
    "duration": 7,
    "start_time": "2022-07-01T13:31:22.788Z"
   },
   {
    "duration": 10,
    "start_time": "2022-07-01T13:31:22.797Z"
   },
   {
    "duration": 9,
    "start_time": "2022-07-01T13:31:22.808Z"
   },
   {
    "duration": 4,
    "start_time": "2022-07-01T13:34:12.238Z"
   },
   {
    "duration": 20,
    "start_time": "2022-07-01T13:34:12.244Z"
   },
   {
    "duration": 10,
    "start_time": "2022-07-01T13:34:12.265Z"
   },
   {
    "duration": 12,
    "start_time": "2022-07-01T13:34:12.276Z"
   },
   {
    "duration": 12,
    "start_time": "2022-07-01T13:34:12.290Z"
   },
   {
    "duration": 9,
    "start_time": "2022-07-01T13:34:12.303Z"
   },
   {
    "duration": 11,
    "start_time": "2022-07-01T13:34:12.313Z"
   },
   {
    "duration": 6,
    "start_time": "2022-07-01T13:34:12.326Z"
   },
   {
    "duration": 7,
    "start_time": "2022-07-01T13:34:12.333Z"
   },
   {
    "duration": 10,
    "start_time": "2022-07-01T13:34:12.342Z"
   },
   {
    "duration": 5,
    "start_time": "2022-07-01T13:34:12.353Z"
   },
   {
    "duration": 12,
    "start_time": "2022-07-01T13:34:12.360Z"
   },
   {
    "duration": 8,
    "start_time": "2022-07-01T13:34:12.374Z"
   },
   {
    "duration": 22,
    "start_time": "2022-07-01T13:34:12.385Z"
   },
   {
    "duration": 167,
    "start_time": "2022-07-01T13:34:12.409Z"
   },
   {
    "duration": 147,
    "start_time": "2022-07-01T13:34:12.578Z"
   },
   {
    "duration": 1543,
    "start_time": "2022-07-01T13:34:12.726Z"
   },
   {
    "duration": 3,
    "start_time": "2022-07-01T13:34:14.271Z"
   },
   {
    "duration": 13,
    "start_time": "2022-07-01T13:34:14.276Z"
   },
   {
    "duration": 14,
    "start_time": "2022-07-01T13:34:14.291Z"
   },
   {
    "duration": 4,
    "start_time": "2022-07-01T13:34:14.306Z"
   },
   {
    "duration": 19,
    "start_time": "2022-07-01T13:34:14.312Z"
   },
   {
    "duration": 20,
    "start_time": "2022-07-01T13:34:14.332Z"
   },
   {
    "duration": 4,
    "start_time": "2022-07-01T13:37:08.902Z"
   },
   {
    "duration": 41,
    "start_time": "2022-07-01T13:37:08.908Z"
   },
   {
    "duration": 11,
    "start_time": "2022-07-01T13:37:08.951Z"
   },
   {
    "duration": 26,
    "start_time": "2022-07-01T13:37:08.964Z"
   },
   {
    "duration": 6,
    "start_time": "2022-07-01T13:37:08.992Z"
   },
   {
    "duration": 25,
    "start_time": "2022-07-01T13:37:08.999Z"
   },
   {
    "duration": 25,
    "start_time": "2022-07-01T13:37:09.027Z"
   },
   {
    "duration": 19,
    "start_time": "2022-07-01T13:37:09.054Z"
   },
   {
    "duration": 25,
    "start_time": "2022-07-01T13:37:09.075Z"
   },
   {
    "duration": 13,
    "start_time": "2022-07-01T13:37:09.102Z"
   },
   {
    "duration": 23,
    "start_time": "2022-07-01T13:37:09.117Z"
   },
   {
    "duration": 15,
    "start_time": "2022-07-01T13:37:09.142Z"
   },
   {
    "duration": 38,
    "start_time": "2022-07-01T13:37:09.159Z"
   },
   {
    "duration": 36,
    "start_time": "2022-07-01T13:37:09.200Z"
   },
   {
    "duration": 134,
    "start_time": "2022-07-01T13:37:09.238Z"
   },
   {
    "duration": 141,
    "start_time": "2022-07-01T13:37:09.373Z"
   },
   {
    "duration": 1446,
    "start_time": "2022-07-01T13:37:09.516Z"
   },
   {
    "duration": 4,
    "start_time": "2022-07-01T13:37:10.964Z"
   },
   {
    "duration": 20,
    "start_time": "2022-07-01T13:37:10.969Z"
   },
   {
    "duration": 22,
    "start_time": "2022-07-01T13:37:10.991Z"
   },
   {
    "duration": 15,
    "start_time": "2022-07-01T13:37:11.015Z"
   },
   {
    "duration": 34,
    "start_time": "2022-07-01T13:37:11.031Z"
   },
   {
    "duration": 16,
    "start_time": "2022-07-01T13:37:11.066Z"
   },
   {
    "duration": 20,
    "start_time": "2022-07-01T13:37:11.084Z"
   },
   {
    "duration": 34,
    "start_time": "2022-07-01T13:37:11.106Z"
   },
   {
    "duration": 26,
    "start_time": "2022-07-01T13:37:11.142Z"
   },
   {
    "duration": 15,
    "start_time": "2022-07-01T13:37:11.170Z"
   },
   {
    "duration": 35084,
    "start_time": "2022-07-01T13:37:11.186Z"
   },
   {
    "duration": 10,
    "start_time": "2022-07-01T13:37:46.352Z"
   },
   {
    "duration": 9,
    "start_time": "2022-07-01T13:38:00.084Z"
   },
   {
    "duration": 18,
    "start_time": "2022-07-01T13:38:00.096Z"
   },
   {
    "duration": 8755,
    "start_time": "2022-07-01T13:38:00.116Z"
   },
   {
    "duration": 1326,
    "start_time": "2022-07-01T13:38:08.873Z"
   },
   {
    "duration": 1408,
    "start_time": "2022-07-01T13:38:10.202Z"
   },
   {
    "duration": 210,
    "start_time": "2022-07-01T13:38:11.612Z"
   },
   {
    "duration": 3,
    "start_time": "2022-07-01T13:38:11.824Z"
   },
   {
    "duration": 13,
    "start_time": "2022-07-01T13:38:11.829Z"
   },
   {
    "duration": 106018,
    "start_time": "2022-07-01T13:38:11.851Z"
   },
   {
    "duration": 10,
    "start_time": "2022-07-01T13:39:57.871Z"
   },
   {
    "duration": 72,
    "start_time": "2022-07-01T13:39:57.883Z"
   },
   {
    "duration": 9,
    "start_time": "2022-07-01T13:39:57.957Z"
   },
   {
    "duration": 7,
    "start_time": "2022-07-01T13:39:57.968Z"
   },
   {
    "duration": 16778,
    "start_time": "2022-07-01T13:39:57.977Z"
   },
   {
    "duration": 401,
    "start_time": "2022-07-01T13:40:14.758Z"
   },
   {
    "duration": 252,
    "start_time": "2022-07-01T13:40:15.161Z"
   },
   {
    "duration": 33299,
    "start_time": "2022-07-01T13:40:44.960Z"
   },
   {
    "duration": 225,
    "start_time": "2022-07-01T13:41:36.453Z"
   },
   {
    "duration": 5,
    "start_time": "2022-07-01T13:41:43.928Z"
   },
   {
    "duration": 32698,
    "start_time": "2022-07-01T13:41:48.671Z"
   },
   {
    "duration": 235,
    "start_time": "2022-07-01T13:42:33.130Z"
   },
   {
    "duration": 4,
    "start_time": "2022-07-01T13:44:58.327Z"
   },
   {
    "duration": 5,
    "start_time": "2022-07-01T13:44:58.333Z"
   },
   {
    "duration": 9,
    "start_time": "2022-07-01T13:44:58.340Z"
   },
   {
    "duration": 7,
    "start_time": "2022-07-01T13:44:58.352Z"
   },
   {
    "duration": 37715,
    "start_time": "2022-07-01T13:44:58.360Z"
   },
   {
    "duration": 84,
    "start_time": "2022-07-01T13:45:36.076Z"
   },
   {
    "duration": 17,
    "start_time": "2022-07-01T13:45:36.162Z"
   },
   {
    "duration": 10080,
    "start_time": "2022-07-01T13:45:36.180Z"
   },
   {
    "duration": 1190,
    "start_time": "2022-07-01T13:45:46.263Z"
   },
   {
    "duration": 1544,
    "start_time": "2022-07-01T13:45:47.454Z"
   },
   {
    "duration": 189,
    "start_time": "2022-07-01T13:45:49.000Z"
   },
   {
    "duration": 3,
    "start_time": "2022-07-01T13:45:49.191Z"
   },
   {
    "duration": 12,
    "start_time": "2022-07-01T13:45:49.195Z"
   },
   {
    "duration": 116661,
    "start_time": "2022-07-01T13:45:49.208Z"
   },
   {
    "duration": 10,
    "start_time": "2022-07-01T13:47:45.871Z"
   },
   {
    "duration": 69,
    "start_time": "2022-07-01T13:47:45.883Z"
   },
   {
    "duration": 9,
    "start_time": "2022-07-01T13:47:45.954Z"
   },
   {
    "duration": 32,
    "start_time": "2022-07-01T13:47:45.965Z"
   },
   {
    "duration": 18379,
    "start_time": "2022-07-01T13:47:45.999Z"
   },
   {
    "duration": 551,
    "start_time": "2022-07-01T13:48:04.453Z"
   },
   {
    "duration": 214,
    "start_time": "2022-07-01T13:48:05.006Z"
   },
   {
    "duration": 4,
    "start_time": "2022-07-01T13:48:34.962Z"
   },
   {
    "duration": 9,
    "start_time": "2022-07-01T13:48:34.968Z"
   },
   {
    "duration": 19,
    "start_time": "2022-07-01T13:48:34.979Z"
   },
   {
    "duration": 10,
    "start_time": "2022-07-01T13:48:35.001Z"
   },
   {
    "duration": 7,
    "start_time": "2022-07-01T13:48:35.012Z"
   },
   {
    "duration": 25,
    "start_time": "2022-07-01T13:48:35.020Z"
   },
   {
    "duration": 20,
    "start_time": "2022-07-01T13:48:35.047Z"
   },
   {
    "duration": 39688,
    "start_time": "2022-07-01T13:48:35.068Z"
   },
   {
    "duration": 7,
    "start_time": "2022-07-01T13:49:14.759Z"
   },
   {
    "duration": 14,
    "start_time": "2022-07-01T13:49:14.768Z"
   },
   {
    "duration": 9593,
    "start_time": "2022-07-01T13:49:14.784Z"
   },
   {
    "duration": 1240,
    "start_time": "2022-07-01T13:49:24.453Z"
   },
   {
    "duration": 1489,
    "start_time": "2022-07-01T13:49:25.695Z"
   },
   {
    "duration": 183,
    "start_time": "2022-07-01T13:49:27.186Z"
   },
   {
    "duration": 3,
    "start_time": "2022-07-01T13:49:27.370Z"
   },
   {
    "duration": 10,
    "start_time": "2022-07-01T13:49:27.375Z"
   },
   {
    "duration": 116374,
    "start_time": "2022-07-01T13:49:27.386Z"
   },
   {
    "duration": 11,
    "start_time": "2022-07-01T13:51:23.762Z"
   },
   {
    "duration": 12,
    "start_time": "2022-07-01T13:51:23.774Z"
   },
   {
    "duration": 11,
    "start_time": "2022-07-01T13:51:23.788Z"
   },
   {
    "duration": 5,
    "start_time": "2022-07-01T13:51:23.801Z"
   },
   {
    "duration": 18852,
    "start_time": "2022-07-01T13:51:23.807Z"
   },
   {
    "duration": 446,
    "start_time": "2022-07-01T13:51:42.661Z"
   },
   {
    "duration": 216,
    "start_time": "2022-07-01T13:51:43.111Z"
   },
   {
    "duration": 4,
    "start_time": "2022-07-01T13:52:32.410Z"
   },
   {
    "duration": 14413,
    "start_time": "2022-07-01T13:52:37.762Z"
   },
   {
    "duration": 493,
    "start_time": "2022-07-01T13:52:55.995Z"
   },
   {
    "duration": 212,
    "start_time": "2022-07-01T13:53:00.453Z"
   },
   {
    "duration": 2793,
    "start_time": "2022-12-07T02:20:29.680Z"
   },
   {
    "duration": 75,
    "start_time": "2022-12-07T02:20:32.475Z"
   },
   {
    "duration": 124,
    "start_time": "2022-12-07T02:20:32.552Z"
   },
   {
    "duration": 13,
    "start_time": "2022-12-07T02:21:05.291Z"
   },
   {
    "duration": 130,
    "start_time": "2022-12-07T02:21:35.715Z"
   },
   {
    "duration": 15,
    "start_time": "2022-12-07T02:21:38.368Z"
   },
   {
    "duration": 3,
    "start_time": "2022-12-07T02:23:04.874Z"
   },
   {
    "duration": 33,
    "start_time": "2022-12-07T02:23:04.879Z"
   },
   {
    "duration": 9,
    "start_time": "2022-12-07T02:23:04.913Z"
   }
  ],
  "kernelspec": {
   "display_name": "Python 3 (ipykernel)",
   "language": "python",
   "name": "python3"
  },
  "language_info": {
   "codemirror_mode": {
    "name": "ipython",
    "version": 3
   },
   "file_extension": ".py",
   "mimetype": "text/x-python",
   "name": "python",
   "nbconvert_exporter": "python",
   "pygments_lexer": "ipython3",
   "version": "3.9.7"
  },
  "toc": {
   "base_numbering": 1,
   "nav_menu": {},
   "number_sections": true,
   "sideBar": true,
   "skip_h1_title": false,
   "title_cell": "Table of Contents",
   "title_sidebar": "Contents",
   "toc_cell": false,
   "toc_position": {
    "height": "calc(100% - 180px)",
    "left": "10px",
    "top": "150px",
    "width": "270.383px"
   },
   "toc_section_display": true,
   "toc_window_display": true
  },
  "varInspector": {
   "cols": {
    "lenName": 16,
    "lenType": 16,
    "lenVar": 40
   },
   "kernels_config": {
    "python": {
     "delete_cmd_postfix": "",
     "delete_cmd_prefix": "del ",
     "library": "var_list.py",
     "varRefreshCmd": "print(var_dic_list())"
    },
    "r": {
     "delete_cmd_postfix": ") ",
     "delete_cmd_prefix": "rm(",
     "library": "var_list.r",
     "varRefreshCmd": "cat(var_dic_list()) "
    }
   },
   "types_to_exclude": [
    "module",
    "function",
    "builtin_function_or_method",
    "instance",
    "_Feature"
   ],
   "window_display": false
  }
 },
 "nbformat": 4,
 "nbformat_minor": 5
}
